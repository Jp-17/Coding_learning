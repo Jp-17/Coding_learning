{
 "cells": [
  {
   "cell_type": "code",
   "execution_count": 1,
   "metadata": {},
   "outputs": [],
   "source": [
    "import os\n",
    "\n",
    "import numpy as np\n",
    "import pandas as pd\n",
    "import matplotlib.pyplot as plt\n",
    "\n",
    "from scipy.io import loadmat\n",
    "\n",
    "from allensdk.brain_observatory.ecephys.ecephys_project_cache import EcephysProjectCache\n",
    "\n",
    "# tell pandas to show all columns when we display a DataFrame\n",
    "pd.set_option(\"display.max_columns\", None)"
   ]
  },
  {
   "cell_type": "markdown",
   "metadata": {},
   "source": [
    "## Allen data preprocessing\n",
    "Get AllenData sessions"
   ]
  },
  {
   "cell_type": "code",
   "execution_count": 2,
   "metadata": {},
   "outputs": [],
   "source": [
    "basepath = \"E:\\Allensdk_data\\local\\ecephys_cache_dir\"\n",
    "manifest_path = os.path.join(basepath, \"manifest.json\")\n",
    "cache = EcephysProjectCache.from_warehouse(manifest=manifest_path)\n",
    "\n",
    "sessions = cache.get_session_table()"
   ]
  },
  {
   "cell_type": "markdown",
   "metadata": {},
   "source": [
    "Select a session randomly"
   ]
  },
  {
   "cell_type": "code",
   "execution_count": 3,
   "metadata": {},
   "outputs": [
    {
     "name": "stdout",
     "output_type": "stream",
     "text": [
      "['VISam', nan, 'COAa', 'CA1', 'LP', 'DG', 'VISmma', 'VISp', 'ProS', 'SUB', 'CA3', 'CA2', 'VISl', 'VISal', 'LGd', 'VISrl', 'APN', 'POL']\n",
      "['spontaneous', 'gabors', 'flashes', 'drifting_gratings', 'natural_movie_three', 'natural_movie_one', 'static_gratings', 'natural_scenes', 'drifting_gratings_contrast']\n"
     ]
    }
   ],
   "source": [
    "session_id = 799864342\n",
    "session = cache.get_session_data(session_id)\n",
    "\n",
    "print(session.structure_acronyms)\n",
    "print(session.stimulus_names)"
   ]
  },
  {
   "cell_type": "markdown",
   "metadata": {},
   "source": [
    "Select 'drifting_gratings' stimuli with contrast 0.8 and temporal_frequency 15.0, but 8 different orientations. \n",
    "Each stimuli was presented 15 times for 2 seconds"
   ]
  },
  {
   "cell_type": "code",
   "execution_count": 4,
   "metadata": {},
   "outputs": [
    {
     "name": "stdout",
     "output_type": "stream",
     "text": [
      "15.0    120\n",
      "8.0     120\n",
      "4.0     120\n",
      "2.0     120\n",
      "1.0     120\n",
      "null     30\n",
      "Name: temporal_frequency, dtype: int64\n",
      "270.0    15\n",
      "45.0     15\n",
      "315.0    15\n",
      "90.0     15\n",
      "135.0    15\n",
      "180.0    15\n",
      "225.0    15\n",
      "0.0      15\n",
      "Name: orientation, dtype: int64\n",
      "254    15\n",
      "252    15\n",
      "248    15\n",
      "247    15\n",
      "277    15\n",
      "272    15\n",
      "267    15\n",
      "256    15\n",
      "Name: stimulus_condition_id, dtype: int64\n"
     ]
    },
    {
     "data": {
      "text/html": [
       "<div>\n",
       "<style scoped>\n",
       "    .dataframe tbody tr th:only-of-type {\n",
       "        vertical-align: middle;\n",
       "    }\n",
       "\n",
       "    .dataframe tbody tr th {\n",
       "        vertical-align: top;\n",
       "    }\n",
       "\n",
       "    .dataframe thead th {\n",
       "        text-align: right;\n",
       "    }\n",
       "</style>\n",
       "<table border=\"1\" class=\"dataframe\">\n",
       "  <thead>\n",
       "    <tr style=\"text-align: right;\">\n",
       "      <th></th>\n",
       "      <th>contrast</th>\n",
       "      <th>orientation</th>\n",
       "      <th>phase</th>\n",
       "      <th>size</th>\n",
       "      <th>spatial_frequency</th>\n",
       "      <th>start_time</th>\n",
       "      <th>stimulus_block</th>\n",
       "      <th>stimulus_name</th>\n",
       "      <th>stop_time</th>\n",
       "      <th>temporal_frequency</th>\n",
       "      <th>duration</th>\n",
       "      <th>stimulus_condition_id</th>\n",
       "    </tr>\n",
       "    <tr>\n",
       "      <th>stimulus_presentation_id</th>\n",
       "      <th></th>\n",
       "      <th></th>\n",
       "      <th></th>\n",
       "      <th></th>\n",
       "      <th></th>\n",
       "      <th></th>\n",
       "      <th></th>\n",
       "      <th></th>\n",
       "      <th></th>\n",
       "      <th></th>\n",
       "      <th></th>\n",
       "      <th></th>\n",
       "    </tr>\n",
       "  </thead>\n",
       "  <tbody>\n",
       "    <tr>\n",
       "      <th>3799</th>\n",
       "      <td>0.8</td>\n",
       "      <td>135</td>\n",
       "      <td>[42471.86666667, 42471.86666667]</td>\n",
       "      <td>[250.0, 250.0]</td>\n",
       "      <td>0.04</td>\n",
       "      <td>1593.313231</td>\n",
       "      <td>2</td>\n",
       "      <td>drifting_gratings</td>\n",
       "      <td>1595.314911</td>\n",
       "      <td>15</td>\n",
       "      <td>2.00168</td>\n",
       "      <td>247</td>\n",
       "    </tr>\n",
       "    <tr>\n",
       "      <th>3800</th>\n",
       "      <td>0.8</td>\n",
       "      <td>45</td>\n",
       "      <td>[42471.86666667, 42471.86666667]</td>\n",
       "      <td>[250.0, 250.0]</td>\n",
       "      <td>0.04</td>\n",
       "      <td>1596.315739</td>\n",
       "      <td>2</td>\n",
       "      <td>drifting_gratings</td>\n",
       "      <td>1598.317439</td>\n",
       "      <td>15</td>\n",
       "      <td>2.00170</td>\n",
       "      <td>248</td>\n",
       "    </tr>\n",
       "    <tr>\n",
       "      <th>3805</th>\n",
       "      <td>0.8</td>\n",
       "      <td>0</td>\n",
       "      <td>[42471.86666667, 42471.86666667]</td>\n",
       "      <td>[250.0, 250.0]</td>\n",
       "      <td>0.04</td>\n",
       "      <td>1611.328291</td>\n",
       "      <td>2</td>\n",
       "      <td>drifting_gratings</td>\n",
       "      <td>1613.329971</td>\n",
       "      <td>15</td>\n",
       "      <td>2.00168</td>\n",
       "      <td>252</td>\n",
       "    </tr>\n",
       "    <tr>\n",
       "      <th>3807</th>\n",
       "      <td>0.8</td>\n",
       "      <td>90</td>\n",
       "      <td>[42471.86666667, 42471.86666667]</td>\n",
       "      <td>[250.0, 250.0]</td>\n",
       "      <td>0.04</td>\n",
       "      <td>1617.333321</td>\n",
       "      <td>2</td>\n",
       "      <td>drifting_gratings</td>\n",
       "      <td>1619.334971</td>\n",
       "      <td>15</td>\n",
       "      <td>2.00165</td>\n",
       "      <td>254</td>\n",
       "    </tr>\n",
       "    <tr>\n",
       "      <th>3809</th>\n",
       "      <td>0.8</td>\n",
       "      <td>315</td>\n",
       "      <td>[42471.86666667, 42471.86666667]</td>\n",
       "      <td>[250.0, 250.0]</td>\n",
       "      <td>0.04</td>\n",
       "      <td>1623.338331</td>\n",
       "      <td>2</td>\n",
       "      <td>drifting_gratings</td>\n",
       "      <td>1625.340001</td>\n",
       "      <td>15</td>\n",
       "      <td>2.00167</td>\n",
       "      <td>256</td>\n",
       "    </tr>\n",
       "  </tbody>\n",
       "</table>\n",
       "</div>"
      ],
      "text/plain": [
       "                         contrast orientation  \\\n",
       "stimulus_presentation_id                        \n",
       "3799                          0.8         135   \n",
       "3800                          0.8          45   \n",
       "3805                          0.8           0   \n",
       "3807                          0.8          90   \n",
       "3809                          0.8         315   \n",
       "\n",
       "                                                     phase            size  \\\n",
       "stimulus_presentation_id                                                     \n",
       "3799                      [42471.86666667, 42471.86666667]  [250.0, 250.0]   \n",
       "3800                      [42471.86666667, 42471.86666667]  [250.0, 250.0]   \n",
       "3805                      [42471.86666667, 42471.86666667]  [250.0, 250.0]   \n",
       "3807                      [42471.86666667, 42471.86666667]  [250.0, 250.0]   \n",
       "3809                      [42471.86666667, 42471.86666667]  [250.0, 250.0]   \n",
       "\n",
       "                         spatial_frequency   start_time stimulus_block  \\\n",
       "stimulus_presentation_id                                                 \n",
       "3799                                  0.04  1593.313231              2   \n",
       "3800                                  0.04  1596.315739              2   \n",
       "3805                                  0.04  1611.328291              2   \n",
       "3807                                  0.04  1617.333321              2   \n",
       "3809                                  0.04  1623.338331              2   \n",
       "\n",
       "                              stimulus_name    stop_time temporal_frequency  \\\n",
       "stimulus_presentation_id                                                      \n",
       "3799                      drifting_gratings  1595.314911                 15   \n",
       "3800                      drifting_gratings  1598.317439                 15   \n",
       "3805                      drifting_gratings  1613.329971                 15   \n",
       "3807                      drifting_gratings  1619.334971                 15   \n",
       "3809                      drifting_gratings  1625.340001                 15   \n",
       "\n",
       "                          duration  stimulus_condition_id  \n",
       "stimulus_presentation_id                                   \n",
       "3799                       2.00168                    247  \n",
       "3800                       2.00170                    248  \n",
       "3805                       2.00168                    252  \n",
       "3807                       2.00165                    254  \n",
       "3809                       2.00167                    256  "
      ]
     },
     "execution_count": 4,
     "metadata": {},
     "output_type": "execute_result"
    }
   ],
   "source": [
    "stim_table = session.get_stimulus_table('drifting_gratings')\n",
    "print(stim_table['temporal_frequency'].value_counts())\n",
    "\n",
    "stim_orientation_table = stim_table[stim_table['temporal_frequency'] == 15.0 ]\n",
    "print(stim_orientation_table['orientation'].value_counts())\n",
    "print(stim_orientation_table['stimulus_condition_id'].value_counts())\n",
    "stim_orientation_table.head()"
   ]
  },
  {
   "cell_type": "markdown",
   "metadata": {},
   "source": [
    "Select units from VISam area as X_a and VISmma area as X_b"
   ]
  },
  {
   "cell_type": "code",
   "execution_count": 9,
   "metadata": {},
   "outputs": [],
   "source": [
    "VISam_units = session.units[session.units[\"ecephys_structure_acronym\"] == 'VISam']\n",
    "VISmma_units = session.units[session.units[\"ecephys_structure_acronym\"] == 'VISmma']"
   ]
  },
  {
   "cell_type": "markdown",
   "metadata": {},
   "source": [
    "Count spikes in 100ms bins after stimuli onset and spaning a total of 2 seconds"
   ]
  },
  {
   "cell_type": "code",
   "execution_count": 6,
   "metadata": {},
   "outputs": [
    {
     "name": "stdout",
     "output_type": "stream",
     "text": [
      "stimulus_presentation_id\n",
      "3799     2.00168\n",
      "3800     2.00170\n",
      "3805     2.00168\n",
      "3807     2.00165\n",
      "3809     2.00167\n",
      "          ...   \n",
      "49396    2.00167\n",
      "49409    2.00167\n",
      "49416    2.00166\n",
      "49421    2.00169\n",
      "49426    2.00167\n",
      "Name: duration, Length: 120, dtype: float64\n",
      "[3.73805642e-06 7.69174221e-06 1.99947524e-05 ... 9.51107329e+08\n",
      " 9.51107337e+08 9.51108474e+08]\n"
     ]
    },
    {
     "data": {
      "text/plain": [
       "stimulus_presentation_id  unit_id    time_since_stimulus_presentation_onset\n",
       "49426                     951108474  1.823973                                  1\n",
       "31018                     951108474  1.072702                                  1\n",
       "                                     1.014002                                  1\n",
       "                                     0.860202                                  1\n",
       "                                     0.848169                                  1\n",
       "                                                                              ..\n",
       "49230                     951099069  1.825340                                  1\n",
       "                                     1.802540                                  1\n",
       "                                     1.790540                                  1\n",
       "                                     1.784173                                  1\n",
       "3799                      951087020  0.007310                                  1\n",
       "Length: 217260, dtype: int64"
      ]
     },
     "execution_count": 6,
     "metadata": {},
     "output_type": "execute_result"
    }
   ],
   "source": [
    "print(stim_orientation_table.duration)\n",
    "time_step = 0.1\n",
    "time_bins = np.arange(0, 2 + time_step, time_step)\n",
    "time_bins"
   ]
  },
  {
   "cell_type": "markdown",
   "metadata": {},
   "source": [
    "Spike_counts in VISam"
   ]
  },
  {
   "cell_type": "code",
   "execution_count": 10,
   "metadata": {},
   "outputs": [
    {
     "name": "stdout",
     "output_type": "stream",
     "text": [
      "(120, 20, 29)\n",
      "Coordinates:\n",
      "  * stimulus_presentation_id         (stimulus_presentation_id) int64 3799 ... 49426\n",
      "  * time_relative_to_stimulus_onset  (time_relative_to_stimulus_onset) float64 0.05 ... 1.95\n",
      "  * unit_id                          (unit_id) int64 951087804 ... 951088476\n"
     ]
    },
    {
     "data": {
      "text/plain": [
       "(120,)"
      ]
     },
     "execution_count": 10,
     "metadata": {},
     "output_type": "execute_result"
    }
   ],
   "source": [
    "VISam_spike_counts = session.presentationwise_spike_counts(\n",
    "    stimulus_presentation_ids=stim_orientation_table.index.values,  \n",
    "    bin_edges=time_bins,\n",
    "    unit_ids=VISam_units.index.values\n",
    ")\n",
    "print(VISam_spike_counts.shape)\n",
    "print(VISam_spike_counts.coords)\n",
    "VISam_spike_counts['stimulus_presentation_id'].values.shape"
   ]
  },
  {
   "cell_type": "code",
   "execution_count": 15,
   "metadata": {},
   "outputs": [
    {
     "name": "stdout",
     "output_type": "stream",
     "text": [
      "(120, 20, 29)\n",
      "(2400, 29)\n"
     ]
    },
    {
     "data": {
      "text/plain": [
       "[<matplotlib.lines.Line2D at 0x105b9f80390>]"
      ]
     },
     "execution_count": 15,
     "metadata": {},
     "output_type": "execute_result"
    },
    {
     "data": {
      "image/png": "[encoded data removed]",
      "text/plain": [
       "<Figure size 432x288 with 1 Axes>"
      ]
     },
     "metadata": {
      "needs_background": "light"
     },
     "output_type": "display_data"
    }
   ],
   "source": [
    "# convert spike_counts structure from stimulus_presentation_id*time_bins* unit_id \n",
    "# to stimulus_bins_counts * units, (120, 20, 109) -> (2400, 109)\n",
    "\n",
    "counts_matrix = VISam_spike_counts.values\n",
    "print(counts_matrix.shape)\n",
    "VISam_counts = counts_matrix.reshape(counts_matrix.shape[0]*counts_matrix.shape[1], counts_matrix.shape[2])\n",
    "print(VISam_counts.shape)\n",
    "\n",
    "plt.figure()\n",
    "plt.plot(VISam_counts[:300, 0])"
   ]
  },
  {
   "cell_type": "markdown",
   "metadata": {},
   "source": [
    "Spike_counts in VISmma"
   ]
  },
  {
   "cell_type": "code",
   "execution_count": 11,
   "metadata": {},
   "outputs": [
    {
     "name": "stdout",
     "output_type": "stream",
     "text": [
      "(120, 20, 44)\n",
      "Coordinates:\n",
      "  * stimulus_presentation_id         (stimulus_presentation_id) int64 3799 ... 49426\n",
      "  * time_relative_to_stimulus_onset  (time_relative_to_stimulus_onset) float64 0.05 ... 1.95\n",
      "  * unit_id                          (unit_id) int64 951091096 ... 951092146\n"
     ]
    },
    {
     "data": {
      "text/plain": [
       "(120,)"
      ]
     },
     "execution_count": 11,
     "metadata": {},
     "output_type": "execute_result"
    }
   ],
   "source": [
    "VISmma_spike_counts = session.presentationwise_spike_counts(\n",
    "    stimulus_presentation_ids=stim_orientation_table.index.values,  \n",
    "    bin_edges=time_bins,\n",
    "    unit_ids=VISmma_units.index.values\n",
    ")\n",
    "print(VISmma_spike_counts.shape)\n",
    "print(VISmma_spike_counts.coords)\n",
    "VISmma_spike_counts['stimulus_presentation_id'].values.shape"
   ]
  },
  {
   "cell_type": "code",
   "execution_count": 16,
   "metadata": {},
   "outputs": [
    {
     "name": "stdout",
     "output_type": "stream",
     "text": [
      "(120, 20, 44)\n",
      "(2400, 44)\n"
     ]
    },
    {
     "data": {
      "text/plain": [
       "[<matplotlib.lines.Line2D at 0x105af084f28>]"
      ]
     },
     "execution_count": 16,
     "metadata": {},
     "output_type": "execute_result"
    },
    {
     "data": {
      "image/png": "[encoded data removed]",
      "text/plain": [
       "<Figure size 432x288 with 1 Axes>"
      ]
     },
     "metadata": {
      "needs_background": "light"
     },
     "output_type": "display_data"
    }
   ],
   "source": [
    "# convert spike_counts structure from stimulus_presentation_id*time_bins* unit_id \n",
    "# to stimulus_bins_counts * units, (120, 20, 109) -> (2400, 109)\n",
    "\n",
    "counts_matrix = VISmma_spike_counts.values\n",
    "print(counts_matrix.shape)\n",
    "VISmma_counts = counts_matrix.reshape(counts_matrix.shape[0]*counts_matrix.shape[1], counts_matrix.shape[2])\n",
    "print(VISmma_counts.shape)\n",
    "\n",
    "plt.figure()\n",
    "plt.plot(VISmma_counts[:300, 0])"
   ]
  },
  {
   "cell_type": "markdown",
   "metadata": {},
   "source": [
    "## CCA between VISam (X_a) and VISmma (X_b)"
   ]
  },
  {
   "cell_type": "code",
   "execution_count": 17,
   "metadata": {},
   "outputs": [
    {
     "name": "stdout",
     "output_type": "stream",
     "text": [
      "(2400, 29)\n",
      "(2400, 44)\n"
     ]
    }
   ],
   "source": [
    "X_a = VISam_counts\n",
    "X_b = VISmma_counts\n",
    "\n",
    "print(X_a.shape)\n",
    "print(X_b.shape)"
   ]
  },
  {
   "cell_type": "markdown",
   "metadata": {},
   "source": [
    "Standardize data to zero mean and unit variance"
   ]
  },
  {
   "cell_type": "code",
   "execution_count": 20,
   "metadata": {},
   "outputs": [],
   "source": [
    "X_a = X_a - X_a.mean(axis=0)\n",
    "X_a = X_a / X_a.std(axis=0)\n",
    "\n",
    "X_b = X_b - X_b.mean(axis=0)\n",
    "X_b = X_b / X_b.std(axis=0)"
   ]
  },
  {
   "cell_type": "markdown",
   "metadata": {},
   "source": [
    "Compute covariance matrix for X_a and X_b"
   ]
  },
  {
   "cell_type": "code",
   "execution_count": 21,
   "metadata": {},
   "outputs": [],
   "source": [
    "N = X_a.shape[0]     # samples number\n",
    "normalizer = N - 1   # for estimate\n",
    "\n",
    "Cov_aa = np.dot(X_a.T, X_a) / normalizer\n",
    "Cov_bb = np.dot(X_b.T, X_b) / normalizer\n",
    "Cov_ab = np.dot(X_a.T, X_b) / normalizer\n",
    "Cov_ba = np.dot(X_b.T, X_a) / normalizer"
   ]
  },
  {
   "cell_type": "markdown",
   "metadata": {},
   "source": [
    "Calculate weight for CCA model with eigval methods"
   ]
  },
  {
   "cell_type": "code",
   "execution_count": 29,
   "metadata": {},
   "outputs": [
    {
     "name": "stdout",
     "output_type": "stream",
     "text": [
      "(44,)\n",
      "(44, 44)\n"
     ]
    }
   ],
   "source": [
    "p = X_a.shape[1]\n",
    "q = X_b.shape[1]\n",
    "r = min(p, q)\n",
    "\n",
    "M = np.dot(np.linalg.inv(Cov_bb), Cov_ba) @ \\\n",
    "    np.dot(np.linalg.inv(Cov_aa), Cov_ab)\n",
    "\n",
    "eigvals, eigvecs = np.linalg.eig(M)\n",
    "\n",
    "print(eigvals.shape)\n",
    "print(eigvecs.shape)"
   ]
  }
 ],
 "metadata": {
  "interpreter": {
   "hash": "eb7a7561a42aacb7e4f22a212934ca3d091c7f802b6224013994a34cc1b90268"
  },
  "kernelspec": {
   "display_name": "Python 3.6.2 ('env_py_362')",
   "language": "python",
   "name": "python3"
  },
  "language_info": {
   "codemirror_mode": {
    "name": "ipython",
    "version": 3
   },
   "file_extension": ".py",
   "mimetype": "text/x-python",
   "name": "python",
   "nbconvert_exporter": "python",
   "pygments_lexer": "ipython3",
   "version": "3.6.2"
  },
  "orig_nbformat": 4
 },
 "nbformat": 4,
 "nbformat_minor": 2
}
