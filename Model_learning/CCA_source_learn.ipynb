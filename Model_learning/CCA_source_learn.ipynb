{
 "cells": [
  {
   "cell_type": "code",
   "execution_count": 1,
   "metadata": {},
   "outputs": [],
   "source": [
    "import os\n",
    "\n",
    "import numpy as np\n",
    "import pandas as pd\n",
    "import matplotlib.pyplot as plt\n",
    "\n",
    "from scipy.io import loadmat\n",
    "\n",
    "from allensdk.brain_observatory.ecephys.ecephys_project_cache import EcephysProjectCache\n",
    "\n",
    "# tell pandas to show all columns when we display a DataFrame\n",
    "pd.set_option(\"display.max_columns\", None)"
   ]
  },
  {
   "cell_type": "markdown",
   "metadata": {},
   "source": [
    "## Allen data preprocessing\n",
    "Get AllenData sessions"
   ]
  },
  {
   "cell_type": "code",
   "execution_count": 2,
   "metadata": {},
   "outputs": [],
   "source": [
    "basepath = \"E:\\Allensdk_data\\local\\ecephys_cache_dir\"\n",
    "manifest_path = os.path.join(basepath, \"manifest.json\")\n",
    "cache = EcephysProjectCache.from_warehouse(manifest=manifest_path)\n",
    "\n",
    "sessions = cache.get_session_table()"
   ]
  },
  {
   "cell_type": "markdown",
   "metadata": {},
   "source": [
    "Select a session randomly"
   ]
  },
  {
   "cell_type": "code",
   "execution_count": 3,
   "metadata": {},
   "outputs": [
    {
     "name": "stdout",
     "output_type": "stream",
     "text": [
      "['VISam', nan, 'COAa', 'CA1', 'LP', 'DG', 'VISmma', 'VISp', 'ProS', 'SUB', 'CA3', 'CA2', 'VISl', 'VISal', 'LGd', 'VISrl', 'APN', 'POL']\n",
      "['spontaneous', 'gabors', 'flashes', 'drifting_gratings', 'natural_movie_three', 'natural_movie_one', 'static_gratings', 'natural_scenes', 'drifting_gratings_contrast']\n"
     ]
    }
   ],
   "source": [
    "session_id = 799864342\n",
    "session = cache.get_session_data(session_id)\n",
    "\n",
    "print(session.structure_acronyms)\n",
    "print(session.stimulus_names)"
   ]
  },
  {
   "cell_type": "markdown",
   "metadata": {},
   "source": [
    "Select 'drifting_gratings' stimuli with contrast 0.8 and temporal_frequency 15.0, but 8 different orientations. \n",
    "Each stimuli was presented 15 times for 2 seconds"
   ]
  },
  {
   "cell_type": "code",
   "execution_count": 4,
   "metadata": {},
   "outputs": [
    {
     "name": "stdout",
     "output_type": "stream",
     "text": [
      "15.0    120\n",
      "8.0     120\n",
      "4.0     120\n",
      "2.0     120\n",
      "1.0     120\n",
      "null     30\n",
      "Name: temporal_frequency, dtype: int64\n",
      "270.0    15\n",
      "45.0     15\n",
      "315.0    15\n",
      "90.0     15\n",
      "135.0    15\n",
      "180.0    15\n",
      "225.0    15\n",
      "0.0      15\n",
      "Name: orientation, dtype: int64\n",
      "254    15\n",
      "252    15\n",
      "248    15\n",
      "247    15\n",
      "277    15\n",
      "272    15\n",
      "267    15\n",
      "256    15\n",
      "Name: stimulus_condition_id, dtype: int64\n"
     ]
    },
    {
     "data": {
      "text/html": [
       "<div>\n",
       "<style scoped>\n",
       "    .dataframe tbody tr th:only-of-type {\n",
       "        vertical-align: middle;\n",
       "    }\n",
       "\n",
       "    .dataframe tbody tr th {\n",
       "        vertical-align: top;\n",
       "    }\n",
       "\n",
       "    .dataframe thead th {\n",
       "        text-align: right;\n",
       "    }\n",
       "</style>\n",
       "<table border=\"1\" class=\"dataframe\">\n",
       "  <thead>\n",
       "    <tr style=\"text-align: right;\">\n",
       "      <th></th>\n",
       "      <th>contrast</th>\n",
       "      <th>orientation</th>\n",
       "      <th>phase</th>\n",
       "      <th>size</th>\n",
       "      <th>spatial_frequency</th>\n",
       "      <th>start_time</th>\n",
       "      <th>stimulus_block</th>\n",
       "      <th>stimulus_name</th>\n",
       "      <th>stop_time</th>\n",
       "      <th>temporal_frequency</th>\n",
       "      <th>duration</th>\n",
       "      <th>stimulus_condition_id</th>\n",
       "    </tr>\n",
       "    <tr>\n",
       "      <th>stimulus_presentation_id</th>\n",
       "      <th></th>\n",
       "      <th></th>\n",
       "      <th></th>\n",
       "      <th></th>\n",
       "      <th></th>\n",
       "      <th></th>\n",
       "      <th></th>\n",
       "      <th></th>\n",
       "      <th></th>\n",
       "      <th></th>\n",
       "      <th></th>\n",
       "      <th></th>\n",
       "    </tr>\n",
       "  </thead>\n",
       "  <tbody>\n",
       "    <tr>\n",
       "      <th>3799</th>\n",
       "      <td>0.8</td>\n",
       "      <td>135</td>\n",
       "      <td>[42471.86666667, 42471.86666667]</td>\n",
       "      <td>[250.0, 250.0]</td>\n",
       "      <td>0.04</td>\n",
       "      <td>1593.313231</td>\n",
       "      <td>2</td>\n",
       "      <td>drifting_gratings</td>\n",
       "      <td>1595.314911</td>\n",
       "      <td>15</td>\n",
       "      <td>2.00168</td>\n",
       "      <td>247</td>\n",
       "    </tr>\n",
       "    <tr>\n",
       "      <th>3800</th>\n",
       "      <td>0.8</td>\n",
       "      <td>45</td>\n",
       "      <td>[42471.86666667, 42471.86666667]</td>\n",
       "      <td>[250.0, 250.0]</td>\n",
       "      <td>0.04</td>\n",
       "      <td>1596.315739</td>\n",
       "      <td>2</td>\n",
       "      <td>drifting_gratings</td>\n",
       "      <td>1598.317439</td>\n",
       "      <td>15</td>\n",
       "      <td>2.00170</td>\n",
       "      <td>248</td>\n",
       "    </tr>\n",
       "    <tr>\n",
       "      <th>3805</th>\n",
       "      <td>0.8</td>\n",
       "      <td>0</td>\n",
       "      <td>[42471.86666667, 42471.86666667]</td>\n",
       "      <td>[250.0, 250.0]</td>\n",
       "      <td>0.04</td>\n",
       "      <td>1611.328291</td>\n",
       "      <td>2</td>\n",
       "      <td>drifting_gratings</td>\n",
       "      <td>1613.329971</td>\n",
       "      <td>15</td>\n",
       "      <td>2.00168</td>\n",
       "      <td>252</td>\n",
       "    </tr>\n",
       "    <tr>\n",
       "      <th>3807</th>\n",
       "      <td>0.8</td>\n",
       "      <td>90</td>\n",
       "      <td>[42471.86666667, 42471.86666667]</td>\n",
       "      <td>[250.0, 250.0]</td>\n",
       "      <td>0.04</td>\n",
       "      <td>1617.333321</td>\n",
       "      <td>2</td>\n",
       "      <td>drifting_gratings</td>\n",
       "      <td>1619.334971</td>\n",
       "      <td>15</td>\n",
       "      <td>2.00165</td>\n",
       "      <td>254</td>\n",
       "    </tr>\n",
       "    <tr>\n",
       "      <th>3809</th>\n",
       "      <td>0.8</td>\n",
       "      <td>315</td>\n",
       "      <td>[42471.86666667, 42471.86666667]</td>\n",
       "      <td>[250.0, 250.0]</td>\n",
       "      <td>0.04</td>\n",
       "      <td>1623.338331</td>\n",
       "      <td>2</td>\n",
       "      <td>drifting_gratings</td>\n",
       "      <td>1625.340001</td>\n",
       "      <td>15</td>\n",
       "      <td>2.00167</td>\n",
       "      <td>256</td>\n",
       "    </tr>\n",
       "  </tbody>\n",
       "</table>\n",
       "</div>"
      ],
      "text/plain": [
       "                         contrast orientation  \\\n",
       "stimulus_presentation_id                        \n",
       "3799                          0.8         135   \n",
       "3800                          0.8          45   \n",
       "3805                          0.8           0   \n",
       "3807                          0.8          90   \n",
       "3809                          0.8         315   \n",
       "\n",
       "                                                     phase            size  \\\n",
       "stimulus_presentation_id                                                     \n",
       "3799                      [42471.86666667, 42471.86666667]  [250.0, 250.0]   \n",
       "3800                      [42471.86666667, 42471.86666667]  [250.0, 250.0]   \n",
       "3805                      [42471.86666667, 42471.86666667]  [250.0, 250.0]   \n",
       "3807                      [42471.86666667, 42471.86666667]  [250.0, 250.0]   \n",
       "3809                      [42471.86666667, 42471.86666667]  [250.0, 250.0]   \n",
       "\n",
       "                         spatial_frequency   start_time stimulus_block  \\\n",
       "stimulus_presentation_id                                                 \n",
       "3799                                  0.04  1593.313231              2   \n",
       "3800                                  0.04  1596.315739              2   \n",
       "3805                                  0.04  1611.328291              2   \n",
       "3807                                  0.04  1617.333321              2   \n",
       "3809                                  0.04  1623.338331              2   \n",
       "\n",
       "                              stimulus_name    stop_time temporal_frequency  \\\n",
       "stimulus_presentation_id                                                      \n",
       "3799                      drifting_gratings  1595.314911                 15   \n",
       "3800                      drifting_gratings  1598.317439                 15   \n",
       "3805                      drifting_gratings  1613.329971                 15   \n",
       "3807                      drifting_gratings  1619.334971                 15   \n",
       "3809                      drifting_gratings  1625.340001                 15   \n",
       "\n",
       "                          duration  stimulus_condition_id  \n",
       "stimulus_presentation_id                                   \n",
       "3799                       2.00168                    247  \n",
       "3800                       2.00170                    248  \n",
       "3805                       2.00168                    252  \n",
       "3807                       2.00165                    254  \n",
       "3809                       2.00167                    256  "
      ]
     },
     "execution_count": 4,
     "metadata": {},
     "output_type": "execute_result"
    }
   ],
   "source": [
    "stim_table = session.get_stimulus_table('drifting_gratings')\n",
    "print(stim_table['temporal_frequency'].value_counts())\n",
    "\n",
    "stim_orientation_table = stim_table[stim_table['temporal_frequency'] == 15.0 ]\n",
    "print(stim_orientation_table['orientation'].value_counts())\n",
    "print(stim_orientation_table['stimulus_condition_id'].value_counts())\n",
    "stim_orientation_table.head()"
   ]
  },
  {
   "cell_type": "markdown",
   "metadata": {},
   "source": [
    "Select units from VISam area as X_a and VISmma area as X_b"
   ]
  },
  {
   "cell_type": "code",
   "execution_count": 9,
   "metadata": {},
   "outputs": [],
   "source": [
    "VISam_units = session.units[session.units[\"ecephys_structure_acronym\"] == 'VISam']\n",
    "VISmma_units = session.units[session.units[\"ecephys_structure_acronym\"] == 'VISmma']"
   ]
  },
  {
   "cell_type": "markdown",
   "metadata": {},
   "source": [
    "Count spikes in 100ms bins after stimuli onset and spaning a total of 2 seconds"
   ]
  },
  {
   "cell_type": "code",
   "execution_count": 6,
   "metadata": {},
   "outputs": [
    {
     "name": "stdout",
     "output_type": "stream",
     "text": [
      "stimulus_presentation_id\n",
      "3799     2.00168\n",
      "3800     2.00170\n",
      "3805     2.00168\n",
      "3807     2.00165\n",
      "3809     2.00167\n",
      "          ...   \n",
      "49396    2.00167\n",
      "49409    2.00167\n",
      "49416    2.00166\n",
      "49421    2.00169\n",
      "49426    2.00167\n",
      "Name: duration, Length: 120, dtype: float64\n",
      "[3.73805642e-06 7.69174221e-06 1.99947524e-05 ... 9.51107329e+08\n",
      " 9.51107337e+08 9.51108474e+08]\n"
     ]
    },
    {
     "data": {
      "text/plain": [
       "stimulus_presentation_id  unit_id    time_since_stimulus_presentation_onset\n",
       "49426                     951108474  1.823973                                  1\n",
       "31018                     951108474  1.072702                                  1\n",
       "                                     1.014002                                  1\n",
       "                                     0.860202                                  1\n",
       "                                     0.848169                                  1\n",
       "                                                                              ..\n",
       "49230                     951099069  1.825340                                  1\n",
       "                                     1.802540                                  1\n",
       "                                     1.790540                                  1\n",
       "                                     1.784173                                  1\n",
       "3799                      951087020  0.007310                                  1\n",
       "Length: 217260, dtype: int64"
      ]
     },
     "execution_count": 6,
     "metadata": {},
     "output_type": "execute_result"
    }
   ],
   "source": [
    "print(stim_orientation_table.duration)\n",
    "time_step = 0.1\n",
    "time_bins = np.arange(0, 2 + time_step, time_step)\n",
    "time_bins"
   ]
  },
  {
   "cell_type": "markdown",
   "metadata": {},
   "source": [
    "Spike_counts in VISam"
   ]
  },
  {
   "cell_type": "code",
   "execution_count": 10,
   "metadata": {},
   "outputs": [
    {
     "name": "stdout",
     "output_type": "stream",
     "text": [
      "(120, 20, 29)\n",
      "Coordinates:\n",
      "  * stimulus_presentation_id         (stimulus_presentation_id) int64 3799 ... 49426\n",
      "  * time_relative_to_stimulus_onset  (time_relative_to_stimulus_onset) float64 0.05 ... 1.95\n",
      "  * unit_id                          (unit_id) int64 951087804 ... 951088476\n"
     ]
    },
    {
     "data": {
      "text/plain": [
       "(120,)"
      ]
     },
     "execution_count": 10,
     "metadata": {},
     "output_type": "execute_result"
    }
   ],
   "source": [
    "VISam_spike_counts = session.presentationwise_spike_counts(\n",
    "    stimulus_presentation_ids=stim_orientation_table.index.values,  \n",
    "    bin_edges=time_bins,\n",
    "    unit_ids=VISam_units.index.values\n",
    ")\n",
    "print(VISam_spike_counts.shape)\n",
    "print(VISam_spike_counts.coords)\n",
    "VISam_spike_counts['stimulus_presentation_id'].values.shape"
   ]
  },
  {
   "cell_type": "code",
   "execution_count": 15,
   "metadata": {},
   "outputs": [
    {
     "name": "stdout",
     "output_type": "stream",
     "text": [
      "(120, 20, 29)\n",
      "(2400, 29)\n"
     ]
    },
    {
     "data": {
      "text/plain": [
       "[<matplotlib.lines.Line2D at 0x105b9f80390>]"
      ]
     },
     "execution_count": 15,
     "metadata": {},
     "output_type": "execute_result"
    },
    {
     "data": {
      "image/png": "[encoded data removed]",
      "text/plain": [
       "<Figure size 432x288 with 1 Axes>"
      ]
     },
     "metadata": {
      "needs_background": "light"
     },
     "output_type": "display_data"
    }
   ],
   "source": [
    "# convert spike_counts structure from stimulus_presentation_id*time_bins* unit_id \n",
    "# to stimulus_bins_counts * units, (120, 20, 109) -> (2400, 109)\n",
    "\n",
    "counts_matrix = VISam_spike_counts.values\n",
    "print(counts_matrix.shape)\n",
    "VISam_counts = counts_matrix.reshape(counts_matrix.shape[0]*counts_matrix.shape[1], counts_matrix.shape[2])\n",
    "print(VISam_counts.shape)\n",
    "\n",
    "plt.figure()\n",
    "plt.plot(VISam_counts[:300, 0])"
   ]
  },
  {
   "cell_type": "markdown",
   "metadata": {},
   "source": [
    "Spike_counts in VISmma"
   ]
  },
  {
   "cell_type": "code",
   "execution_count": 11,
   "metadata": {},
   "outputs": [
    {
     "name": "stdout",
     "output_type": "stream",
     "text": [
      "(120, 20, 44)\n",
      "Coordinates:\n",
      "  * stimulus_presentation_id         (stimulus_presentation_id) int64 3799 ... 49426\n",
      "  * time_relative_to_stimulus_onset  (time_relative_to_stimulus_onset) float64 0.05 ... 1.95\n",
      "  * unit_id                          (unit_id) int64 951091096 ... 951092146\n"
     ]
    },
    {
     "data": {
      "text/plain": [
       "(120,)"
      ]
     },
     "execution_count": 11,
     "metadata": {},
     "output_type": "execute_result"
    }
   ],
   "source": [
    "VISmma_spike_counts = session.presentationwise_spike_counts(\n",
    "    stimulus_presentation_ids=stim_orientation_table.index.values,  \n",
    "    bin_edges=time_bins,\n",
    "    unit_ids=VISmma_units.index.values\n",
    ")\n",
    "print(VISmma_spike_counts.shape)\n",
    "print(VISmma_spike_counts.coords)\n",
    "VISmma_spike_counts['stimulus_presentation_id'].values.shape"
   ]
  },
  {
   "cell_type": "code",
   "execution_count": 16,
   "metadata": {},
   "outputs": [
    {
     "name": "stdout",
     "output_type": "stream",
     "text": [
      "(120, 20, 44)\n",
      "(2400, 44)\n"
     ]
    },
    {
     "data": {
      "text/plain": [
       "[<matplotlib.lines.Line2D at 0x105af084f28>]"
      ]
     },
     "execution_count": 16,
     "metadata": {},
     "output_type": "execute_result"
    },
    {
     "data": {
      "image/png": "[encoded data removed]",
      "text/plain": [
       "<Figure size 432x288 with 1 Axes>"
      ]
     },
     "metadata": {
      "needs_background": "light"
     },
     "output_type": "display_data"
    }
   ],
   "source": [
    "# convert spike_counts structure from stimulus_presentation_id*time_bins* unit_id \n",
    "# to stimulus_bins_counts * units, (120, 20, 109) -> (2400, 109)\n",
    "\n",
    "counts_matrix = VISmma_spike_counts.values\n",
    "print(counts_matrix.shape)\n",
    "VISmma_counts = counts_matrix.reshape(counts_matrix.shape[0]*counts_matrix.shape[1], counts_matrix.shape[2])\n",
    "print(VISmma_counts.shape)\n",
    "\n",
    "plt.figure()\n",
    "plt.plot(VISmma_counts[:300, 0])"
   ]
  },
  {
   "cell_type": "markdown",
   "metadata": {},
   "source": [
    "## CCA between VISam (X_a) and VISmma (X_b)"
   ]
  },
  {
   "cell_type": "code",
   "execution_count": 17,
   "metadata": {},
   "outputs": [
    {
     "name": "stdout",
     "output_type": "stream",
     "text": [
      "(2400, 29)\n",
      "(2400, 44)\n"
     ]
    }
   ],
   "source": [
    "X_a = VISam_counts\n",
    "X_b = VISmma_counts\n",
    "\n",
    "print(X_a.shape)\n",
    "print(X_b.shape)"
   ]
  },
  {
   "cell_type": "markdown",
   "metadata": {},
   "source": [
    "Standardize data to zero mean and unit variance"
   ]
  },
  {
   "cell_type": "code",
   "execution_count": 20,
   "metadata": {},
   "outputs": [],
   "source": [
    "X_a = X_a - X_a.mean(axis=0)\n",
    "X_a = X_a / X_a.std(axis=0)\n",
    "\n",
    "X_b = X_b - X_b.mean(axis=0)\n",
    "X_b = X_b / X_b.std(axis=0)"
   ]
  },
  {
   "cell_type": "markdown",
   "metadata": {},
   "source": [
    "Compute covariance matrix for X_a and X_b"
   ]
  },
  {
   "cell_type": "code",
   "execution_count": 21,
   "metadata": {},
   "outputs": [],
   "source": [
    "N = X_a.shape[0]     # samples number\n",
    "normalizer = N - 1   # for estimate\n",
    "\n",
    "Cov_aa = np.dot(X_a.T, X_a) / normalizer\n",
    "Cov_bb = np.dot(X_b.T, X_b) / normalizer\n",
    "Cov_ab = np.dot(X_a.T, X_b) / normalizer\n",
    "Cov_ba = np.dot(X_b.T, X_a) / normalizer"
   ]
  },
  {
   "cell_type": "markdown",
   "metadata": {},
   "source": [
    "Calculate weight for CCA model with eigval methods\n",
    "refer to [Canonical Correlation Analysis in Detail](https://gregorygundersen.com/blog/2018/07/17/cca/)\n",
    "\n",
    "$$\\rho^2w_b = (\\Sigma_{bb}^{-1}\\Sigma_{ba}\\Sigma_{aa}^{-1}\\Sigma_{ab})w_b$$\n",
    "\n",
    "this is the standard eigenvalue problem\n",
    "$w_b$ is an eigenvector that satisfies this equation:\n",
    "\n",
    "$$(\\Sigma_{bb}^{-1}\\Sigma_{ba}\\Sigma_{aa}^{-1}\\Sigma_{ab}-\\rho^2I)w_b = 0$$\n",
    "\n",
    "solving for $w_a$:\n",
    "\n",
    "$$w_a = \\frac{\\Sigma_{aa}^{-1}\\Sigma_{ab}w_b}{\\rho}$$"
   ]
  },
  {
   "cell_type": "code",
   "execution_count": 146,
   "metadata": {},
   "outputs": [
    {
     "name": "stdout",
     "output_type": "stream",
     "text": [
      "(44,)\n",
      "(44, 44)\n"
     ]
    }
   ],
   "source": [
    "p = X_a.shape[1]\n",
    "q = X_b.shape[1]\n",
    "r = min(p, q)\n",
    "\n",
    "# if q < p:\n",
    "#     M = np.dot(np.linalg.inv(Cov_bb), Cov_ba) @ \\\n",
    "#         np.dot(np.linalg.inv(Cov_aa), Cov_ab)\n",
    "# else:\n",
    "#     M = np.dot(np.linalg.inv(Cov_aa), Cov_ab) @ \\\n",
    "#         np.dot(np.linalg.inv(Cov_bb), Cov_ba)\n",
    "\n",
    "# rank of M should be r = min(p, q)\n",
    "M = np.dot(np.linalg.inv(Cov_bb), Cov_ba) @ \\\n",
    "    np.dot(np.linalg.inv(Cov_aa), Cov_ab)\n",
    "\n",
    "eigvals, eigvecs = np.linalg.eig(M)\n",
    "rhos = np.sqrt(eigvals)\n",
    "\n",
    "# print(rhos)\n",
    "# print(eigvals)\n",
    "print(eigvals.shape)\n",
    "print(eigvecs.shape)"
   ]
  },
  {
   "cell_type": "code",
   "execution_count": 125,
   "metadata": {},
   "outputs": [
    {
     "name": "stdout",
     "output_type": "stream",
     "text": [
      "[0.7058069 +0.j 0.68786743+0.j 0.47318988+0.j 0.45819591+0.j\n",
      " 0.41271742+0.j 0.37554621+0.j 0.3218447 +0.j 0.31325722+0.j\n",
      " 0.27267834+0.j 0.26793165+0.j 0.2482555 +0.j 0.23968759+0.j\n",
      " 0.21952742+0.j 0.20940324+0.j 0.19581103+0.j 0.18347668+0.j\n",
      " 0.17732267+0.j 0.15969174+0.j 0.14959651+0.j 0.13133742+0.j\n",
      " 0.1156771 +0.j 0.11060828+0.j 0.10502269+0.j 0.10116765+0.j\n",
      " 0.09248444+0.j 0.08725858+0.j 0.07475627+0.j 0.06470771+0.j\n",
      " 0.0574828 +0.j]\n",
      "X_b: (2400, 44)\n",
      "the weight of X_b: (44, 29)\n",
      "X_a: (2400, 29)\n",
      "the weight of X_a: (29, 29)\n"
     ]
    },
    {
     "name": "stderr",
     "output_type": "stream",
     "text": [
      "E:\\download_files\\anaconda_app\\envs\\env_py_362\\lib\\site-packages\\ipykernel_launcher.py:22: ComplexWarning: Casting complex values to real discards the imaginary part\n"
     ]
    }
   ],
   "source": [
    "# sort eigvecs in descending order\n",
    "inds = (-rhos).argsort()[:r]  \n",
    "\n",
    "# if p < q:\n",
    "#     inds = inds[:p]\n",
    "\n",
    "rhos = rhos[inds]\n",
    "print(rhos)\n",
    "eigvals = eigvals[inds]\n",
    "eigvecs = eigvecs[:, inds]\n",
    "\n",
    "# w_b is eigvecs, should be (q, r)\n",
    "w_b = eigvecs\n",
    "print(f'X_b: {X_b.shape}')\n",
    "print(f'the weight of X_b: {w_b.shape}')\n",
    "\n",
    "# calcute w_a from w_b\n",
    "w_a = np.zeros((p, r))\n",
    "for i, (rho, wb_i) in enumerate(zip(rhos, w_b.T)):\n",
    "    wa_i = (np.dot(np.linalg.inv(Cov_aa), Cov_ab) @ \\\n",
    "        wb_i) / rho\n",
    "    w_a[:, i] = wa_i\n",
    "print(f'X_a: {X_a.shape}')\n",
    "print(f'the weight of X_a: {w_a.shape}')"
   ]
  },
  {
   "cell_type": "markdown",
   "metadata": {},
   "source": [
    "Embeddings for X_a and X_b"
   ]
  },
  {
   "cell_type": "markdown",
   "metadata": {},
   "source": [
    "? why corr_z component 1 is largest; however, pho 0 is largest"
   ]
  },
  {
   "cell_type": "code",
   "execution_count": 143,
   "metadata": {},
   "outputs": [
    {
     "name": "stdout",
     "output_type": "stream",
     "text": [
      "(2400, 29)\n",
      "(2400, 29)\n",
      "(2400, 29)\n",
      "(2400, 29)\n"
     ]
    },
    {
     "data": {
      "image/png": "[encoded data removed]",
      "text/plain": [
       "<Figure size 432x288 with 1 Axes>"
      ]
     },
     "metadata": {
      "needs_background": "light"
     },
     "output_type": "display_data"
    }
   ],
   "source": [
    "z_a = X_a @ w_a\n",
    "z_b = X_b @ w_b\n",
    "\n",
    "print(z_a.shape)\n",
    "print(z_b.shape)\n",
    "\n",
    "# normalize\n",
    "z_a = z_a.T / np.linalg.norm(z_a.T, 2, axis=0)\n",
    "z_a = z_a.T\n",
    "z_b = z_b.T / np.linalg.norm(z_b.T, 2, axis=0)\n",
    "z_b = z_b.T\n",
    "print(z_a.shape)\n",
    "print(z_b.shape)\n",
    "\n",
    "corr_z_map = np.dot(z_a.T, z_b)\n",
    "corr_z_map = corr_z_map.real\n",
    "\n",
    "f, ax = plt.subplots()\n",
    "ax.pcolormesh(corr_z_map)\n",
    "plt.show()"
   ]
  },
  {
   "cell_type": "code",
   "execution_count": 144,
   "metadata": {},
   "outputs": [
    {
     "name": "stderr",
     "output_type": "stream",
     "text": [
      "E:\\download_files\\anaconda_app\\envs\\env_py_362\\lib\\site-packages\\ipykernel_launcher.py:1: RuntimeWarning: invalid value encountered in sqrt\n",
      "  \"\"\"Entry point for launching an IPython kernel.\n",
      "E:\\download_files\\anaconda_app\\envs\\env_py_362\\lib\\site-packages\\ipykernel_launcher.py:2: RuntimeWarning: invalid value encountered in true_divide\n",
      "  \n"
     ]
    },
    {
     "data": {
      "text/plain": [
       "array([0.67301996, 0.68252009, 0.46817374, 0.45232543, 0.408564  ,\n",
       "       0.34694998, 0.27397088, 0.26146288, 0.24431851, 0.24498827,\n",
       "       0.21193853, 0.18459067, 0.21407983, 0.18220652, 0.17646089,\n",
       "       0.18062369, 0.16610525, 0.12717383, 0.12586797, 0.12380653,\n",
       "       0.10892194, 0.10282855, 0.08029283, 0.06444959, 0.0795354 ,\n",
       "       0.06411186, 0.06511469, 0.06026281, 0.04782027])"
      ]
     },
     "execution_count": 144,
     "metadata": {},
     "output_type": "execute_result"
    }
   ],
   "source": [
    "corr_z_map = np.dot(z_a.T, z_b) / (np.sqrt(np.dot(z_a.T, z_a)) *\\\n",
    "    np.sqrt(np.dot(z_b.T, z_b)))\n",
    "corr_z_map = corr_z_map.real\n",
    "\n",
    "dia_ind = np.arange(0, r)\n",
    "corr_z = corr_z_map[dia_ind, dia_ind]\n",
    "corr_z"
   ]
  },
  {
   "cell_type": "markdown",
   "metadata": {},
   "source": [
    "plot embeddng dimsensions"
   ]
  },
  {
   "cell_type": "code",
   "execution_count": 133,
   "metadata": {},
   "outputs": [
    {
     "name": "stderr",
     "output_type": "stream",
     "text": [
      "C:\\Users\\jiang\\AppData\\Roaming\\Python\\Python36\\site-packages\\numpy\\core\\_asarray.py:136: ComplexWarning: Casting complex values to real discards the imaginary part\n",
      "  return array(a, dtype, copy=False, order=order, subok=True)\n"
     ]
    },
    {
     "data": {
      "image/png": "[encoded data removed]",
      "text/plain": [
       "<Figure size 432x288 with 1 Axes>"
      ]
     },
     "metadata": {
      "needs_background": "light"
     },
     "output_type": "display_data"
    }
   ],
   "source": [
    "n_components = 2 # principle components\n",
    "n_samples = 100\n",
    "\n",
    "z_a_1 = z_a[:, :n_components]\n",
    "z_b_1 = z_b[:, :n_components]\n",
    "\n",
    "fig, ax = plt.subplots()\n",
    "ax1 = ax.scatter(z_a_1[:n_samples, 0], z_a_1[:n_samples, 1], c='blue')\n",
    "ax2 = ax.scatter(z_b_1[:n_samples, 0], z_b_1[:n_samples, 1], c='red')\n",
    "ax.set_xlabel('Priciple dimension 1')\n",
    "ax.set_ylabel('Priciple dimension 2')\n",
    "ax.legend([ax1, ax2], ['X_a', 'X_b'])\n",
    "\n",
    "# for i, txt in enumerate(range(len(z_a))):\n",
    "#     ax.annotate(txt, (z_a[:, 0][i], z_a[:, 1][i]), color='blue')\n",
    "\n",
    "# for i, txt in enumerate(range(len(z_b))):\n",
    "#     ax.annotate(txt, (z_b[:, 0][i], z_b[:, 1][i]), color='red')\n",
    "\n",
    "plt.show()"
   ]
  },
  {
   "cell_type": "code",
   "execution_count": 134,
   "metadata": {},
   "outputs": [
    {
     "data": {
      "image/png": "[encoded data removed]",
      "text/plain": [
       "<Figure size 432x288 with 1 Axes>"
      ]
     },
     "metadata": {
      "needs_background": "light"
     },
     "output_type": "display_data"
    }
   ],
   "source": [
    "component = 0 # principle components\n",
    "n_samples = 1000\n",
    "\n",
    "z_a_2 = z_a[:, component]\n",
    "z_b_2 = z_b[:, component]\n",
    "\n",
    "fig, ax = plt.subplots()\n",
    "ax1 = ax.scatter(z_a_2[:n_samples], z_b_2[:n_samples], c='blue')\n",
    "\n",
    "ax.set_xlabel(f'Priciple dimension {component} in X_a')\n",
    "ax.set_ylabel(f'Priciple dimension {component} in X_b')\n",
    "ax.set_title(f'Priciple dimension {component}: Corr {corr_z[component]:.2f}')\n",
    "plt.show()"
   ]
  },
  {
   "cell_type": "code",
   "execution_count": 135,
   "metadata": {},
   "outputs": [
    {
     "data": {
      "image/png": "[encoded data removed]",
      "text/plain": [
       "<Figure size 432x288 with 1 Axes>"
      ]
     },
     "metadata": {
      "needs_background": "light"
     },
     "output_type": "display_data"
    }
   ],
   "source": [
    "component = 1 # principle components\n",
    "n_samples = 1000\n",
    "\n",
    "z_a_2 = z_a[:, component]\n",
    "z_b_2 = z_b[:, component]\n",
    "\n",
    "fig, ax = plt.subplots()\n",
    "ax1 = ax.scatter(z_a_2[:n_samples], z_b_2[:n_samples], c='blue')\n",
    "\n",
    "ax.set_xlabel(f'Priciple dimension {component} in X_a')\n",
    "ax.set_ylabel(f'Priciple dimension {component} in X_b')\n",
    "ax.set_title(f'Priciple dimension {component}: Corr {corr_z[component]:.2f}')\n",
    "plt.show()"
   ]
  },
  {
   "cell_type": "code",
   "execution_count": 136,
   "metadata": {},
   "outputs": [
    {
     "data": {
      "image/png": "[encoded data removed]",
      "text/plain": [
       "<Figure size 432x288 with 1 Axes>"
      ]
     },
     "metadata": {
      "needs_background": "light"
     },
     "output_type": "display_data"
    }
   ],
   "source": [
    "component = 20 # principle components\n",
    "n_samples = 1000\n",
    "\n",
    "z_a_2 = z_a[:, component]\n",
    "z_b_2 = z_b[:, component]\n",
    "\n",
    "fig, ax = plt.subplots()\n",
    "ax1 = ax.scatter(z_a_2[:n_samples], z_b_2[:n_samples], c='blue')\n",
    "\n",
    "ax.set_xlabel(f'Priciple dimension {component} in X_a')\n",
    "ax.set_ylabel(f'Priciple dimension {component} in X_b')\n",
    "ax.set_title(f'Priciple dimension {component}: Corr {corr_z[component]:.2f}')\n",
    "plt.show()"
   ]
  }
 ],
 "metadata": {
  "interpreter": {
   "hash": "eb7a7561a42aacb7e4f22a212934ca3d091c7f802b6224013994a34cc1b90268"
  },
  "kernelspec": {
   "display_name": "Python 3.6.2 ('env_py_362')",
   "language": "python",
   "name": "python3"
  },
  "language_info": {
   "codemirror_mode": {
    "name": "ipython",
    "version": 3
   },
   "file_extension": ".py",
   "mimetype": "text/x-python",
   "name": "python",
   "nbconvert_exporter": "python",
   "pygments_lexer": "ipython3",
   "version": "3.6.2"
  },
  "orig_nbformat": 4
 },
 "nbformat": 4,
 "nbformat_minor": 2
}
