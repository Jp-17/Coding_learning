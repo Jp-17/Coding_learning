{
 "cells": [
  {
   "cell_type": "markdown",
   "metadata": {},
   "source": [
    "# Usage example of pyrcca\n",
    "\n",
    "In this example, Pyrcca is used to find linear relationships between two artificially constructed interdependent datasets. Both datasets have 1000 samples. One dataset has 4 dimensions, and the other has 5 dimensions. These datasets depend on two latent variables. Each dimension in both datasets is constructed as a sum of an independent component (25%) and one of the two latent variables (75%). Each dataset is split in two halves: a training set and a test set. \n",
    "\n",
    "Pyrcca is used to find a CCA mapping between the training sets. The quality of the mapping is assessed using cross-dataset prediction with test data. Each test set is projected onto the canonical space, and the other test set is predicted using the CCA mapping. The prediction accuracy is quantified by correlating predicted test data with actual test data.\n",
    "\n",
    "The analysis is first run with predefined hyperparameters. Then, grid search with cross-validation is used to find optimal hyperparameters.\n",
    "\n",
    "This example demonstrates that Pyrcca can be used to recover linear relationships for two artificially generated datasets. It is designed to be easily adaptable."
   ]
  },
  {
   "cell_type": "markdown",
   "metadata": {},
   "source": [
    "## Pyrcca with predefined hyperparameters"
   ]
  },
  {
   "cell_type": "markdown",
   "metadata": {},
   "source": [
    "### Initialization"
   ]
  },
  {
   "cell_type": "code",
   "execution_count": 1,
   "metadata": {},
   "outputs": [],
   "source": [
    "# Imports\n",
    "import numpy as np\n",
    "import rcca\n",
    "\n",
    "# Initialize number of samples\n",
    "nSamples = 1000\n",
    "\n",
    "# Define two latent variables (number of samples x 1)\n",
    "latvar1 = np.random.randn(nSamples,)\n",
    "latvar2 = np.random.randn(nSamples,)\n",
    "\n",
    "# Define independent components for each dataset (number of observations x dataset dimensions)\n",
    "indep1 = np.random.randn(nSamples, 4)\n",
    "indep2 = np.random.randn(nSamples, 5)\n",
    "\n",
    "# Create two datasets, with each dimension composed as a sum of 75% one of the latent variables and 25% independent component\n",
    "data1 = 0.25*indep1 + 0.75*np.vstack((latvar1, latvar2, latvar1, latvar2)).T\n",
    "data2 = 0.25*indep2 + 0.75*np.vstack((latvar1, latvar2, latvar1, latvar2, latvar1)).T\n",
    "\n",
    "# Split each dataset into two halves: training set and test set\n",
    "train1 = data1[:nSamples//2]\n",
    "train2 = data2[:nSamples//2]\n",
    "test1 = data1[nSamples//2:]\n",
    "test2 = data2[nSamples//2:]"
   ]
  },
  {
   "cell_type": "markdown",
   "metadata": {},
   "source": [
    "### Analysis\n",
    "There are many more samples than dimensions in the dataset, therefore kernelization and regularization are unnecessary.\n",
    "\n",
    "There are two latent variables, and CCA is expected to find two underlying canonical components that capture the relationships between the datasets. However, it is possible to compute up to four canonical components, so the analysis is first used to find four components. This is done in order to test whether the first two components capture the relationships present in the data."
   ]
  },
  {
   "cell_type": "code",
   "execution_count": 2,
   "metadata": {},
   "outputs": [
    {
     "name": "stdout",
     "output_type": "stream",
     "text": [
      "Training CCA, kernel = None, regularization = 0.0000, 4 components\n"
     ]
    }
   ],
   "source": [
    "# Create a cca object as an instantiation of the CCA object class. \n",
    "nComponents = 4\n",
    "cca = rcca.CCA(kernelcca = False, reg = 0., numCC = nComponents)\n",
    "\n",
    "# Use the train() method to find a CCA mapping between the two training sets.\n",
    "cca.train([train1, train2])\n",
    "\n",
    "# Use the validate() method to test how well the CCA mapping generalizes to the test data.\n",
    "# For each dimension in the test data, correlations between predicted and actual data are computed.\n",
    "testcorrs = cca.validate([test1, test2])"
   ]
  },
  {
   "cell_type": "markdown",
   "metadata": {},
   "source": [
    "### Results"
   ]
  },
  {
   "cell_type": "code",
   "execution_count": 3,
   "metadata": {},
   "outputs": [],
   "source": [
    "# Imports\n",
    "import matplotlib.pyplot as plt\n",
    "# from brewer2mpl import qualitative\n",
    "from palettable.colorbrewer import qualitative\n",
    "%matplotlib inline"
   ]
  },
  {
   "cell_type": "markdown",
   "metadata": {},
   "source": [
    "#### Canonical correlations"
   ]
  },
  {
   "cell_type": "code",
   "execution_count": 4,
   "metadata": {},
   "outputs": [
    {
     "name": "stdout",
     "output_type": "stream",
     "text": [
      "The canonical correlations are:\n",
      "\n",
      "Component 1: 0.95\n",
      "\n",
      "Component 2: 0.94\n",
      "\n",
      "Component 3: 0.12\n",
      "\n",
      "Component 4: 0.03\n",
      "\n",
      "\n"
     ]
    },
    {
     "data": {
      "image/png": "[encoded data removed]",
      "text/plain": [
       "<Figure size 432x288 with 1 Axes>"
      ]
     },
     "metadata": {
      "needs_background": "light"
     },
     "output_type": "display_data"
    }
   ],
   "source": [
    "# Plot canonical correlations (cca.cancorrs)\n",
    "plt.plot(np.arange(nComponents)+1, cca.cancorrs, 'ko')\n",
    "plt.xlim(0.5, 0.5+nComponents)\n",
    "plt.xticks(np.arange(nComponents)+1)\n",
    "plt.xlabel('Canonical component')\n",
    "plt.ylabel('Canonical correlation')\n",
    "plt.title('Canonical correlations')\n",
    "print('''The canonical correlations are:\\n\n",
    "Component 1: %.02f\\n\n",
    "Component 2: %.02f\\n\n",
    "Component 3: %.02f\\n\n",
    "Component 4: %.02f\\n\n",
    "''' % tuple(cca.cancorrs))"
   ]
  },
  {
   "cell_type": "markdown",
   "metadata": {},
   "source": [
    "As expected, two canonical components capture correlational relationships between the datasets, and the first two canonical correlations are both 0.95. The third and the fourth canonical components do not capture meaningful relationships between the datasets. The third and the fourth canonical correlations are very low, 0.10 and 0.00."
   ]
  },
  {
   "cell_type": "markdown",
   "metadata": {},
   "source": [
    "#### Cross-dataset predictions"
   ]
  },
  {
   "cell_type": "code",
   "execution_count": 5,
   "metadata": {},
   "outputs": [
    {
     "name": "stdout",
     "output_type": "stream",
     "text": [
      "The prediction accuracy for the first dataset is:\n",
      "\n",
      "Dimension 1: 0.91\n",
      "\n",
      "Dimension 2: 0.92\n",
      "\n",
      "Dimension 3: 0.91\n",
      "\n",
      "Dimension 4: 0.89\n",
      "\n",
      "\n",
      "The prediction accuracy for the second dataset is:\n",
      "\n",
      "Dimension 1: 0.90\n",
      "\n",
      "Dimension 2: 0.93\n",
      "\n",
      "Dimension 3: 0.90\n",
      "\n",
      "Dimension 4: 0.91\n",
      "\n",
      "Dimension 5: 0.91\n",
      "\n",
      "\n"
     ]
    },
    {
     "data": {
      "image/png": "[encoded data removed]",
      "text/plain": [
       "<Figure size 432x288 with 1 Axes>"
      ]
     },
     "metadata": {
      "needs_background": "light"
     },
     "output_type": "display_data"
    }
   ],
   "source": [
    "# Plot correlations between actual test data and predictions \n",
    "# obtained by projecting the other test dataset via the CCA mapping for each dimension.\n",
    "nTicks = max(testcorrs[0].shape[0], testcorrs[1].shape[0])\n",
    "# bmap1 = qualitative.Dark2[3]\n",
    "bmap1 = qualitative.Dark2_3\n",
    "plt.plot(np.arange(testcorrs[0].shape[0])+1, testcorrs[0], 'o', color = bmap1.mpl_colors[0])\n",
    "plt.plot(np.arange(testcorrs[1].shape[0])+1, testcorrs[1], 'o', color = bmap1.mpl_colors[1])\n",
    "plt.xlim(0.5, 0.5 + nTicks + 3)\n",
    "plt.ylim(0.0, 1.0)\n",
    "plt.xticks(np.arange(nTicks)+1)\n",
    "plt.xlabel('Dataset dimension')\n",
    "plt.ylabel('Prediction correlation')\n",
    "plt.title('Prediction accuracy')\n",
    "plt.legend(['Dataset 1', 'Dataset 2'])\n",
    "print('''The prediction accuracy for the first dataset is:\\n\n",
    "Dimension 1: %.02f\\n\n",
    "Dimension 2: %.02f\\n\n",
    "Dimension 3: %.02f\\n\n",
    "Dimension 4: %.02f\\n\n",
    "'''% tuple(testcorrs[0]))\n",
    "print('''The prediction accuracy for the second dataset is:\\n\n",
    "Dimension 1: %.02f\\n\n",
    "Dimension 2: %.02f\\n\n",
    "Dimension 3: %.02f\\n\n",
    "Dimension 4: %.02f\\n\n",
    "Dimension 5: %.02f\\n\n",
    "'''% tuple(testcorrs[1]))"
   ]
  },
  {
   "cell_type": "markdown",
   "metadata": {},
   "source": [
    "Both datasets are predicted with close to perfect accuracy, with correlations ranging from 0.90 to 0.93 for each dimension."
   ]
  },
  {
   "cell_type": "markdown",
   "metadata": {},
   "source": [
    "## Pyrcca with hyperparameter grid search using cross-validation\n",
    "\n",
    "Instead of predefining hyperparameters, grid search with cross-validation can be used to find the optimal hyperparameters. Since there are two latent variables, two canonical components are expected to be optimal. Additionally, since the latent variables are not necessarily orthogonal, the optimal regularization coefficient should be greater than zero. The exact value of the optimal regularization coefficient will depend on the instantiation, since the data are randomly generated.\n",
    "All possible numbers of components are tested: 1, 2, 3, 4. Four possible regularization coefficients are tested: 0, 1e2, 1e4, 1e6."
   ]
  },
  {
   "cell_type": "markdown",
   "metadata": {},
   "source": [
    "### Analysis"
   ]
  },
  {
   "cell_type": "code",
   "execution_count": 6,
   "metadata": {},
   "outputs": [],
   "source": [
    "# Initialize a cca object as an instantiation of the CCACrossValidate class.\n",
    "ccaCV = rcca.CCACrossValidate(kernelcca=False, numCCs = [1, 2, 3, 4],\n",
    "                              regs = [0., 1e2, 1e4, 1e6])\n",
    "\n",
    "# Use the train() and validate() methods to run the analysis and perform cross-dataset prediction.\n",
    "ccaCV.train([train1, train2])\n",
    "testcorrsCV = ccaCV.validate([test1, test2])"
   ]
  },
  {
   "cell_type": "code",
   "execution_count": 7,
   "metadata": {},
   "outputs": [
    {
     "name": "stdout",
     "output_type": "stream",
     "text": [
      "Optimal number of components: 2\n",
      "Optimal regularization coefficient: 10000\n"
     ]
    }
   ],
   "source": [
    "print('Optimal number of components: %d\\nOptimal regularization coefficient: %d' % (ccaCV.best_numCC, ccaCV.best_reg))"
   ]
  },
  {
   "cell_type": "markdown",
   "metadata": {},
   "source": [
    "As expected, the optimal number of components is two, corresponding to the number of latent variables. The optimal regularization coefficient is greater than zero: 1e4."
   ]
  },
  {
   "cell_type": "markdown",
   "metadata": {},
   "source": [
    "### Results"
   ]
  },
  {
   "cell_type": "markdown",
   "metadata": {},
   "source": [
    "#### Canonical correlations"
   ]
  },
  {
   "cell_type": "code",
   "execution_count": 8,
   "metadata": {},
   "outputs": [
    {
     "name": "stdout",
     "output_type": "stream",
     "text": [
      "The canonical correlations are:\n",
      "\n",
      "Component 1: 0.95\n",
      "\n",
      "Component 2: 0.94\n",
      "\n",
      "\n"
     ]
    },
    {
     "data": {
      "image/png": "[encoded data removed]",
      "text/plain": [
       "<Figure size 432x288 with 1 Axes>"
      ]
     },
     "metadata": {
      "needs_background": "light"
     },
     "output_type": "display_data"
    }
   ],
   "source": [
    "# Plot canonical correlations (cca.cancorrs)\n",
    "plt.plot(np.arange(ccaCV.best_numCC)+1, ccaCV.cancorrs, 'ko')\n",
    "plt.xlim(0.5, 0.5+ccaCV.best_numCC)\n",
    "plt.xticks(np.arange(ccaCV.best_numCC)+1)\n",
    "plt.ylim(0,1)\n",
    "plt.xlabel('Canonical component')\n",
    "plt.ylabel('Canonical correlation')\n",
    "plt.title('Canonical correlations')\n",
    "print('''The canonical correlations are:\\n\n",
    "Component 1: %.02f\\n\n",
    "Component 2: %.02f\\n\n",
    "''' % tuple(ccaCV.cancorrs))"
   ]
  },
  {
   "cell_type": "markdown",
   "metadata": {},
   "source": [
    "The canonical correlations for both components are both 0.95."
   ]
  },
  {
   "cell_type": "markdown",
   "metadata": {},
   "source": [
    "#### Cross-dataset predictions"
   ]
  },
  {
   "cell_type": "code",
   "execution_count": null,
   "metadata": {},
   "outputs": [
    {
     "name": "stdout",
     "output_type": "stream",
     "text": [
      "The prediction accuracy for the first dataset is:\n",
      "\n",
      "Dimension 1: 0.94\n",
      "\n",
      "Dimension 2: 0.93\n",
      "\n",
      "Dimension 3: 0.94\n",
      "\n",
      "Dimension 4: 0.92\n",
      "\n",
      "\n",
      "The prediction accuracy for the second dataset is:\n",
      "\n",
      "Dimension 1: 0.93\n",
      "\n",
      "Dimension 2: 0.93\n",
      "\n",
      "Dimension 3: 0.93\n",
      "\n",
      "Dimension 4: 0.92\n",
      "\n",
      "Dimension 5: 0.93\n",
      "\n",
      "\n"
     ]
    },
    {
     "data": {
      "image/png": "[encoded data removed]",
      "text/plain": [
       "<Figure size 432x288 with 1 Axes>"
      ]
     },
     "metadata": {
      "needs_background": "light"
     },
     "output_type": "display_data"
    }
   ],
   "source": [
    "# Plot correlations between actual test data and predictions \n",
    "# obtained by projecting the other test dataset via the CCA mapping for each dimension.\n",
    "nTicks = max(testcorrsCV[0].shape[0], testcorrsCV[1].shape[0])\n",
    "bmap1 = qualitative.Dark2_3\n",
    "plt.plot(np.arange(testcorrsCV[0].shape[0])+1, testcorrsCV[0], 'o', color = bmap1.mpl_colors[0])\n",
    "plt.plot(np.arange(testcorrsCV[1].shape[0])+1, testcorrsCV[1], 'o', color = bmap1.mpl_colors[1])\n",
    "plt.xlim(0.5, 0.5 + nTicks + 3)\n",
    "plt.ylim(0.0, 1.0)\n",
    "plt.xticks(np.arange(nTicks)+1)\n",
    "plt.xlabel('Dataset dimension')\n",
    "plt.ylabel('Prediction correlation')\n",
    "plt.title('Prediction accuracy')\n",
    "plt.legend(['Dataset 1', 'Dataset 2'])\n",
    "print('''The prediction accuracy for the first dataset is:\\n\n",
    "Dimension 1: %.02f\\n\n",
    "Dimension 2: %.02f\\n\n",
    "Dimension 3: %.02f\\n\n",
    "Dimension 4: %.02f\\n\n",
    "'''% tuple(testcorrsCV[0]))\n",
    "print('''The prediction accuracy for the second dataset is:\\n\n",
    "Dimension 1: %.02f\\n\n",
    "Dimension 2: %.02f\\n\n",
    "Dimension 3: %.02f\\n\n",
    "Dimension 4: %.02f\\n\n",
    "Dimension 5: %.02f\\n\n",
    "'''% tuple(testcorrsCV[1]))"
   ]
  },
  {
   "cell_type": "markdown",
   "metadata": {},
   "source": [
    "The cross-dataset predictions range between 0.93 and 0.94 for all dimensions for both datasets."
   ]
  },
  {
   "cell_type": "markdown",
   "metadata": {},
   "source": [
    "## Variation of the optimal hyperparameters over many iterations\n",
    "The optimal regularization coefficient will vary with different instantiations of the data. It's possible that the optimal number of components would vary as well. Below, the data are randomly generated in the same manner for 1000 iterations. Then, the analysis is repeated to determine which optimal number of canonical components and optimal regularization coefficient persist over different instantiations of the data."
   ]
  },
  {
   "cell_type": "code",
   "execution_count": null,
   "metadata": {},
   "outputs": [],
   "source": [
    "nIterations = 1000\n",
    "all_numCC = np.zeros((nIterations,))\n",
    "all_reg = np.zeros((nIterations,))\n",
    "\n",
    "for ii in range(nIterations):\n",
    "    # Initialize number of samples\n",
    "    nSamples = 1000\n",
    "    \n",
    "    # Define two latent variables (number of samples x 1)\n",
    "    latvar1 = np.random.randn(nSamples,)\n",
    "    latvar2 = np.random.randn(nSamples,)\n",
    "    \n",
    "    # Define independent components for each dataset (number of samples x dataset dimensions)\n",
    "    indep1 = np.random.randn(nSamples, 4)\n",
    "    indep2 = np.random.randn(nSamples, 5)\n",
    "    \n",
    "    # Create two datasets, with each dimension composed as a sum of 75% one of the latent variables and 25% independent component\n",
    "    data1 = 0.25*indep1 + 0.75*np.vstack((latvar1, latvar2, latvar1, latvar2)).T\n",
    "    data2 = 0.25*indep2 + 0.75*np.vstack((latvar1, latvar2, latvar1, latvar2, latvar1)).T\n",
    "    \n",
    "    # Split each dataset into two halves: training set and test set\n",
    "    train1 = data1[:nSamples//2]\n",
    "    train2 = data2[:nSamples//2]\n",
    "    test1 = data1[nSamples//2:]\n",
    "    test2 = data2[nSamples//2:]\n",
    "\n",
    "    # Analysis\n",
    "    # Initialize a cca object as an instantiation of the CCACrossValidate class.\n",
    "    ccaCV = rcca.CCACrossValidate(kernelcca=False, numCCs = [1, 2, 3, 4], regs = [0., 1e2, 1e4, 1e6], verbose = False)\n",
    "\n",
    "    # Use the train() and validate() methods to run the analysis and perform cross-dataset prediction.\n",
    "    ccaCV.train([train1, train2])\n",
    "    \n",
    "    all_numCC[ii] = ccaCV.best_numCC\n",
    "    all_reg[ii] = ccaCV.best_reg"
   ]
  },
  {
   "cell_type": "code",
   "execution_count": null,
   "metadata": {},
   "outputs": [],
   "source": [
    "print('''Number of times each number of components was chosen:\\n\n",
    "1 component: %d\\n\n",
    "2 components: %d\\n\n",
    "3 components: %d\\n\n",
    "4 components: %d\\n\n",
    "''' % tuple([(all_numCC == i).sum() for i in (1, 2, 3, 4)]))"
   ]
  },
  {
   "cell_type": "markdown",
   "metadata": {},
   "source": [
    "The optimal number of components is two for 97% of the iterations, corresponding to the number of latent variables. Pyrcca successfully captures the relationships in the data prescribed by the latent variables."
   ]
  },
  {
   "cell_type": "code",
   "execution_count": null,
   "metadata": {},
   "outputs": [],
   "source": [
    "print('''Number of times each regularization coefficient was chosen:\\n\n",
    "Regularization coefficient = 0: %d\\n\n",
    "Regularization coefficient = 1e2: %d\\n\n",
    "Regularization coefficient = 1e4: %d\\n\n",
    "Regularization coefficient = 1e6: %d\\n\n",
    "''' % tuple([(all_reg == i).sum() for i in (0, 1e2, 1e4, 1e6)]))"
   ]
  },
  {
   "cell_type": "markdown",
   "metadata": {},
   "source": [
    "The optimal regularization coefficient is greater than zero for over 90% of the iterations. The other three regularization coefficients are optimal for approximately equal proportions of iterations. This result corresponds to the random variation in the data that are generated during each iteration of the analysis."
   ]
  }
 ],
 "metadata": {
  "kernelspec": {
   "display_name": "Python 3",
   "language": "python",
   "name": "python3"
  },
  "language_info": {
   "codemirror_mode": {
    "name": "ipython",
    "version": 3
   },
   "file_extension": ".py",
   "mimetype": "text/x-python",
   "name": "python",
   "nbconvert_exporter": "python",
   "pygments_lexer": "ipython3",
   "version": "3.6.8"
  }
 },
 "nbformat": 4,
 "nbformat_minor": 1
}
