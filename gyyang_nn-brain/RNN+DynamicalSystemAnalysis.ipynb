{
 "cells": [
  {
   "cell_type": "markdown",
   "metadata": {},
   "source": [
    "# Recurrent neural network and dynamical system analysis\n",
    "\n",
    "In this tutorial, we will use supervised learning to train a recurrent neural network on a simple perceptual decision making task, and analyze the trained network using dynamical system analysis.\n",
    "\n",
    "[![Open In Colab](https://colab.research.google.com/assets/colab-badge.svg)](https://colab.research.google.com/github/gyyang/nn-brain/blob/master/RNN%2BDynamicalSystemAnalysis.ipynb)"
   ]
  },
  {
   "cell_type": "markdown",
   "metadata": {},
   "source": [
    "## Install dependencies"
   ]
  },
  {
   "cell_type": "code",
   "execution_count": 2,
   "metadata": {},
   "outputs": [],
   "source": [
    "# # If on Google Colab, uncomment to install neurogym to use cognitive tasks\n",
    "# ! git clone https://github.com/neurogym/neurogym.git\n",
    "# %cd neurogym/\n",
    "# ! pip install -e ."
   ]
  },
  {
   "cell_type": "markdown",
   "metadata": {},
   "source": [
    "## Defining a cognitive task"
   ]
  },
  {
   "cell_type": "code",
<<<<<<< HEAD
   "execution_count": 3,
   "metadata": {},
   "outputs": [
    {
     "ename": "ModuleNotFoundError",
     "evalue": "No module named 'neurogym'",
     "output_type": "error",
     "traceback": [
      "\u001b[1;31m---------------------------------------------------------------------------\u001b[0m",
      "\u001b[1;31mModuleNotFoundError\u001b[0m                       Traceback (most recent call last)",
      "\u001b[1;32m<ipython-input-3-d77a789421d8>\u001b[0m in \u001b[0;36m<module>\u001b[1;34m\u001b[0m\n\u001b[1;32m----> 1\u001b[1;33m \u001b[1;32mimport\u001b[0m \u001b[0mneurogym\u001b[0m \u001b[1;32mas\u001b[0m \u001b[0mngym\u001b[0m\u001b[1;33m\u001b[0m\u001b[0m\n\u001b[0m\u001b[0;32m      2\u001b[0m \u001b[1;33m\u001b[0m\u001b[0m\n\u001b[0;32m      3\u001b[0m \u001b[1;31m# Environment\u001b[0m\u001b[1;33m\u001b[0m\u001b[1;33m\u001b[0m\u001b[0m\n\u001b[0;32m      4\u001b[0m \u001b[0mtask\u001b[0m \u001b[1;33m=\u001b[0m \u001b[1;34m'PerceptualDecisionMaking-v0'\u001b[0m\u001b[1;33m\u001b[0m\u001b[0m\n\u001b[0;32m      5\u001b[0m \u001b[0mkwargs\u001b[0m \u001b[1;33m=\u001b[0m \u001b[1;33m{\u001b[0m\u001b[1;34m'dt'\u001b[0m\u001b[1;33m:\u001b[0m \u001b[1;36m100\u001b[0m\u001b[1;33m}\u001b[0m\u001b[1;33m\u001b[0m\u001b[0m\n",
      "\u001b[1;31mModuleNotFoundError\u001b[0m: No module named 'neurogym'"
     ]
=======
   "execution_count": 1,
   "metadata": {},
   "outputs": [
    {
     "data": {
      "image/png": "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",
      "text/plain": [
       "<Figure size 360x345.6 with 4 Axes>"
      ]
     },
     "metadata": {
      "needs_background": "light"
     },
     "output_type": "display_data"
>>>>>>> 9003bce846584610841b5e8d7a417d9e93a798ce
    }
   ],
   "source": [
    "import neurogym as ngym\n",
    "\n",
    "# Environment\n",
    "task = 'PerceptualDecisionMaking-v0'\n",
    "kwargs = {'dt': 100}\n",
    "seq_len = 100\n",
    "\n",
    "# Make supervised dataset\n",
    "dataset = ngym.Dataset(task, env_kwargs=kwargs, batch_size=16,\n",
    "                       seq_len=seq_len)\n",
    "\n",
    "# A sample environment from dataset\n",
    "env = dataset.env\n",
    "# Visualize the environment with 2 sample trials\n",
    "_ = ngym.utils.plot_env(env, num_trials=2)\n",
    "\n",
    "# Network input and output size\n",
    "input_size = env.observation_space.shape[0]\n",
    "output_size = env.action_space.n"
   ]
  },
  {
   "cell_type": "markdown",
   "metadata": {},
   "source": [
    "## Define a vanilla continuous-time recurrent network"
   ]
  },
  {
   "cell_type": "markdown",
   "metadata": {},
   "source": [
    "Here we will define a continuous-time neural network but discretize it in time using the Euler method.\n",
    "\\begin{align}\n",
    "    \\tau \\frac{d\\mathbf{r}}{dt} = -\\mathbf{r}(t) + f(W_r \\mathbf{r}(t) + W_x \\mathbf{x}(t) + \\mathbf{b}_r).\n",
    "\\end{align}\n",
    "\n",
    "This continuous-time system can then be discretized using the Euler method with a time step of $\\Delta t$, \n",
    "\\begin{align}\n",
    "    \\mathbf{r}(t+\\Delta t) = \\mathbf{r}(t) + \\Delta \\mathbf{r} = \\mathbf{r}(t) + \\frac{\\Delta t}{\\tau}[-\\mathbf{r}(t) + f(W_r \\mathbf{r}(t) + W_x \\mathbf{x}(t) + \\mathbf{b}_r)].\n",
    "\\end{align}"
   ]
  },
  {
   "cell_type": "code",
   "execution_count": 2,
   "metadata": {},
   "outputs": [],
   "source": [
    "# Define networks\n",
    "import torch\n",
    "import torch.nn as nn\n",
    "from torch.nn import init\n",
    "from torch.nn import functional as F\n",
    "import math\n",
    "    \n",
    "\n",
    "class CTRNN(nn.Module):\n",
    "    \"\"\"Continuous-time RNN.\n",
    "\n",
    "    Args:\n",
    "        input_size: Number of input neurons\n",
    "        hidden_size: Number of hidden neurons\n",
    "\n",
    "    Inputs:\n",
    "        input: (seq_len, batch, input_size), network input\n",
    "        hidden: (batch, hidden_size), initial hidden activity\n",
    "    \"\"\"\n",
    "\n",
    "    def __init__(self, input_size, hidden_size, dt=None, **kwargs):\n",
    "        super().__init__()\n",
    "        self.input_size = input_size\n",
    "        self.hidden_size = hidden_size\n",
    "        self.tau = 100\n",
    "        if dt is None:\n",
    "            alpha = 1\n",
    "        else:\n",
    "            alpha = dt / self.tau\n",
    "        self.alpha = alpha\n",
    "        self.oneminusalpha = 1 - alpha\n",
    "\n",
    "        self.input2h = nn.Linear(input_size, hidden_size)\n",
    "        self.h2h = nn.Linear(hidden_size, hidden_size)\n",
    "\n",
    "    def init_hidden(self, input_shape):\n",
    "        batch_size = input_shape[1]\n",
    "        return torch.zeros(batch_size, self.hidden_size)\n",
    "\n",
    "    def recurrence(self, input, hidden):\n",
    "        \"\"\"Recurrence helper.\"\"\"\n",
    "        pre_activation = self.input2h(input) + self.h2h(hidden)\n",
    "        h_new = torch.relu(hidden * self.oneminusalpha +\n",
    "                           pre_activation * self.alpha)\n",
    "        return h_new\n",
    "\n",
    "    def forward(self, input, hidden=None):\n",
    "        \"\"\"Propogate input through the network.\"\"\"\n",
    "        if hidden is None:\n",
    "            hidden = self.init_hidden(input.shape).to(input.device)\n",
    "\n",
    "        output = []\n",
    "        steps = range(input.size(0))\n",
    "        for i in steps:\n",
    "            hidden = self.recurrence(input[i], hidden)\n",
    "            output.append(hidden)\n",
    "\n",
    "        output = torch.stack(output, dim=0)\n",
    "        return output, hidden\n",
    "\n",
    "\n",
    "class RNNNet(nn.Module):\n",
    "    \"\"\"Recurrent network model.\n",
    "\n",
    "    Args:\n",
    "        input_size: int, input size\n",
    "        hidden_size: int, hidden size\n",
    "        output_size: int, output size\n",
    "        rnn: str, type of RNN, lstm, rnn, ctrnn, or eirnn\n",
    "    \"\"\"\n",
    "    def __init__(self, input_size, hidden_size, output_size, **kwargs):\n",
    "        super().__init__()\n",
    "\n",
    "        # Continuous time RNN\n",
    "        self.rnn = CTRNN(input_size, hidden_size, **kwargs)\n",
    "        self.fc = nn.Linear(hidden_size, output_size)\n",
    "\n",
    "    def forward(self, x):\n",
    "        rnn_activity, _ = self.rnn(x)\n",
    "        out = self.fc(rnn_activity)\n",
    "        return out, rnn_activity"
   ]
  },
  {
   "cell_type": "markdown",
   "metadata": {},
   "source": [
    "## Train the recurrent network on the decision-making task"
   ]
  },
  {
   "cell_type": "code",
   "execution_count": 3,
   "metadata": {},
   "outputs": [
    {
     "name": "stdout",
     "output_type": "stream",
     "text": [
      "RNNNet(\n",
      "  (rnn): CTRNN(\n",
      "    (input2h): Linear(in_features=3, out_features=64, bias=True)\n",
      "    (h2h): Linear(in_features=64, out_features=64, bias=True)\n",
      "  )\n",
      "  (fc): Linear(in_features=64, out_features=3, bias=True)\n",
      ")\n",
      "Step 100, Loss 0.0738\n",
      "Step 200, Loss 0.0259\n",
      "Step 300, Loss 0.0160\n",
      "Step 400, Loss 0.0145\n",
      "Step 500, Loss 0.0127\n",
      "Step 600, Loss 0.0116\n",
      "Step 700, Loss 0.0119\n",
      "Step 800, Loss 0.0129\n",
      "Step 900, Loss 0.0116\n",
      "Step 1000, Loss 0.0125\n"
     ]
    }
   ],
   "source": [
    "import torch.optim as optim\n",
    "\n",
    "# Instantiate the network and print information\n",
    "hidden_size = 64\n",
    "net = RNNNet(input_size=input_size, hidden_size=hidden_size,\n",
    "             output_size=output_size, dt=env.dt)\n",
    "print(net)\n",
    "\n",
    "# Use Adam optimizer\n",
    "optimizer = optim.Adam(net.parameters(), lr=0.01)\n",
    "criterion = nn.CrossEntropyLoss()\n",
    "\n",
    "running_loss = 0\n",
    "running_acc = 0\n",
    "for i in range(1000):\n",
    "    inputs, labels = dataset()\n",
    "    inputs = torch.from_numpy(inputs).type(torch.float)\n",
    "    labels = torch.from_numpy(labels.flatten()).type(torch.long)\n",
    "\n",
    "    # in your training loop:\n",
    "    optimizer.zero_grad()   # zero the gradient buffers\n",
    "    output, _ = net(inputs)\n",
    "    output = output.view(-1, output_size)\n",
    "    loss = criterion(output, labels)\n",
    "    loss.backward()\n",
    "    optimizer.step()    # Does the update\n",
    "\n",
    "    running_loss += loss.item()\n",
    "    if i % 100 == 99:\n",
    "        running_loss /= 100\n",
    "        print('Step {}, Loss {:0.4f}'.format(i+1, running_loss))\n",
    "        running_loss = 0"
   ]
  },
  {
   "cell_type": "markdown",
   "metadata": {},
   "source": [
    "## Visualize neural activity for in sample trials\n",
    "\n",
    "We will run the network for 100 sample trials, then visual the neural activity trajectories in a PCA space."
   ]
  },
  {
   "cell_type": "code",
   "execution_count": 4,
   "metadata": {},
   "outputs": [
    {
     "name": "stdout",
     "output_type": "stream",
     "text": [
      "Shape of the neural activity: (Time points, Neurons):  (2200, 64)\n",
      "Trial  0 {'ground_truth': 1, 'coh': 51.2}\n",
      "Trial  1 {'ground_truth': 1, 'coh': 6.4}\n",
      "Trial  2 {'ground_truth': 1, 'coh': 25.6}\n",
      "Trial  3 {'ground_truth': 0, 'coh': 51.2}\n",
      "Trial  4 {'ground_truth': 0, 'coh': 6.4}\n"
     ]
    }
   ],
   "source": [
    "import numpy as np\n",
    "env.reset(no_step=True)\n",
    "perf = 0\n",
    "num_trial = 100\n",
    "activity_dict = {}\n",
    "trial_infos = {}\n",
    "for i in range(num_trial):\n",
    "    env.new_trial()\n",
    "    ob, gt = env.ob, env.gt\n",
    "    inputs = torch.from_numpy(ob[:, np.newaxis, :]).type(torch.float)\n",
    "    action_pred, rnn_activity = net(inputs)\n",
    "    rnn_activity = rnn_activity[:, 0, :].detach().numpy()\n",
    "    activity_dict[i] = rnn_activity\n",
    "    trial_infos[i] = env.trial\n",
    "    \n",
    "# Concatenate activity for PCA\n",
    "activity = np.concatenate(list(activity_dict[i] for i in range(num_trial)), axis=0)\n",
    "print('Shape of the neural activity: (Time points, Neurons): ', activity.shape)\n",
    "\n",
    "# Print trial informations\n",
    "for i in range(5):\n",
    "    print('Trial ', i, trial_infos[i])"
   ]
  },
  {
   "cell_type": "code",
   "execution_count": 6,
   "metadata": {},
   "outputs": [
    {
     "data": {
      "text/plain": [
       "PCA(n_components=2)"
      ]
     },
     "execution_count": 6,
     "metadata": {},
     "output_type": "execute_result"
    }
   ],
   "source": [
    "# Compute PCA and visualize\n",
    "from sklearn.decomposition import PCA\n",
    "\n",
    "pca = PCA(n_components=2)\n",
    "pca.fit(activity)\n",
    "# print('Shape of the projected activity: (Time points, PCs): ', activity_pc.shape)"
   ]
  },
  {
   "cell_type": "markdown",
   "metadata": {},
   "source": [
    "Transform individual trials and Visualize in PC space based on ground-truth color. We see that the neural activity is organized by stimulus ground-truth in PC1"
   ]
  },
  {
   "cell_type": "code",
   "execution_count": 7,
   "metadata": {},
   "outputs": [
    {
     "data": {
      "text/plain": [
       "Text(0, 0.5, 'PC 2')"
      ]
     },
     "execution_count": 7,
     "metadata": {},
     "output_type": "execute_result"
    },
    {
     "data": {
<<<<<<< HEAD
      "image/png": "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",
=======
      "image/png": "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",
>>>>>>> 9003bce846584610841b5e8d7a417d9e93a798ce
      "text/plain": [
       "<Figure size 432x216 with 2 Axes>"
      ]
     },
     "metadata": {
      "needs_background": "light"
     },
     "output_type": "display_data"
    }
   ],
   "source": [
    "import matplotlib.pyplot as plt\n",
    "\n",
    "fig, (ax1, ax2) = plt.subplots(1, 2, sharey=True, sharex=True, figsize=(6, 3))\n",
    "for i in range(num_trial):\n",
    "    activity_pc = pca.transform(activity_dict[i])\n",
    "    trial = trial_infos[i]\n",
    "    color = 'red' if trial['ground_truth'] == 0 else 'blue'\n",
    "    _ = ax1.plot(activity_pc[:, 0], activity_pc[:, 1], 'o-', color=color)\n",
    "    \n",
    "    if i < 3:\n",
    "        _ = ax2.plot(activity_pc[:, 0], activity_pc[:, 1], 'o-', color=color)\n",
    "\n",
    "ax1.set_xlabel('PC 1')\n",
    "ax1.set_ylabel('PC 2')"
   ]
  },
  {
   "cell_type": "markdown",
   "metadata": {},
   "source": [
    "## Dynamical system analysis\n",
    "\n",
    "### Search for approximate fixed points\n",
    "Here we search for approximate fixed points and visualize them in the same PC space. In a generic dynamical system,\n",
    "\\begin{align}\n",
    "    \\frac{d\\mathbf{x}}{dt} = F(\\mathbf{x}),\n",
    "\\end{align}\n",
    "We can search for fixed points by doing the optimization\n",
    "\\begin{align}\n",
    "    \\mathrm{argmin}_{\\mathbf{x}} |F(\\mathbf{x})|^2.\n",
    "\\end{align}"
   ]
  },
  {
   "cell_type": "code",
   "execution_count": 8,
   "metadata": {
    "scrolled": true
   },
   "outputs": [
    {
     "name": "stdout",
     "output_type": "stream",
     "text": [
      "Step 1000, Loss 1.6978\n",
      "Step 2000, Loss 0.5263\n",
      "Step 3000, Loss 0.1553\n",
      "Step 4000, Loss 0.0375\n",
      "Step 5000, Loss 0.0069\n",
      "Step 6000, Loss 0.0011\n",
      "Step 7000, Loss 0.0003\n",
      "Step 8000, Loss 0.0002\n",
      "Step 9000, Loss 0.0001\n",
      "Step 10000, Loss 0.0001\n"
     ]
    }
   ],
   "source": [
    "# Freeze for parameters in the recurrent network\n",
    "for param in net.parameters():\n",
    "    param.requires_grad = False\n",
    "\n",
    "batch_size = 64\n",
    "\n",
    "# Inputs should be the 0-coherence mean input during stimulus period\n",
    "# This will be task-specific\n",
    "input = np.tile([1, 0.5, 0.5], (batch_size, 1))\n",
    "input = torch.tensor(input, dtype=torch.float32)\n",
    "\n",
    "# Here hidden activity is the variable to be optimized\n",
    "# Initialized randomly for search in parallel (activity all positive)\n",
    "hidden = torch.tensor(np.random.rand(batch_size, hidden_size)*3,\n",
    "                      requires_grad=True, dtype=torch.float32)\n",
    "\n",
    "# Use Adam optimizer\n",
    "optimizer = optim.Adam([hidden], lr=0.001)\n",
    "criterion = nn.MSELoss()\n",
    "\n",
    "running_loss = 0\n",
    "for i in range(10000):\n",
    "    optimizer.zero_grad()   # zero the gradient buffers\n",
    "    \n",
    "    # Take the one-step recurrent function from the trained network\n",
    "    new_h = net.rnn.recurrence(input, hidden)\n",
    "    loss = criterion(new_h, hidden)\n",
    "    loss.backward()\n",
    "    optimizer.step()    # Does the update\n",
    "\n",
    "    running_loss += loss.item()\n",
    "    if i % 1000 == 999:\n",
    "        running_loss /= 1000\n",
    "        print('Step {}, Loss {:0.4f}'.format(i+1, running_loss))\n",
    "        running_loss = 0"
   ]
  },
  {
   "cell_type": "markdown",
   "metadata": {},
   "source": [
    "### Visualize the found approximate fixed points.\n",
    "\n",
    "We see that they found an approximate line attrator, corresponding to our PC1, along which evidence is integrated during the stimulus period."
   ]
  },
  {
   "cell_type": "code",
   "execution_count": 9,
   "metadata": {},
   "outputs": [
    {
     "name": "stdout",
     "output_type": "stream",
     "text": [
      "(64, 64)\n"
     ]
    },
    {
     "data": {
      "text/plain": [
       "Text(0, 0.5, 'PC 2')"
      ]
     },
     "execution_count": 9,
     "metadata": {},
     "output_type": "execute_result"
    },
    {
     "data": {
<<<<<<< HEAD
      "image/png": "iVBORw0KGgoAAAANSUhEUgAAAXYAAAD+CAYAAAAuyi5kAAAABHNCSVQICAgIfAhkiAAAAAlwSFlzAAALEgAACxIB0t1+/AAAADh0RVh0U29mdHdhcmUAbWF0cGxvdGxpYiB2ZXJzaW9uMy4xLjEsIGh0dHA6Ly9tYXRwbG90bGliLm9yZy8QZhcZAAAgAElEQVR4nO29eXic5Xnv/31m36TRMiPZsiXZGlnY2AgLC2yUsAQSKNtp0mY5oTghbQqmx+GXH+1JWvrryTk9p1m6pAlxawOhkEBo2uQq7Q9IUpIQCNgEb8LCBtnWyNq3GS0zo9mX5/xx69U7siVZsmc0i+7Pdc010izvPAPW973f73MvQkoJhmEYpnjQ5HoBDMMwTGZhYWcYhikyWNgZhmGKDBZ2hmGYIoOFnWEYpsjQ5XoBDodDbtiwIdfLYBiGKSiOHTvmlVI653su58K+YcMGHD16NNfLYBiGKSiEEL0LPcdWDMMwTJHBws4wDFNksLAzDMMUGSzsDMMwRQYLO8MwTJGR86yYrBMOAx4PEIkAJhPgdAJmc65XxTAMkzWKO2IPh4HeXiCZBKxWuu/tpccZhmGKlOIWdo8HMBoBvZ7E3GCg3z2eXK+MYRgmaxS3sEciJOpTU4DfD0xMADodPc4wDFOkFLewm0wk5rEYYLEAiQQwMkJizzAMU6QU9+apxQKcOwdUVAAlJYAQwNgYPefz0Y03VRmGKTKKN2KPRChSb2wE7HYgGCTh3r6dBP7ECXqMN1UZhikyijNij8eByUmyXBwOEvJ0xsdpEzUcptc6HPS4xwPU1a38ehmGYTJI8UXsyST56hoNWTDnizpAoq+bOaclErSxajDwpirDMEVBcQm7lCTqqRSJulY79/lkEvB6KUrXaIDycno8FKLHjcaVXzPDMEyGKS4rZmqKRLui4sLMl3CYngcAl0vNZTcYgOlpIBoFKivp5JAe5XPlKsMwBUbxROyBAIlwaSkJsEIqRdaL4rlXVZGA19erEb1GA2zYQPdeL70H4MpVhmEKkuKI2MNhEnaLBbDZ1MejUYrSk0kS/PTnzGZ1o3R8nLx2u51OAB4Pib9SuWowkF1jtdLreZOVYZg8pjCFPd0e0WrJOrHb6QaQneL3UzqjTkf2yWJFSTYbiXsqRYI+MUGRu99P+e+K8Ot0JPLB4Mp8T4ZhmEug8IRdsUeMRrr19pLIu1wkuGVlJPiJBEXYpaXzZ8ako/STCQTo9eEwVah6PPR7WRlttBqNdBWQbvUwDMPkGYXnsafbI6OjFE2Xl1MxUiAAvPMOCXxlJUXwFxN1hZIS2kQ9fZoi/pISEvW+PjpJGAwk6tEoXQEwDMPkKYUXsUciFInH4yTydjtZKWNjQE2N2jpguamLJhO1GIjH1eyZNWtI0IeGaGPV4aBNV86KYRgmjyk8YTeZKDo3GimyTiRIiBWf3WS6dA9c8dEVbDY6Uej1JPIWC31mXx+nPzIMk7cUnhXjdKqWSFkZ2SfBINkxBgOJ/nI9cCkpGwagiB2gE4VGQ8errlY3UTs6VP+e0x8ZhslDCk/YzWY1B720VK0gNRrJY1+uB55MAsPDJM6VlSTasRhlyKR76iUl9BxAJxIp1Q1cHtzBMEweUXjCDqg56M3NwC23kEUSCpEYL8cDj0RoA1ahtha45ho6WYRCdPJIP54Q5LPH4/Q8wD1mGIbJO7LmsQshdgD4YwBxAF+SUo5e5C2XRmkpsGkTRdxCLE3UpSRfXrFQ9HqK1jUaEur16+lxh4N+VzCZKL89/XMuxfphGIbJItmM2E0A/gjAywCuz+LnkLgDJNjJ5OKvTbdelPc6nSTqyvMK09Nz32s2k91jNNLrOf2RYZg8JGvCLqU8COBKAH8CoD39OSHEA0KIo0KIo55M+NNarRpZKxbJfJxvvTidc9sMAKqPbjTS65XN1Hicntu0id4TDF5o1TAMw+QBWRN2IcS1AI4CuAPAF9Kfk1I+IaVslVK2OjMV7VZU0H0gcOFzivUyMUG/K+mL87UZUIRdKW6anlazZjQael9dHdDURPcs6gzD5BnZzGMvBfBPAASA72TxcwhN2jkqHldFO5mcG6Xb7Wozr/lIJknQdTp6nSLsiYTqwzMMw+QxWRN2KeUvAfwyW8efl5ISitgnJ6k9bySiRunAxZuBAXOLlGw2Enal2pUHcTAMUwAUXuXpYkgJDAzQhmZ/PxUwmc0Lzz6dj/OrTxUWi/IZhmHyiOLxFSYmgGPHgJ4e6vkSCJDIGwwUqS+1GVgyqQq7368+zq16GYYpEIpD2MNh4MQJ8r9LSylyHx4mYT55knq7LKXsP5mk9+p09PpQiOyd9AIohmGYPKc4rBiPh0RXSVFUxuGFw7RZqvR0WSw1MRwGBgfphFBdTfaNzUa3ZJL6xLz/Pj3Ozb8YhsljiiNij0QospaSfvf5SHRjMRLlVIpuAwP02khELS5Sxud1dZG4WywU6ff3k4ALQVk24+O0kWo2c/MvhmHymuKI2E0mEvaxMRJhpYkXQFG8z0eiPz4+/ybowAC93mAgIReCUhsnJ+m4Ho/aSVLJkAF49inDMHlJcQi700keeFXVXGHfupUE2WYjQS4vV8v/legeoI1Xi4Xe4/eTwJeVqRumipjHYupQa559yjBMnlIcwq608vV41MZdkQj560pzMCGAtWvnz2MvLSV7JRKhDVi7fW5zL2W4h9lM0X8sRicGbv7FMEweUhweO6C28t22DWhspOHWVivlpU9PA+vWLbzZ6XSqHrrNRu9Jb+6lDPdQUiZ9Pm7+xTBM3lIcEXs6Oh1F3WYz2SuNjRTJh8Mk9PO1BNDpyKZRUhoNhrkZNOlXBMkk3TZt4qwYhmHykuITdoA2TMNhdXxeRQX1UZ+cpE3RdJQGXzYbsHHjwr1glCuC6mqK7pda8MQwDLPCFI8Vk47S00WJrg0G8s2j0bnVpAD9nkjQCWApDb6MRmrXu1h7YIZhmBxSnBF7+tQjZdPTaqWMmelp1Xf3+0mg6+uX1+DLYqGWBckkiTzDMEweUZwRu06nCm40qj6uVKGePElWTSJBUfrExPKKjRRvnQuUGIbJQ4pT2AHVZ3e7gTNnqF9MJEJibjJRDrqUlNliMtHG6FLR6eiqgO0YhmHykOIV9mSSKkrjcRJupQ1AIKB2e7TZKK9dyXtfDhYLnSRiseysn2EY5hIpXmH3+ylqNxhI3I1GuinVolVVamuA9GKkpaL0kWE7hmGYPKN4hV2J1AF1vJ3BQGIejarVo0ojsOUWG2k0dPxweG57AoZhmBxTvMKuRNQA2TDBIIl5WRllwWi19JhWu3g738VQ+sukb9AyDMPkmOJMdwQoAp+YUG0WpQipoUEtNrpc0nPauW8MwzB5QvFG7GYztRPQaNS0xvLyzLcBMJvV4R4MwzB5QPFG7ABF6Bs2UHqiXk8ZMbHY3AKmy8ViIQ9f6UXDMAyTY4o3YlcwGskDt1rJNvH5Mnt85aTBOe0Mw+QJxS/sBgNlrSQS1Hc9Hs+8CFssdNx4PLPHZRiGuQSK24oB1B4wsRhZM8Eg5bibzZnr0Gg2A6OjVOHKw64ZhskxxR+xazRklygpiXY7bXQGApn7jGiUWhIEg2T58LBrhmFySPELO0BRu1KQpNeTdRIMkj2TCTweGnqtnECUKtfl9J9hGIbJEKtH2KVUPfCSEro/vzf7conFKPIfGlKjcyXt8VL6zzAMw2SA4vfYATW9MRqln7VaEne/X42wl4Iy8FppQ6C0EjCZKFq32dTPupT+MwzDMBlgdQi7RkMWTHonRquV7BifjxqCzUd6L5loVLVutFraGDWZSMjLy8lTl5JusRi9vr4++9+NYRjmPFaHsANq/3QpKRtGCNpInZhQNz0BsmsUIVd8eSHUBmJGI0Xn6aQPuw4GSfAvtf8MwzDMZbJ6hD2VAvr7aRB1aamajqjXU9SuCLnikev1qpAbDBdPjcxU/xmGYZjLZHUIezgMDA+TaOt0FLmfPAlUV6vRdyRC4qxktPAsU4ZhCpSsZcUIIW4VQnxfCPFjIcTV2fqcJeHxqAOtQyG6JZNkw5SUqBueNhulQrKoMwxTwGQzYrcA+CyA7QBuA3Aii5+1OJEIibrVqjYBUzz3khJ6fGyMsmQqK3O2TIZhmEyQtYhdSvkiSNwfBvC99OeEEA8IIY4KIY56VqKIx2RS0w9LS+k+fcKSRkMCH41y7jnDMAVPNq2YSgDfBvA/pJRj6c9JKZ+QUrZKKVudyx1Jdyk4nXNzz+cbh2e1kt/u8/GoO4ZhCppsVp7+PYB1AL4mhPh4Fj/n4ijpiBcbh2e3q2P0GIZhCpSseexSys9k69iXxFLSEY1GsmcCAXo9b6IyDFOArI5eMcuhtJTuM9n9kWEYZgVhYT8fnU5Ni0xvQcAwDFMgsLDPR0kJZcpcbvdHhmGYHLA6Kk+XixBkyQwPUxETwFORGKZICIepZjESKd4/a47YF0IIGnfn81E1Kk9FYpiCJxymP+NkMrfDzsJhoK+Ppmn29WX+81nYF8LjoSpUrZb8dp6KxDAFj8ejzt0BcvNnvRInFxb2hYhEqHeM0aj+F+epSAxT0EQidDE+NUUX5BMTVIS+kklwHg+dWCYnaT3ZOLmwsC9EehuCZJL+7/NUJIYpaEwmavJaUUHRspTqSIbRURL8SCS7xed+P5kAgFoqk+mYkTdPF8LppOsjvZ7+L09PqxWrDMMUJMqftdFIF+SxGCXArVlDkXw4rIquEkkbjSQDl0s4DAwMAO+/T8fbsCF7kzRZ2BcifSpSPE6i3tBQfNvnDLOKmG/YWfqftTLzXhltrGQ8a7VqYbrRePG5O+dn3thstEkaiQA1NcDQED1vs9GxMz1Jk4V9MZQ2BOXlZMItdeg1wzB5y2LdRZQpmEoknUyqTV/To3mDQRX586N5ZXPUaFQ7hb/1Fv2sFLY3NwNeL0XwDQ2Zn6TJwr4UjEYS9miUI3aGWUVotZTtbLEsPZpXNke7ukjkS0vJx5eSflZGQNhsdNWQjYmaLOxLwWAgI04Zn8cwzKpjoWheieiVaP7cOYoDpaTXBgIk4DodZVArEX42czFY2JeK0Uj/BxmGYTB/ND85CZw+DYyMkGhXVNCGbU0NRe+pFL02Fsu8r54OpzsuFSVPihuDMQxzHkJQBD88DCQSdIEP0MTNiQmKCzduvPhIiEzBEftSUTZOo1H1WoxhGGYGj4dsF5MJqKoiqdDrSeh1OkqpzIafPh8csS8VjYYrTxmGmZdkkqJzr5d8dI2GIvL6etowjcXmTuLMNhyxLwclOyaVUq+1GIZZNSj56VNTZKkom6mKz242U7aL00l+u99P0brLtbJ5Fyzsy0EZmxeJ0P9JhmFWDUp+eipFXno0qkbikQhVkur1FLVbrbRxajQCDgdQW7uya2VhXw56vVomxsLOMKsKpTPk4CAJutGoFio5HCT8V1xB0jA0RO+pqyNRX+ksaRb25WI0ql2CLlZXzDBM0aCUsUxNUYwnBPnp4TAJfDBIzzc10S2XsFG8XJS0x3g81ythGGYF0WjIgtFoVIslkaCf863xKwv7clHSHjk7hmFWBVLSJqgQFM/V1pK4T0+TDJSUkDu7klkvF4OtmOUiBFehMswqIZmk7JZYjGyXtWtpc1RKsl6sVrrl29xUFvZL4MCxUTTbtWirqJjtlH/I7UXHgA97bnLleHUMw1wK57faVSJxKanBqyLcdXUrV2h0qbCwXwLNGyqx9/l3sM9mQ9vWdTjk9mLv8+3Yd29LrpfGMMwinJ+HbrWSiEcilO1SWgpUV9Pz585RG4B169RJR4UCC/sl0NZUjX13N2Dvj0/ivsFpPPd2H/bd24I2lyPXS2MYZgGUPHRlHJ6yGRqPk4e+di09d+oUWSsVFfR7oYk6wMJ+ybRtqsJ9V/nx2KtdePiWRhZ1hlmE822OXHjSSh56Tw9tfBoMFKUDZLnE49TPRacjQa+ooKi+EOGsmEvk0FAQz3V48fBNG/Hc23045PbmekkMk5cokXI8TvnfyST9Hg6v/DpCITUPHaDM5VSKLJlwmE42VVVqI9d8SmFcDizsl8Ahtxd7f3wK++7ciEfa1mHfvS3Y+3w7izvDzIMSKcfjJKqplDppaKWQkq4WAgGK1BMJEnGdjiyZsjK6Kc9pNPmXwrgcFhV2IURl2s8F+hUzT8eAb8ZTrwSiUbS5HNh3bws6Bny5XhrD5B2RCAmmzUaRss9H0fBKlYIEg8A771D3xb4+EvNIhNIWLRayXCwWYNs2uprw+UjQs9kvPdss6LELIZ4CEBBCRKWUXwbwdwA+s2Iry2NmUxqDQRx49Qyar5Boa6qe9dk59ZFhVEwmtbdKeTltVE5Okv2R7c4c09PAiRO0AVpRQSeWsTFKZTSZKDc93W6prc2/nPRLYbHN07iU8otCiGuFEP9rxVZUSJhM+GnXFL59eARP3X8t2lwOHHJ78QfPHEHTmhIWdoYBCWVvL/2sNM0KhShKHh8nwc1GF+xEgsbU6fV0UkkmAbudWgGUlGRvLF0+sNh/zgkhxJ1SyiMA3gJw83IPLoS4RQjx3UtdXN6j1aLSokM4nsIfPHME33zlNP7gmSMIx1OotPKUJYYBKPqtr587Fu7KK2kOaDxOlkgikdnPjMXouJEIbYZqtbQOh4OuGoq9cHzBiF1K+Wjazz8TQly1nAMLIRoBXAOgQPeVl8bnr6/HW/0nEY6n8NirXQAAs16Dz9/QkOOVMUz+YDbPX62p1VJOuddLkfulTp1MT6fUaOhmtdLJQ0ldVIhGCzfbZaks+QJISrmsnUEpZZeU8m/ne04I8YAQ4qgQ4qhnJbfGs0BbXSke2TK3N/sjtzVxXjvDLAGDgawajYZsmVBo+cdQ0imTSfU4IyMk7GvWkJArrQGUnws122WpXCwrpmrmfmsmP1RK+YSUslVK2eos5P/C4TAOHe/GN0/NrWL45itnOPWRYZaIVksWicFA6ZCBwPLer6RTJpO0MWu1UluAiYn5baBCznZZKgsKuxBiH8hKAYBrhBDfWZklFRAeD777vh/hFGDWAg9ftwZmrUA4nsJ33+jO9eoYpmDQaNS0w0CAsmakXNp7QyESbb9fzbxR+r8Aqg3U1ET3xS7qwOIRe7mU8mcAIKV8FoDtUj5ASnnfpbyvIIhEMB5LwawVeOqGCli0wCPXr4VZKzAejAGg1McDr7tzvFCGyX+EoCKh0lKyV8bHqZhpMaJRSmkMBul95eV0nEKuGs0Eiwl7SghhAICZ+7KVWVIBYTLhjg0leOrujWirMqK5XI/9R0fxyM5q3LFt7WzXx+b19lyvlGEKBpuNBHqxjBkpqZBofJyyXqxWsllWk4++GIvlsf89gB8KIaIAtAC+vjJLKiCcTuzZEqLrP38MbbYEbq+z4LFjHnzuA7Y5rXwPvO7mvHaGWSJmM0XdZ8/SraxM7e+i05GI6/Uk6KWlZLt4PBS5m0yrw0dfjMUi9vcBfA3AvVLKT0op316hNRUO6Tsz8TiQTOKenS7EUxKPvdqF+3ZSfhdH7QyzPMJhaqlbVkZCfvIkcOYMReIeD7UGsFio4EiI1emjL8ZiEfv3ABwG8HEAX16Z5RQgyr+oqirahvcL6LV0vnzijW48fagHj+/ewemPDLMMlEwXnY7EvLSU/rzOnAE2b6ao3O8n4WcuZLGIPTiTh86KtBSMRhwamMbef+lAg9OK1voKROIpxJO0+/PkG27c//ThHC+SYQqDYFBt1DU0RBG8EOqYuvSsF+ZCFhN2uxCiQbmf+ZlZCCHQ4Y1i310ubKspxZtdXnyw0QG9VoO/+VknvvpyJz7QWHnx4zDMKkbprjg9rea0x+OU0lhRoVavrvasl4uxmLCfALAbwLsz98Wbtpgh9ty4EUgm8dN3R7C91o43u7yoKTOhvd+He3fWYmuNnVMfGWYeUikS9LExNXVxbIweW7NG9dorKjjrZSks1iuGOzouF6MRHWMh7PvdrYDJiM88dRinR6ZxxRobUhI88JphziOVUvPQpSRffWqKIvTqanpNaSmJuvJ6g4GzXi4GzzzNJHo99lxXAxgMePLkBBIpCZ1G4PTINPonwvjuZ1t5E5VZdcw379RonCvoZjM9du4cReNGI4m3UnDELA8W9kxjNOLJg7346hsDuGWzE3azHi+0DyEUS+LUEPVR4yEczGpBadBlNFLOeSQCnDpFlorJRIJeUkKPnzlDIl9aSl0ZLZaLH5+ZH555mmmMRhzs8+HR25twvasSL7QP4YONDlgMWvzwcD/2Pt8OrQbstTOrAiVt0WhU+7kkElQxGo2Sj37qFNDRQeUglZXAhg0s6pcLC3umMRrxzG83YqvDhP2vdeP3dtbiYJcX19SVodsTxB3bqrH/tW4uWGJWBcq803CYrJdUivzzEyeoyGh0lO6npihSr61V/XTm0mFhzzQaDaDXo6N/EvvubUFthRUfaKzEm13jaFpjw78dH8JDNzfw4GtmVaDMOw2FgJ4e4P336abMHu3qUgVdCPbTMwULezYwmbBnuwNtGyug1QBvdo2jttyM0yPT2FFfhv2vdbMdw6wKnE5KWezuJiH3+4HOTrJfpqfJelFa9nLBUeZgYc8GRiMA4FDnCPa/1o1bNzvRPxlGbbkJb3aNo6XWznYMU3SEw2SrnDlD9+EwbY5aLGTBnDtH1kt5OW2kKj8DXHCUaVjYs4HBAGg06OibwEM3N6C934dyix79kxHUlpvxy04PHrq5AaeGfNxmgCkK0sfTWa20UfrWW8Dx42S3TE9TOyWnk9IYrVYS/YkJiti54CizsLBnC4MBe1qcSKaAh25uQCSeBAD0T4bxwUYH3nKPc5sBpmjo76dMl7NngWPHaHN0aooi94EBeiyRIIHXaNQOjF6vKvZccJQ5eP85W8x0KWpea8Pef+nAI7c14ZuvnEE4nsKbXTQP9c/v2ow/vIHz2ZnCJhwmD720lP7ZDwxQjxejkYZK6/Uk2lICDQ3ktUsJNDYC69dTq10ms3DEni1mfPaOXrJj9r/WjafuvxbXbSBTUQDYWsMeO1P4KLnq4+O0ARoOk3gPD5PYNzaSDTM9TYK+bh3lqtfUUDYMk3lY2LOFVgvodNhzTRWSKWDfvS04NeTDkZ7JWXHngddMMRAKUaSeSpFXPjGhzip1OEjcS0qArVspYlcyYdh+yR5sxWQToxEIhbDnxgY8+WY3vvpyJz602YnP30Abp199uRNPvuHG1ho7txlglsR8fVdyLY7RKN2vXUtrs9tJyKur6T4cpu6MZWUUrUejFPfket3FDEfs2cRkomvPWAwHu8bx6F2b8fkbGrD3+XZsrbHj0bs246WOYR6dxyyJ8zNPkkn6PRzO3ZoCAUoCU2yWTZuAHTvofv16im0SCRL70lJuubtScMSeTQwGKqWLRvHM566bfXjfvS3Y+3w77ttZh/6JMPbd28JdH5mL4vGo5fmplBrxejzqAIqVQLlq8PvVCL2piU40iQSJttVKjxsM9LqREYpztFq2YFYCFvZsIgT9a+/qAmy22WvnNpcD9+2sw2OvduHhWxpZ1JklEYmQYIZCFCmbTCScweDKrUG5agCowCgapTU5nXMbdyniHwzS87t2sZivJCzs2SQcpn/98Tj9Fc5cOx9KleK5t/vw8C2NeO7tPuxyVbK4MxdF6btis9EGZTBIqYTZrthM9/XHx6lJV7r1otNRPnr6VYMy453JDeyxZxOPh3aPDAYKswwGHPImsPdfO3D71mrsclXO2jKH3F4ccnu5fwyzIE4nRchS0j+pyUkS3Wz61em+vslEP7/zDq1DqSA1GLjPS77Bwp5NlGtns5mEfWICHZ4I9n1oDe65ugZ7n28HQJ77iyeGeBOVWRSzmcRUq6V0QSGoeVY2LQ4lRz0aBdxu8tDLy2kj1Gql13Cfl/yDrZhsolw72+301xEIYM/aBFBqARoq52yi/uepUd5EZS5KusXh85Edk0hkr4e5309+vt9P/4Svukq9UphJ+JqN3pn8gSP2bKJcOytDHG02CrWMRsDrRVudHZvXlOCxV7tw3866WVFnS4ZZCiUlFLX7/Zk/dipFmSz9/eTnV1VRBanTSfnpFgudVDjLJT/hiD2bKNfOSnqAyUQhjxCAz4dDx7txrHcCBq3A04d6sMtFDcEefPYY7m5em+PFM/mORkOxQiBAkbPBcGnHOb/oyWAgMY9EqORfyUOfydyFEMD27Szm+QwLe7ZZID3gUH8Ae3/Wgz/ZtRaPHR5BIpnC7z9zBAKATqvBPVfXrPxamYLDZlNniTouwcVLHzat1VLP9PFxikcaG0nQ01MXTSaO0AsBFvYc0THkx777dqBtnQ1bq234/X8/i0hSQqcReOr+Hey1M0tCCNrInJpSI+7l4PGQPz81RYKuNOmqqCBRBzh1sRBhYc8Rc/rClJXNDHskYUcimbN1MYWHxUJ55coG51LnhkpJZRaBANktpaXkpRuNK1v0xGSerG2eCiHahBDfm7mVZetzCp1Dbi8e/MFx6HUaPHzjBug1wIM/OI5D7/bTXx7DLIHSUhLnUGhprw8GaSjG2BhtlNbVkZ+uJHJx+mJhk82smAcAPAjgKQCfyuLnFDQvnhgCADy+ewceuXMrHt/dSo+/M0jlfPF4LpfHFAjKpmcgMH88cP/Th/HkG27EYkBPD80l/Zd2N77fexg1NbPjA7hJV5GQTStGK6WMCCGGAdyS/oQQ4gGQ8KNulZt39ZVWPL5b9dTbNjlx9/Z1ZMckk7PVq4f6/OjoGsGeLSX506+VyStKSykWmJ6mVEgAOPC6G83r7WhrqMRXX+7E0BDQUGbHT7u78VavB4/etRkbN/LmaLGRTWEPCSGMANYCGEl/Qkr5BIAnAKC1tXVV+w3z9WBXqlLvaVmPNocRh945h70/H8C+W2uo3C8Wo1QG/gtk0jAY6J+DxwPs+4Ubrgo71hjs+KNn2/GlG1pwm6sWT7d3QqcRSKTknNGMqzy+KjqEzJKPK4TYAeALAPQAHpRSTs/3utbWVnn06NGsrKGQ+bN/68BLHcP4XNsGPHfoHPZdawO0WnRMC+zZtZ4sGq2W/yKZWcJhSlf8u5+4odMCB8e78V/rWwAAz/YcQVJKpKRESgLXbSjHv+5py9tXaLoAAB5ZSURBVPGKmctBCHFMStk633NZ89illMeklPdLKX9vIVFnFuaeq2sQT6aoKnWzHaioxN63ptBskxSShULZKTlkCpJwGPjbl9z41SkvqvV2vD7WjWZdA549dww/HXof0WQKiZQq6kd6JvHkG1zdXKxwumMeIyWgFcCBdyfx9KkpPH53A5BK4s/avag3pLCnyUJpDUqjMQ13iFhtKMVD3d1AtcGOv3+7HXfaW/BhcwteCR9DQiYwGPZDAyAFwGLQ4osfaZodzQhg1o5higdWgjzkkNuLvc+3409ub4JWIxBLSkSTKZwaDuDBn/TipZ4gmmtKAZeLxNzno4TkqSny35lVgVI1+twxNzpGvSgNO9ASbsHLU+3o0/UjLhNIAdAIAELg93bW4rufbZ0zmvFg13iuvwaTBThiz0M6BnzYdy95o0a9FkASsaTE194ehVWnweN31KNt+0Z14zQep5SGcJgsGr1ejeKXWq3CFBxK1ehagx1/faQdd5W1oKXGAY/fgQ4/pdGus5RiPBrCZ3Y04scnu3FXcw323dsyOzydo/XihCP2PETJlNn7fDse371j9veUBD68bQ3arr9ybjaMXk/Vq2vWqHXgU1PUns/n41z4IkTObLWcPQuY/A7cv6kFP/O345j+HZyND0EA0AsN7r1yC/78xh340cluPHRzAzoGfGhzOebNxmKKB47Y85T0qP3pQz0w6TVIpiRefncEn2j1zt9LRgiK1JWUyFCIbsEg5cJZLBzFFzCKnz41RfvmPT0UsW/YANxQ68DZpBO/6BpEra0Un23eApMZ+JuD7fj2J1vwD41qlM4UPxyx5ynKH+CDzx4DAPzT/dfie79/HYw6DR589hgOub2LH8BgoCi+upqi+FSKFGF0lKL4RCLbX4HJIOEwzUQfHVX7pGu1QE0NXagdH/TizZ4R3NqwDtOpCK7cCtz3EQf2725Bp4ej9NUGR+x5TMeAD3c3r8U9V9egzeXAgdfdePjWRnR7grOX1Ifc3sUjMY1mbhQfDM6N4q1WKjfkKD4vOfC6G1fV2GGPOuDxUFXpmSkvxuHD/TtdEAI4MeLFV/6zHV+/qxW3b3egfYg235WJXNwpdPXBEXses+cmF772O82zf5jN6+3Y/1o37rm6Bntucs1mzyx5TqrBQAMrq6up/jyZpDlno6N0bZ/krpL5hJTAxlI7/ui5drxwyIvJSaA37MX33e24vskOm41eNxLzYf/uFnz0egfMZqDN5ZjdIGVWJ1mrPF0qXHm6PBQxv29nHZ57u+/y56RGoxS9K2PmjUY1imeyxvlTi5xO4LsH3VhnsqPB5kAiQe7ZiREvDvYP4ejIKG531eEXPX34P3e0YEetA9EoFx+vZharPGUrpsBoczlw3846PPZqFx6+pfHyL7ONRrolk+pm68QEKYbFQjetNjOLZwDMnVokBOB2A2++CfiDdjze146Hrm5BndGBkx4v/rm3Hd/4Ly24YtiIx9/swu5rGnHNesdsF0YeIs3MB1sxBcYhtxfPvd2Hh29pxHNv9118E3WpaLXUErC6msbn6PXUA3Z0VB2AyWQEj4dcsclJ4N13yTcPhQBbyIGPVbdg/4l2vDp2Gs/3tOPRm1pgLwN+1N6Hh25sxP//Xh8Odnl5iDSzKCzsBYRiw+y7twWP3HYFbt9afUGGzCG3Fwdev8weICYTiXt1NQ3VjMVI3EdHSYVSqcv8JqubSISEfXxc3bf2+2eGRxscuLa8Di+c7cLHrqqDRovZ/+dfvvMK7N/dgq//uh0DcS+LOrMgLOwFhJLbrtgvysBrZVjHsjdTL4ZWS5us1dW06arTkQKNjFC4GY1m5nNWCcqwC5OJasZMJuCNMTf+4eRhxGJ0gXRmyovDE3343HWN+I9TfXijd2jO/3PeGGWWAnvsBcT5KY1tLgce370De59vh9N2OjObqfMhBF3zm83q/LVQiMxinU714qPRC3cEZ8LK+TYLV1PEeeB1N9aVmfDVlzsRvhnYZnDhO291oD3Qjw9aN8NgBfwmL34+1Y7drhZ8dLMDm8sr8fU32vHpD9TMORanMDIXg4W9wMn4ZurF0Okoii8pIZUOBimKHxuj8T12O2CzIeyLYdLdi2BlPaTJjFCInlotc0KUyUUtNZR/XgE7vnO8C9vW2vH3r3ViXckABgLTcMla1EdcWOMC3BM+3Ffdgu1rHfD5gP+yy4HaupbZmgWGWSos7AXO+Zupu1yVKyMC50fxnZ2UeB0MIpzUY9BrgkEL2CIedAfqEA7Tfmw0Sm8xGimCny9VL9fR/aV8vpS09aDcNldR/vkXr2vBNescSCYBCeDsaBB2vQkDgWnUWGz41Jrm2c/89HYX1q6lzwwGMZuTzqLOLBcW9gImfTO1zeXALlflnN9XDJ2OdgM1GiAaxYRfD4MBkCkDJoaCCFoowB8bo6g9FKK3pFLA+vVz28inpwLmIrpXPl+noxNRKAScPk3rNBrninf6TUrgj//jMIQAPt3SgB21Dvw/rS342ptHYdHrEIonsLe5Ff960o3+uBcVRhOGQ9M4Z3DjThdZbA0NtIZolMsImMuDN08LmPM3U3O6sabXkyVjsSAS10KvB5KRGFJ6E+Jx2mtNpSjQ12ho8zAWo0SbyUm1jbzHQyI5MECCqvzu8azM1xgcVIdTTU7Sz5EIDbIIBEj44/GZIShatbdaSQnwwaZKvNXjwX9/8QgOub14d9CHaDKJyUgUrWvW4NjYEPrjXmwucyAlUvjotlr8sLMTL55xQ6OhYyr56U7nynxfpjjhiL2Ama8/TM4u3Q0GUmedDiajRDwYgyYWRaK8HhvswHvv0dN2Owmj1Qps2kRilr4POzhIwhYI0LkilSLxr6jIXoWllPT5wSAwPEwibbHQejQaOhmFw9RwazH+260uaATwjVc68eWfvI3kTFH39rJ1OD46imgygTubavGJjc2Y1Hvxl79oxz1batE1NQ6n04VgkCL1Yt57YFYGjtiLjAOvuy8oWspIbvtixGKkfps3A3o9KkxBxJJahJz1SBnNMJtp2NP69STi09MkXKWlJPRr1lAjSo2G9l+VeqhEgqJijYZEN9OkUrSWsTFqfCklUFVF67LZSGQNBnqdxbK0Y97V6MK26vJZUW8pr8HuTdtxXfVamPU63LSxBldfDbTWOfDoh1pQU2bFDx64Dk1NQFMTnbxY1JnLhYW9yGheb8cfPHN0dlCx4sNrNcieuPv9pL5OJ1BXB3NzE9btqoOwUDaMVgts2QK0tgK7dlGkHggAQ0Mk2P39ZL2EQoDDoXYwiERI5KWkCD9TJJPqNEG/nyLzykoS9bo6Ok9Fo3OtkT9/5fAFw5+ffMON+58+POex7/3GjZOjk1B6ZZ7yjcCj8eLepmb81R07MJb0zV59fPImB/70t10s5EzGYSumyGhzOfDIbZvw1Zc78d6QH6+f8eKhmxuw/7Xu2cEdGSUaVT2WtNa/ZjNQW0sPr12rPmUwkNWg+OhdXSTmdrta4Goy0W16mqJ2pxOznQwvB6VrcTisJvVYrWT5pK+7vp48/WAQ+Lf33di1yY4br6icHf68tcaO777RjV91evDoXZtn37v/VTeeOt4Jg0aDP7/xWvRM+fD0O5341tEj+Prd1+Kj1zsAcIYLk31Y2IuQP7zBhX9vH8IL7UO4bkP5HFE/8Lo7swMX/H61Ydh5LNQ4VAjyq0dHKdCPRChqViJznw+46iryuz0e2rhsaiJBvpToNhKhk0QsRp9ns6kZN8PDF6Y1ms3AT85RHvqN2+yzmUb37qzFX73cCa2G7JlH79o8OzM0GAR+fXocO2ud+FBNA66sdODmLQ6YTMCrXcPoD/rAos6sFCzsRcghtxd9EyFoNcDhnkl8rGUdALXnSMZQUkTKyxcd1DHfU0YjCXksRkIaDpNFUlVFG6WJBFk1ej2wbh3dLyftUdmUDQZVr95up/OPshm6UFolAKwx2PHQs+34X7e34Ju/24IHnz2GeDIFjQCSKWBHXTlur3fhzBk6vtEIfP3O62bTOJNJupj59DUuPHw72y3MysLCXmQonvrDtzbisV92IRpP4oX2Qfzs5DCeuv/azGXMSEnRul5/SWF0KkXRcyikiq3NRodTPParrqLnpSThBBYuako/bjCo3gIBEu1kkgS8rIwic4+HPieVoohdCLqdO0fHaa524H/f0YK/+Gk77rqiDvFkCpE4NT/bUVeO432T+OfjbtzT5ILPR5+1cSNtvJaV8UAqJrewsBcZHQO+WU/98d078A+vduGgexzxpOqLXHSc3lIIhUgt7ctvOJZMUmfDykoSXoDEXalMra+nDdX0wiUpyZ9XPHJlqHMwSIJdUqIW9UipRuxS0tBnRbw3bKCUymDwwgsNKcn2qa2l1zdYHfid5jo8fbgL2pnXmfUa7G5pQkuVDwd+04lQCLijwQWbjdZeXn5J/zUZJqNwVkyRsecmF5IpzFouHYM+mPQa6LUCL54YykwHSClJkQ2GZZdIJpOU0hiL0Vs3bqTIORDAbI9xo5FEcmKC3qPVkgArRUy9vSTMExN039tLgtzZSe9TfPpQCGhvp2NHo1Rw9M47wA+Ou/Hr0zRqzmqlzdvesBcvd7tnK06FADonvPjROz0wajUABH5vZy3+8b9ei7/4aTvWW+347NWbcWJ0HEYjHUPHYRKTJ/A/xSIkfR7q47t3AAAefPYYXmgfxEsdw3h8947Ls2SCQfIwSksXfVk4TJkv09Mk4uXlJLZK5aZOR7ntTie9Rqm29Hgogo/F6NwRjap2vkZDwj8wQBF7JKKmJ9bUUE660ut8eppOJEYj8OsxN6r0dhgnHahZb8fzPe2ImBqQ7AGub7LjL3/Zjr0tLaisoBNJb9iL//NqO27dtBY3bqxBIgF87fV27KqpwX9va4F70oePbXHho1tcKCtTrygYJh/giL1ISW830OZy4HNtGxCJp3DVOvvlibpS1aNU7yyAsjmZSlFUHI0CJ05QJC0lRcUOB4luSQkJ9vAwRfMA2SFXXkn2fShEx6mvJ3EfG6M0yXCY3rthg9o23mql+/p6Wt6ppBu9YS8ayu14YbQdE3ovBgeAtQY7fnS2EwMBP77yCjXrummLA+XltI63zvjw/93SggeuaUZZ1IEarQNfuKYFJwZ8uGWbA7eucyEep41eJd+d2wAw+QJH7EVKun8+3zi9SxZ3ZYJSScmiL/N4yM4wGNS0RoDsk40byV9XrAspSbC9XqpCdTrV1zc0UPRuNNJ7+/ooCldy35UBT2YzvaekhCJup5NmiTaU23Ggox2fXNeC3yppwcv+Y0jKFHRCA5euBm+PDuHGykZ8+CoHgkE6XmMjoNe74BkEhqlLApxOoKHBgYkJB9xuujrQ69VUSW4DwOQTLOxFTkY7QCaT1JYXZniG9Qu2tQ2HSVSDQRJsg4EE02JRRVnJfInFyPvWaukYIyPqBYHTqc4GHR0lIa+vp/cYjeqkPinptecPd66sBOx9DtxT2YJ/HWjHVlMdkjKFJFKox1r0JzzYYWrEkYk+vHCwErde5UAiQeuuqKDb9DRdPeh0dLURj1PWi1JoxTD5CFsxRU5GO0AGAmSxTJbOpg8mk2S5KDnjo6OUfz4xoUbSoRA9HotRRK6I+vS0ar0okbdSRBSN0kbnO+/QsQwGakVw5ZXAFVcA//NXh/HrUTf0evLubTbgV0NuPPTDw7M2UEkJ0NICbC534EpjHY6EuiAE0KBZh245iO2GBuy0XIHfrmrBgXfb8co7XgQCJOIVFZRTr6QyKv3ZS0roxMRTAZl8hoW9yNlzk+uCyLzN5Zi1apbcNGxmJJ43ZIHRooUQ6oZhMkndG30+NTe8sZGe9/nU1rbRKPnfqRSJtd+vRuZTU+STSwkcPw68/TZluXi9JOYHJ9w41k/rNJuBD19ViafbO/Hk6cNobgb+s9eNv36lEx9orITHQxF9KAScPQtM6Lw4Ge2BTmggpAZIaNCq2YwT8W5MGb3Y5nTgE+ta0Dvtg8NB64hG6QQF0BWIkj2jFDNxv3Qmn8masAshrhJC/Ee2js9khub1VDKviPtC6ZDhsQAGBgXe6y9BTw+J3tgYReKRCIl7ZSWJn8+nZq0MDlJkXlWlWjAeDwmn3U6RsdJWIB4nIR4eps+sqaHjPvO2G8EA8IUftuPf3/IiHKbndRqBX3V68MkDh/DVlztnS/wjEfK/+/uB/qgXz5xpx/bKtfh41bW4zbwDQ5pRbN9ox/2bWjCl8WH9euCmzQ78Vr0LHg+tT+kfv2MHRekGA62d+6UzhUBWPHYhRBmATwKIZOP4TOZQrJm9z7fjvp11swOxFaumzeVA2B/HYFcY70aTeHPwHD5Q4YKUmB3jZrWqG5xTU5RTrkS1NpvaB0avpwhcpyOR1+vVYqO+Por6leZhJpOav27y2/HM6XZ8/MoGfOU/2/Hiu0682j2IR+/ajJ+fGsXhnklct6Ecf3iDC+EwpTqePk0nn36tD3+4rQVrhAMlJXSyKH+9BT0+H+5yubCj1oGpKfoOdXUk2kKQZVRdTespL1ebgvFGKVMIZEzYhRBfBPDhmV/fklL+hRDiuQVe+wCABwCgLlvTE5gls9BAbGWTtW5a4Nvv9eNnfRPY6qxEldaOrU4HTgx7cdQzhGQCcK2x4qM+F7q7SbCTSRLwqiqK2E+dArZvJ7FUKj6/8ws3HBo7tjockJKi5BHpRZfOh1ttLvj9tL41Gge+/MEWfOONdqy3W/HL7kF8aOM6xGPAkZ5JXLuhHEd6JrH/VTc+VONCSQldMSQSgCvpwho9Rd0NDXR1cN9tDoTDDvT00NXFmjXUL76ycv4MTrM5e0M+GCYbZEzYpZTfAvCtJb72CQBPAEBra+sCPQCZlWKhgdj77m3B3h8cx501lfjV4CS0AnjfO46zE5P4HUMjfvReFyRS0AgNbqjfgXCYvPPSUtroVLJZEgkS1vR6pgOvuxGYAp7ooBzyTaUOTFW78XLfWfx+SSvKy0mIOzvpBFFf4UBzlQNvDgxhi6McB3uH8atzg/jCBzfjo1tc+P7bbnzjlU64G4GPbXHBYqGTyOgoWSobNpDVMzVFNkppKV0ZWCwk3NzbhSkmON1xlXOxdMj7mqvw2G8GsfuaRlxXX4k/fekYYskknn23E3qNgEGnxZfadmBLhQM+H0XoytDn+noS0ECABNRiIS99ZASos9rxD79sxye3NuDbR9pxzVonXu8ZxKeu2Ixr6xyoqSE7x2qliPrFM24cHBjCTfU1OD7shdNqxngkjK01dkxOUr+WgQHgSO84qiZcuPpq4Npr1dRLpSK1upoic2X0HcMUI0Iu1DR7hWhtbZVHjx7N6RpWMwdep77j6ZkzSpOw5ioz9v7Lu/hUyzo8f3wYX/lICzpGx/HMka7Z135yayN+t+kK+GayJ6urKWqfmiL7QqsloV+7loR6fJzEVqsFOka8+OuD7XAaregOTOLDjevwxx/YjqkpEl/Fo//5CS++8suj+PyuTfidK11484wXf/ebdnymtQGTU8CdDS5MTKiFUIo3v2WL2rLX5VL3ATg6Z4oBIcQxKWXrfM9xzLLKWWggNgDsfe4Y9t3tQltrI3ZuWoP/9sNjSCZT0GsE4ilJjcVO92C9vhI3bnYglSLx1mopGtbpyE93ONSB0UqFqFYLlMcdqNM7cCowhI22cvymx4OjtV58/EbHnM3JsaQPX7+rFVdWOqDTAZ+4yYHGTS1o7/HhdrsLPT1ks5hMtPmZStFnDQ/TZukVV2RmAhPDFAos7My8dHR7sO+3NqBt23oAgMEIpGQKSSlhMmjxxRsa8Y+vdSGRSmH/yWOoqdmBTXYHurspSm5qIlEvLVVH3BmN5G/rdMCRI8BPu904FRxCc2kN3CEvbnQ24G8OtcPVOLcq9gsfnnvySaWAbU4HNloc6O+nk8W6dWobG79f7UGj9JthmNUECztzIVJiT/NMm8OZSpyOAR8+OjOJ6SNNNagzOVB+sx1HRoag0QLvDvpQFnMgHCZvvbKSLJlz5+j3NWvmFvUc7fPi5yNn8XHXZnykzoX+qBffPtqOuzY2oGPAN2+7g2SShFvps242A5s3UxqiEHQSMZspP97hoCidRZ1ZjbDHzlyIEvZWVqqji2YIBCg/PJlUuylOTakDlZJJEnSNhkRVP5NqeH5flS/9kxtNDju2VTkQCFC0/d64F/1BH/7qPtdsCb/JRL1Zksm5Q6iV/HiAPu/ECbU3mc1Gn8/55kwxwx47s3QUP8NonFfUBwZIxGtqSDwnJtTeKuPjJMBKjxiHg14TDF74MZ//oAt9ffRzeflMsy2DA9ucDhw/To+ZzXTMc+coNVEp6Vd6zShUVAC7dmHOyeD8xmQMs5pgYWfmssAQDaVNgEZDop5IkIBbLBQh+/1kkZwfKUej8/dVqa1VG4fFYhTZNzbS+2MxEuhIhH6vrKT7xeZ6cBERw6iwsDMqSrSueCgzTE5SzxelL3kkQlG7YpF4PPS6jRupZYBGQ88rk43ma29rNlO2yvlRdn8/CXk0SsdQTgrzRf0Mw8wPCzujEgiQmqYN0ZiYIFE3GEjIo1HSfLOZXp5M0s+lpWSR2GxL76syX5RtMl3YPXGhqJ9hmPlhYWeIZJK8kbSSTK9XFXWbTZ0fqmyU6nQX7q9eriXidFIvdYA+d7Gon2GY+WFhZwil49ZMtD42RtkvOh2JuhAUkcdi9DK7nTYyM43ZTCLO3RQZ5tJhYWeobDMcBmw2SI0WI8NUtanVqsMvpKSI3WKhxzRZHNHCG6EMc3mwsDNklms0kFYbhoZI1JUsFKVi1GCgKH2+trYMw+QXLOyrnZncQllSiv5BDQYH1U1QKdUI3WLJ9UIZhlkqLOyrHb8fUqNFr9eKvn5V1K1WEvSSkuzaLgzDZB4W9tVMJAIZjeHsmB3nxgQMBuqnXllJqY1pqewMwxQQLOyrEPfJMH7zkgcR9xCiwgDN5jJsupoKjKqq2HZhmEKHL7JXGe6TYfzkQC9ik9MIxfXoGTah940+lJvCqKtjUWeYYoCFfZXxm5c8MNgMGB+KwxcxYP3WMjRcacT7b3jYS2eYIoGtmFWGbzSCynVmhCb0WLfRjLJqIBE3wNPLzVgYplhgYV9l2KtNCAUS2HB12exj05Mx2Ku5GQvDFAt88b3K2HW3E9PjUUyNRZGIS0yNRTE9HsWuu525XhrDMBmChX2V4dpmxp176mEwa+HpDcJg1uLOPfVwbeNmLAxTLLAVswpxbTPDtY2bsTBMscIRO8MwTJHBws4wDFNksLAzDMMUGSzsDMMwRQYLO8MwTJEhpJS5XYAQHgC9WTq8A4A3S8fOJ/h7Fhf8PYuLbH3PeinlvAUoORf2bCKEOCqlbM31OrINf8/igr9ncZGL78lWDMMwTJHBws4wDFNkFLuwP5HrBawQ/D2LC/6excWKf8+i9tgZhmFWI8UesTMMw6w6WNgZhmGKjKIXdiGEWQjxnhCiaDtZCiGuEkL888zttlyvJ9MIIdqEEN+buZVd/B2FiRDiViHE94UQPxZCXJ3r9WQTIUSVEOJorteRTYQQVwohHhdC/KMQYttKfnbRCzuAPwXQk+tFZJlyAA8B+CMAv53jtWSDBwA8COApAJ/K8VqyiQXAZwH8FYCiO0ErCCEEgC8he4WJ+cJDAIYAaLHCGlR0wi6E+KIQ4qWZ21cAHAYwlut1ZZr07wngBgDTAP43gH25XVlW0EopIwCGAazN9WKyhZTyRZC4PwzgezleTjbZA+AHAMK5XkiWqQfwHQA/AvCZlfzgorMnpJTfAvAtABBCPAkSgutBUd8/5nBpGeW872kG8BiA/VLK93O6sOwQEkIYQf8vR3K9mGwhhKgE8A0A/0NKWXTBSBofAXA1gOuEEJ+QUv4o1wvKEmMAggAmsMJB9KpIdxRCPAPg81LKRK7Xkg2EEH8J4GYAfQAOSin353ZFmUUIsQPAFwDoATwopZzO8ZKyghDi+wCcAMYB/LuU8sc5XlJWEUI8J6W8L9fryBZCiFbQ1VccwJeklOMr9tmrQdgZhmFWE0XnsTMMw6x2WNgZhmGKDBZ2hmGYIoOFnWEYpsgounRHhlkOQoj/CWA7AB8AK6hAaDOA/xdUWDIJYK+UMjXzei0oN/nfpJS/yMWaGeZisLAzDPAnUsouIcSXAGwF8GcAPi2ljAgh7gRQBTV//jMARI7WyTBLgoWdYYBvCCF8oPzxowCiM5WukFL+JP2FUsqnhRCcI8zkNSzsDAN8WUrZpfwihNAJIUwzEftnALRLKd/N4foYZlmwsDPMhfwtgB/ORPHTAJ7L8XoYZllw5SnDMEyRwemODMMwRQYLO8MwTJHBws4wDFNksLAzDMMUGSzsDMMwRQYLO8MwTJHxfwGNYvJEIanACgAAAABJRU5ErkJggg==",
=======
      "image/png": "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",
>>>>>>> 9003bce846584610841b5e8d7a417d9e93a798ce
      "text/plain": [
       "<Figure size 432x288 with 1 Axes>"
      ]
     },
     "metadata": {
      "needs_background": "light"
     },
     "output_type": "display_data"
    }
   ],
   "source": [
    "fixedpoints = hidden.detach().numpy()\n",
    "print(fixedpoints.shape)\n",
    "\n",
    "# Plot in the same space as activity\n",
    "plt.figure()\n",
    "for i in range(5):\n",
    "    activity_pc = pca.transform(activity_dict[i])\n",
    "    trial = trial_infos[i]\n",
    "    color = 'red' if trial['ground_truth'] == 0 else 'blue'\n",
    "    plt.plot(activity_pc[:, 0], activity_pc[:, 1], 'o-',\n",
    "             color=color, alpha=0.1)\n",
    "\n",
    "# Fixed points are shown in cross\n",
    "fixedpoints_pc = pca.transform(fixedpoints)\n",
    "plt.plot(fixedpoints_pc[:, 0], fixedpoints_pc[:, 1], 'x')\n",
    "\n",
    "plt.xlabel('PC 1')\n",
    "plt.ylabel('PC 2')"
   ]
  },
  {
   "cell_type": "markdown",
   "metadata": {},
   "source": [
    "### Computing the Jacobian and finding the line attractor\n",
    "\n",
    "First we will compute the Jacobian."
   ]
  },
  {
   "cell_type": "code",
   "execution_count": 10,
   "metadata": {},
   "outputs": [],
   "source": [
    "# index of fixed point to focus on\n",
    "# choose one close to center by sorting PC1\n",
    "i_fp = np.argsort(fixedpoints[:, 0])[int(fixedpoints.shape[0]/2)]\n",
    "\n",
    "fp = torch.from_numpy(fixedpoints[i_fp])\n",
    "fp.requires_grad = True\n",
    "\n",
    "# Inputs should be the 0-coherence mean input during stimulus period\n",
    "# This will be task-specific\n",
    "input = torch.tensor([1, 0.5, 0.5], dtype=torch.float32)\n",
    "deltah = net.rnn.recurrence(input, fp) - fp\n",
    "\n",
    "# w1 = torch.randn((64,64), requires_grad = False)                                                                                         \n",
    "# new_h = w1@fp\n",
    "\n",
    "jacT = torch.zeros(hidden_size, hidden_size)\n",
    "for i in range(hidden_size):                                                                                                                     \n",
    "    output = torch.zeros(hidden_size)                                                                                                          \n",
    "    output[i] = 1.                                                                                                                     \n",
    "    jacT[:,i] = torch.autograd.grad(deltah, fp, grad_outputs=output, retain_graph=True)[0]\n",
    "    \n",
    "jac = jacT.detach().numpy().T"
   ]
  },
  {
   "cell_type": "markdown",
   "metadata": {},
   "source": [
    "Here we plot the direction of the eigenvector corresponding to the highest eigenvalue"
   ]
  },
  {
   "cell_type": "code",
   "execution_count": 11,
   "metadata": {},
   "outputs": [
    {
     "data": {
      "text/plain": [
       "Text(0, 0.5, 'PC 2')"
      ]
     },
     "execution_count": 11,
     "metadata": {},
     "output_type": "execute_result"
    },
    {
     "data": {
      "image/png": "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",
      "text/plain": [
       "<Figure size 432x288 with 1 Axes>"
      ]
     },
     "metadata": {
      "needs_background": "light"
     },
     "output_type": "display_data"
    }
   ],
   "source": [
    "eigval, eigvec = np.linalg.eig(jac)\n",
    "vec = np.real(eigvec[:, np.argmax(eigval)])\n",
    "end_pts = np.array([+vec, -vec]) * 2\n",
    "end_pts = pca.transform(fp.detach().numpy() + end_pts)\n",
    "\n",
    "# Plot in the same space as activity\n",
    "plt.figure()\n",
    "for i in range(5):\n",
    "    activity_pc = pca.transform(activity_dict[i])\n",
    "    trial = trial_infos[i]\n",
    "    color = 'red' if trial['ground_truth'] == 0 else 'blue'\n",
    "    plt.plot(activity_pc[:, 0], activity_pc[:, 1], 'o-',\n",
    "             color=color, alpha=0.1)\n",
    "\n",
    "# Fixed points are shown in cross\n",
    "fixedpoints_pc = pca.transform(fixedpoints)\n",
    "plt.plot(fixedpoints_pc[:, 0], fixedpoints_pc[:, 1], 'x')\n",
    "\n",
    "# Line attractor\n",
    "plt.plot(end_pts[:, 0], end_pts[:, 1])\n",
    "\n",
    "plt.xlabel('PC 1')\n",
    "plt.ylabel('PC 2')"
   ]
  },
  {
   "cell_type": "code",
   "execution_count": 15,
   "metadata": {},
   "outputs": [
    {
     "data": {
      "text/plain": [
       "Text(0, 0.5, 'Imaginary')"
      ]
     },
     "execution_count": 15,
     "metadata": {},
     "output_type": "execute_result"
    },
    {
     "data": {
      "image/png": "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",
      "text/plain": [
       "<Figure size 432x288 with 1 Axes>"
      ]
     },
     "metadata": {
      "needs_background": "light"
     },
     "output_type": "display_data"
    }
   ],
   "source": [
    "# Plot distribution of eigenvalues in a 2-d real-imaginary plot\n",
    "plt.figure()\n",
    "plt.scatter(np.real(eigval), np.imag(eigval))\n",
    "plt.plot([0, 0], [-1, 1], '--')\n",
    "plt.xlabel('Real')\n",
    "plt.ylabel('Imaginary')"
   ]
  },
  {
   "cell_type": "markdown",
   "metadata": {},
   "source": [
    "# Supplementary Materials\n",
    "\n",
    "Code for making publication quality figures as it appears in the paper."
   ]
  },
  {
   "cell_type": "code",
   "execution_count": 12,
   "metadata": {},
   "outputs": [
    {
     "name": "stdout",
     "output_type": "stream",
     "text": [
      "    coh  ground_truth\n",
      "7   6.4           1.0\n",
      "14  6.4           1.0\n",
      "18  6.4           1.0\n",
      "26  6.4           1.0\n",
      "29  6.4           1.0\n",
      "31  6.4           1.0\n",
      "48  6.4           1.0\n",
      "52  6.4           1.0\n",
      "55  6.4           1.0\n",
      "61  6.4           1.0\n",
      "66  6.4           1.0\n",
      "77  6.4           1.0\n"
     ]
    }
   ],
   "source": [
    "# Convert information into pandas dataframe\n",
    "import pandas as pd\n",
    "df = pd.DataFrame()\n",
    "for i in range(len(trial_infos)):\n",
    "    df = df.append(trial_infos[i], ignore_index=True)\n",
    "\n",
    "# Example selection of conditions\n",
    "print(df[(df['coh']==6.4) & (df['ground_truth']==1.0)])"
   ]
  },
  {
   "cell_type": "code",
   "execution_count": 13,
   "metadata": {},
   "outputs": [
    {
     "data": {
      "image/png": "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",
      "text/plain": [
       "<Figure size 216x216 with 1 Axes>"
      ]
     },
     "metadata": {
      "needs_background": "light"
     },
     "output_type": "display_data"
    }
   ],
   "source": [
    "plot_fp = False\n",
    "\n",
    "# Plot in the same space as activity\n",
    "fig = plt.figure(figsize=(3, 3))\n",
    "ax = fig.add_axes([0.2, 0.2, 0.6, 0.6])\n",
    "\n",
    "colors = np.array([[27,158,119], [117,112,179], [217,95,2]])/255.\n",
    "\n",
    "# Search for two trials with similar conditions\n",
    "cohs = np.unique(df['coh'])\n",
    "cohs = [c for c in cohs if c > 0]  # remove 0\n",
    "\n",
    "color_intensity = [0.4, 0.7, 1.0, 1.3]\n",
    "\n",
    "for ground_truth in [0, 1]:\n",
    "    if ground_truth == 0:\n",
    "        cohs_ = cohs[::-1]\n",
    "        color_intensity_ = color_intensity[::-1]\n",
    "    else:\n",
    "        cohs_ = cohs\n",
    "        color_intensity_ = color_intensity\n",
    "    for i_coh, coh in enumerate(cohs_):\n",
    "        if plot_fp and coh != cohs[2]:\n",
    "            continue\n",
    "        trials = df[(df['coh']==coh) & (df['ground_truth']==ground_truth)].index\n",
    "        activity = np.mean(np.array([activity_dict[i] for i in trials]), axis=0)\n",
    "\n",
    "        activity_pc = pca.transform(activity)\n",
    "        color = colors[0] if ground_truth == 0 else colors[1]\n",
    "        color = color * color_intensity_[i_coh]\n",
    "        signed_coh = coh * (2*ground_truth - 1)\n",
    "        label = '{:0.1f}'.format(signed_coh)\n",
    "        plt.plot(activity_pc[:, 0], activity_pc[:, 1], 'o-',\n",
    "                 color=color, ms=3, markeredgecolor='none',\n",
    "                 lw=1, label=label)\n",
    "\n",
    "\n",
    "if plot_fp:\n",
    "    # Fixed points are shown in cross\n",
    "    color = colors[2]\n",
    "    fixedpoints_pc = pca.transform(fixedpoints)\n",
    "    plt.plot(fixedpoints_pc[:, 0], fixedpoints_pc[:, 1], 'x', ms=3, color=color, alpha=0.3)\n",
    "\n",
    "    # Line attractor\n",
    "    plt.plot(fixedpoints_pc[i_fp, 0], fixedpoints_pc[i_fp, 1], 'x', ms=5, color=color, lw=1)\n",
    "    plt.plot(end_pts[:, 0], end_pts[:, 1], color=color)\n",
    "else:\n",
    "    ax.legend(title='Coh', loc='upper left', bbox_to_anchor=(1.0, 1.0), frameon=False)\n",
    "\n",
    "\n",
    "plt.xlabel('PC 1', fontsize=7)\n",
    "plt.ylabel('PC 2', fontsize=7)\n",
    "\n",
    "plt.xlim([-5, 5])\n",
    "plt.ylim([-1, 5])\n",
    "\n",
    "# Beautification\n",
    "ax.spines['top'].set_visible(False)\n",
    "ax.spines['right'].set_visible(False)\n",
    "ax.spines['left'].set_position(('data', -5))\n",
    "ax.spines['bottom'].set_position(('data', -1.5))\n",
    "\n",
    "from pathlib import Path\n",
    "if plot_fp:\n",
    "    fname = Path('figures/lineattractors_dm')\n",
    "else:\n",
    "    fname = Path('figures/rnndynamics_dm')\n",
    "fig.savefig(fname.with_suffix('.pdf'), transparent=True)\n",
    "fig.savefig(fname.with_suffix('.png'), dpi=300)"
   ]
  },
  {
   "cell_type": "code",
   "execution_count": null,
   "metadata": {},
   "outputs": [],
   "source": []
  }
 ],
 "metadata": {
  "kernelspec": {
   "display_name": "Python 3",
   "language": "python",
   "name": "python3"
  },
  "language_info": {
   "codemirror_mode": {
    "name": "ipython",
    "version": 3
   },
   "file_extension": ".py",
   "mimetype": "text/x-python",
   "name": "python",
   "nbconvert_exporter": "python",
   "pygments_lexer": "ipython3",
   "version": "3.6.2"
  }
 },
 "nbformat": 4,
 "nbformat_minor": 2
}
