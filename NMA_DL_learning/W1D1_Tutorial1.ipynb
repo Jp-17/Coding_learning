{
 "cells": [
  {
   "cell_type": "markdown",
   "metadata": {
    "colab_type": "text",
    "execution": {},
    "id": "view-in-github"
   },
   "source": [
    "<a href=\"https://colab.research.google.com/github/NeuromatchAcademy/course-content-dl/blob/main/tutorials/W1D1_BasicsAndPytorch/student/W1D1_Tutorial1.ipynb\" target=\"_blank\"><img alt=\"Open In Colab\" src=\"https://colab.research.google.com/assets/colab-badge.svg\"/></a>   <a href=\"https://kaggle.com/kernels/welcome?src=https://raw.githubusercontent.com/NeuromatchAcademy/course-content-dl/main/tutorials/W1D1_BasicsAndPytorch/student/W1D1_Tutorial1.ipynb\" target=\"_blank\"><img alt=\"Open in Kaggle\" src=\"https://kaggle.com/static/images/open-in-kaggle.svg\"/></a>"
   ]
  },
  {
   "cell_type": "markdown",
   "metadata": {
    "execution": {}
   },
   "source": [
    "# Tutorial 1: PyTorch\n",
    "**Week 1, Day 1: Basics and PyTorch**\n",
    "\n",
    "**By Neuromatch Academy**\n",
    "\n",
    "\n",
    "__Content creators:__ Shubh Pachchigar, Vladimir Haltakov, Matthew Sargent, Konrad Kording\n",
    "\n",
    "__Content reviewers:__ Deepak Raya, Siwei Bai, Kelson Shilling-Scrivo\n",
    "\n",
    "__Content editors:__ Anoop Kulkarni, Spiros Chavlis\n",
    "\n",
    "__Production editors:__ Arush Tagade, Spiros Chavlis\n",
    "\n",
    "__Post-Production team:__ Gagana B, Spiros Chavlis"
   ]
  },
  {
   "cell_type": "markdown",
   "metadata": {
    "execution": {}
   },
   "source": [
    "**Our 2021 Sponsors, including Presenting Sponsor Facebook Reality Labs**\n",
    "\n",
    "<p align='center'><img src='https://github.com/NeuromatchAcademy/widgets/blob/master/sponsors.png?raw=True'/></p>"
   ]
  },
  {
   "cell_type": "markdown",
   "metadata": {
    "execution": {}
   },
   "source": [
    "---\n",
    "# Tutorial Objectives\n",
    "\n",
    "Then have a few specific objectives for this tutorial:\n",
    "* Learn about PyTorch and tensors\n",
    "* Tensor Manipulations\n",
    "* Data Loading\n",
    "* GPUs and Cuda Tensors\n",
    "* Train NaiveNet\n",
    "* Get to know your pod\n",
    "* Start thinking about the course as a whole"
   ]
  },
  {
   "cell_type": "markdown",
   "metadata": {},
   "source": [
    "##  Tutorial slides\n"
   ]
  },
  {
   "cell_type": "code",
   "execution_count": null,
   "metadata": {
    "cellView": "form",
    "execution": {},
    "tags": [
     "remove-input"
    ]
   },
   "outputs": [],
   "source": [
    "# @title Tutorial slides\n",
    "\n",
    "from IPython.display import IFrame\n",
    "IFrame(src=f\"https://mfr.ca-1.osf.io/render?url=https://osf.io/wcjrv/?direct%26mode=render%26action=download%26mode=render\", width=854, height=480)"
   ]
  },
  {
   "cell_type": "markdown",
   "metadata": {
    "execution": {}
   },
   "source": [
    "These are the slides for all videos in this tutorial. If you want to locally dowload the slides, click [here](https://osf.io/wcjrv/download).\n"
   ]
  },
  {
   "cell_type": "markdown",
   "metadata": {
    "execution": {}
   },
   "source": [
    "---\n",
    "# Setup"
   ]
  },
  {
   "cell_type": "markdown",
   "metadata": {
    "execution": {}
   },
   "source": [
    "Throughout your Neuromatch tutorials, most (probably all!) notebooks contain setup cells. These cells will import the required Python packages (e.g., PyTorch, NumPy); set global or environment variables, and load in helper functions for things like plotting. In some tutorials, you will notice that we install some dependencies even if they are preinstalled on Google Colab or Kaggle. This happens because we have added automation to our repository through [GitHub Actions](https://docs.github.com/en/actions/learn-github-actions/introduction-to-github-actions).\n",
    "\n",
    "Be sure to run all of the cells in the setup section. Feel free to expand them and have a look at what you are loading in, but you should be able to fulfill the learning objectives of every tutorial without having to look at these cells.\n",
    "\n",
    "If you start building your own projects built on this code base we highly recommend looking at them in more detail."
   ]
  },
  {
   "cell_type": "markdown",
   "metadata": {},
   "source": [
    "##  Install dependencies\n"
   ]
  },
  {
   "cell_type": "code",
   "execution_count": null,
   "metadata": {
    "cellView": "form",
    "execution": {},
    "tags": [
     "hide-input"
    ]
   },
   "outputs": [],
   "source": [
    "# @title Install dependencies\n",
    "!pip install pandas --quiet\n",
    "!pip install git+https://github.com/NeuromatchAcademy/evaltools --quiet\n",
    "\n",
    "from evaltools.airtable import AirtableForm"
   ]
  },
  {
   "cell_type": "code",
   "execution_count": 14,
   "metadata": {
    "execution": {}
   },
   "outputs": [],
   "source": [
    "# Imports\n",
    "import time\n",
    "import random\n",
    "import numpy as np\n",
    "import pandas as pd\n",
    "import matplotlib.pyplot as plt\n",
    "\n",
    "# PyTorch libraries\n",
    "import torch\n",
    "from torch import nn\n",
    "from torchvision import datasets\n",
    "from torch.utils.data import DataLoader\n",
    "from torchvision.transforms import ToTensor"
   ]
  },
  {
   "cell_type": "markdown",
   "metadata": {},
   "source": [
    "##  Figure Settings\n"
   ]
  },
  {
   "cell_type": "code",
   "execution_count": null,
   "metadata": {
    "cellView": "form",
    "execution": {},
    "tags": [
     "hide-input"
    ]
   },
   "outputs": [],
   "source": [
    "# @title Figure Settings\n",
    "import ipywidgets as widgets\n",
    "%config InlineBackend.figure_format = 'retina'\n",
    "plt.style.use(\"https://raw.githubusercontent.com/NeuromatchAcademy/content-creation/main/nma.mplstyle\")"
   ]
  },
  {
   "cell_type": "markdown",
   "metadata": {},
   "source": [
    "##  Helper Functions\n"
   ]
  },
  {
   "cell_type": "code",
   "execution_count": 15,
   "metadata": {
    "cellView": "form",
    "execution": {},
    "tags": [
     "hide-input"
    ]
   },
   "outputs": [],
   "source": [
    "# @title Helper Functions\n",
    "\n",
    "# atform = AirtableForm('appn7VdPRseSoMXEG','W1D1_T1','https://portal.neuromatchacademy.org/api/redirect/to/97e94a29-0b3a-4e16-9a8d-f6838a5bd83d')\n",
    "\n",
    "\n",
    "def checkExercise1(A, B, C, D):\n",
    "  \"\"\"\n",
    "  Helper function for checking Exercise 1.\n",
    "\n",
    "  Args:\n",
    "    A: torch.Tensor\n",
    "      Torch Tensor of shape (20, 21) consisting of ones.\n",
    "    B: torch.Tensor\n",
    "      Torch Tensor of size([3,4])\n",
    "    C: torch.Tensor\n",
    "      Torch Tensor of size([20,21])\n",
    "    D: torch.Tensor\n",
    "      Torch Tensor of size([19])\n",
    "\n",
    "  Returns:\n",
    "    Nothing.\n",
    "  \"\"\"\n",
    "  assert torch.equal(A.to(int),torch.ones(20, 21).to(int)), \"Got: {A} \\n Expected: {torch.ones(20, 21)} (shape: {torch.ones(20, 21).shape})\"\n",
    "  assert np.array_equal(B.numpy(),np.vander([1, 2, 3], 4)), \"Got: {B} \\n Expected: {np.vander([1, 2, 3], 4)} (shape: {np.vander([1, 2, 3], 4).shape})\"\n",
    "  assert C.shape == (20, 21), \"Got: {C} \\n Expected (shape: {(20, 21)})\"\n",
    "  assert torch.equal(D, torch.arange(4, 41, step=2)), \"Got {D} \\n Expected: {torch.arange(4, 41, step=2)} (shape: {torch.arange(4, 41, step=2).shape})\"\n",
    "  print(\"All correct\")\n",
    "\n",
    "def timeFun(f, dim, iterations, device='cpu'):\n",
    "  \"\"\"\n",
    "  Helper function to calculate amount of time taken per instance on CPU/GPU\n",
    "\n",
    "  Args:\n",
    "    f: BufferedReader IO instance\n",
    "      Function name for which to calculate computational time complexity\n",
    "    dim: Integer\n",
    "      Number of dimensions in instance in question\n",
    "    iterations: Integer\n",
    "      Number of iterations for instance in question\n",
    "    device: String\n",
    "      Device on which respective computation is to be run\n",
    "\n",
    "  Returns:\n",
    "    Nothing\n",
    "  \"\"\"\n",
    "  iterations = iterations\n",
    "  t_total = 0\n",
    "  for _ in range(iterations):\n",
    "    start = time.time()\n",
    "    f(dim, device)\n",
    "    end = time.time()\n",
    "    t_total += end - start\n",
    "\n",
    "  if device == 'cpu':\n",
    "    print(f\"time taken for {iterations} iterations of {f.__name__}({dim}, {device}): {t_total:.5f}\")\n",
    "  else:\n",
    "    print(f\"time taken for {iterations} iterations of {f.__name__}({dim}, {device}): {t_total:.5f}\")"
   ]
  },
  {
   "cell_type": "markdown",
   "metadata": {
    "execution": {}
   },
   "source": [
    "**Important note: Colab users**\n",
    "\n",
    "*Scratch Code Cells*\n",
    "\n",
    "If you want to quickly try out something or take a look at the data, you can use scratch code cells. They allow you to run Python code, but will not mess up the structure of your notebook.\n",
    "\n",
    "To open a new scratch cell go to *Insert* → *Scratch code cell*."
   ]
  },
  {
   "cell_type": "markdown",
   "metadata": {
    "execution": {}
   },
   "source": [
    "# Section 1: Welcome to Neuromatch Deep learning course\n",
    "\n",
    "*Time estimate: ~25mins*"
   ]
  },
  {
   "cell_type": "markdown",
   "metadata": {},
   "source": [
    "##  Video 1: Welcome and History\n"
   ]
  },
  {
   "cell_type": "code",
   "execution_count": null,
   "metadata": {
    "cellView": "form",
    "execution": {},
    "tags": [
     "remove-input"
    ]
   },
   "outputs": [],
   "source": [
    "# @title Video 1: Welcome and History\n",
    "from ipywidgets import widgets\n",
    "\n",
    "out2 = widgets.Output()\n",
    "with out2:\n",
    "  from IPython.display import IFrame\n",
    "  class BiliVideo(IFrame):\n",
    "    def __init__(self, id, page=1, width=400, height=300, **kwargs):\n",
    "      self.id=id\n",
    "      src = \"https://player.bilibili.com/player.html?bvid={0}&page={1}\".format(id, page)\n",
    "      super(BiliVideo, self).__init__(src, width, height, **kwargs)\n",
    "\n",
    "  video = BiliVideo(id=f\"BV1Av411n7oL\", width=730, height=410, fs=1)\n",
    "  print(\"Video available at https://www.bilibili.com/video/{0}\".format(video.id))\n",
    "  display(video)\n",
    "\n",
    "out1 = widgets.Output()\n",
    "with out1:\n",
    "  from IPython.display import YouTubeVideo\n",
    "  video = YouTubeVideo(id=f\"ca21SNqt78I\", width=730, height=410, fs=1, rel=0)\n",
    "  print(\"Video available at https://youtube.com/watch?v=\" + video.id)\n",
    "  display(video)\n",
    "\n",
    "out = widgets.Tab([out1, out2])\n",
    "out.set_title(0, 'Youtube')\n",
    "out.set_title(1, 'Bilibili')\n",
    "\n",
    "# add timing\n",
    "atform.add_event('Video 1: Welcome and History')\n",
    "\n",
    "display(out)"
   ]
  },
  {
   "cell_type": "markdown",
   "metadata": {
    "execution": {}
   },
   "source": [
    "This will be an intensive 3 week adventure. We will all learn Deep Learning (DL) in a group. Groups need standards. Read our \n",
    "[Code of Conduct](https://docs.google.com/document/d/1eHKIkaNbAlbx_92tLQelXnicKXEcvFzlyzzeWjEtifM/edit?usp=sharing).\n"
   ]
  },
  {
   "cell_type": "markdown",
   "metadata": {},
   "source": [
    "##  Video 2: Why DL is cool\n"
   ]
  },
  {
   "cell_type": "code",
   "execution_count": null,
   "metadata": {
    "cellView": "form",
    "execution": {},
    "tags": [
     "remove-input"
    ]
   },
   "outputs": [],
   "source": [
    "# @title Video 2: Why DL is cool\n",
    "from ipywidgets import widgets\n",
    "\n",
    "out2 = widgets.Output()\n",
    "with out2:\n",
    "  from IPython.display import IFrame\n",
    "  class BiliVideo(IFrame):\n",
    "    def __init__(self, id, page=1, width=400, height=300, **kwargs):\n",
    "      self.id=id\n",
    "      src = \"https://player.bilibili.com/player.html?bvid={0}&page={1}\".format(id, page)\n",
    "      super(BiliVideo, self).__init__(src, width, height, **kwargs)\n",
    "\n",
    "  video = BiliVideo(id=f\"BV1gf4y1j7UZ\", width=730, height=410, fs=1)\n",
    "  print(\"Video available at https://www.bilibili.com/video/{0}\".format(video.id))\n",
    "  display(video)\n",
    "\n",
    "out1 = widgets.Output()\n",
    "with out1:\n",
    "  from IPython.display import YouTubeVideo\n",
    "  video = YouTubeVideo(id=f\"l-K6495BN-4\", width=730, height=410, fs=1, rel=0)\n",
    "  print(\"Video available at https://youtube.com/watch?v=\" + video.id)\n",
    "  display(video)\n",
    "\n",
    "out = widgets.Tab([out1, out2])\n",
    "out.set_title(0, 'Youtube')\n",
    "out.set_title(1, 'Bilibili')\n",
    "\n",
    "# add timing to airtable\n",
    "atform.add_event('Video 2: Why DL is cool')\n",
    "\n",
    "display(out)"
   ]
  },
  {
   "cell_type": "markdown",
   "metadata": {
    "execution": {}
   },
   "source": [
    "**Discuss with your pod: What do you hope to get out of this course? [in about 100 words]**"
   ]
  },
  {
   "cell_type": "markdown",
   "metadata": {
    "execution": {}
   },
   "source": [
    "---\n",
    "# Section 2: The Basics of PyTorch\n",
    "\n",
    "*Time estimate: ~2 hours 05 mins*"
   ]
  },
  {
   "cell_type": "markdown",
   "metadata": {
    "execution": {}
   },
   "source": [
    "PyTorch is a Python-based scientific computing package targeted at two sets of\n",
    "audiences:\n",
    "\n",
    "-  A replacement for NumPy optimized for the power of GPUs\n",
    "-  A deep learning platform that provides significant flexibility\n",
    "   and speed\n",
    "\n",
    "At its core, PyTorch provides a few key features:\n",
    "\n",
    "- A multidimensional [Tensor](https://pytorch.org/docs/stable/tensors.html) object, similar to [NumPy Array](https://numpy.org/doc/stable/reference/generated/numpy.ndarray.html) but with GPU acceleration.\n",
    "- An optimized **autograd** engine for automatically computing derivatives.\n",
    "- A clean, modular API for building and deploying **deep learning models**.\n",
    "\n",
    "You can find more information about PyTorch in the Appendix."
   ]
  },
  {
   "cell_type": "markdown",
   "metadata": {
    "execution": {}
   },
   "source": [
    "## Section 2.1: Creating Tensors\n"
   ]
  },
  {
   "cell_type": "markdown",
   "metadata": {},
   "source": [
    "###  Video 3: Making Tensors\n"
   ]
  },
  {
   "cell_type": "code",
   "execution_count": null,
   "metadata": {
    "cellView": "form",
    "execution": {},
    "tags": [
     "remove-input"
    ]
   },
   "outputs": [],
   "source": [
    "# @title Video 3: Making Tensors\n",
    "from ipywidgets import widgets\n",
    "\n",
    "out2 = widgets.Output()\n",
    "with out2:\n",
    "  from IPython.display import IFrame\n",
    "  class BiliVideo(IFrame):\n",
    "    def __init__(self, id, page=1, width=400, height=300, **kwargs):\n",
    "      self.id=id\n",
    "      src = \"https://player.bilibili.com/player.html?bvid={0}&page={1}\".format(id, page)\n",
    "      super(BiliVideo, self).__init__(src, width, height, **kwargs)\n",
    "\n",
    "  video = BiliVideo(id=f\"BV1Rw411d7Uy\", width=730, height=410, fs=1)\n",
    "  print(\"Video available at https://www.bilibili.com/video/{0}\".format(video.id))\n",
    "  display(video)\n",
    "\n",
    "out1 = widgets.Output()\n",
    "with out1:\n",
    "  from IPython.display import YouTubeVideo\n",
    "  video = YouTubeVideo(id=f\"jGKd_4tPGrw\", width=730, height=410, fs=1, rel=0)\n",
    "  print(\"Video available at https://youtube.com/watch?v=\" + video.id)\n",
    "  display(video)\n",
    "\n",
    "out = widgets.Tab([out1, out2])\n",
    "out.set_title(0, 'Youtube')\n",
    "out.set_title(1, 'Bilibili')\n",
    "\n",
    "# add timing to airtable\n",
    "atform.add_event('Video 3: Making Tensors')\n",
    "\n",
    "display(out)"
   ]
  },
  {
   "cell_type": "markdown",
   "metadata": {
    "execution": {}
   },
   "source": [
    "There are various ways of creating tensors, and when doing any real deep learning project, we will usually have to do so."
   ]
  },
  {
   "cell_type": "markdown",
   "metadata": {
    "execution": {}
   },
   "source": [
    "**Construct tensors directly:**\n",
    "\n",
    "---\n",
    "\n"
   ]
  },
  {
   "cell_type": "code",
   "execution_count": 16,
   "metadata": {
    "execution": {}
   },
   "outputs": [
    {
     "name": "stdout",
     "output_type": "stream",
     "text": [
      "Tensor a: tensor([0, 1, 2])\n",
      "Tensor b: tensor([[1.0000, 1.1000],\n",
      "        [1.2000, 1.3000]])\n",
      "Tensor c: tensor([[1., 1., 1.],\n",
      "        [1., 1., 1.]], dtype=torch.float64)\n"
     ]
    }
   ],
   "source": [
    "# We can construct a tensor directly from some common python iterables,\n",
    "# such as list and tuple nested iterables can also be handled as long as the\n",
    "# dimensions are compatible\n",
    "\n",
    "# tensor from a list\n",
    "a = torch.tensor([0, 1, 2])\n",
    "\n",
    "#tensor from a tuple of tuples\n",
    "b = ((1.0, 1.1), (1.2, 1.3))\n",
    "b = torch.tensor(b)\n",
    "\n",
    "# tensor from a numpy array\n",
    "c = np.ones([2, 3])\n",
    "c = torch.tensor(c)\n",
    "\n",
    "print(f\"Tensor a: {a}\")\n",
    "print(f\"Tensor b: {b}\")\n",
    "print(f\"Tensor c: {c}\")"
   ]
  },
  {
   "cell_type": "markdown",
   "metadata": {
    "execution": {}
   },
   "source": [
    "**Some common tensor constructors:**\n",
    "\n",
    "---"
   ]
  },
  {
   "cell_type": "code",
   "execution_count": 3,
   "metadata": {
    "execution": {}
   },
   "outputs": [
    {
     "name": "stdout",
     "output_type": "stream",
     "text": [
      "Tensor x: tensor([[1., 1., 1.],\n",
      "        [1., 1., 1.],\n",
      "        [1., 1., 1.],\n",
      "        [1., 1., 1.],\n",
      "        [1., 1., 1.]])\n",
      "Tensor y: tensor([0., 0.])\n",
      "Tensor z: tensor([[[0., 0., 0., 0., 0.]]])\n"
     ]
    }
   ],
   "source": [
    "# The numerical arguments we pass to these constructors\n",
    "# determine the shape of the output tensor\n",
    "\n",
    "x = torch.ones(5, 3)\n",
    "y = torch.zeros(2)\n",
    "z = torch.empty(1, 1, 5)\n",
    "print(f\"Tensor x: {x}\")\n",
    "print(f\"Tensor y: {y}\")\n",
    "print(f\"Tensor z: {z}\")"
   ]
  },
  {
   "cell_type": "markdown",
   "metadata": {
    "execution": {}
   },
   "source": [
    "Notice that `.empty()` does not return zeros, but seemingly random numbers. Unlike `.zeros()`, which initialises the elements of the tensor with zeros, `.empty()` just allocates the memory. It is hence a bit faster if you are looking to just create a tensor."
   ]
  },
  {
   "cell_type": "markdown",
   "metadata": {
    "execution": {}
   },
   "source": [
    "**Creating random tensors and tensors like other tensors:**\n",
    "\n",
    "---"
   ]
  },
  {
   "cell_type": "code",
   "execution_count": 8,
   "metadata": {
    "execution": {}
   },
   "outputs": [
    {
     "name": "stdout",
     "output_type": "stream",
     "text": [
      "Tensor a: tensor([[0.3071, 0.2655, 0.8976]])\n",
      "Tensor b: tensor([[ 1.1444,  0.2317,  0.8578, -0.0431],\n",
      "        [-0.2749,  0.2865, -3.8140,  0.9400],\n",
      "        [ 0.5228, -2.3013, -0.3707, -0.8419]])\n",
      "Tensor c: tensor([[0., 0., 0.]])\n",
      "Tensor d: tensor([[0.6287, 0.4224, 0.5095]])\n"
     ]
    }
   ],
   "source": [
    "# There are also constructors for random numbers\n",
    "\n",
    "# Uniform distribution\n",
    "a = torch.rand(1, 3)\n",
    "\n",
    "# Normal distribution\n",
    "b = torch.randn(3, 4)\n",
    "\n",
    "# There are also constructors that allow us to construct\n",
    "# a tensor according to the above constructors, but with\n",
    "# dimensions equal to another tensor.\n",
    "\n",
    "c = torch.zeros_like(a)\n",
    "d = torch.rand_like(c)\n",
    "\n",
    "print(f\"Tensor a: {a}\")\n",
    "print(f\"Tensor b: {b}\")\n",
    "print(f\"Tensor c: {c}\")\n",
    "print(f\"Tensor d: {d}\")"
   ]
  },
  {
   "cell_type": "markdown",
   "metadata": {
    "execution": {}
   },
   "source": [
    "*Reproducibility*: \n",
    "\n",
    "- PyTorch Random Number Generator (RNG): You can use `torch.manual_seed()` to seed the RNG for all devices (both CPU and GPU):\n",
    "\n",
    "```python\n",
    "import torch\n",
    "torch.manual_seed(0)\n",
    "```\n",
    "- For custom operators, you might need to set python seed as well:\n",
    "\n",
    "```python\n",
    "import random\n",
    "random.seed(0)\n",
    "```\n",
    "\n",
    "- Random number generators in other libraries (e.g., NumPy):\n",
    "\n",
    "```python\n",
    "import numpy as np\n",
    "np.random.seed(0)\n",
    "```"
   ]
  },
  {
   "cell_type": "markdown",
   "metadata": {
    "execution": {}
   },
   "source": [
    "Here, we define for you a function called `set_seed` that does the job for you!"
   ]
  },
  {
   "cell_type": "code",
   "execution_count": 5,
   "metadata": {
    "execution": {}
   },
   "outputs": [],
   "source": [
    "def set_seed(seed=None, seed_torch=True):\n",
    "  \"\"\"\n",
    "  Function that controls randomness. NumPy and random modules must be imported.\n",
    "\n",
    "  Args:\n",
    "    seed : Integer\n",
    "      A non-negative integer that defines the random state. Default is `None`.\n",
    "    seed_torch : Boolean\n",
    "      If `True` sets the random seed for pytorch tensors, so pytorch module\n",
    "      must be imported. Default is `True`.\n",
    "\n",
    "  Returns:\n",
    "    Nothing.\n",
    "  \"\"\"\n",
    "  if seed is None:\n",
    "    seed = np.random.choice(2 ** 32)\n",
    "  random.seed(seed)\n",
    "  np.random.seed(seed)\n",
    "  if seed_torch:\n",
    "    torch.manual_seed(seed)\n",
    "    torch.cuda.manual_seed_all(seed)\n",
    "    torch.cuda.manual_seed(seed)\n",
    "    torch.backends.cudnn.benchmark = False\n",
    "    torch.backends.cudnn.deterministic = True\n",
    "\n",
    "  print(f'Random seed {seed} has been set.')"
   ]
  },
  {
   "cell_type": "markdown",
   "metadata": {
    "execution": {}
   },
   "source": [
    "Now, let's use the `set_seed` function in the previous example. Execute the cell multiple times to verify that the numbers printed are always the same."
   ]
  },
  {
   "cell_type": "code",
   "execution_count": 12,
   "metadata": {
    "execution": {}
   },
   "outputs": [],
   "source": [
    "def simplefun(seed=True, my_seed=None):\n",
    "  \"\"\"\n",
    "  Helper function to verify effectiveness of set_seed attribute\n",
    "\n",
    "  Args:\n",
    "    seed: Boolean\n",
    "      Specifies if seed value is provided or not\n",
    "    my_seed: Integer\n",
    "      Initializes seed to specified value\n",
    "\n",
    "  Returns:\n",
    "    Nothing\n",
    "  \"\"\"\n",
    "  if seed:\n",
    "    set_seed(seed=my_seed)\n",
    "\n",
    "  # uniform distribution\n",
    "  a = torch.rand(1, 3)\n",
    "  # normal distribution\n",
    "  b = torch.randn(3, 4)\n",
    "\n",
    "  print(\"Tensor a: \", a)\n",
    "  print(\"Tensor b: \", b)"
   ]
  },
  {
   "cell_type": "code",
   "execution_count": 11,
   "metadata": {
    "execution": {}
   },
   "outputs": [
    {
     "name": "stdout",
     "output_type": "stream",
     "text": [
      "Random seed 0 has been set.\n",
      "Tensor a:  tensor([[0.4963, 0.7682, 0.0885]])\n",
      "Tensor b:  tensor([[ 0.3643,  0.1344,  0.1642,  0.3058],\n",
      "        [ 0.2100,  0.9056,  0.6035,  0.8110],\n",
      "        [-0.0451,  0.8797,  1.0482, -0.0445]])\n"
     ]
    }
   ],
   "source": [
    "simplefun(seed=True, my_seed=0)  # Turn `seed` to `False` or change `my_seed`"
   ]
  },
  {
   "cell_type": "markdown",
   "metadata": {
    "execution": {}
   },
   "source": [
    "**Numpy-like number ranges:**\n",
    "---\n",
    "The ```.arange()``` and ```.linspace()``` behave how you would expect them to if you are familar with numpy."
   ]
  },
  {
   "cell_type": "code",
   "execution_count": 12,
   "metadata": {
    "execution": {}
   },
   "outputs": [
    {
     "name": "stdout",
     "output_type": "stream",
     "text": [
      "Tensor a: tensor([0, 1, 2, 3, 4, 5, 6, 7, 8, 9])\n",
      "\n",
      "Numpy array b: [0 1 2 3 4 5 6 7 8 9]\n",
      "\n",
      "Tensor c: tensor([0.0000, 0.5000, 1.0000, 1.5000, 2.0000, 2.5000, 3.0000, 3.5000, 4.0000,\n",
      "        4.5000, 5.0000])\n",
      "\n",
      "Numpy array d: [0.  0.5 1.  1.5 2.  2.5 3.  3.5 4.  4.5 5. ]\n",
      "\n"
     ]
    }
   ],
   "source": [
    "a = torch.arange(0, 10, step=1)\n",
    "b = np.arange(0, 10, step=1)\n",
    "\n",
    "c = torch.linspace(0, 5, steps=11)\n",
    "d = np.linspace(0, 5, num=11)\n",
    "\n",
    "print(f\"Tensor a: {a}\\n\")\n",
    "print(f\"Numpy array b: {b}\\n\")\n",
    "print(f\"Tensor c: {c}\\n\")\n",
    "print(f\"Numpy array d: {d}\\n\")"
   ]
  },
  {
   "cell_type": "markdown",
   "metadata": {
    "execution": {}
   },
   "source": [
    "### Coding Exercise 2.1: Creating Tensors\n",
    "\n",
    "Below you will find some incomplete code. Fill in the missing code to construct the specified tensors.\n",
    "\n",
    "We want the tensors: \n",
    "\n",
    "$A:$ 20 by 21 tensor consisting of ones\n",
    "\n",
    "$B:$ a tensor with elements equal to the elements of numpy array $Z$\n",
    "\n",
    "$C:$ a tensor with the same number of elements as $A$ but with values $\n",
    "\\sim \\mathcal{U}(0,1)^\\dagger$\n",
    "\n",
    "$D:$ a 1D tensor containing the even numbers between 4 and 40 inclusive.\n",
    "\n",
    "<br>\n",
    "\n",
    "$^\\dagger$: $\\mathcal{U(\\alpha, \\beta)}$ denotes the [uniform distribution](https://en.wikipedia.org/wiki/Continuous_uniform_distribution) from $\\alpha$ to $\\beta$, with $\\alpha, \\beta \\in \\mathbb{R}$.\n"
   ]
  },
  {
   "cell_type": "code",
   "execution_count": 15,
   "metadata": {
    "execution": {}
   },
   "outputs": [
    {
     "name": "stdout",
     "output_type": "stream",
     "text": [
      "[[ 1  1  1  1]\n",
      " [ 8  4  2  1]\n",
      " [27  9  3  1]]\n",
      "All correct\n"
     ]
    }
   ],
   "source": [
    "def tensor_creation(Z):\n",
    "  \"\"\"\n",
    "  A function that creates various tensors.\n",
    "\n",
    "  Args:\n",
    "    Z: numpy.ndarray\n",
    "      An array of shape (3,4)\n",
    "\n",
    "  Returns:\n",
    "    A : Tensor\n",
    "      20 by 21 tensor consisting of ones\n",
    "    B : Tensor\n",
    "      A tensor with elements equal to the elements of numpy array Z\n",
    "    C : Tensor\n",
    "      A tensor with the same number of elements as A but with values ∼U(0,1)\n",
    "    D : Tensor\n",
    "      A 1D tensor containing the even numbers between 4 and 40 inclusive.\n",
    "  \"\"\"\n",
    "  # #################################################\n",
    "  # ## TODO for students: fill in the missing code\n",
    "  # ## from the first expression\n",
    "  # raise NotImplementedError(\"Student exercise: say what they should have done\")\n",
    "  # #################################################\n",
    "  A = torch.ones([20, 21])\n",
    "  B = torch.tensor(Z)\n",
    "  C = torch.randn_like(A)\n",
    "  D = torch.arange(4, 41, step=2)\n",
    "\n",
    "  return A, B, C, D\n",
    "\n",
    "\n",
    "# add timing to airtable\n",
    "# atform.add_event('Coding Exercise 2.1: Creating Tensors')\n",
    "\n",
    "\n",
    "\n",
    "# numpy array to copy later\n",
    "Z = np.vander([1, 2, 3], 4)\n",
    "\n",
    "print(Z)\n",
    "\n",
    "# Uncomment below to check your function!\n",
    "A, B, C, D = tensor_creation(Z)\n",
    "checkExercise1(A, B, C, D)"
   ]
  },
  {
   "cell_type": "markdown",
   "metadata": {
    "colab_type": "text",
    "execution": {}
   },
   "source": [
    "[*Click for solution*](https://github.com/NeuromatchAcademy/course-content-dl/tree/main//tutorials/W1D1_BasicsAndPytorch/solutions/W1D1_Tutorial1_Solution_231162bb.py)\n",
    "\n"
   ]
  },
  {
   "cell_type": "markdown",
   "metadata": {
    "execution": {}
   },
   "source": [
    "```\n",
    "All correct!\n",
    "```"
   ]
  },
  {
   "cell_type": "markdown",
   "metadata": {
    "execution": {}
   },
   "source": [
    "## Section 2.2: Operations in PyTorch\n",
    "\n",
    "**Tensor-Tensor operations**\n",
    "\n",
    "We can perform operations on tensors using methods under `torch.`"
   ]
  },
  {
   "cell_type": "markdown",
   "metadata": {},
   "source": [
    "###  Video 4: Tensor Operators\n"
   ]
  },
  {
   "cell_type": "code",
   "execution_count": null,
   "metadata": {
    "cellView": "form",
    "execution": {},
    "tags": [
     "remove-input"
    ]
   },
   "outputs": [],
   "source": [
    "# @title Video 4: Tensor Operators\n",
    "from ipywidgets import widgets\n",
    "\n",
    "out2 = widgets.Output()\n",
    "with out2:\n",
    "  from IPython.display import IFrame\n",
    "  class BiliVideo(IFrame):\n",
    "    def __init__(self, id, page=1, width=400, height=300, **kwargs):\n",
    "      self.id=id\n",
    "      src = \"https://player.bilibili.com/player.html?bvid={0}&page={1}\".format(id, page)\n",
    "      super(BiliVideo, self).__init__(src, width, height, **kwargs)\n",
    "\n",
    "  video = BiliVideo(id=f\"BV1G44y127As\", width=730, height=410, fs=1)\n",
    "  print(\"Video available at https://www.bilibili.com/video/{0}\".format(video.id))\n",
    "  display(video)\n",
    "\n",
    "out1 = widgets.Output()\n",
    "with out1:\n",
    "  from IPython.display import YouTubeVideo\n",
    "  video = YouTubeVideo(id=f\"R1R8VoYXBVA\", width=730, height=410, fs=1, rel=0)\n",
    "  print(\"Video available at https://youtube.com/watch?v=\" + video.id)\n",
    "  display(video)\n",
    "\n",
    "out = widgets.Tab([out1, out2])\n",
    "out.set_title(0, 'Youtube')\n",
    "out.set_title(1, 'Bilibili')\n",
    "\n",
    "# add timing to airtable\n",
    "atform.add_event('Video 4: Tensor Operators')\n",
    "\n",
    "display(out)"
   ]
  },
  {
   "cell_type": "markdown",
   "metadata": {
    "execution": {}
   },
   "source": [
    "**Tensor-Tensor operations**\n",
    "\n",
    "We can perform operations on tensors using methods under `torch.`."
   ]
  },
  {
   "cell_type": "code",
   "execution_count": 13,
   "metadata": {
    "execution": {}
   },
   "outputs": [
    {
     "name": "stdout",
     "output_type": "stream",
     "text": [
      "tensor([[1.7040, 1.7152, 1.4593],\n",
      "        [1.2898, 1.8531, 1.6022],\n",
      "        [1.4502, 1.7641, 1.7305],\n",
      "        [1.8275, 1.4418, 1.0742],\n",
      "        [1.4713, 1.0363, 1.1592]])\n",
      "tensor([[0.7040, 0.7152, 0.4593],\n",
      "        [0.2898, 0.8531, 0.6022],\n",
      "        [0.4502, 0.7641, 0.7305],\n",
      "        [0.8275, 0.4418, 0.0742],\n",
      "        [0.4713, 0.0363, 0.1592]])\n"
     ]
    }
   ],
   "source": [
    "a = torch.ones(5, 3)\n",
    "b = torch.rand(5, 3)\n",
    "c = torch.empty(5, 3)\n",
    "d = torch.empty(5, 3)\n",
    "\n",
    "# this only works if c and d already exist\n",
    "torch.add(a, b, out=c)\n",
    "\n",
    "# Pointwise Multiplication of a and b\n",
    "torch.multiply(a, b, out=d)\n",
    "\n",
    "print(c)\n",
    "print(d)"
   ]
  },
  {
   "cell_type": "markdown",
   "metadata": {
    "execution": {}
   },
   "source": [
    "However, in PyTorch, most common Python operators are overridden.\n",
    "The common standard arithmetic operators ($+$, $-$, $*$, $/$, and $**$) have all been lifted to elementwise operations"
   ]
  },
  {
   "cell_type": "code",
   "execution_count": 14,
   "metadata": {
    "execution": {}
   },
   "outputs": [
    {
     "data": {
      "text/plain": [
       "(tensor([ 2,  4,  7, 12]),\n",
       " tensor([0, 0, 1, 4]),\n",
       " tensor([ 1,  4, 12, 32]),\n",
       " tensor([1.0000, 1.0000, 1.3333, 2.0000]),\n",
       " tensor([   1,    4,   64, 4096]))"
      ]
     },
     "execution_count": 14,
     "metadata": {},
     "output_type": "execute_result"
    }
   ],
   "source": [
    "x = torch.tensor([1, 2, 4, 8])\n",
    "y = torch.tensor([1, 2, 3, 4])\n",
    "x + y, x - y, x * y, x / y, x**y  # The `**` is the exponentiation operator"
   ]
  },
  {
   "cell_type": "markdown",
   "metadata": {
    "execution": {}
   },
   "source": [
    "**Tensor Methods**"
   ]
  },
  {
   "cell_type": "markdown",
   "metadata": {
    "execution": {}
   },
   "source": [
    "Tensors also have a number of common arithmetic operations built in. A full list of **all** methods can be found  in the appendix (there are a lot!) \n",
    "\n",
    "All of these operations should have similar syntax to their numpy equivalents (feel free to skip if you already know this!)."
   ]
  },
  {
   "cell_type": "code",
   "execution_count": 15,
   "metadata": {
    "execution": {}
   },
   "outputs": [
    {
     "name": "stdout",
     "output_type": "stream",
     "text": [
      "tensor([[0.8324, 0.3587, 0.4496],\n",
      "        [0.5203, 0.7007, 0.7156],\n",
      "        [0.2201, 0.4107, 0.6693]])\n",
      "\n",
      "\n",
      "Sum of every element of x: 4.87721061706543\n",
      "Sum of the columns of x: tensor([1.5727, 1.4701, 1.8344])\n",
      "Sum of the rows of x: tensor([1.6407, 1.9365, 1.3000])\n",
      "\n",
      "\n",
      "Mean value of all elements of x 0.541912317276001\n",
      "Mean values of the columns of x tensor([0.5242, 0.4900, 0.6115])\n",
      "Mean values of the rows of x tensor([0.5469, 0.6455, 0.4333])\n"
     ]
    }
   ],
   "source": [
    "x = torch.rand(3, 3)\n",
    "print(x)\n",
    "print(\"\\n\")\n",
    "# sum() - note the axis is the axis you move across when summing\n",
    "print(f\"Sum of every element of x: {x.sum()}\")\n",
    "print(f\"Sum of the columns of x: {x.sum(axis=0)}\")\n",
    "print(f\"Sum of the rows of x: {x.sum(axis=1)}\")\n",
    "print(\"\\n\")\n",
    "\n",
    "print(f\"Mean value of all elements of x {x.mean()}\")\n",
    "print(f\"Mean values of the columns of x {x.mean(axis=0)}\")\n",
    "print(f\"Mean values of the rows of x {x.mean(axis=1)}\")"
   ]
  },
  {
   "cell_type": "markdown",
   "metadata": {
    "execution": {}
   },
   "source": [
    "**Matrix Operations**\n",
    "\n",
    "The `@` symbol is overridden to represent matrix multiplication. You can also use `torch.matmul()` to multiply tensors. For dot multiplication, you can use `torch.dot()`, or manipulate the axes of your tensors and do matrix multiplication (we will cover that in the next section). \n",
    "\n",
    "Transposes of 2D tensors are obtained using `torch.t()` or `Tensor.T`. Note the lack of brackets for `Tensor.T` - it is an attribute, not a method.\n",
    "\n"
   ]
  },
  {
   "cell_type": "markdown",
   "metadata": {
    "execution": {}
   },
   "source": [
    "### Coding Exercise 2.2 : Simple tensor operations\n",
    "\n",
    "Below are two expressions involving operations on matrices. \n",
    "\n",
    "\\begin{equation}\n",
    "\\textbf{A} = \n",
    "\\begin{bmatrix}2 &4 \\\\5 & 7 \n",
    "\\end{bmatrix} \n",
    "\\begin{bmatrix} 1 &1 \\\\2 & 3\n",
    "\\end{bmatrix} \n",
    "+ \n",
    "\\begin{bmatrix}10 & 10  \\\\ 12 & 1 \n",
    "\\end{bmatrix} \n",
    "\\end{equation}\n",
    "\n",
    "\n",
    "and\n",
    "\n",
    "\n",
    "\\begin{equation}\n",
    "b = \n",
    "\\begin{bmatrix} 3 \\\\ 5 \\\\ 7\n",
    "\\end{bmatrix} \\cdot \n",
    "\\begin{bmatrix} 2 \\\\ 4 \\\\ 8\n",
    "\\end{bmatrix}\n",
    "\\end{equation}\n",
    "\n",
    "The code block below that computes these expressions using PyTorch is incomplete - fill in the missing lines."
   ]
  },
  {
   "cell_type": "code",
   "execution_count": 16,
   "metadata": {
    "execution": {}
   },
   "outputs": [
    {
     "name": "stdout",
     "output_type": "stream",
     "text": [
      "tensor([[20, 24],\n",
      "        [31, 27]])\n"
     ]
    }
   ],
   "source": [
    "def simple_operations(a1: torch.Tensor, a2: torch.Tensor, a3: torch.Tensor):\n",
    "  \"\"\"\n",
    "  Helper function to demonstrate simple operations\n",
    "  i.e., Multiplication of tensor a1 with tensor a2 and then add it with tensor a3\n",
    "\n",
    "  Args:\n",
    "    a1: Torch tensor\n",
    "      Tensor of size ([2,2])\n",
    "    a2: Torch tensor\n",
    "      Tensor of size ([2,2])\n",
    "    a3: Torch tensor\n",
    "      Tensor of size ([2,2])\n",
    "\n",
    "  Returns:\n",
    "    answer: Torch tensor\n",
    "      Tensor of size ([2,2]) resulting from a1 multiplied with a2, added with a3\n",
    "  \"\"\"\n",
    "  # ################################################\n",
    "  # ## TODO for students:  complete the first computation using the argument matricies\n",
    "  # raise NotImplementedError(\"Student exercise: fill in the missing code to complete the operation\")\n",
    "  # ################################################\n",
    "  #\n",
    "  answer = torch.matmul(a1, a2) + a3\n",
    "  return answer\n",
    "\n",
    "# # add timing to airtable\n",
    "# atform.add_event('Coding Exercise 2.2 : Simple tensor operations-simple_operations')\n",
    "\n",
    "# Computing expression 1:\n",
    "\n",
    "# init our tensors\n",
    "a1 = torch.tensor([[2, 4], [5, 7]])\n",
    "a2 = torch.tensor([[1, 1], [2, 3]])\n",
    "a3 = torch.tensor([[10, 10], [12, 1]])\n",
    "## uncomment to test your function\n",
    "A = simple_operations(a1, a2, a3)\n",
    "print(A)"
   ]
  },
  {
   "cell_type": "markdown",
   "metadata": {
    "colab_type": "text",
    "execution": {}
   },
   "source": [
    "[*Click for solution*](https://github.com/NeuromatchAcademy/course-content-dl/tree/main//tutorials/W1D1_BasicsAndPytorch/solutions/W1D1_Tutorial1_Solution_665fc374.py)\n",
    "\n"
   ]
  },
  {
   "cell_type": "markdown",
   "metadata": {
    "execution": {}
   },
   "source": [
    "```\n",
    "tensor([[20, 24],\n",
    "        [31, 27]])\n",
    "```"
   ]
  },
  {
   "cell_type": "code",
   "execution_count": 17,
   "metadata": {
    "execution": {}
   },
   "outputs": [
    {
     "name": "stdout",
     "output_type": "stream",
     "text": [
      "tensor(82)\n"
     ]
    }
   ],
   "source": [
    "def dot_product(b1: torch.Tensor, b2: torch.Tensor):\n",
    "  # ###############################################\n",
    "  # ## TODO for students:  complete the first computation using the argument matricies\n",
    "  # raise NotImplementedError(\"Student exercise: fill in the missing code to complete the operation\")\n",
    "  # ###############################################\n",
    "  \"\"\"\n",
    "  Helper function to demonstrate dot product operation\n",
    "  Dot product is an algebraic operation that takes two equal-length sequences\n",
    "  (usually coordinate vectors), and returns a single number.\n",
    "  Geometrically, it is the product of the Euclidean magnitudes of the\n",
    "  two vectors and the cosine of the angle between them.\n",
    "\n",
    "  Args:\n",
    "    b1: Torch tensor\n",
    "      Tensor of size ([3])\n",
    "    b2: Torch tensor\n",
    "      Tensor of size ([3])\n",
    "\n",
    "  Returns:\n",
    "    product: Tensor\n",
    "      Tensor of size ([1]) resulting from b1 scalar multiplied with b2\n",
    "  \"\"\"\n",
    "  # Use torch.dot() to compute the dot product of two tensors\n",
    "  product = torch.dot(b1, b2)\n",
    "  return product\n",
    "\n",
    "# # add timing to airtable\n",
    "# atform.add_event('Coding Exercise 2.2 : Simple tensor operations-dot_product')\n",
    "\n",
    "\n",
    "# Computing expression 2:\n",
    "b1 = torch.tensor([3, 5, 7])\n",
    "b2 = torch.tensor([2, 4, 8])\n",
    "# Uncomment to test your function\n",
    "b = dot_product(b1, b2)\n",
    "print(b)"
   ]
  },
  {
   "cell_type": "markdown",
   "metadata": {
    "colab_type": "text",
    "execution": {}
   },
   "source": [
    "[*Click for solution*](https://github.com/NeuromatchAcademy/course-content-dl/tree/main//tutorials/W1D1_BasicsAndPytorch/solutions/W1D1_Tutorial1_Solution_d43f1ed4.py)\n",
    "\n"
   ]
  },
  {
   "cell_type": "markdown",
   "metadata": {
    "execution": {}
   },
   "source": [
    "```\n",
    "tensor(82)\n",
    "```"
   ]
  },
  {
   "cell_type": "markdown",
   "metadata": {
    "execution": {}
   },
   "source": [
    "## Section 2.3 Manipulating Tensors in Pytorch"
   ]
  },
  {
   "cell_type": "markdown",
   "metadata": {},
   "source": [
    "###  Video 5: Tensor Indexing\n"
   ]
  },
  {
   "cell_type": "code",
   "execution_count": null,
   "metadata": {
    "cellView": "form",
    "execution": {},
    "tags": [
     "remove-input"
    ]
   },
   "outputs": [],
   "source": [
    "# @title Video 5: Tensor Indexing\n",
    "from ipywidgets import widgets\n",
    "\n",
    "out2 = widgets.Output()\n",
    "with out2:\n",
    "  from IPython.display import IFrame\n",
    "  class BiliVideo(IFrame):\n",
    "    def __init__(self, id, page=1, width=400, height=300, **kwargs):\n",
    "      self.id=id\n",
    "      src = \"https://player.bilibili.com/player.html?bvid={0}&page={1}\".format(id, page)\n",
    "      super(BiliVideo, self).__init__(src, width, height, **kwargs)\n",
    "\n",
    "  video = BiliVideo(id=f\"BV1BM4y1K7pD\", width=730, height=410, fs=1)\n",
    "  print(\"Video available at https://www.bilibili.com/video/{0}\".format(video.id))\n",
    "  display(video)\n",
    "\n",
    "out1 = widgets.Output()\n",
    "with out1:\n",
    "  from IPython.display import YouTubeVideo\n",
    "  video = YouTubeVideo(id=f\"0d0KSJ3lJbg\", width=730, height=410, fs=1, rel=0)\n",
    "  print(\"Video available at https://youtube.com/watch?v=\" + video.id)\n",
    "  display(video)\n",
    "\n",
    "out = widgets.Tab([out1, out2])\n",
    "out.set_title(0, 'Youtube')\n",
    "out.set_title(1, 'Bilibili')\n",
    "\n",
    "# add timing to airtable\n",
    "atform.add_event('Video 5: Tensor Indexing')\n",
    "\n",
    "display(out)"
   ]
  },
  {
   "cell_type": "markdown",
   "metadata": {
    "execution": {}
   },
   "source": [
    "**Indexing**\n",
    "\n",
    "Just as in numpy, elements in a tensor can be accessed by index. As in any numpy array, the first element has index 0 and ranges are specified to include the first to last_element-1. We can access elements according to their relative position to the end of the list by using negative indices. Indexing is also referred to as slicing.\n",
    "\n",
    "For example, `[-1]` selects the last element; `[1:3]` selects the second and the third elements, and `[:-2]` will select all elements excluding the last and second-to-last elements."
   ]
  },
  {
   "cell_type": "code",
   "execution_count": 18,
   "metadata": {
    "execution": {}
   },
   "outputs": [
    {
     "name": "stdout",
     "output_type": "stream",
     "text": [
      "tensor([0, 1, 2, 3, 4, 5, 6, 7, 8, 9])\n",
      "tensor(9)\n",
      "tensor([1, 2])\n",
      "tensor([0, 1, 2, 3, 4, 5, 6, 7])\n"
     ]
    }
   ],
   "source": [
    "x = torch.arange(0, 10)\n",
    "print(x)\n",
    "print(x[-1])\n",
    "print(x[1:3])\n",
    "print(x[:-2])"
   ]
  },
  {
   "cell_type": "markdown",
   "metadata": {
    "execution": {}
   },
   "source": [
    "When we have multidimensional tensors, indexing rules work the same way as NumPy."
   ]
  },
  {
   "cell_type": "code",
   "execution_count": 19,
   "metadata": {
    "execution": {}
   },
   "outputs": [
    {
     "name": "stdout",
     "output_type": "stream",
     "text": [
      " shape of x[0]:torch.Size([2, 3, 4, 5])\n",
      " shape of x[0][0]:torch.Size([3, 4, 5])\n",
      " shape of x[0][0][0]:torch.Size([4, 5])\n"
     ]
    }
   ],
   "source": [
    "# make a 5D tensor\n",
    "x = torch.rand(1, 2, 3, 4, 5)\n",
    "\n",
    "print(f\" shape of x[0]:{x[0].shape}\")\n",
    "print(f\" shape of x[0][0]:{x[0][0].shape}\")\n",
    "print(f\" shape of x[0][0][0]:{x[0][0][0].shape}\")"
   ]
  },
  {
   "cell_type": "markdown",
   "metadata": {
    "execution": {}
   },
   "source": [
    "**Flatten and reshape**\n",
    "\n",
    "There are various methods for reshaping tensors. It is common to have to express 2D data in 1D format. Similarly, it is also common to have to reshape a 1D tensor into a 2D tensor. We can achieve this with the `.flatten()` and `.reshape()` methods."
   ]
  },
  {
   "cell_type": "code",
   "execution_count": 20,
   "metadata": {
    "execution": {}
   },
   "outputs": [
    {
     "name": "stdout",
     "output_type": "stream",
     "text": [
      "Original z: \n",
      " tensor([[ 0,  1],\n",
      "        [ 2,  3],\n",
      "        [ 4,  5],\n",
      "        [ 6,  7],\n",
      "        [ 8,  9],\n",
      "        [10, 11]])\n",
      "Flattened z: \n",
      " tensor([ 0,  1,  2,  3,  4,  5,  6,  7,  8,  9, 10, 11])\n",
      "Reshaped (3x4) z: \n",
      " tensor([[ 0,  1,  2,  3],\n",
      "        [ 4,  5,  6,  7],\n",
      "        [ 8,  9, 10, 11]])\n"
     ]
    }
   ],
   "source": [
    "z = torch.arange(12).reshape(6, 2)\n",
    "print(f\"Original z: \\n {z}\")\n",
    "\n",
    "# 2D -> 1D\n",
    "z = z.flatten()\n",
    "print(f\"Flattened z: \\n {z}\")\n",
    "\n",
    "# and back to 2D\n",
    "z = z.reshape(3, 4)\n",
    "print(f\"Reshaped (3x4) z: \\n {z}\")"
   ]
  },
  {
   "cell_type": "markdown",
   "metadata": {
    "execution": {}
   },
   "source": [
    "You will also see the `.view()` methods used a lot to reshape tensors. There is a subtle difference between `.view()` and `.reshape()`, though for now we will just use `.reshape()`. The documentation can be found in the Appendix."
   ]
  },
  {
   "cell_type": "markdown",
   "metadata": {
    "execution": {}
   },
   "source": [
    "**Squeezing tensors**\n",
    "\n",
    "When processing batches of data, you will quite often be left with singleton dimensions. E.g., `[1,10]` or `[256, 1, 3]`. This dimension can quite easily mess up your matrix operations if you don't plan on it being there...\n",
    "\n",
    "In order to compress tensors along their singleton dimensions we can use the `.squeeze()` method. We can use the `.unsqueeze()` method to do the opposite."
   ]
  },
  {
   "cell_type": "code",
   "execution_count": 21,
   "metadata": {
    "execution": {}
   },
   "outputs": [
    {
     "name": "stdout",
     "output_type": "stream",
     "text": [
      "torch.Size([1, 10])\n",
      "x[0]: tensor([-0.3242, -1.6263, -0.0533, -1.1073, -1.3339, -0.6439,  0.8063,  1.2308,\n",
      "        -1.4065, -1.5826])\n"
     ]
    }
   ],
   "source": [
    "x = torch.randn(1, 10)\n",
    "# printing the zeroth element of the tensor will not give us the first number!\n",
    "\n",
    "print(x.shape)\n",
    "print(f\"x[0]: {x[0]}\")"
   ]
  },
  {
   "cell_type": "markdown",
   "metadata": {
    "execution": {}
   },
   "source": [
    "Because of that pesky singleton dimension, `x[0]` gave us the first row instead!"
   ]
  },
  {
   "cell_type": "code",
   "execution_count": 22,
   "metadata": {
    "execution": {}
   },
   "outputs": [
    {
     "name": "stdout",
     "output_type": "stream",
     "text": [
      "torch.Size([10])\n",
      "x[0]: -0.32420751452445984\n"
     ]
    }
   ],
   "source": [
    "# Let's get rid of that singleton dimension and see what happens now\n",
    "x = x.squeeze(0)\n",
    "print(x.shape)\n",
    "print(f\"x[0]: {x[0]}\")"
   ]
  },
  {
   "cell_type": "code",
   "execution_count": 23,
   "metadata": {
    "execution": {}
   },
   "outputs": [
    {
     "name": "stdout",
     "output_type": "stream",
     "text": [
      "Shape of y: torch.Size([5, 5])\n",
      "Shape of y: torch.Size([5, 1, 5])\n"
     ]
    }
   ],
   "source": [
    "# Adding singleton dimensions works a similar way, and is often used when tensors\n",
    "# being added need same number of dimensions\n",
    "\n",
    "y = torch.randn(5, 5)\n",
    "print(f\"Shape of y: {y.shape}\")\n",
    "\n",
    "# lets insert a singleton dimension\n",
    "y = y.unsqueeze(1)\n",
    "print(f\"Shape of y: {y.shape}\")"
   ]
  },
  {
   "cell_type": "markdown",
   "metadata": {
    "execution": {}
   },
   "source": [
    "**Permutation**\n",
    "\n",
    "Sometimes our dimensions will be in the wrong order! For example, we may be dealing with RGB images with dim $[3\\times48\\times64]$, but our pipeline expects the colour dimension to be the last dimension, i.e., $[48\\times64\\times3]$. To get around this we can use the `.permute()` method."
   ]
  },
  {
   "cell_type": "code",
   "execution_count": 24,
   "metadata": {
    "execution": {}
   },
   "outputs": [
    {
     "name": "stdout",
     "output_type": "stream",
     "text": [
      "torch.Size([48, 64, 3])\n"
     ]
    }
   ],
   "source": [
    "# `x` has dimensions [color,image_height,image_width]\n",
    "x = torch.rand(3, 48, 64)\n",
    "\n",
    "# We want to permute our tensor to be [ image_height , image_width , color ]\n",
    "x = x.permute(1, 2, 0)\n",
    "# permute(1,2,0) means:\n",
    "# The 0th dim of my new tensor = the 1st dim of my old tensor\n",
    "# The 1st dim of my new tensor = the 2nd\n",
    "# The 2nd dim of my new tensor = the 0th\n",
    "print(x.shape)"
   ]
  },
  {
   "cell_type": "markdown",
   "metadata": {
    "execution": {}
   },
   "source": [
    "You may also see `.transpose()` used. This works in a similar way as permute, but can only swap two dimensions at once."
   ]
  },
  {
   "cell_type": "markdown",
   "metadata": {
    "execution": {}
   },
   "source": [
    "**Concatenation**"
   ]
  },
  {
   "cell_type": "markdown",
   "metadata": {
    "execution": {}
   },
   "source": [
    "In this example, we concatenate two matrices along rows (axis 0, the first element of the shape) vs. columns (axis 1, the second element of the shape). We can see that the first output tensor’s axis-0 length (`6`) is the sum of the two input tensors’ axis-0 lengths (`3+3`); while the second output tensor’s axis-1 length (`8`) is the sum of the two input tensors’ axis-1 lengths (`4+4`)."
   ]
  },
  {
   "cell_type": "code",
   "execution_count": 25,
   "metadata": {
    "execution": {}
   },
   "outputs": [
    {
     "name": "stdout",
     "output_type": "stream",
     "text": [
      "Concatenated by rows: shape[6, 4] \n",
      " tensor([[ 0.,  1.,  2.,  3.],\n",
      "        [ 4.,  5.,  6.,  7.],\n",
      "        [ 8.,  9., 10., 11.],\n",
      "        [ 2.,  1.,  4.,  3.],\n",
      "        [ 1.,  2.,  3.,  4.],\n",
      "        [ 4.,  3.,  2.,  1.]])\n",
      "\n",
      " Concatenated by colums: shape[3, 8]  \n",
      " tensor([[ 0.,  1.,  2.,  3.,  2.,  1.,  4.,  3.],\n",
      "        [ 4.,  5.,  6.,  7.,  1.,  2.,  3.,  4.],\n",
      "        [ 8.,  9., 10., 11.,  4.,  3.,  2.,  1.]])\n"
     ]
    }
   ],
   "source": [
    "# Create two tensors of the same shape\n",
    "x = torch.arange(12, dtype=torch.float32).reshape((3, 4))\n",
    "y = torch.tensor([[2.0, 1, 4, 3], [1, 2, 3, 4], [4, 3, 2, 1]])\n",
    "\n",
    "\n",
    "# Concatenate along rows\n",
    "cat_rows = torch.cat((x, y), dim=0)\n",
    "\n",
    "# Concatenate along columns\n",
    "cat_cols = torch.cat((x, y), dim=1)\n",
    "\n",
    "# Printing outputs\n",
    "print('Concatenated by rows: shape{} \\n {}'.format(list(cat_rows.shape), cat_rows))\n",
    "print('\\n Concatenated by colums: shape{}  \\n {}'.format(list(cat_cols.shape), cat_cols))"
   ]
  },
  {
   "cell_type": "markdown",
   "metadata": {
    "execution": {}
   },
   "source": [
    "**Conversion to Other Python Objects**\n",
    "\n",
    "Converting a tensor to a numpy.ndarray, or vice versa, is easy, and the converted result does not share memory. This minor inconvenience is quite important: when you perform operations on the CPU or GPUs, you do not want to halt computation, waiting to see whether the NumPy package of Python might want to be doing something else with the same chunk of memory.\n",
    "\n",
    "When converting to a NumPy array, the information being tracked by the tensor will be lost, i.e., the computational graph. This will be covered in detail when you are introduced to autograd tomorrow!"
   ]
  },
  {
   "cell_type": "code",
   "execution_count": 26,
   "metadata": {
    "execution": {}
   },
   "outputs": [
    {
     "name": "stdout",
     "output_type": "stream",
     "text": [
      "x: tensor([ 0.5421, -0.3146,  1.2804,  0.2997,  0.0156])  |  x type:  torch.FloatTensor\n",
      "y: [ 0.54209375 -0.3146293   1.2803596   0.299662    0.01562928]  |  y type:  <class 'numpy.ndarray'>\n",
      "z: tensor([ 0.5421, -0.3146,  1.2804,  0.2997,  0.0156])  |  z type:  torch.FloatTensor\n"
     ]
    }
   ],
   "source": [
    "x = torch.randn(5)\n",
    "print(f\"x: {x}  |  x type:  {x.type()}\")\n",
    "\n",
    "y = x.numpy()\n",
    "print(f\"y: {y}  |  y type:  {type(y)}\")\n",
    "\n",
    "z = torch.tensor(y)\n",
    "print(f\"z: {z}  |  z type:  {z.type()}\")"
   ]
  },
  {
   "cell_type": "markdown",
   "metadata": {
    "execution": {}
   },
   "source": [
    "To convert a size-1 tensor to a Python scalar, we can invoke the item function or Python’s built-in functions."
   ]
  },
  {
   "cell_type": "code",
   "execution_count": 27,
   "metadata": {
    "execution": {}
   },
   "outputs": [
    {
     "data": {
      "text/plain": [
       "(tensor([3.5000]), 3.5, 3.5, 3)"
      ]
     },
     "execution_count": 27,
     "metadata": {},
     "output_type": "execute_result"
    }
   ],
   "source": [
    "a = torch.tensor([3.5])\n",
    "a, a.item(), float(a), int(a)"
   ]
  },
  {
   "cell_type": "markdown",
   "metadata": {
    "execution": {}
   },
   "source": [
    "### Coding Exercise 2.3: Manipulating Tensors\n",
    "Using a combination of the methods discussed above, complete the functions below."
   ]
  },
  {
   "cell_type": "markdown",
   "metadata": {
    "execution": {}
   },
   "source": [
    "**Function A** \n",
    "\n",
    "This function takes in two 2D tensors $A$ and $B$ and returns the column sum of A multiplied by the sum of all the elmements of $B$, i.e., a scalar, e.g.,\n",
    "\n",
    "\\begin{equation}\n",
    "  \\text{If }\n",
    "  A = \\begin{bmatrix}\n",
    "  1 & 1 \\\\\n",
    "  1 & 1\n",
    "  \\end{bmatrix}\n",
    "  \\text{and }\n",
    "  B = \\begin{bmatrix}\n",
    "  1 & 2 & 3 \\\\\n",
    "  1 & 2 & 3\n",
    "  \\end{bmatrix}\n",
    "  \\text{ then }\n",
    "  Out =  \\begin{bmatrix}\n",
    "  2 & 2\n",
    "  \\end{bmatrix} \\cdot 12 = \\begin{bmatrix}\n",
    "  24 & 24\n",
    "  \\end{bmatrix}\n",
    "\\end{equation}\n",
    "\n",
    "**Function B** \n",
    "\n",
    "This function takes in a square matrix $C$ and returns a 2D tensor consisting of a flattened $C$ with the index of each element appended to this tensor in the row dimension, e.g.,\n",
    "\n",
    "\\begin{equation}\n",
    "  \\text{If }\n",
    "  C = \\begin{bmatrix}\n",
    "  2 & 3 \\\\\n",
    "  -1 & 10\n",
    "  \\end{bmatrix}\n",
    "  \\text{ then }\n",
    "  Out = \\begin{bmatrix}\n",
    "  0 & 2 \\\\\n",
    "  1 & 3 \\\\\n",
    "  2 & -1 \\\\\n",
    "  3 & 10\n",
    "  \\end{bmatrix}\n",
    "\\end{equation}\n",
    "\n",
    "**Hint:** Pay close attention to singleton dimensions.\n",
    "\n",
    "**Function C**\n",
    "\n",
    "This function takes in two 2D tensors $D$ and $E$. If the dimensions allow it, this function returns the elementwise sum of $D$-shaped $E$, and $D$; else this function returns a 1D tensor that is the concatenation of the two tensors, e.g.,\n",
    "\n",
    "\\begin{equation}\n",
    "  \\text{If }\n",
    "  D = \\begin{bmatrix}\n",
    "  1 & -1 \\\\\n",
    "  -1 & 3\n",
    "  \\end{bmatrix}\n",
    "  \\text{and } \n",
    "  E = \\begin{bmatrix}\n",
    "  2 & 3 & 0 & 2 \\\\\n",
    "  \\end{bmatrix}\n",
    "  \\text{ then } \n",
    "  Out = \\begin{bmatrix}\n",
    "  3 & 2 \\\\\n",
    "  -1 & 5\n",
    "  \\end{bmatrix}\n",
    "\\end{equation}\n",
    "\n",
    "<br>\n",
    "\n",
    "\\begin{equation}\n",
    "  \\text{If }\n",
    "  D = \\begin{bmatrix}\n",
    "  1 & -1 \\\\\n",
    "  -1 & 3\n",
    "  \\end{bmatrix}\n",
    "  \\text{and }\n",
    "  E = \\begin{bmatrix}\n",
    "  2 & 3 & 0  \\\\\n",
    "  \\end{bmatrix}\n",
    "  \\text{ then }\n",
    "  Out = \\begin{bmatrix}\n",
    "  1 & -1 & -1 & 3  & 2 & 3 & 0  \n",
    "  \\end{bmatrix}\n",
    "\\end{equation}\n",
    "\n",
    "<br>\n",
    "\n",
    "**Hint:** `torch.numel()` is an easy way of finding the number of elements in a tensor."
   ]
  },
  {
   "cell_type": "code",
   "execution_count": 38,
   "metadata": {
    "execution": {}
   },
   "outputs": [
    {
     "name": "stdout",
     "output_type": "stream",
     "text": [
      "tensor([24, 24])\n",
      "tensor([[ 0,  2],\n",
      "        [ 1,  3],\n",
      "        [ 2, -1],\n",
      "        [ 3, 10]])\n",
      "tensor([[ 3,  2],\n",
      "        [-1,  5]])\n",
      "tensor([ 1, -1, -1,  3,  2,  3,  0])\n"
     ]
    }
   ],
   "source": [
    "def functionA(my_tensor1, my_tensor2):\n",
    "  \"\"\"\n",
    "  This function takes in two 2D tensors `my_tensor1` and `my_tensor2`\n",
    "  and returns the column sum of\n",
    "  `my_tensor1` multiplied by the sum of all the elmements of `my_tensor2`,\n",
    "  i.e., a scalar.\n",
    "\n",
    "  Args:\n",
    "    my_tensor1: torch.Tensor\n",
    "    my_tensor2: torch.Tensor\n",
    "\n",
    "  Retuns:\n",
    "    output: torch.Tensor\n",
    "      The multiplication of the column sum of `my_tensor1` by the sum of\n",
    "      `my_tensor2`.\n",
    "  \"\"\"\n",
    "  # ################################################\n",
    "  # ## TODO for students: complete functionA\n",
    "  # raise NotImplementedError(\"Student exercise: complete function A\")\n",
    "  # ################################################\n",
    "  # # TODO multiplication the sum of the tensors\n",
    "  output = torch.sum(my_tensor1, 1) * torch.sum(my_tensor2)\n",
    "\n",
    "  return output\n",
    "\n",
    "\n",
    "def functionB(my_tensor):\n",
    "  \"\"\"\n",
    "  This function takes in a square matrix `my_tensor` and returns a 2D tensor\n",
    "  consisting of a flattened `my_tensor` with the index of each element\n",
    "  appended to this tensor in the row dimension.\n",
    "\n",
    "  Args:\n",
    "    my_tensor: torch.Tensor\n",
    "\n",
    "  Returns:\n",
    "    output: torch.Tensor\n",
    "      Concatenated tensor.\n",
    "  \"\"\"\n",
    "  # ################################################\n",
    "  # ## TODO for students: complete functionB\n",
    "  # raise NotImplementedError(\"Student exercise: complete function B\")\n",
    "  # ################################################\n",
    "  # # TODO flatten the tensor `my_tensor`\n",
    "  my_tensor = torch.flatten(my_tensor)\n",
    "  # TODO create the idx tensor to be concatenated to `my_tensor`\n",
    "  idx_tensor = torch.arange(len(my_tensor))\n",
    "  # TODO concatenate the two tensors\n",
    "  output = torch.cat((idx_tensor.unsqueeze(1), my_tensor.unsqueeze(1)), dim=1)\n",
    "\n",
    "  return output\n",
    "\n",
    "\n",
    "def functionC(my_tensor1, my_tensor2):\n",
    "  \"\"\"\n",
    "  This function takes in two 2D tensors `my_tensor1` and `my_tensor2`.\n",
    "  If the dimensions allow it, it returns the\n",
    "  elementwise sum of `my_tensor1`-shaped `my_tensor2`, and `my_tensor2`;\n",
    "  else this function returns a 1D tensor that is the concatenation of the\n",
    "  two tensors.\n",
    "\n",
    "  Args:\n",
    "    my_tensor1: torch.Tensor\n",
    "    my_tensor2: torch.Tensor\n",
    "\n",
    "  Returns:\n",
    "    output: torch.Tensor\n",
    "      Concatenated tensor.\n",
    "  \"\"\"\n",
    "  # ################################################\n",
    "  # ## TODO for students: complete functionB\n",
    "  # raise NotImplementedError(\"Student exercise: complete function C\")\n",
    "  # ################################################\n",
    "  # TODO check we can reshape `my_tensor2` into the shape of `my_tensor1`\n",
    "  if torch.numel(my_tensor1) == torch.numel(my_tensor2):\n",
    "    # TODO reshape `my_tensor2` into the shape of `my_tensor1`\n",
    "    my_tensor2 = my_tensor2.reshape([my_tensor1.shape[0], my_tensor1.shape[1]])\n",
    "    # TODO sum the two tensors\n",
    "    output = my_tensor1 + my_tensor2\n",
    "  else:\n",
    "    # TODO flatten both tensors\n",
    "    my_tensor1 = torch.flatten(my_tensor1)\n",
    "    my_tensor2 = torch.flatten(my_tensor2)\n",
    "    # TODO concatenate the two tensors in the correct dimension\n",
    "    output = torch.cat((my_tensor1, my_tensor2), dim=0)\n",
    "\n",
    "  return output\n",
    "\n",
    "# # add timing to airtable\n",
    "# atform.add_event('Coding Exercise 2.3: Manipulating Tensors')\n",
    "\n",
    "\n",
    "\n",
    "# Implement the functions above and then uncomment the following lines to test your code\n",
    "print(functionA(torch.tensor([[1, 1], [1, 1]]), torch.tensor([[1, 2, 3], [1, 2, 3]])))\n",
    "print(functionB(torch.tensor([[2, 3], [-1, 10]])))\n",
    "print(functionC(torch.tensor([[1, -1], [-1, 3]]), torch.tensor([[2, 3, 0, 2]])))\n",
    "print(functionC(torch.tensor([[1, -1], [-1, 3]]), torch.tensor([[2, 3, 0]])))"
   ]
  },
  {
   "cell_type": "markdown",
   "metadata": {
    "colab_type": "text",
    "execution": {}
   },
   "source": [
    "[*Click for solution*](https://github.com/NeuromatchAcademy/course-content-dl/tree/main//tutorials/W1D1_BasicsAndPytorch/solutions/W1D1_Tutorial1_Solution_74d86edd.py)\n",
    "\n"
   ]
  },
  {
   "cell_type": "markdown",
   "metadata": {
    "execution": {}
   },
   "source": [
    "```\n",
    "tensor([24, 24])\n",
    "tensor([[ 0,  2],\n",
    "        [ 1,  3],\n",
    "        [ 2, -1],\n",
    "        [ 3, 10]])\n",
    "tensor([[ 3,  2],\n",
    "        [-1,  5]])\n",
    "tensor([ 1, -1, -1,  3,  2,  3,  0])\n",
    "```"
   ]
  },
  {
   "cell_type": "markdown",
   "metadata": {
    "execution": {}
   },
   "source": [
    "## Section 2.4: GPUs"
   ]
  },
  {
   "cell_type": "markdown",
   "metadata": {},
   "source": [
    "###  Video 6: GPU vs CPU\n"
   ]
  },
  {
   "cell_type": "code",
   "execution_count": null,
   "metadata": {
    "cellView": "form",
    "execution": {},
    "tags": [
     "remove-input"
    ]
   },
   "outputs": [],
   "source": [
    "# @title Video 6: GPU vs CPU\n",
    "from ipywidgets import widgets\n",
    "\n",
    "out2 = widgets.Output()\n",
    "with out2:\n",
    "  from IPython.display import IFrame\n",
    "  class BiliVideo(IFrame):\n",
    "    def __init__(self, id, page=1, width=400, height=300, **kwargs):\n",
    "      self.id=id\n",
    "      src = \"https://player.bilibili.com/player.html?bvid={0}&page={1}\".format(id, page)\n",
    "      super(BiliVideo, self).__init__(src, width, height, **kwargs)\n",
    "\n",
    "  video = BiliVideo(id=f\"BV1nM4y1K7qx\", width=730, height=410, fs=1)\n",
    "  print(\"Video available at https://www.bilibili.com/video/{0}\".format(video.id))\n",
    "  display(video)\n",
    "\n",
    "out1 = widgets.Output()\n",
    "with out1:\n",
    "  from IPython.display import YouTubeVideo\n",
    "  video = YouTubeVideo(id=f\"9Mc9GFUtILY\", width=730, height=410, fs=1, rel=0)\n",
    "  print(\"Video available at https://youtube.com/watch?v=\" + video.id)\n",
    "  display(video)\n",
    "\n",
    "out = widgets.Tab([out1, out2])\n",
    "out.set_title(0, 'Youtube')\n",
    "out.set_title(1, 'Bilibili')\n",
    "\n",
    "# add timing to airtable\n",
    "atform.add_event('Video 6: GPU vs CPU')\n",
    "\n",
    "display(out)"
   ]
  },
  {
   "cell_type": "markdown",
   "metadata": {
    "execution": {}
   },
   "source": [
    "\n",
    "By default, when we create a tensor it will *not* live on the GPU! "
   ]
  },
  {
   "cell_type": "code",
   "execution_count": 2,
   "metadata": {
    "execution": {}
   },
   "outputs": [
    {
     "name": "stdout",
     "output_type": "stream",
     "text": [
      "cpu\n"
     ]
    }
   ],
   "source": [
    "x = torch.randn(10)\n",
    "print(x.device)"
   ]
  },
  {
   "cell_type": "markdown",
   "metadata": {
    "execution": {}
   },
   "source": [
    "When using Colab notebooks, by default, will not have access to a GPU. In order to start using GPUs we need to request one. We can do this by going to the runtime tab at the top of the page. \n",
    "\n",
    "By following *Runtime* → *Change runtime type* and selecting **GPU** from the *Hardware Accelerator* dropdown list, we can start playing with sending tensors to GPUs.\n",
    "\n",
    "Once you have done this your runtime will restart and you will need to rerun the first setup cell to reimport PyTorch. Then proceed to the next cell.\n",
    "\n",
    "For more information on the GPU usage policy you can view in the Appendix."
   ]
  },
  {
   "cell_type": "markdown",
   "metadata": {
    "execution": {}
   },
   "source": [
    "**Now we have a GPU.**\n"
   ]
  },
  {
   "cell_type": "code",
   "execution_count": 3,
   "metadata": {},
   "outputs": [
    {
     "ename": "ModuleNotFoundError",
     "evalue": "No module named 'pynvml'",
     "output_type": "error",
     "traceback": [
      "\u001b[1;31m---------------------------------------------------------------------------\u001b[0m",
      "\u001b[1;31mModuleNotFoundError\u001b[0m                       Traceback (most recent call last)",
      "\u001b[1;32m<ipython-input-3-7a047b17de9f>\u001b[0m in \u001b[0;36m<module>\u001b[1;34m()\u001b[0m\n\u001b[0;32m      7\u001b[0m         \u001b[0mhandle\u001b[0m \u001b[1;33m=\u001b[0m \u001b[0mpynvml\u001b[0m\u001b[1;33m.\u001b[0m\u001b[0mnvmlDeviceGetHandleByIndex\u001b[0m\u001b[1;33m(\u001b[0m\u001b[0mi\u001b[0m\u001b[1;33m)\u001b[0m\u001b[1;33m\u001b[0m\u001b[1;33m\u001b[0m\u001b[0m\n\u001b[0;32m      8\u001b[0m         \u001b[0mprint\u001b[0m\u001b[1;33m(\u001b[0m\u001b[1;34m\"GPU\"\u001b[0m\u001b[1;33m,\u001b[0m \u001b[0mi\u001b[0m\u001b[1;33m,\u001b[0m \u001b[1;34m\":\"\u001b[0m\u001b[1;33m,\u001b[0m \u001b[0mpynvml\u001b[0m\u001b[1;33m.\u001b[0m\u001b[0mnvmlDeviceGetName\u001b[0m\u001b[1;33m(\u001b[0m\u001b[0mhandle\u001b[0m\u001b[1;33m)\u001b[0m\u001b[1;33m)\u001b[0m\u001b[1;33m\u001b[0m\u001b[1;33m\u001b[0m\u001b[0m\n\u001b[1;32m----> 9\u001b[1;33m \u001b[0mcheckGPU\u001b[0m\u001b[1;33m(\u001b[0m\u001b[1;33m)\u001b[0m\u001b[1;33m\u001b[0m\u001b[1;33m\u001b[0m\u001b[0m\n\u001b[0m",
      "\u001b[1;32m<ipython-input-3-7a047b17de9f>\u001b[0m in \u001b[0;36mcheckGPU\u001b[1;34m()\u001b[0m\n\u001b[0;32m      1\u001b[0m \u001b[1;32mdef\u001b[0m \u001b[0mcheckGPU\u001b[0m\u001b[1;33m(\u001b[0m\u001b[1;33m)\u001b[0m\u001b[1;33m:\u001b[0m\u001b[1;33m\u001b[0m\u001b[1;33m\u001b[0m\u001b[0m\n\u001b[1;32m----> 2\u001b[1;33m     \u001b[1;32mimport\u001b[0m \u001b[0mpynvml\u001b[0m\u001b[1;33m\u001b[0m\u001b[1;33m\u001b[0m\u001b[0m\n\u001b[0m\u001b[0;32m      3\u001b[0m     \u001b[0mpynvml\u001b[0m\u001b[1;33m.\u001b[0m\u001b[0mnvmlInit\u001b[0m\u001b[1;33m(\u001b[0m\u001b[1;33m)\u001b[0m     \u001b[1;31m#初始化\u001b[0m\u001b[1;33m\u001b[0m\u001b[1;33m\u001b[0m\u001b[0m\n\u001b[0;32m      4\u001b[0m     \u001b[0mprint\u001b[0m\u001b[1;33m(\u001b[0m\u001b[1;34m\"Driver: \"\u001b[0m\u001b[1;33m,\u001b[0m\u001b[0mpynvml\u001b[0m\u001b[1;33m.\u001b[0m\u001b[0mnvmlSystemGetDriverVersion\u001b[0m\u001b[1;33m(\u001b[0m\u001b[1;33m)\u001b[0m\u001b[1;33m)\u001b[0m\u001b[1;31m#显示驱动信息\u001b[0m\u001b[1;33m\u001b[0m\u001b[1;33m\u001b[0m\u001b[0m\n\u001b[0;32m      5\u001b[0m     \u001b[0mdeviceCount\u001b[0m \u001b[1;33m=\u001b[0m \u001b[0mpynvml\u001b[0m\u001b[1;33m.\u001b[0m\u001b[0mnvmlDeviceGetCount\u001b[0m\u001b[1;33m(\u001b[0m\u001b[1;33m)\u001b[0m\u001b[1;33m\u001b[0m\u001b[1;33m\u001b[0m\u001b[0m\n",
      "\u001b[1;31mModuleNotFoundError\u001b[0m: No module named 'pynvml'"
     ]
    }
   ],
   "source": [
    "def checkGPU():\n",
    "    import pynvml\n",
    "    pynvml.nvmlInit()     #初始化\n",
    "    print(\"Driver: \",pynvml.nvmlSystemGetDriverVersion())#显示驱动信息\n",
    "    deviceCount = pynvml.nvmlDeviceGetCount()\n",
    "    for i in range(deviceCount):\n",
    "        handle = pynvml.nvmlDeviceGetHandleByIndex(i)\n",
    "        print(\"GPU\", i, \":\", pynvml.nvmlDeviceGetName(handle))\n",
    "checkGPU()"
   ]
  },
  {
   "cell_type": "markdown",
   "metadata": {
    "execution": {}
   },
   "source": [
    "The cell below should return `True`."
   ]
  },
  {
   "cell_type": "code",
   "execution_count": 4,
   "metadata": {},
   "outputs": [
    {
     "name": "stdout",
     "output_type": "stream",
     "text": [
      " pytorch_version1.10.2\n",
      "\n",
      "CUDA is avaiable:True, version is 11.3\n",
      "1\n",
      "NVIDIA GeForce RTX 3060 Ti\n",
      "0\n"
     ]
    }
   ],
   "source": [
    "import torch\n",
    " \n",
    "# torch版本\n",
    "print(\" pytorch_version{}\".format(torch.__version__))\n",
    " \n",
    "# cuda是否可用、以及版本\n",
    "print(\"\\nCUDA is avaiable:{}, version is {}\".\n",
    "        format(torch.cuda.is_available(), torch.version.cuda))\n",
    " \n",
    " \n",
    "# 返回gpu数量\n",
    "print(torch.cuda.device_count())\n",
    " \n",
    "# 返回gpu名字，设备索引默认从0开始\n",
    "print(torch.cuda.get_device_name(0))\n",
    " \n",
    "# 返回当前设备索引\n",
    "print(torch.cuda.current_device())"
   ]
  },
  {
   "cell_type": "code",
   "execution_count": 5,
   "metadata": {
    "execution": {}
   },
   "outputs": [
    {
     "name": "stdout",
     "output_type": "stream",
     "text": [
      "True\n"
     ]
    }
   ],
   "source": [
    "print(torch.cuda.is_available())"
   ]
  },
  {
   "cell_type": "markdown",
   "metadata": {
    "execution": {}
   },
   "source": [
    "[CUDA](https://developer.nvidia.com/cuda-toolkit) is an API developed by Nvidia for interfacing with GPUs. PyTorch provides us with a layer of abstraction, and allows us to launch CUDA kernels using pure Python.\n",
    "\n",
    "In short, we get the power of parallelizing our tensor computations on GPUs, whilst only writing (relatively) simple Python!\n",
    "\n",
    "Here, we define the function `set_device`, which returns the device use in the notebook, i.e., `cpu` or `cuda`. Unless otherwise specified, we use this function on top of every tutorial, and we store the device variable such as\n",
    "\n",
    "```python\n",
    "DEVICE = set_device()\n",
    "```\n",
    "\n",
    "Let's define the function using the PyTorch package `torch.cuda`, which is lazily initialized, so we can always import it, and use `is_available()` to determine if our system supports CUDA."
   ]
  },
  {
   "cell_type": "code",
   "execution_count": 6,
   "metadata": {
    "execution": {}
   },
   "outputs": [],
   "source": [
    "def set_device():\n",
    "  \"\"\"\n",
    "  Set the device. CUDA if available, CPU otherwise\n",
    "\n",
    "  Args:\n",
    "    None\n",
    "\n",
    "  Returns:\n",
    "    Nothing\n",
    "  \"\"\"\n",
    "  device = \"cuda\" if torch.cuda.is_available() else \"cpu\"\n",
    "  if device != \"cuda\":\n",
    "    print(\"GPU is not enabled in this notebook. \\n\"\n",
    "          \"If you want to enable it, in the menu under `Runtime` -> \\n\"\n",
    "          \"`Hardware accelerator.` and select `GPU` from the dropdown menu\")\n",
    "  else:\n",
    "    print(\"GPU is enabled in this notebook. \\n\"\n",
    "          \"If you want to disable it, in the menu under `Runtime` -> \\n\"\n",
    "          \"`Hardware accelerator.` and select `None` from the dropdown menu\")\n",
    "\n",
    "  return device"
   ]
  },
  {
   "cell_type": "markdown",
   "metadata": {
    "execution": {}
   },
   "source": [
    "Let's make some CUDA tensors!"
   ]
  },
  {
   "cell_type": "code",
   "execution_count": 7,
   "metadata": {
    "execution": {}
   },
   "outputs": [
    {
     "name": "stdout",
     "output_type": "stream",
     "text": [
      "GPU is enabled in this notebook. \n",
      "If you want to disable it, in the menu under `Runtime` -> \n",
      "`Hardware accelerator.` and select `None` from the dropdown menu\n",
      "torch.float32\n",
      "cuda:0\n",
      "y before calling to() | device: cpu | dtype: torch.FloatTensor\n",
      "y after calling to() | device: cuda:0 | dtype: torch.cuda.FloatTensor\n"
     ]
    }
   ],
   "source": [
    "# common device agnostic way of writing code that can run on cpu OR gpu\n",
    "# that we provide for you in each of the tutorials\n",
    "DEVICE = set_device()\n",
    "\n",
    "# we can specify a device when we first create our tensor\n",
    "x = torch.randn(2, 2, device=DEVICE)\n",
    "print(x.dtype)\n",
    "print(x.device)\n",
    "\n",
    "# we can also use the .to() method to change the device a tensor lives on\n",
    "y = torch.randn(2, 2)\n",
    "print(f\"y before calling to() | device: {y.device} | dtype: {y.type()}\")\n",
    "\n",
    "y = y.to(DEVICE)\n",
    "print(f\"y after calling to() | device: {y.device} | dtype: {y.type()}\")"
   ]
  },
  {
   "cell_type": "markdown",
   "metadata": {
    "execution": {}
   },
   "source": [
    "**Operations between cpu tensors and cuda tensors**\n",
    "\n",
    "Note that the type of the tensor changed after calling `.to()`. What happens if we try and perform operations on tensors on devices?"
   ]
  },
  {
   "cell_type": "code",
   "execution_count": 17,
   "metadata": {
    "execution": {}
   },
   "outputs": [
    {
     "ename": "RuntimeError",
     "evalue": "Expected all tensors to be on the same device, but found at least two devices, cuda:0 and cpu!",
     "output_type": "error",
     "traceback": [
      "\u001b[1;31m---------------------------------------------------------------------------\u001b[0m",
      "\u001b[1;31mRuntimeError\u001b[0m                              Traceback (most recent call last)",
      "\u001b[1;32m<ipython-input-17-bc157a021669>\u001b[0m in \u001b[0;36m<module>\u001b[1;34m()\u001b[0m\n\u001b[0;32m      3\u001b[0m \u001b[1;33m\u001b[0m\u001b[0m\n\u001b[0;32m      4\u001b[0m \u001b[1;31m# Uncomment the following line and run this cell\u001b[0m\u001b[1;33m\u001b[0m\u001b[1;33m\u001b[0m\u001b[1;33m\u001b[0m\u001b[0m\n\u001b[1;32m----> 5\u001b[1;33m \u001b[0mz\u001b[0m \u001b[1;33m=\u001b[0m \u001b[0mx\u001b[0m \u001b[1;33m+\u001b[0m \u001b[0my\u001b[0m\u001b[1;33m\u001b[0m\u001b[1;33m\u001b[0m\u001b[0m\n\u001b[0m",
      "\u001b[1;31mRuntimeError\u001b[0m: Expected all tensors to be on the same device, but found at least two devices, cuda:0 and cpu!"
     ]
    }
   ],
   "source": [
    "x = torch.tensor([0, 1, 2], device=DEVICE)\n",
    "y = torch.tensor([3, 4, 5], device=\"cpu\")\n",
    "\n",
    "# Uncomment the following line and run this cell\n",
    "z = x + y"
   ]
  },
  {
   "cell_type": "markdown",
   "metadata": {
    "execution": {}
   },
   "source": [
    "We cannot combine CUDA tensors and CPU tensors in this fashion. If we want to compute an operation that combines tensors on different devices, we need to move them first! We can use the `.to()` method as before, or the `.cpu()` and `.cuda()` methods. Note that using the `.cuda()` will throw an error, if CUDA is not enabled in your machine.\n",
    "\n",
    "Generally, in this course, all Deep Learning is done on the GPU, and any computation is done on the CPU, so sometimes we have to pass things back and forth, so you'll see us call."
   ]
  },
  {
   "cell_type": "code",
   "execution_count": 18,
   "metadata": {
    "execution": {}
   },
   "outputs": [
    {
     "name": "stdout",
     "output_type": "stream",
     "text": [
      "tensor([3, 5, 7])\n",
      "tensor([ 9, 11, 13], device='cuda:0')\n"
     ]
    }
   ],
   "source": [
    "x = torch.tensor([0, 1, 2], device=DEVICE)\n",
    "y = torch.tensor([3, 4, 5], device=\"cpu\")\n",
    "z = torch.tensor([6, 7, 8], device=DEVICE)\n",
    "\n",
    "# moving to cpu\n",
    "x = x.to(\"cpu\")  # alternatively, you can use x = x.cpu()\n",
    "print(x + y)\n",
    "\n",
    "# moving to gpu\n",
    "y = y.to(DEVICE)  # alternatively, you can use y = y.cuda()\n",
    "print(y + z)"
   ]
  },
  {
   "cell_type": "markdown",
   "metadata": {
    "execution": {}
   },
   "source": [
    "### Coding Exercise 2.4: Just how much faster are GPUs?\n",
    "\n",
    "Below is a simple function `simpleFun`. Complete this function, such that it performs the operations:\n",
    "\n",
    "- Elementwise multiplication\n",
    "\n",
    "- Matrix multiplication\n",
    "\n",
    "The operations should be able to perfomed on either the CPU or GPU specified by the parameter `device`. We will use the helper function `timeFun(f, dim, iterations, device)`."
   ]
  },
  {
   "cell_type": "code",
   "execution_count": 11,
   "metadata": {
    "execution": {}
   },
   "outputs": [],
   "source": [
    "dim = 10000\n",
    "iterations = 1"
   ]
  },
  {
   "cell_type": "code",
   "execution_count": 20,
   "metadata": {
    "execution": {}
   },
   "outputs": [
    {
     "name": "stdout",
     "output_type": "stream",
     "text": [
      "time taken for 1 iterations of simpleFun(10000, cpu): 4.23387\n",
      "time taken for 1 iterations of simpleFun(10000, cuda): 2.16218\n"
     ]
    }
   ],
   "source": [
    "def simpleFun(dim, device):\n",
    "  \"\"\"\n",
    "  Helper function to check device-compatiblity with computations\n",
    "\n",
    "  Args:\n",
    "    dim: Integer\n",
    "    device: String\n",
    "      \"cpu\" or \"cuda\"\n",
    "\n",
    "  Returns:\n",
    "    Nothing.\n",
    "  \"\"\"\n",
    "  # ###############################################\n",
    "  # ## TODO for students: recreate the function, but\n",
    "  # ## ensure all computations happens on the `device`\n",
    "  # raise NotImplementedError(\"Student exercise: fill in the missing code to create the tensors\")\n",
    "  # ###############################################\n",
    "\n",
    "  # 2D tensor filled with uniform random numbers in [0,1), dim x dim\n",
    "  x = torch.rand([dim, dim]).to(device)\n",
    "  # 2D tensor filled with uniform random numbers in [0,1), dim x dim\n",
    "  y = torch.rand([dim, dim]).to(device)\n",
    "  # 2D tensor filled with the scalar value 2, dim x dim\n",
    "  z = 2 * torch.ones([dim, dim]).to(device)\n",
    "\n",
    "  # elementwise multiplication of x and y\n",
    "  a = x * y\n",
    "  # matrix multiplication of x and z\n",
    "  b = x @ y\n",
    "\n",
    "  del x\n",
    "  del y\n",
    "  del z\n",
    "  del a\n",
    "  del b\n",
    "\n",
    "\n",
    "# TODO: Implement the function above and uncomment the following lines to test your code\n",
    "timeFun(f=simpleFun, dim=dim, iterations=iterations)\n",
    "timeFun(f=simpleFun, dim=dim, iterations=iterations, device=DEVICE)"
   ]
  },
  {
   "cell_type": "markdown",
   "metadata": {
    "colab_type": "text",
    "execution": {}
   },
   "source": [
    "[*Click for solution*](https://github.com/NeuromatchAcademy/course-content-dl/tree/main//tutorials/W1D1_BasicsAndPytorch/solutions/W1D1_Tutorial1_Solution_6284a222.py)\n",
    "\n"
   ]
  },
  {
   "cell_type": "markdown",
   "metadata": {
    "execution": {}
   },
   "source": [
    "Sample output (depends on your hardware)\n",
    "\n",
    "```\n",
    "time taken for 1 iterations of simpleFun(10000, cpu): 23.74070\n",
    "time taken for 1 iterations of simpleFun(10000, cuda): 0.87535\n",
    "```"
   ]
  },
  {
   "cell_type": "markdown",
   "metadata": {
    "execution": {}
   },
   "source": [
    "**Discuss!**\n",
    "\n",
    "Try and reduce the dimensions of the tensors and increase the iterations. You can get to a point where the cpu only function is faster than the GPU function. Why might this be?"
   ]
  },
  {
   "cell_type": "markdown",
   "metadata": {
    "colab_type": "text",
    "execution": {}
   },
   "source": [
    "[*Click for solution*](https://github.com/NeuromatchAcademy/course-content-dl/tree/main//tutorials/W1D1_BasicsAndPytorch/solutions/W1D1_Tutorial1_Solution_4ee0dee3.py)\n",
    "\n"
   ]
  },
  {
   "cell_type": "markdown",
   "metadata": {
    "execution": {}
   },
   "source": [
    "## Section 2.5: Datasets and Dataloaders"
   ]
  },
  {
   "cell_type": "markdown",
   "metadata": {},
   "source": [
    "###  Video 7: Getting Data\n"
   ]
  },
  {
   "cell_type": "code",
   "execution_count": null,
   "metadata": {
    "cellView": "form",
    "execution": {},
    "tags": [
     "remove-input"
    ]
   },
   "outputs": [],
   "source": [
    "# @title Video 7: Getting Data\n",
    "from ipywidgets import widgets\n",
    "\n",
    "out2 = widgets.Output()\n",
    "with out2:\n",
    "  from IPython.display import IFrame\n",
    "  class BiliVideo(IFrame):\n",
    "    def __init__(self, id, page=1, width=400, height=300, **kwargs):\n",
    "      self.id=id\n",
    "      src = \"https://player.bilibili.com/player.html?bvid={0}&page={1}\".format(id, page)\n",
    "      super(BiliVideo, self).__init__(src, width, height, **kwargs)\n",
    "\n",
    "  video = BiliVideo(id=f\"BV1744y127SQ\", width=730, height=410, fs=1)\n",
    "  print(\"Video available at https://www.bilibili.com/video/{0}\".format(video.id))\n",
    "  display(video)\n",
    "\n",
    "out1 = widgets.Output()\n",
    "with out1:\n",
    "  from IPython.display import YouTubeVideo\n",
    "  video = YouTubeVideo(id=f\"LSkjPM1gFu0\", width=730, height=410, fs=1, rel=0)\n",
    "  print(\"Video available at https://youtube.com/watch?v=\" + video.id)\n",
    "  display(video)\n",
    "\n",
    "out = widgets.Tab([out1, out2])\n",
    "out.set_title(0, 'Youtube')\n",
    "out.set_title(1, 'Bilibili')\n",
    "\n",
    "# add timing to airtable\n",
    "atform.add_event('Video 7: Getting Data')\n",
    "\n",
    "display(out)"
   ]
  },
  {
   "cell_type": "markdown",
   "metadata": {
    "execution": {}
   },
   "source": [
    "When training neural network models you will be working with large amounts of data. Fortunately, PyTorch offers some great tools that help you organize and manipulate your data samples."
   ]
  },
  {
   "cell_type": "code",
   "execution_count": 52,
   "metadata": {
    "execution": {}
   },
   "outputs": [],
   "source": [
    "# Import dataset and dataloaders related packages\n",
    "from torchvision import datasets\n",
    "from torchvision.transforms import ToTensor\n",
    "from torch.utils.data import DataLoader\n",
    "from torchvision.transforms import Compose, Grayscale"
   ]
  },
  {
   "cell_type": "markdown",
   "metadata": {
    "execution": {}
   },
   "source": [
    "**Datasets**\n",
    "\n",
    "The `torchvision` package gives you easy access to many of the publicly available datasets. Let's load the [CIFAR10](https://www.cs.toronto.edu/~kriz/cifar.html) dataset, which contains color images of 10 different classes, like vehicles and animals.\n",
    "\n",
    "Creating an object of type `datasets.CIFAR10` will automatically download and load all images from the dataset. The resulting data structure can be treated as a list containing data samples and their corresponding labels."
   ]
  },
  {
   "cell_type": "code",
   "execution_count": 53,
   "metadata": {
    "execution": {}
   },
   "outputs": [
    {
     "name": "stdout",
     "output_type": "stream",
     "text": [
      "Downloading https://www.cs.toronto.edu/~kriz/cifar-10-python.tar.gz to data\\cifar-10-python.tar.gz\n"
     ]
    },
    {
     "name": "stderr",
     "output_type": "stream",
     "text": [
      "170499072it [00:18, 9363518.83it/s]                                \n"
     ]
    },
    {
     "name": "stdout",
     "output_type": "stream",
     "text": [
      "Extracting data\\cifar-10-python.tar.gz to data\n",
      "Number of samples: 50000\n",
      "Class names: ['airplane', 'automobile', 'bird', 'cat', 'deer', 'dog', 'frog', 'horse', 'ship', 'truck']\n"
     ]
    }
   ],
   "source": [
    "# Download and load the images from the CIFAR10 dataset\n",
    "cifar10_data = datasets.CIFAR10(\n",
    "    root=\"data\",  # path where the images will be stored\n",
    "    download=True,  # all images should be downloaded\n",
    "    transform=ToTensor()  # transform the images to tensors\n",
    "    )\n",
    "\n",
    "# Print the number of samples in the loaded dataset\n",
    "print(f\"Number of samples: {len(cifar10_data)}\")\n",
    "print(f\"Class names: {cifar10_data.classes}\")"
   ]
  },
  {
   "cell_type": "markdown",
   "metadata": {
    "execution": {}
   },
   "source": [
    "We have 50,000 samples loaded. Now, let's take a look at one of them in detail. Each sample consists of an image and its corresponding label."
   ]
  },
  {
   "cell_type": "code",
   "execution_count": 54,
   "metadata": {
    "execution": {}
   },
   "outputs": [
    {
     "name": "stdout",
     "output_type": "stream",
     "text": [
      "Label: horse\n",
      "Image size: torch.Size([3, 32, 32])\n"
     ]
    }
   ],
   "source": [
    "# Choose a random sample\n",
    "random.seed(2021)\n",
    "image, label = cifar10_data[random.randint(0, len(cifar10_data))]\n",
    "print(f\"Label: {cifar10_data.classes[label]}\")\n",
    "print(f\"Image size: {image.shape}\")"
   ]
  },
  {
   "cell_type": "markdown",
   "metadata": {
    "execution": {}
   },
   "source": [
    "Color images are modeled as 3 dimensional tensors. The first dimension corresponds to the channels ($\\text{C}$) of the image (in this case we have RGB images). The second dimensions is the height ($\\text{H}$) of the image and the third is the width ($\\text{W}$). We can denote this image format as $\\text{C} \\times \\text{H} \\times \\text{W}$."
   ]
  },
  {
   "cell_type": "markdown",
   "metadata": {
    "execution": {}
   },
   "source": [
    "### Coding Exercise 2.5: Display an image from the dataset\n",
    "\n",
    "Let's try to display the image using `matplotlib`. The code below will not work, because `imshow` expects to have the image in a different format, i.e., $\\text{C} \\times \\text{H} \\times \\text{W}$.\n",
    "\n",
    "You need to reorder the dimensions of the tensor using the `permute` method of the tensor. PyTorch `torch.permute(*dims)` rearranges the original tensor according to the desired ordering and returns a new multidimensional rotated tensor. The size of the returned tensor remains the same as that of the original.\n",
    "\n",
    "**Code hint:**\n",
    "\n",
    "```python\n",
    "# create a tensor of size 2 x 4\n",
    "input_var = torch.randn(2, 4)\n",
    "# print its size and the tensor\n",
    "print(input_var.size())\n",
    "print(input_var)\n",
    "\n",
    "# dimensions permuted\n",
    "input_var = input_var.permute(1, 0)\n",
    "# print its size and the permuted tensor\n",
    "print(input_var.size())\n",
    "print(input_var)\n",
    "```"
   ]
  },
  {
   "cell_type": "code",
   "execution_count": 59,
   "metadata": {
    "execution": {}
   },
   "outputs": [
    {
     "data": {
      "image/png": "[encoded data removed]",
      "text/plain": [
       "<Figure size 432x288 with 1 Axes>"
      ]
     },
     "metadata": {
      "needs_background": "light"
     },
     "output_type": "display_data"
    }
   ],
   "source": [
    "# TODO: Uncomment the following line to see the error that arises from the current image format\n",
    "# plt.imshow(image)\n",
    "\n",
    "# TODO: Comment the above line and fix this code by reordering the tensor dimensions\n",
    "plt.imshow(image.permute(1, 2, 0))\n",
    "plt.show()"
   ]
  },
  {
   "cell_type": "markdown",
   "metadata": {
    "colab_type": "text",
    "execution": {}
   },
   "source": [
    "[*Click for solution*](https://github.com/NeuromatchAcademy/course-content-dl/tree/main//tutorials/W1D1_BasicsAndPytorch/solutions/W1D1_Tutorial1_Solution_b04bd357.py)\n",
    "\n",
    "*Example output:*\n",
    "\n",
    "<img alt='Solution hint' align='left' width=835.0 height=827.0 src=https://raw.githubusercontent.com/NeuromatchAcademy/course-content-dl/main/tutorials/W1D1_BasicsAndPytorch/static/W1D1_Tutorial1_Solution_b04bd357_0.png>\n",
    "\n"
   ]
  },
  {
   "cell_type": "markdown",
   "metadata": {},
   "source": [
    "####  Video 8: Train and Test\n"
   ]
  },
  {
   "cell_type": "code",
   "execution_count": null,
   "metadata": {
    "cellView": "form",
    "execution": {},
    "tags": [
     "remove-input"
    ]
   },
   "outputs": [],
   "source": [
    "#@title Video 8: Train and Test\n",
    "from ipywidgets import widgets\n",
    "\n",
    "out2 = widgets.Output()\n",
    "with out2:\n",
    "  from IPython.display import IFrame\n",
    "  class BiliVideo(IFrame):\n",
    "    def __init__(self, id, page=1, width=400, height=300, **kwargs):\n",
    "      self.id=id\n",
    "      src = \"https://player.bilibili.com/player.html?bvid={0}&page={1}\".format(id, page)\n",
    "      super(BiliVideo, self).__init__(src, width, height, **kwargs)\n",
    "\n",
    "  video = BiliVideo(id=f\"BV1rV411H7s5\", width=730, height=410, fs=1)\n",
    "  print(\"Video available at https://www.bilibili.com/video/{0}\".format(video.id))\n",
    "  display(video)\n",
    "\n",
    "out1 = widgets.Output()\n",
    "with out1:\n",
    "  from IPython.display import YouTubeVideo\n",
    "  video = YouTubeVideo(id=f\"JokSIuPs-ys\", width=730, height=410, fs=1, rel=0)\n",
    "  print(\"Video available at https://youtube.com/watch?v=\" + video.id)\n",
    "  display(video)\n",
    "\n",
    "out = widgets.Tab([out1, out2])\n",
    "out.set_title(0, 'Youtube')\n",
    "out.set_title(1, 'Bilibili')\n",
    "\n",
    "# add timing to airtable\n",
    "atform.add_event('Video 8: Train and Test')\n",
    "\n",
    "display(out)"
   ]
  },
  {
   "cell_type": "markdown",
   "metadata": {
    "execution": {}
   },
   "source": [
    "**Training and Test Datasets**\n",
    "\n",
    "When loading a dataset, you can specify if you want to load the training or the test samples using the `train` argument. We can load the training and test datasets separately. For simplicity, today we will not use both datasets separately, but this topic will be adressed in the next days."
   ]
  },
  {
   "cell_type": "code",
   "execution_count": 60,
   "metadata": {
    "execution": {}
   },
   "outputs": [
    {
     "name": "stdout",
     "output_type": "stream",
     "text": [
      "Files already downloaded and verified\n",
      "Files already downloaded and verified\n"
     ]
    }
   ],
   "source": [
    "# Load the training samples\n",
    "training_data = datasets.CIFAR10(\n",
    "    root=\"data\",\n",
    "    train=True,\n",
    "    download=True,\n",
    "    transform=ToTensor()\n",
    "    )\n",
    "\n",
    "# Load the test samples\n",
    "test_data = datasets.CIFAR10(\n",
    "    root=\"data\",\n",
    "    train=False,\n",
    "    download=True,\n",
    "    transform=ToTensor()\n",
    "    )"
   ]
  },
  {
   "cell_type": "markdown",
   "metadata": {},
   "source": [
    "####  Video 9: Data Augmentation - Transformations\n"
   ]
  },
  {
   "cell_type": "code",
   "execution_count": null,
   "metadata": {
    "cellView": "form",
    "execution": {},
    "tags": [
     "remove-input"
    ]
   },
   "outputs": [],
   "source": [
    "# @title Video 9: Data Augmentation - Transformations\n",
    "from ipywidgets import widgets\n",
    "\n",
    "out2 = widgets.Output()\n",
    "with out2:\n",
    "  from IPython.display import IFrame\n",
    "  class BiliVideo(IFrame):\n",
    "    def __init__(self, id, page=1, width=400, height=300, **kwargs):\n",
    "      self.id=id\n",
    "      src = \"https://player.bilibili.com/player.html?bvid={0}&page={1}\".format(id, page)\n",
    "      super(BiliVideo, self).__init__(src, width, height, **kwargs)\n",
    "\n",
    "  video = BiliVideo(id=f\"BV19B4y1N77t\", width=730, height=410, fs=1)\n",
    "  print(\"Video available at https://www.bilibili.com/video/{0}\".format(video.id))\n",
    "  display(video)\n",
    "\n",
    "out1 = widgets.Output()\n",
    "with out1:\n",
    "  from IPython.display import YouTubeVideo\n",
    "  video = YouTubeVideo(id=f\"sjegA9OBUPw\", width=730, height=410, fs=1, rel=0)\n",
    "  print(\"Video available at https://youtube.com/watch?v=\" + video.id)\n",
    "  display(video)\n",
    "\n",
    "out = widgets.Tab([out1, out2])\n",
    "out.set_title(0, 'Youtube')\n",
    "out.set_title(1, 'Bilibili')\n",
    "\n",
    "# add timing to airtable\n",
    "atform.add_event('Video 9: Data Augmentation - Transformations')\n",
    "\n",
    "display(out)"
   ]
  },
  {
   "cell_type": "markdown",
   "metadata": {
    "execution": {}
   },
   "source": [
    "**Dataloader**\n",
    "\n",
    "Another important concept is the `Dataloader`. It is a wrapper around the `Dataset` that splits it into minibatches (important for training the neural network) and makes the data iterable. The `shuffle` argument is used to shuffle the order of the samples across the minibatches."
   ]
  },
  {
   "cell_type": "code",
   "execution_count": 61,
   "metadata": {
    "execution": {}
   },
   "outputs": [],
   "source": [
    "# Create dataloaders with\n",
    "train_dataloader = DataLoader(training_data, batch_size=64, shuffle=True)\n",
    "test_dataloader = DataLoader(test_data, batch_size=64, shuffle=True)"
   ]
  },
  {
   "cell_type": "markdown",
   "metadata": {
    "execution": {}
   },
   "source": [
    "*Reproducibility:* DataLoader will reseed workers following Randomness in multi-process data loading algorithm. Use `worker_init_fn()` and a `generator` to preserve reproducibility:\n",
    "\n",
    "\n",
    "```python\n",
    "def seed_worker(worker_id):\n",
    "  worker_seed = torch.initial_seed() % 2**32\n",
    "  numpy.random.seed(worker_seed)\n",
    "  random.seed(worker_seed)\n",
    "\n",
    "\n",
    "g_seed = torch.Generator()\n",
    "g_seed.manual_seed(my_seed)\n",
    "\n",
    "DataLoader(\n",
    "    train_dataset,\n",
    "    batch_size=batch_size,\n",
    "    num_workers=num_workers,\n",
    "    worker_init_fn=seed_worker,\n",
    "    generator=g_seed\n",
    "    )\n",
    "```"
   ]
  },
  {
   "cell_type": "markdown",
   "metadata": {
    "execution": {}
   },
   "source": [
    "**Important:** For the `seed_worker` to have an effect, `num_workers` should be 2 or more."
   ]
  },
  {
   "cell_type": "markdown",
   "metadata": {
    "execution": {}
   },
   "source": [
    "We can now query the next batch from the data loader and inspect it. For this we need to convert the dataloader object to a Python iterator using the function `iter` and then we can query the next batch using the function `next`.\n",
    "\n",
    "We can now see that we have a 4D tensor. This is because we have a 64 images in the batch ($B$) and each image has 3 dimensions: channels ($C$), height ($H$) and width ($W$). So, the size of the 4D tensor is $B \\times C \\times H \\times W$."
   ]
  },
  {
   "cell_type": "code",
   "execution_count": 62,
   "metadata": {
    "execution": {}
   },
   "outputs": [
    {
     "name": "stdout",
     "output_type": "stream",
     "text": [
      "Batch size: torch.Size([64, 3, 32, 32])\n"
     ]
    },
    {
     "data": {
      "image/png": "[encoded data removed]",
      "text/plain": [
       "<Figure size 432x288 with 1 Axes>"
      ]
     },
     "metadata": {
      "needs_background": "light"
     },
     "output_type": "display_data"
    }
   ],
   "source": [
    "# Load the next batch\n",
    "batch_images, batch_labels = next(iter(train_dataloader))\n",
    "print('Batch size:', batch_images.shape)\n",
    "\n",
    "# Display the first image from the batch\n",
    "plt.imshow(batch_images[0].permute(1, 2, 0))\n",
    "plt.show()"
   ]
  },
  {
   "cell_type": "markdown",
   "metadata": {
    "execution": {}
   },
   "source": [
    "**Transformations**\n",
    "\n",
    "Another useful feature when loading a dataset is applying transformations on the data - color conversions, normalization, cropping, rotation etc. There are many predefined transformations in the `torchvision.transforms` package and you can also combine them using the `Compose` transform. Checkout the [pytorch documentation](https://pytorch.org/vision/stable/transforms.html) for details."
   ]
  },
  {
   "cell_type": "markdown",
   "metadata": {
    "execution": {}
   },
   "source": [
    "### Coding Exercise 2.6: Load the CIFAR10 dataset as grayscale images\n",
    "\n",
    "The goal of this excercise is to load the images from the CIFAR10 dataset as grayscale images. Note that we rerun the `set_seed` function to ensure reproducibility."
   ]
  },
  {
   "cell_type": "code",
   "execution_count": 65,
   "metadata": {
    "execution": {}
   },
   "outputs": [
    {
     "name": "stdout",
     "output_type": "stream",
     "text": [
      "Random seed 2021 has been set.\n",
      "Files already downloaded and verified\n"
     ]
    },
    {
     "data": {
      "image/png": "[encoded data removed]",
      "text/plain": [
       "<Figure size 432x288 with 1 Axes>"
      ]
     },
     "metadata": {
      "needs_background": "light"
     },
     "output_type": "display_data"
    }
   ],
   "source": [
    "def my_data_load():\n",
    "  \"\"\"\n",
    "  Function to load CIFAR10 data as grayscale images\n",
    "\n",
    "  Args:\n",
    "    None\n",
    "\n",
    "  Returns:\n",
    "    data: DataFrame\n",
    "      CIFAR10 loaded Dataframe of shape (3309, 14)\n",
    "  \"\"\"\n",
    "  # ###############################################\n",
    "  # ## TODO for students: load the CIFAR10 data,\n",
    "  # ## but as grayscale images and not as RGB colored.\n",
    "  # raise NotImplementedError(\"Student exercise: fill in the missing code to load the data\")\n",
    "  # ###############################################\n",
    "  # ## TODO Load the CIFAR10 data using a transform that converts the images to grayscale tensors\n",
    "  data = datasets.CIFAR10(root='data',\n",
    "                          download=True,\n",
    "                          transform=Compose([ToTensor(), Grayscale()])\n",
    "                          )\n",
    "  # Display a random grayscale image\n",
    "  image, label = data[random.randint(0, len(data))]\n",
    "  plt.imshow(image.squeeze(), cmap=\"gray\")\n",
    "  plt.show()\n",
    "\n",
    "  return data\n",
    "\n",
    "\n",
    "set_seed(seed=2021)\n",
    "# After implementing the above code, uncomment the following lines to test your code\n",
    "data = my_data_load()"
   ]
  },
  {
   "cell_type": "markdown",
   "metadata": {
    "colab_type": "text",
    "execution": {}
   },
   "source": [
    "[*Click for solution*](https://github.com/NeuromatchAcademy/course-content-dl/tree/main//tutorials/W1D1_BasicsAndPytorch/solutions/W1D1_Tutorial1_Solution_1c5a709e.py)\n",
    "\n",
    "*Example output:*\n",
    "\n",
    "<img alt='Solution hint' align='left' width=835.0 height=827.0 src=https://raw.githubusercontent.com/NeuromatchAcademy/course-content-dl/main/tutorials/W1D1_BasicsAndPytorch/static/W1D1_Tutorial1_Solution_1c5a709e_1.png>\n",
    "\n"
   ]
  },
  {
   "cell_type": "markdown",
   "metadata": {
    "execution": {}
   },
   "source": [
    "---\n",
    "# Section 3: Neural Networks\n",
    "\n",
    "*Time estimate: ~1 hour 30 mins (excluding video)*"
   ]
  },
  {
   "cell_type": "markdown",
   "metadata": {
    "execution": {}
   },
   "source": [
    "Now it's time for you to create your first neural network using PyTorch. This section will walk you through the process of:\n",
    "\n",
    "- Creating a simple neural network model\n",
    "- Training the network\n",
    "- Visualizing the results of the network\n",
    "- Tweaking the network"
   ]
  },
  {
   "cell_type": "markdown",
   "metadata": {},
   "source": [
    "##  Video 10: CSV Files\n"
   ]
  },
  {
   "cell_type": "code",
   "execution_count": null,
   "metadata": {
    "cellView": "form",
    "execution": {},
    "tags": [
     "remove-input"
    ]
   },
   "outputs": [],
   "source": [
    "# @title Video 10: CSV Files\n",
    "from ipywidgets import widgets\n",
    "\n",
    "out2 = widgets.Output()\n",
    "with out2:\n",
    "  from IPython.display import IFrame\n",
    "  class BiliVideo(IFrame):\n",
    "    def __init__(self, id, page=1, width=400, height=300, **kwargs):\n",
    "      self.id=id\n",
    "      src = \"https://player.bilibili.com/player.html?bvid={0}&page={1}\".format(id, page)\n",
    "      super(BiliVideo, self).__init__(src, width, height, **kwargs)\n",
    "\n",
    "  video = BiliVideo(id=f\"BV1xy4y1T7kv\", width=730, height=410, fs=1)\n",
    "  print(\"Video available at https://www.bilibili.com/video/{0}\".format(video.id))\n",
    "  display(video)\n",
    "\n",
    "out1 = widgets.Output()\n",
    "with out1:\n",
    "  from IPython.display import YouTubeVideo\n",
    "  video = YouTubeVideo(id=f\"JrC_UAJWYKU\", width=730, height=410, fs=1, rel=0)\n",
    "  print(\"Video available at https://youtube.com/watch?v=\" + video.id)\n",
    "  display(video)\n",
    "\n",
    "out = widgets.Tab([out1, out2])\n",
    "out.set_title(0, 'Youtube')\n",
    "out.set_title(1, 'Bilibili')\n",
    "\n",
    "# add timing to airtable\n",
    "atform.add_event('Video 10: CSV Files')\n",
    "\n",
    "display(out)"
   ]
  },
  {
   "cell_type": "markdown",
   "metadata": {
    "execution": {}
   },
   "source": [
    "## Section 3.1: Data Loading\n",
    "\n",
    "First we need some sample data to train our network on. You can use the function below to generate an example dataset consisting of 2D points along two interleaving half circles. The data will be stored in a file called `sample_data.csv`. You can inspect the file directly in Colab by going to Files on the left side and opening the CSV file."
   ]
  },
  {
   "cell_type": "markdown",
   "metadata": {},
   "source": [
    "###  Generate sample data\n"
   ]
  },
  {
   "cell_type": "markdown",
   "metadata": {},
   "source": [
    " we used `scikit-learn` module\n"
   ]
  },
  {
   "cell_type": "code",
   "execution_count": 66,
   "metadata": {
    "cellView": "form",
    "execution": {},
    "tags": [
     "hide-input"
    ]
   },
   "outputs": [],
   "source": [
    "# @title Generate sample data\n",
    "# @markdown we used `scikit-learn` module\n",
    "from sklearn.datasets import make_moons\n",
    "\n",
    "# Create a dataset of 256 points with a little noise\n",
    "X, y = make_moons(256, noise=0.1)\n",
    "\n",
    "# Store the data as a Pandas data frame and save it to a CSV file\n",
    "df = pd.DataFrame(dict(x0=X[:,0], x1=X[:,1], y=y))\n",
    "df.to_csv('sample_data.csv')"
   ]
  },
  {
   "cell_type": "markdown",
   "metadata": {
    "execution": {}
   },
   "source": [
    "Now we can load the data from the CSV file using the Pandas library. Pandas provides many functions for reading files in various formats. When loading data from a CSV file, we can reference the columns directly by their names."
   ]
  },
  {
   "cell_type": "code",
   "execution_count": 67,
   "metadata": {
    "execution": {}
   },
   "outputs": [
    {
     "name": "stdout",
     "output_type": "stream",
     "text": [
      "Size X:(256, 2)\n",
      "Size y:(256,)\n"
     ]
    },
    {
     "data": {
      "image/png": "[encoded data removed]",
      "text/plain": [
       "<Figure size 432x288 with 1 Axes>"
      ]
     },
     "metadata": {
      "needs_background": "light"
     },
     "output_type": "display_data"
    }
   ],
   "source": [
    "# Load the data from the CSV file in a Pandas DataFrame\n",
    "data = pd.read_csv(\"sample_data.csv\")\n",
    "\n",
    "# Create a 2D numpy array from the x0 and x1 columns\n",
    "X_orig = data[[\"x0\", \"x1\"]].to_numpy()\n",
    "\n",
    "# Create a 1D numpy array from the y column\n",
    "y_orig = data[\"y\"].to_numpy()\n",
    "\n",
    "# Print the sizes of the generated 2D points X and the corresponding labels Y\n",
    "print(f\"Size X:{X_orig.shape}\")\n",
    "print(f\"Size y:{y_orig.shape}\")\n",
    "\n",
    "# Visualize the dataset. The color of the points is determined by the labels `y_orig`.\n",
    "plt.scatter(X_orig[:, 0], X_orig[:, 1], s=40, c=y_orig)\n",
    "plt.show()"
   ]
  },
  {
   "cell_type": "markdown",
   "metadata": {
    "execution": {}
   },
   "source": [
    "**Prepare Data for PyTorch**\n",
    "\n",
    "Now let's prepare the data in a format suitable for PyTorch - convert everything into tensors."
   ]
  },
  {
   "cell_type": "code",
   "execution_count": 69,
   "metadata": {
    "execution": {}
   },
   "outputs": [
    {
     "name": "stdout",
     "output_type": "stream",
     "text": [
      "GPU is not enabled in this notebook. \n",
      "If you want to enable it, in the menu under `Runtime` -> \n",
      "`Hardware accelerator.` and select `GPU` from the dropdown menu\n",
      "Size X:torch.Size([256, 2])\n",
      "Size y:torch.Size([256])\n"
     ]
    }
   ],
   "source": [
    "# Initialize the device variable\n",
    "DEVICE = set_device()\n",
    "\n",
    "# Convert the 2D points to a float32 tensor\n",
    "X = torch.tensor(X_orig, dtype=torch.float32)\n",
    "\n",
    "# Upload the tensor to the device\n",
    "X = X.to(DEVICE)\n",
    "\n",
    "print(f\"Size X:{X.shape}\")\n",
    "\n",
    "# Convert the labels to a long interger tensor\n",
    "y = torch.from_numpy(y_orig).type(torch.LongTensor)\n",
    "\n",
    "# Upload the tensor to the device\n",
    "y = y.to(DEVICE)\n",
    "\n",
    "print(f\"Size y:{y.shape}\")"
   ]
  },
  {
   "cell_type": "markdown",
   "metadata": {
    "execution": {}
   },
   "source": [
    "## Section 3.2: Create a Simple Neural Network"
   ]
  },
  {
   "cell_type": "markdown",
   "metadata": {},
   "source": [
    "###  Video 11: Generating the Neural Network\n"
   ]
  },
  {
   "cell_type": "code",
   "execution_count": null,
   "metadata": {
    "cellView": "form",
    "execution": {},
    "tags": [
     "remove-input"
    ]
   },
   "outputs": [],
   "source": [
    "# @title Video 11: Generating the Neural Network\n",
    "from ipywidgets import widgets\n",
    "\n",
    "out2 = widgets.Output()\n",
    "with out2:\n",
    "  from IPython.display import IFrame\n",
    "  class BiliVideo(IFrame):\n",
    "    def __init__(self, id, page=1, width=400, height=300, **kwargs):\n",
    "      self.id=id\n",
    "      src = \"https://player.bilibili.com/player.html?bvid={0}&page={1}\".format(id, page)\n",
    "      super(BiliVideo, self).__init__(src, width, height, **kwargs)\n",
    "\n",
    "  video = BiliVideo(id=f\"BV1fK4y1M74a\", width=730, height=410, fs=1)\n",
    "  print(\"Video available at https://www.bilibili.com/video/{0}\".format(video.id))\n",
    "  display(video)\n",
    "\n",
    "out1 = widgets.Output()\n",
    "with out1:\n",
    "  from IPython.display import YouTubeVideo\n",
    "  video = YouTubeVideo(id=f\"PwSzRohUvck\", width=730, height=410, fs=1, rel=0)\n",
    "  print(\"Video available at https://youtube.com/watch?v=\" + video.id)\n",
    "  display(video)\n",
    "\n",
    "out = widgets.Tab([out1, out2])\n",
    "out.set_title(0, 'Youtube')\n",
    "out.set_title(1, 'Bilibili')\n",
    "\n",
    "# add timing to airtable\n",
    "atform.add_event('Video 11: Generating the Neural Network')\n",
    "\n",
    "display(out)"
   ]
  },
  {
   "cell_type": "markdown",
   "metadata": {
    "execution": {}
   },
   "source": [
    "For this example we want to have a simple neural network consisting of 3 layers:\n",
    "\n",
    "- 1 input layer of size 2 (our points have 2 coordinates)\n",
    "- 1 hidden layer of size 16 (you can play with different numbers here)\n",
    "- 1 output layer of size 2 (we want the have the scores for the two classes)\n",
    "\n",
    "During the course you will deal with differend kinds of neural networks. On Day 2, we will focus on linear networks, but you will work with some more complicated architectures in the next days. The example here is meant to demonstrate the process of creating and training a neural network end-to-end.\n",
    "\n",
    "**Programing the Network**\n",
    "\n",
    "PyTorch provides a base class for all neural network modules called [`nn.Module`](https://pytorch.org/docs/stable/generated/torch.nn.Module.html). You need to inherit from `nn.Module` and implement some important methods:\n",
    "\n",
    "* `__init__`\n",
    "\n",
    "  In the `__init__` method you need to define the structure of your network. Here you will specify what layers will the network consist of, what activation functions will be used etc.\n",
    "\n",
    "* `forward`\n",
    "\n",
    "  All neural network modules need to implement the `forward` method. It specifies the computations the network needs to do when data is passed through it.\n",
    "\n",
    "* `predict`\n",
    "\n",
    "  This is not an obligatory method of a neural network module, but it is a good practice if you want to quickly get the most likely label from the network. It calls the `forward` method and chooses the label with the highest score.\n",
    "\n",
    "* `train`\n",
    "\n",
    "  This is also not an obligatory method, but it is a good practice to have. The method will be used to train the network parameters and will be implemented later in the notebook.\n",
    "\n",
    "<br>\n",
    "\n",
    "**Note:** You can use the `__call__` method of a module directly and it will invoke the `forward` method: `net()` does the same as `net.forward()`."
   ]
  },
  {
   "cell_type": "code",
   "execution_count": 71,
   "metadata": {
    "execution": {}
   },
   "outputs": [],
   "source": [
    "# Inherit from nn.Module - the base class for neural network modules provided by Pytorch\n",
    "class NaiveNet(nn.Module):\n",
    "  \"\"\"\n",
    "  NaiveNet architecture\n",
    "  Structure is as follows:\n",
    "  Linear Layer (2, 16) -> ReLU activation -> Linear Layer (16, 2)\n",
    "  \"\"\"\n",
    "  # Define the structure of your network\n",
    "  def __init__(self):\n",
    "    \"\"\"\n",
    "    Defines the NaiveNet structure by initialising following attributes\n",
    "    nn.Linear (2, 16):  Transformation from the input to the hidden layer\n",
    "    nn.ReLU: Activation function (ReLU) is a non-linearity which is widely used because it reduces computation.\n",
    "             The function returns 0 if it receives any negative input, but for any positive value x, it returns that value back.\n",
    "    nn.Linear (16, 2): Transformation from the hidden to the output layer\n",
    "\n",
    "    Args:\n",
    "      None\n",
    "\n",
    "    Returns:\n",
    "      Nothing\n",
    "    \"\"\"\n",
    "    super(NaiveNet, self).__init__()\n",
    "\n",
    "    # The network is defined as a sequence of operations\n",
    "    self.layers = nn.Sequential(\n",
    "        nn.Linear(2, 16),\n",
    "        nn.ReLU(),\n",
    "        nn.Linear(16, 2),\n",
    "    )\n",
    "\n",
    "  # Specify the computations performed on the data\n",
    "  def forward(self, x):\n",
    "    \"\"\"\n",
    "    Defines the forward pass through the above defined structure\n",
    "\n",
    "    Args:\n",
    "      x: torch.Tensor\n",
    "        Input tensor of size ([3])\n",
    "\n",
    "    Returns:\n",
    "      layers: nn.module\n",
    "        Initialised Layers in order to re-use the same layer for each forward pass of data you make.\n",
    "    \"\"\"\n",
    "    # Pass the data through the layers\n",
    "    return self.layers(x)\n",
    "\n",
    "  # Choose the most likely label predicted by the network\n",
    "  def predict(self, x):\n",
    "    \"\"\"\n",
    "    Performs the prediction task of the network\n",
    "\n",
    "    Args:\n",
    "      x: torch.Tensor\n",
    "        Input tensor of size ([3])\n",
    "\n",
    "    Returns:\n",
    "      Most likely class i.e., Label with the highest score\n",
    "    \"\"\"\n",
    "    # Pass the data through the networks\n",
    "    output = self.forward(x)\n",
    "\n",
    "    # Choose the label with the highest score\n",
    "    return torch.argmax(output, 1)\n",
    "\n",
    "  # Train the neural network (will be implemented later)\n",
    "  def train(self, X, y):\n",
    "    \"\"\"\n",
    "    Training the Neural Network\n",
    "\n",
    "    Args:\n",
    "      X: torch.Tensor\n",
    "        Input data\n",
    "      y: torch.Tensor\n",
    "        Class Labels/Targets\n",
    "\n",
    "    Returns:\n",
    "      Nothing\n",
    "    \"\"\"\n",
    "    pass"
   ]
  },
  {
   "cell_type": "markdown",
   "metadata": {
    "execution": {}
   },
   "source": [
    "**Check that your network works**\n",
    "\n",
    "Create an instance of your model and visualize it."
   ]
  },
  {
   "cell_type": "code",
   "execution_count": 72,
   "metadata": {
    "execution": {}
   },
   "outputs": [
    {
     "name": "stdout",
     "output_type": "stream",
     "text": [
      "NaiveNet(\n",
      "  (layers): Sequential(\n",
      "    (0): Linear(in_features=2, out_features=16, bias=True)\n",
      "    (1): ReLU()\n",
      "    (2): Linear(in_features=16, out_features=2, bias=True)\n",
      "  )\n",
      ")\n"
     ]
    }
   ],
   "source": [
    "# Create new NaiveNet and transfer it to the device\n",
    "model = NaiveNet().to(DEVICE)\n",
    "\n",
    "# Print the structure of the network\n",
    "print(model)"
   ]
  },
  {
   "cell_type": "markdown",
   "metadata": {
    "execution": {}
   },
   "source": [
    "### Coding Exercise 3.2: Classify some samples\n",
    "\n",
    "Now, let's pass some of the points of our dataset through the network and see if it works. You should not expect the network to actually classify the points correctly, because it has not been trained yet. \n",
    "\n",
    "The goal here is just to get some experience with the data structures that are passed to the forward and predict methods and their results."
   ]
  },
  {
   "cell_type": "code",
   "execution_count": 77,
   "metadata": {
    "execution": {}
   },
   "outputs": [
    {
     "name": "stdout",
     "output_type": "stream",
     "text": [
      "Sample input:\n",
      " tensor([[ 0.9066,  0.5052],\n",
      "        [-0.2024,  1.1226],\n",
      "        [ 1.0685,  0.2809],\n",
      "        [ 0.6720,  0.5097],\n",
      "        [ 0.8548,  0.5122]])\n",
      "\n",
      "Network output:\n",
      " tensor([[-0.3032, -0.5563],\n",
      "        [-0.1419, -0.3195],\n",
      "        [-0.2879, -0.6030],\n",
      "        [-0.2665, -0.4831],\n",
      "        [-0.2973, -0.5369]], grad_fn=<AddmmBackward0>)\n",
      "\n",
      "Predicted labels:\n",
      " tensor([0, 0, 0, 0, 0])\n"
     ]
    }
   ],
   "source": [
    "# Get the samples\n",
    "X_samples = X[:5]\n",
    "print(\"Sample input:\\n\", X_samples)\n",
    "\n",
    "# Do a forward pass of the network\n",
    "output = model.forward(X_samples)\n",
    "print(\"\\nNetwork output:\\n\", output)\n",
    "\n",
    "# Predict the label of each point\n",
    "y_predicted = model.predict(X_samples)\n",
    "print(\"\\nPredicted labels:\\n\", y_predicted)"
   ]
  },
  {
   "cell_type": "markdown",
   "metadata": {
    "colab_type": "text",
    "execution": {}
   },
   "source": [
    "[*Click for solution*](https://github.com/NeuromatchAcademy/course-content-dl/tree/main//tutorials/W1D1_BasicsAndPytorch/solutions/W1D1_Tutorial1_Solution_63f6a21a.py)\n",
    "\n"
   ]
  },
  {
   "cell_type": "markdown",
   "metadata": {
    "execution": {}
   },
   "source": [
    "```\n",
    "Sample input:\n",
    " tensor([[ 0.9066,  0.5052],\n",
    "        [-0.2024,  1.1226],\n",
    "        [ 1.0685,  0.2809],\n",
    "        [ 0.6720,  0.5097],\n",
    "        [ 0.8548,  0.5122]], device='cuda:0')\n",
    "\n",
    "Network output:\n",
    " tensor([[ 0.1543, -0.8018],\n",
    "        [ 2.2077, -2.9859],\n",
    "        [-0.5745, -0.0195],\n",
    "        [ 0.1924, -0.8367],\n",
    "        [ 0.1818, -0.8301]], device='cuda:0', grad_fn=<AddmmBackward>)\n",
    "\n",
    "Predicted labels:\n",
    " tensor([0, 0, 1, 0, 0], device='cuda:0')\n",
    "```"
   ]
  },
  {
   "cell_type": "markdown",
   "metadata": {
    "execution": {}
   },
   "source": [
    "## Section 3.3: Train Your Neural Network"
   ]
  },
  {
   "cell_type": "markdown",
   "metadata": {},
   "source": [
    "###  Video 12: Train the Network\n"
   ]
  },
  {
   "cell_type": "code",
   "execution_count": null,
   "metadata": {
    "cellView": "form",
    "execution": {},
    "tags": [
     "remove-input"
    ]
   },
   "outputs": [],
   "source": [
    "# @title Video 12: Train the Network\n",
    "from ipywidgets import widgets\n",
    "\n",
    "out2 = widgets.Output()\n",
    "with out2:\n",
    "  from IPython.display import IFrame\n",
    "  class BiliVideo(IFrame):\n",
    "    def __init__(self, id, page=1, width=400, height=300, **kwargs):\n",
    "      self.id=id\n",
    "      src = \"https://player.bilibili.com/player.html?bvid={0}&page={1}\".format(id, page)\n",
    "      super(BiliVideo, self).__init__(src, width, height, **kwargs)\n",
    "\n",
    "  video = BiliVideo(id=f\"BV1v54y1n7CS\", width=730, height=410, fs=1)\n",
    "  print(\"Video available at https://www.bilibili.com/video/{0}\".format(video.id))\n",
    "  display(video)\n",
    "\n",
    "out1 = widgets.Output()\n",
    "with out1:\n",
    "  from IPython.display import YouTubeVideo\n",
    "  video = YouTubeVideo(id=f\"4MIqnE4XPaA\", width=730, height=410, fs=1, rel=0)\n",
    "  print(\"Video available at https://youtube.com/watch?v=\" + video.id)\n",
    "  display(video)\n",
    "\n",
    "out = widgets.Tab([out1, out2])\n",
    "out.set_title(0, 'Youtube')\n",
    "out.set_title(1, 'Bilibili')\n",
    "\n",
    "# add timing to airtable\n",
    "atform.add_event('Video 12: Train the Network')\n",
    "\n",
    "display(out)"
   ]
  },
  {
   "cell_type": "markdown",
   "metadata": {
    "execution": {}
   },
   "source": [
    "Now it is time to train your network on your dataset. Don't worry if you don't fully understand everything yet - we will cover training in much more details in the next days. For now, the goal is just to see your network in action!\n",
    "\n",
    "You will usually implement the `train` method directly when implementing your class `NaiveNet`. Here, we will implement it as a function outside of the class in order to have it in a separate cell."
   ]
  },
  {
   "cell_type": "markdown",
   "metadata": {},
   "source": [
    "###  Helper function to plot the decision boundary\n"
   ]
  },
  {
   "cell_type": "code",
   "execution_count": 79,
   "metadata": {
    "cellView": "form",
    "execution": {},
    "tags": [
     "hide-input"
    ]
   },
   "outputs": [],
   "source": [
    "# @title Helper function to plot the decision boundary\n",
    "\n",
    "# Code adapted from this notebook: https://jonchar.net/notebooks/Artificial-Neural-Network-with-Keras/\n",
    "\n",
    "from pathlib import Path\n",
    "\n",
    "def plot_decision_boundary(model, X, y, device):\n",
    "  \"\"\"\n",
    "  Helper function to plot decision boundary\n",
    "\n",
    "  Args:\n",
    "    model: nn.module\n",
    "      NaiveNet instance\n",
    "    X: torch.tensor\n",
    "      Input CIFAR10 data\n",
    "    y: torch.tensor\n",
    "      Class Labels/Targets\n",
    "    device: String\n",
    "      \"cpu\" or \"cuda\"\n",
    "\n",
    "  Returns:\n",
    "    Nothing\n",
    "  \"\"\"\n",
    "  # Transfer the data to the CPU\n",
    "  X = X.cpu().numpy()\n",
    "  y = y.cpu().numpy()\n",
    "\n",
    "  # Check if the frames folder exists and create it if needed\n",
    "  frames_path = Path(\"frames\")\n",
    "  if not frames_path.exists():\n",
    "    frames_path.mkdir()\n",
    "\n",
    "  # Set min and max values and give it some padding\n",
    "  x_min, x_max = X[:, 0].min() - .5, X[:, 0].max() + .5\n",
    "  y_min, y_max = X[:, 1].min() - .5, X[:, 1].max() + .5\n",
    "  h = 0.01\n",
    "\n",
    "  # Generate a grid of points with distance h between them\n",
    "  xx, yy = np.meshgrid(np.arange(x_min, x_max, h), np.arange(y_min, y_max, h))\n",
    "\n",
    "  # Predict the function value for the whole gid\n",
    "  grid_points = np.c_[xx.ravel(), yy.ravel()]\n",
    "  grid_points = torch.from_numpy(grid_points).type(torch.FloatTensor)\n",
    "  Z = model.predict(grid_points.to(device)).cpu().numpy()\n",
    "  Z = Z.reshape(xx.shape)\n",
    "\n",
    "  # Plot the contour and training examples\n",
    "  plt.contourf(xx, yy, Z, cmap=plt.cm.Spectral)\n",
    "  plt.scatter(X[:, 0], X[:, 1], c=y, cmap=plt.cm.binary)"
   ]
  },
  {
   "cell_type": "code",
   "execution_count": 80,
   "metadata": {
    "execution": {}
   },
   "outputs": [
    {
     "name": "stdout",
     "output_type": "stream",
     "text": [
      "Epoch 0 loss is 0.6425550580024719\n",
      "Epoch 1000 loss is 0.27997153997421265\n",
      "Epoch 2000 loss is 0.24176810681819916\n",
      "Epoch 3000 loss is 0.22511157393455505\n",
      "Epoch 4000 loss is 0.20903365314006805\n",
      "Epoch 5000 loss is 0.1902473121881485\n",
      "Epoch 6000 loss is 0.17035351693630219\n",
      "Epoch 7000 loss is 0.15069325268268585\n",
      "Epoch 8000 loss is 0.1320439875125885\n",
      "Epoch 9000 loss is 0.1151941642165184\n",
      "Epoch 10000 loss is 0.10035572201013565\n",
      "Epoch 11000 loss is 0.08760422468185425\n",
      "Epoch 12000 loss is 0.07687033712863922\n",
      "Epoch 13000 loss is 0.0678761675953865\n",
      "Epoch 14000 loss is 0.060378242284059525\n"
     ]
    },
    {
     "data": {
      "image/png": "[encoded data removed]",
      "text/plain": [
       "<Figure size 432x288 with 1 Axes>"
      ]
     },
     "metadata": {
      "needs_background": "light"
     },
     "output_type": "display_data"
    }
   ],
   "source": [
    "# Implement the train function given a training dataset X and correcsponding labels y\n",
    "def train(model, X, y):\n",
    "  \"\"\"\n",
    "    Training the Neural Network\n",
    "\n",
    "    Args:\n",
    "      X: torch.Tensor\n",
    "        Input data\n",
    "      y: torch.Tensor\n",
    "        Class Labels/Targets\n",
    "\n",
    "    Returns:\n",
    "      losses: Float\n",
    "        Cross Entropy Loss; Cross-entropy builds upon the idea of entropy\n",
    "        from information theory and calculates the number of bits required\n",
    "        to represent or transmit an average event from one distribution\n",
    "        compared to another distribution.\n",
    "    \"\"\"\n",
    "  # The Cross Entropy Loss is suitable for classification problems\n",
    "  loss_function = nn.CrossEntropyLoss()\n",
    "\n",
    "  # Create an optimizer (Stochastic Gradient Descent) that will be used to train the network\n",
    "  learning_rate = 1e-2\n",
    "  optimizer = torch.optim.SGD(model.parameters(), lr=learning_rate)\n",
    "\n",
    "  # Number of epochs\n",
    "  epochs = 15000\n",
    "\n",
    "  # List of losses for visualization\n",
    "  losses = []\n",
    "\n",
    "  for i in range(epochs):\n",
    "    # Pass the data through the network and compute the loss\n",
    "    # We'll use the whole dataset during the training instead of using batches\n",
    "    # in to order to keep the code simple for now.\n",
    "    y_logits = model.forward(X)\n",
    "    loss = loss_function(y_logits, y)\n",
    "\n",
    "    # Clear the previous gradients and compute the new ones\n",
    "    optimizer.zero_grad()\n",
    "    loss.backward()\n",
    "\n",
    "    # Adapt the weights of the network\n",
    "    optimizer.step()\n",
    "\n",
    "    # Store the loss\n",
    "    losses.append(loss.item())\n",
    "\n",
    "    # Print the results at every 1000th epoch\n",
    "    if i % 1000 == 0:\n",
    "      print(f\"Epoch {i} loss is {loss.item()}\")\n",
    "\n",
    "      plot_decision_boundary(model, X, y, DEVICE)\n",
    "      plt.savefig('frames/{:05d}.png'.format(i))\n",
    "\n",
    "  return losses\n",
    "\n",
    "\n",
    "# Create a new network instance a train it\n",
    "model = NaiveNet().to(DEVICE)\n",
    "losses = train(model, X, y)"
   ]
  },
  {
   "cell_type": "markdown",
   "metadata": {
    "execution": {}
   },
   "source": [
    "**Plot the loss during training**\n",
    "\n",
    "Plot the loss during the training to see how it reduces and converges."
   ]
  },
  {
   "cell_type": "code",
   "execution_count": 82,
   "metadata": {
    "execution": {}
   },
   "outputs": [
    {
     "data": {
      "text/plain": [
       "[<matplotlib.lines.Line2D at 0x22f11047cf8>]"
      ]
     },
     "execution_count": 82,
     "metadata": {},
     "output_type": "execute_result"
    },
    {
     "data": {
      "text/plain": [
       "Text(0.5, 0, 'Epoch')"
      ]
     },
     "execution_count": 82,
     "metadata": {},
     "output_type": "execute_result"
    },
    {
     "data": {
      "text/plain": [
       "Text(0, 0.5, 'Loss')"
      ]
     },
     "execution_count": 82,
     "metadata": {},
     "output_type": "execute_result"
    },
    {
     "data": {
      "image/png": "[encoded data removed]",
      "text/plain": [
       "<Figure size 432x288 with 1 Axes>"
      ]
     },
     "metadata": {
      "needs_background": "light"
     },
     "output_type": "display_data"
    }
   ],
   "source": [
    "plt.plot(np.linspace(1, len(losses), len(losses)), losses)\n",
    "plt.xlabel(\"Epoch\")\n",
    "plt.ylabel(\"Loss\")"
   ]
  },
  {
   "cell_type": "markdown",
   "metadata": {},
   "source": [
    "###  Visualize the training process\n"
   ]
  },
  {
   "cell_type": "markdown",
   "metadata": {},
   "source": [
    " Execute this cell!\n"
   ]
  },
  {
   "cell_type": "code",
   "execution_count": 81,
   "metadata": {
    "cellView": "form",
    "execution": {},
    "tags": [
     "hide-input"
    ]
   },
   "outputs": [
    {
     "name": "stderr",
     "output_type": "stream",
     "text": [
      "WARNING: Retrying (Retry(total=4, connect=None, read=None, redirect=None, status=None)) after connection broken by 'SSLError(SSLEOFError(8, 'EOF occurred in violation of protocol (_ssl.c:748)'),)': /simple/numpy/\n",
      "WARNING: Retrying (Retry(total=3, connect=None, read=None, redirect=None, status=None)) after connection broken by 'SSLError(SSLEOFError(8, 'EOF occurred in violation of protocol (_ssl.c:748)'),)': /simple/numpy/\n",
      "WARNING: Retrying (Retry(total=2, connect=None, read=None, redirect=None, status=None)) after connection broken by 'SSLError(SSLEOFError(8, 'EOF occurred in violation of protocol (_ssl.c:748)'),)': /simple/numpy/\n",
      "WARNING: Retrying (Retry(total=1, connect=None, read=None, redirect=None, status=None)) after connection broken by 'SSLError(SSLEOFError(8, 'EOF occurred in violation of protocol (_ssl.c:748)'),)': /simple/numpy/\n",
      "WARNING: Retrying (Retry(total=0, connect=None, read=None, redirect=None, status=None)) after connection broken by 'SSLError(SSLEOFError(8, 'EOF occurred in violation of protocol (_ssl.c:748)'),)': /simple/numpy/\n",
      "WARNING: Retrying (Retry(total=4, connect=None, read=None, redirect=None, status=None)) after connection broken by 'SSLError(SSLEOFError(8, 'EOF occurred in violation of protocol (_ssl.c:748)'),)': /simple/imageio/\n",
      "WARNING: Retrying (Retry(total=3, connect=None, read=None, redirect=None, status=None)) after connection broken by 'SSLError(SSLEOFError(8, 'EOF occurred in violation of protocol (_ssl.c:748)'),)': /simple/imageio/\n",
      "WARNING: Retrying (Retry(total=2, connect=None, read=None, redirect=None, status=None)) after connection broken by 'SSLError(SSLEOFError(8, 'EOF occurred in violation of protocol (_ssl.c:748)'),)': /simple/imageio/\n",
      "WARNING: Retrying (Retry(total=1, connect=None, read=None, redirect=None, status=None)) after connection broken by 'SSLError(SSLEOFError(8, 'EOF occurred in violation of protocol (_ssl.c:748)'),)': /simple/imageio/\n",
      "WARNING: Retrying (Retry(total=0, connect=None, read=None, redirect=None, status=None)) after connection broken by 'SSLError(SSLEOFError(8, 'EOF occurred in violation of protocol (_ssl.c:748)'),)': /simple/imageio/\n",
      "ERROR: Could not find a version that satisfies the requirement numpy (from imageio) (from versions: none)\n",
      "ERROR: No matching distribution found for numpy\n",
      "WARNING: Retrying (Retry(total=4, connect=None, read=None, redirect=None, status=None)) after connection broken by 'SSLError(SSLEOFError(8, 'EOF occurred in violation of protocol (_ssl.c:748)'),)': /simple/pathlib/\n",
      "WARNING: Retrying (Retry(total=3, connect=None, read=None, redirect=None, status=None)) after connection broken by 'SSLError(SSLEOFError(8, 'EOF occurred in violation of protocol (_ssl.c:748)'),)': /simple/pathlib/\n",
      "WARNING: Retrying (Retry(total=2, connect=None, read=None, redirect=None, status=None)) after connection broken by 'SSLError(SSLEOFError(8, 'EOF occurred in violation of protocol (_ssl.c:748)'),)': /simple/pathlib/\n",
      "WARNING: Retrying (Retry(total=1, connect=None, read=None, redirect=None, status=None)) after connection broken by 'SSLError(SSLEOFError(8, 'EOF occurred in violation of protocol (_ssl.c:748)'),)': /simple/pathlib/\n",
      "WARNING: Retrying (Retry(total=0, connect=None, read=None, redirect=None, status=None)) after connection broken by 'SSLError(SSLEOFError(8, 'EOF occurred in violation of protocol (_ssl.c:748)'),)': /simple/pathlib/\n",
      "ERROR: Could not find a version that satisfies the requirement pathlib (from versions: none)\n",
      "ERROR: No matching distribution found for pathlib\n"
     ]
    },
    {
     "data": {
      "image/png": "[encoded data removed]",
      "text/plain": [
       "<IPython.core.display.Image object>"
      ]
     },
     "metadata": {},
     "output_type": "display_data"
    }
   ],
   "source": [
    "# @title Visualize the training process\n",
    "# @markdown Execute this cell!\n",
    "!pip install imageio --quiet\n",
    "!pip install pathlib --quiet\n",
    "\n",
    "import imageio\n",
    "from IPython.core.interactiveshell import InteractiveShell\n",
    "from IPython.display import Image, display\n",
    "from pathlib import Path\n",
    "\n",
    "InteractiveShell.ast_node_interactivity = \"all\"\n",
    "\n",
    "# Make a list with all images\n",
    "images = []\n",
    "for i in range(10):\n",
    "  filename = Path(\"frames/0\"+str(i)+\"000.png\")\n",
    "  images.append(imageio.imread(filename))\n",
    "# Save the gif\n",
    "imageio.mimsave('frames/movie.gif', images)\n",
    "gifPath = Path(\"frames/movie.gif\")\n",
    "with open(gifPath,'rb') as f:\n",
    "  display(Image(data=f.read(), format='png'))"
   ]
  },
  {
   "cell_type": "markdown",
   "metadata": {},
   "source": [
    "###  Video 13: Play with it\n"
   ]
  },
  {
   "cell_type": "code",
   "execution_count": null,
   "metadata": {
    "cellView": "form",
    "execution": {},
    "tags": [
     "remove-input"
    ]
   },
   "outputs": [],
   "source": [
    "# @title Video 13: Play with it\n",
    "from ipywidgets import widgets\n",
    "\n",
    "out2 = widgets.Output()\n",
    "with out2:\n",
    "  from IPython.display import IFrame\n",
    "  class BiliVideo(IFrame):\n",
    "    def __init__(self, id, page=1, width=400, height=300, **kwargs):\n",
    "      self.id=id\n",
    "      src = \"https://player.bilibili.com/player.html?bvid={0}&page={1}\".format(id, page)\n",
    "      super(BiliVideo, self).__init__(src, width, height, **kwargs)\n",
    "\n",
    "  video = BiliVideo(id=f\"BV1Cq4y1W7BH\", width=730, height=410, fs=1)\n",
    "  print(\"Video available at https://www.bilibili.com/video/{0}\".format(video.id))\n",
    "  display(video)\n",
    "\n",
    "out1 = widgets.Output()\n",
    "with out1:\n",
    "  from IPython.display import YouTubeVideo\n",
    "  video = YouTubeVideo(id=f\"_GGkapdOdSY\", width=730, height=410, fs=1, rel=0)\n",
    "  print(\"Video available at https://youtube.com/watch?v=\" + video.id)\n",
    "  display(video)\n",
    "\n",
    "out = widgets.Tab([out1, out2])\n",
    "out.set_title(0, 'Youtube')\n",
    "out.set_title(1, 'Bilibili')\n",
    "\n",
    "# add timing to airtable\n",
    "atform.add_event('Video 13: Play with it')\n",
    "\n",
    "display(out)"
   ]
  },
  {
   "cell_type": "markdown",
   "metadata": {
    "execution": {}
   },
   "source": [
    "### Exercise 3.3: Tweak your Network\n",
    "\n",
    "You can now play around with the network a little bit to get a feeling of what different parameters are doing. Here are some ideas what you could try:\n",
    "\n",
    "- Increase or decrease the number of epochs for training\n",
    "- Increase or decrease the size of the hidden layer\n",
    "- Add one additional hidden layer\n",
    "\n",
    "Can you get the network to better fit the data?"
   ]
  },
  {
   "cell_type": "markdown",
   "metadata": {
    "colab_type": "text",
    "execution": {}
   },
   "source": [
    "[*Click for solution*](https://github.com/NeuromatchAcademy/course-content-dl/tree/main//tutorials/W1D1_BasicsAndPytorch/solutions/W1D1_Tutorial1_Solution_fd3bd4a1.py)\n",
    "\n"
   ]
  },
  {
   "cell_type": "markdown",
   "metadata": {},
   "source": [
    "####  Video 14: XOR Widget\n"
   ]
  },
  {
   "cell_type": "code",
   "execution_count": null,
   "metadata": {
    "cellView": "form",
    "execution": {},
    "tags": [
     "remove-input"
    ]
   },
   "outputs": [],
   "source": [
    "# @title Video 14: XOR Widget\n",
    "from ipywidgets import widgets\n",
    "\n",
    "out2 = widgets.Output()\n",
    "with out2:\n",
    "  from IPython.display import IFrame\n",
    "  class BiliVideo(IFrame):\n",
    "    def __init__(self, id, page=1, width=400, height=300, **kwargs):\n",
    "      self.id=id\n",
    "      src = \"https://player.bilibili.com/player.html?bvid={0}&page={1}\".format(id, page)\n",
    "      super(BiliVideo, self).__init__(src, width, height, **kwargs)\n",
    "\n",
    "  video = BiliVideo(id=f\"BV1mB4y1N7QS\", width=730, height=410, fs=1)\n",
    "  print(\"Video available at https://www.bilibili.com/video/{0}\".format(video.id))\n",
    "  display(video)\n",
    "\n",
    "out1 = widgets.Output()\n",
    "with out1:\n",
    "  from IPython.display import YouTubeVideo\n",
    "  video = YouTubeVideo(id=f\"oTr1nE2rCWg\", width=730, height=410, fs=1, rel=0)\n",
    "  print(\"Video available at https://youtube.com/watch?v=\" + video.id)\n",
    "  display(video)\n",
    "\n",
    "out = widgets.Tab([out1, out2])\n",
    "out.set_title(0, 'Youtube')\n",
    "out.set_title(1, 'Bilibili')\n",
    "\n",
    "# add timing to airtable\n",
    "atform.add_event('Video 14: XOR Widget')\n",
    "\n",
    "display(out)"
   ]
  },
  {
   "cell_type": "markdown",
   "metadata": {
    "execution": {}
   },
   "source": [
    "Exclusive OR (XOR) logical operation gives a true (`1`) output when the number of true inputs is odd. That is, a true output result if one, and only one, of the inputs to the gate is true. If both inputs are false (`0`) or both are true or false output results. Mathematically speaking, XOR represents the inequality function, i.e., the output is true if the inputs are not alike; otherwise, the output is false.\n",
    "\n",
    "In case of two inputs ($X$ and $Y$) the following truth table is applied:\n",
    "\n",
    "\\begin{matrix}\n",
    "  X & Y & \\text{XOR}\\\\\n",
    "  \\hline\n",
    "  0 & 0 & 0\\\\\n",
    "  0 & 1 & 1\\\\\n",
    "  1 & 0 & 1\\\\\n",
    "  1 & 1 & 0\n",
    "\\end{matrix}\n",
    "\n",
    "Here, with `0`, we denote `False`, and with `1` we denote `True` in boolean terms."
   ]
  },
  {
   "cell_type": "markdown",
   "metadata": {
    "execution": {}
   },
   "source": [
    "### Interactive Demo 3.3: Solving XOR\n",
    "\n",
    "Here we use an open source and famous visualization widget developed by Tensorflow team available [here](https://github.com/tensorflow/playground).\n",
    "* Play with the widget and observe if you can solve the continuous XOR dataset.\n",
    "* Now add one hidden layer with three units, play with the widget, and set weights by hand to solve this dataset perfectly.\n",
    "\n",
    "For the second part, you should set the weights by clicking on the connections and either type the value or use the up and down keys to change it by one increment. You could also do the same for the biases by clicking on the tiny square to each neuron's bottom left.\n",
    "Even though there are infinitely many solutions, a neat solution when $f(x)$ is ReLU is: \n",
    "\n",
    "\\begin{equation}\n",
    "  y = f(x_1)+f(x_2)-f(x_1+x_2)\n",
    "\\end{equation}\n",
    "\n",
    "Try to set the weights and biases to implement this function after you played enough :)"
   ]
  },
  {
   "cell_type": "markdown",
   "metadata": {},
   "source": [
    " Play with the parameters to solve XOR\n"
   ]
  },
  {
   "cell_type": "code",
   "execution_count": 83,
   "metadata": {
    "cellView": "form",
    "execution": {},
    "tags": [
     "remove-input"
    ]
   },
   "outputs": [
    {
     "data": {
      "text/html": [
       "\n",
       "        <iframe\n",
       "            width=\"1020\"\n",
       "            height=\"660\"\n",
       "            src=\"https://playground.arashash.com/#activation=relu&batchSize=10&dataset=xor&regDataset=reg-plane&learningRate=0.03&regularizationRate=0&noise=0&networkShape=&seed=0.91390&showTestData=false&discretize=false&percTrainData=90&x=true&y=true&xTimesY=false&xSquared=false&ySquared=false&cosX=false&sinX=false&cosY=false&sinY=false&collectStats=false&problem=classification&initZero=false&hideText=false\"\n",
       "            frameborder=\"0\"\n",
       "            allowfullscreen\n",
       "        ></iframe>\n",
       "        "
      ],
      "text/plain": [
       "<IPython.lib.display.IFrame at 0x22f110765f8>"
      ]
     },
     "execution_count": 83,
     "metadata": {},
     "output_type": "execute_result"
    }
   ],
   "source": [
    "# @markdown Play with the parameters to solve XOR\n",
    "from IPython.display import IFrame\n",
    "IFrame(\"https://playground.arashash.com/#activation=relu&batchSize=10&dataset=xor&regDataset=reg-plane&learningRate=0.03&regularizationRate=0&noise=0&networkShape=&seed=0.91390&showTestData=false&discretize=false&percTrainData=90&x=true&y=true&xTimesY=false&xSquared=false&ySquared=false&cosX=false&sinX=false&cosY=false&sinY=false&collectStats=false&problem=classification&initZero=false&hideText=false\", width=1020, height=660)"
   ]
  },
  {
   "cell_type": "markdown",
   "metadata": {},
   "source": [
    " Do you think we can solve the discrete XOR (only 4 possibilities) with only 2 hidden units?\n"
   ]
  },
  {
   "cell_type": "code",
   "execution_count": 84,
   "metadata": {
    "cellView": "form",
    "execution": {},
    "tags": [
     "hide-input"
    ]
   },
   "outputs": [
    {
     "name": "stdout",
     "output_type": "stream",
     "text": [
      "How about giving it another try?\n"
     ]
    }
   ],
   "source": [
    "# @markdown Do you think we can solve the discrete XOR (only 4 possibilities) with only 2 hidden units?\n",
    "w1_min_xor = 'Select' #@param ['Select', 'Yes', 'No']\n",
    "if w1_min_xor == 'No':\n",
    "  print(\"Correct!\")\n",
    "else:\n",
    "  print(\"How about giving it another try?\")"
   ]
  },
  {
   "cell_type": "markdown",
   "metadata": {
    "execution": {}
   },
   "source": [
    "---\n",
    "# Section 4: Ethics And Course Info"
   ]
  },
  {
   "cell_type": "markdown",
   "metadata": {},
   "source": [
    "##  Video 15: Ethics\n"
   ]
  },
  {
   "cell_type": "code",
   "execution_count": null,
   "metadata": {
    "cellView": "form",
    "execution": {},
    "tags": [
     "remove-input"
    ]
   },
   "outputs": [],
   "source": [
    "# @title Video 15: Ethics\n",
    "from ipywidgets import widgets\n",
    "\n",
    "out2 = widgets.Output()\n",
    "with out2:\n",
    "  from IPython.display import IFrame\n",
    "  class BiliVideo(IFrame):\n",
    "    def __init__(self, id, page=1, width=400, height=300, **kwargs):\n",
    "      self.id=id\n",
    "      src = \"https://player.bilibili.com/player.html?bvid={0}&page={1}\".format(id, page)\n",
    "      super(BiliVideo, self).__init__(src, width, height, **kwargs)\n",
    "\n",
    "  video = BiliVideo(id=f\"BV1Hw41197oB\", width=730, height=410, fs=1)\n",
    "  print(\"Video available at https://www.bilibili.com/video/{0}\".format(video.id))\n",
    "  display(video)\n",
    "\n",
    "out1 = widgets.Output()\n",
    "with out1:\n",
    "  from IPython.display import YouTubeVideo\n",
    "  video = YouTubeVideo(id=f\"Kt6JLi3rUFU\", width=730, height=410, fs=1, rel=0)\n",
    "  print(\"Video available at https://youtube.com/watch?v=\" + video.id)\n",
    "  display(video)\n",
    "\n",
    "out = widgets.Tab([out1, out2])\n",
    "out.set_title(0, 'Youtube')\n",
    "out.set_title(1, 'Bilibili')\n",
    "\n",
    "display(out)"
   ]
  },
  {
   "cell_type": "markdown",
   "metadata": {},
   "source": [
    "##  Video 16: Be a group\n"
   ]
  },
  {
   "cell_type": "code",
   "execution_count": null,
   "metadata": {
    "cellView": "form",
    "execution": {},
    "tags": [
     "remove-input"
    ]
   },
   "outputs": [],
   "source": [
    "# @title Video 16: Be a group\n",
    "from ipywidgets import widgets\n",
    "\n",
    "out2 = widgets.Output()\n",
    "with out2:\n",
    "  from IPython.display import IFrame\n",
    "  class BiliVideo(IFrame):\n",
    "    def __init__(self, id, page=1, width=400, height=300, **kwargs):\n",
    "      self.id=id\n",
    "      src = \"https://player.bilibili.com/player.html?bvid={0}&page={1}\".format(id, page)\n",
    "      super(BiliVideo, self).__init__(src, width, height, **kwargs)\n",
    "\n",
    "  video = BiliVideo(id=f\"BV1j44y1272h\", width=730, height=410, fs=1)\n",
    "  print(\"Video available at https://www.bilibili.com/video/{0}\".format(video.id))\n",
    "  display(video)\n",
    "\n",
    "out1 = widgets.Output()\n",
    "with out1:\n",
    "  from IPython.display import YouTubeVideo\n",
    "  video = YouTubeVideo(id=f\"Sfp6--d_H1A\", width=730, height=410, fs=1, rel=0)\n",
    "  print(\"Video available at https://youtube.com/watch?v=\" + video.id)\n",
    "  display(video)\n",
    "\n",
    "out = widgets.Tab([out1, out2])\n",
    "out.set_title(0, 'Youtube')\n",
    "out.set_title(1, 'Bilibili')\n",
    "\n",
    "display(out)"
   ]
  },
  {
   "cell_type": "markdown",
   "metadata": {},
   "source": [
    "##  Video 17: Syllabus\n"
   ]
  },
  {
   "cell_type": "code",
   "execution_count": null,
   "metadata": {
    "cellView": "form",
    "execution": {},
    "tags": [
     "remove-input"
    ]
   },
   "outputs": [],
   "source": [
    "# @title Video 17: Syllabus\n",
    "from ipywidgets import widgets\n",
    "\n",
    "out2 = widgets.Output()\n",
    "with out2:\n",
    "  from IPython.display import IFrame\n",
    "  class BiliVideo(IFrame):\n",
    "    def __init__(self, id, page=1, width=400, height=300, **kwargs):\n",
    "      self.id=id\n",
    "      src = \"https://player.bilibili.com/player.html?bvid={0}&page={1}\".format(id, page)\n",
    "      super(BiliVideo, self).__init__(src, width, height, **kwargs)\n",
    "\n",
    "  video = BiliVideo(id=f\"BV1iB4y1N7uQ\", width=730, height=410, fs=1)\n",
    "  print(\"Video available at https://www.bilibili.com/video/{0}\".format(video.id))\n",
    "  display(video)\n",
    "\n",
    "out1 = widgets.Output()\n",
    "with out1:\n",
    "  from IPython.display import YouTubeVideo\n",
    "  video = YouTubeVideo(id=f\"cDvAqG_hAvQ\", width=730, height=410, fs=1, rel=0)\n",
    "  print(\"Video available at https://youtube.com/watch?v=\" + video.id)\n",
    "  display(video)\n",
    "\n",
    "out = widgets.Tab([out1, out2])\n",
    "out.set_title(0, 'Youtube')\n",
    "out.set_title(1, 'Bilibili')\n",
    "\n",
    "display(out)"
   ]
  },
  {
   "cell_type": "markdown",
   "metadata": {
    "execution": {}
   },
   "source": [
    "## Meet our lecturers\n",
    "\n",
    "### Week 1: the building blocks\n",
    "* [Konrad Kording](https://kordinglab.com)\n",
    "* [Andrew Saxe](https://www.saxelab.org/)\n",
    "* [Surya Ganguli](https://ganguli-gang.stanford.edu/)\n",
    "* [Ioannis Mitliagkas](http://mitliagkas.github.io/)\n",
    "* [Lyle Ungar](https://www.cis.upenn.edu/~ungar/)\n",
    "\n",
    "### Week 2: making things work\n",
    "* [Alona Fyshe](https://webdocs.cs.ualberta.ca/~alona/)\n",
    "* [Alexander Ecker](https://eckerlab.org/)\n",
    "* [James Evans](https://sociology.uchicago.edu/directory/james-evans)\n",
    "* [He He](https://hhexiy.github.io/)\n",
    "* [Vikash Gilja](https://tnel.ucsd.edu/bio) and [Akash Srivastava](https://akashgit.github.io/)\n",
    "\n",
    "### Week 3: more magic\n",
    "* [Tim Lillicrap](https://contrastiveconvergence.net/~timothylillicrap/index.php) and [Blake Richards](https://www.mcgill.ca/neuro/blake-richards-phd)\n",
    "* [Jane Wang](http://www.janexwang.com/) and [Feryal Behbahani](https://feryal.github.io/)\n",
    "* [Tim Lillicrap](https://contrastiveconvergence.net/~timothylillicrap/index.php) and [Blake Richards](https://www.mcgill.ca/neuro/blake-richards-phd)\n",
    "* [Josh Vogelstein](https://jovo.me/) and [Vincenzo Lamonaco](https://www.vincenzolomonaco.com/)"
   ]
  },
  {
   "cell_type": "markdown",
   "metadata": {
    "execution": {}
   },
   "source": [
    "Now, go to the [visualization of ICLR papers](https://iclr.cc/virtual/2021/paper_vis.html). Read a few abstracts. Look at the various clusters. Where do you see yourself in this map?"
   ]
  },
  {
   "cell_type": "markdown",
   "metadata": {
    "execution": {}
   },
   "source": [
    "---\n",
    "# Submit to Airtable"
   ]
  },
  {
   "cell_type": "markdown",
   "metadata": {},
   "source": [
    "##  Video 18: Submission info\n"
   ]
  },
  {
   "cell_type": "code",
   "execution_count": null,
   "metadata": {
    "cellView": "form",
    "execution": {},
    "tags": [
     "remove-input"
    ]
   },
   "outputs": [],
   "source": [
    "# @title Video 18: Submission info\n",
    "from ipywidgets import widgets\n",
    "\n",
    "out2 = widgets.Output()\n",
    "with out2:\n",
    "  from IPython.display import IFrame\n",
    "  class BiliVideo(IFrame):\n",
    "    def __init__(self, id, page=1, width=400, height=300, **kwargs):\n",
    "      self.id=id\n",
    "      src = \"https://player.bilibili.com/player.html?bvid={0}&page={1}\".format(id, page)\n",
    "      super(BiliVideo, self).__init__(src, width, height, **kwargs)\n",
    "\n",
    "  video = BiliVideo(id=f\"BV1e44y127ti\", width=730, height=410, fs=1)\n",
    "  print(\"Video available at https://www.bilibili.com/video/{0}\".format(video.id))\n",
    "  display(video)\n",
    "\n",
    "out1 = widgets.Output()\n",
    "with out1:\n",
    "  from IPython.display import YouTubeVideo\n",
    "  video = YouTubeVideo(id=f\"JwTn7ej2dq8\", width=730, height=410, fs=1, rel=0)\n",
    "  print(\"Video available at https://youtube.com/watch?v=\" + video.id)\n",
    "  display(video)\n",
    "\n",
    "out = widgets.Tab([out1, out2])\n",
    "out.set_title(0, 'Youtube')\n",
    "out.set_title(1, 'Bilibili')\n",
    "\n",
    "display(out)"
   ]
  },
  {
   "cell_type": "markdown",
   "metadata": {
    "execution": {}
   },
   "source": [
    "This is Darryl, the Deep Learning Dapper Lion, and he's here to teach you about content submission to airtable.\n",
    "<br>\n",
    "<img src=\"https://raw.githubusercontent.com/NeuromatchAcademy/course-content-dl/main/tutorials/static/DapperLion.png\" alt=\"Darryl\"> \n",
    "<br><br>\n",
    "At the end of each tutorial there will be an <b>Airtable Submission Cell</b>. Run the cell to generate the airtable submission button and click on it to submit your information to airtable.\n",
    "<br><br>\n",
    "if it is the last tutorial of the day your button will look like this and take you to the end of day survey: \n",
    "<br>\n",
    "<img src=\"https://raw.githubusercontent.com/NeuromatchAcademy/course-content-dl/main/tutorials/static/SurveyButton.png?raw=1\" alt=\"Survey Button\">\n",
    "\n",
    "Otherwise it look like this: \n",
    "<br>\n",
    "\n",
    "<img src=\"https://raw.githubusercontent.com/NeuromatchAcademy/course-content-dl/main/tutorials/static/AirtableSubmissionButton.png?raw=1\" alt=\"Submission Button\"> \n",
    "<br><br>\n",
    "\n",
    "It is critical that you push the submit button for every tutorial you run. **Even if you don't finish the tutorial, still submit!**\n",
    "Submitting is the only way we can verify that you attempted each tutorial, which is critical for us to be able to track your progress."
   ]
  },
  {
   "cell_type": "markdown",
   "metadata": {
    "execution": {}
   },
   "source": [
    "### TL;DR: Basic tutorial workflow\n",
    "\n",
    "1. Work through the tutorial, answering **Think!** questions and **Coding Exercises**.\n",
    "\n",
    "2. At the end of each tutorial, (even if the tutorial is incomplete) run the airtable submission code cell.\n",
    "\n",
    "3. Push the *Submission* button.\n",
    "\n",
    "4. If the last tutorial of the day, *Submission* button will also take you to the end of the day survey on a new page. Complete that and submit."
   ]
  },
  {
   "cell_type": "markdown",
   "metadata": {
    "execution": {}
   },
   "source": [
    "### Submission FAQs: \n",
    "\n",
    "1. What if I want to change my answers to previous discussion questions? \n",
    "> You are free to change and resubmit any of the answers and Think! questions as many times as you like. However, **please only run the airtable submission code and click on the link once you are ready to submit**.\n",
    "\n",
    "2. Okay, but what if I submitted my airtable anyway and really want to resubmit?\n",
    "> After making changes, you can re-run the airtable submission cell code cell. This will result in a second submission from you for our database. But, this will make Darryl sad as it will be more work for him to clean up the data later. \n",
    "\n",
    "3. HELP! I accidentally ran the code to generate the airtable submission button before I was ready to submit! what do I do?\n",
    "> If you run the code to generate the link, anything that happens afterwards will not be captured. Complete the tutorial and make sure to re-run the airtable submission again when you are finished before pressing the submission button. \n",
    "\n",
    "4. What if I want to work on this on my own later, should I wait to submit until I'm finished?\n",
    ">  Please submit wherever you are at the end of the day. It's great that you want to keep working on this, but it's important to see the places where we tried things that didn't quite work out, so we can fix them for next year.  \n",
    "\n",
    "Finally, we try to keep the airtable code as hidden as possible, but if you ever see any calls to `atform`  such as `atform.add_event()` in the coding exercises, just know that is for saving airtable information only. **It will not affect the code that is being run around it in any way**, so please do not modify, comment out, or worry about any of those lines of code.\n",
    "<br><br><br>\n",
    "\n",
    "Now, lets try submitting today's course to Airtable by running the next cell and clicking the button when it appears. "
   ]
  },
  {
   "cell_type": "markdown",
   "metadata": {},
   "source": [
    "####  Airtable Submission Link\n"
   ]
  },
  {
   "cell_type": "code",
   "execution_count": null,
   "metadata": {
    "cellView": "form",
    "execution": {},
    "tags": [
     "hide-input"
    ]
   },
   "outputs": [],
   "source": [
    "# @title Airtable Submission Link\n",
    "from IPython import display as IPyDisplay\n",
    "IPyDisplay.HTML(\n",
    "    f\"\"\"\n",
    "  <div>\n",
    "    <a href= \"{atform.url()}\" target=\"_blank\">\n",
    "    <img src=\"https://github.com/NeuromatchAcademy/course-content-dl/blob/main/tutorials/static/SurveyButton.png?raw=1\"\n",
    "  alt=\"button link to survey\" style=\"width:410px\"></a>\n",
    "    </div>\"\"\" )"
   ]
  },
  {
   "cell_type": "markdown",
   "metadata": {
    "execution": {}
   },
   "source": [
    "---\n",
    "# Bonus - 60 years of Machine Learning Research in one Plot\n",
    "\n",
    "By [Hendrik Strobelt](http://hendrik.strobelt.com) (MIT-IBM Watson AI Lab) with support from Benjamin Hoover.\n",
    "\n",
    "In this notebook we visualize a subset* of 3,300 articles retreived from the AllenAI [S2ORC dataset](https://github.com/allenai/s2orc). We represent each paper by a position that is output of a dimensionality reduction method applied to a vector representation of each paper. The vector representation is the output of a neural network.\n",
    "\n",
    "**Note:** The selection is very biased on the keywords and methodology we used to filter. Please see the details section to learn about what we did. "
   ]
  },
  {
   "cell_type": "markdown",
   "metadata": {},
   "source": [
    "##  Install and Import `altair` and `vega_datasets`.\n"
   ]
  },
  {
   "cell_type": "code",
   "execution_count": null,
   "metadata": {
    "cellView": "form",
    "execution": {},
    "tags": [
     "hide-input"
    ]
   },
   "outputs": [],
   "source": [
    "# @title Install and Import `altair` and `vega_datasets`.\n",
    "!pip install altair vega_datasets --quiet\n",
    "\n",
    "import altair as alt  # altair is defining data visualizations\n",
    "\n",
    "# Source data files\n",
    "# Position data file maps ID to x,y positions\n",
    "# original link: http://gltr.io/temp/ml_regexv1_cs_ma_citation+_99perc.pos_umap_cosine_100_d0.1.json\n",
    "POS_FILE = 'https://osf.io/qyrfn/download'\n",
    "# original link: http://gltr.io/temp/ml_regexv1_cs_ma_citation+_99perc_clean.csv\n",
    "# Metadata file maps ID to title, abstract, author,....\n",
    "META_FILE = 'https://osf.io/vfdu6/download'\n",
    "\n",
    "# data loading and wrangling\n",
    "def load_data():\n",
    "  \"\"\"\n",
    "  Loading the data\n",
    "\n",
    "  Args:\n",
    "    None\n",
    "\n",
    "  Returns:\n",
    "    Merged read dataFrame combining id and paper_id;\n",
    "  \"\"\"\n",
    "  positions = pd.read_json(POS_FILE)\n",
    "  positions[['x', 'y']] = positions['pos'].to_list()\n",
    "  meta = pd.read_csv(META_FILE)\n",
    "  return positions.merge(meta, left_on='id', right_on='paper_id')\n",
    "\n",
    "\n",
    "# load data\n",
    "data = load_data()"
   ]
  },
  {
   "cell_type": "markdown",
   "metadata": {},
   "source": [
    "##  Define Visualization using ALtair\n"
   ]
  },
  {
   "cell_type": "code",
   "execution_count": null,
   "metadata": {
    "cellView": "form",
    "execution": {},
    "tags": [
     "hide-input"
    ]
   },
   "outputs": [],
   "source": [
    "# @title Define Visualization using ALtair\n",
    "YEAR_PERIOD = \"quinquennial\"  # @param\n",
    "selection = alt.selection_multi(fields=[YEAR_PERIOD], bind='legend')\n",
    "data[YEAR_PERIOD] = (data[\"year\"] / 5.0).apply(np.floor) * 5\n",
    "chart = alt.Chart(data[[\"x\", \"y\", \"authors\", \"title\", YEAR_PERIOD, \"citation_count\"]], width=800,\n",
    "                  height=800).mark_circle(radius=2, opacity=0.2).encode(\n",
    "    alt.Color(YEAR_PERIOD+':O',\n",
    "              scale=alt.Scale(scheme='viridis', reverse=False, clamp=True, domain=list(range(1955,2020,5))),\n",
    "              # legend=alt.Legend(title='Total Records')\n",
    "              ),\n",
    "    alt.Size('citation_count',\n",
    "              scale=alt.Scale(type=\"pow\", exponent=1, range=[15, 300])\n",
    "              ),\n",
    "       alt.X('x:Q',\n",
    "        scale=alt.Scale(zero=False), axis=alt.Axis(labels=False)\n",
    "    ),\n",
    "       alt.Y('y:Q',\n",
    "        scale=alt.Scale(zero=False), axis=alt.Axis(labels=False)\n",
    "    ),\n",
    "    tooltip=['title', 'authors'],\n",
    "    # size='citation_count',\n",
    "    # color=\"decade:O\",\n",
    "    opacity=alt.condition(selection, alt.value(.8), alt.value(0.2)),\n",
    "\n",
    ").add_selection(\n",
    "    selection\n",
    ").interactive()"
   ]
  },
  {
   "cell_type": "markdown",
   "metadata": {
    "execution": {}
   },
   "source": [
    "Lets look at the Visualization. Each dot represents one paper. Close dots mean that the respective papers are closer related than distant ones. The color indicates the 5-year period of when the paper was published. The dot size indicates the citation count (within S2ORC corpus) as of July 2020. \n",
    "\n",
    "The view is **interactive** and allows for three main interactions. Try them and play around:\n",
    "1. Hover over a dot to see a tooltip (title, author)\n",
    "2. Select a year in the legend (right) to filter dots\n",
    "3. Zoom in/out with scroll -- double click resets view"
   ]
  },
  {
   "cell_type": "code",
   "execution_count": null,
   "metadata": {
    "execution": {}
   },
   "outputs": [],
   "source": [
    "chart"
   ]
  },
  {
   "cell_type": "markdown",
   "metadata": {
    "execution": {}
   },
   "source": [
    "## Questions\n",
    "\n",
    "By playing around, can you find some answers to the following questions?\n",
    "\n",
    "1. Can you find topical clusters? What cluster might occur because of a filtering error?\n",
    "2. Can you see a temporal trend in the data and clusters?\n",
    "3. Can you determine when deep learning methods started booming ?\n",
    "4. Can you find the key papers that where written before the DL \"winter\" that define milestones for a cluster? (tip: look for large dots of different color)"
   ]
  },
  {
   "cell_type": "markdown",
   "metadata": {
    "colab_type": "text",
    "execution": {}
   },
   "source": [
    "[*Click for solution*](https://github.com/NeuromatchAcademy/course-content-dl/tree/main//tutorials/W1D1_BasicsAndPytorch/solutions/W1D1_Tutorial1_Solution_21a88cd0.py)\n",
    "\n"
   ]
  },
  {
   "cell_type": "markdown",
   "metadata": {
    "execution": {}
   },
   "source": [
    "## Methods\n",
    "\n",
    "Here is what we did:\n",
    "1. Filtering of all papers who fullfilled the criterria:\n",
    "  - are categorized as `Computer Science` or `Mathematics` \n",
    "  - one of the following keywords appearing in title or abstract: `\"machine learning|artificial intelligence|neural network|(machine|computer) vision|perceptron|network architecture| RNN | CNN | LSTM | BLEU | MNIST | CIFAR |reinforcement learning|gradient descent| Imagenet \"`\n",
    "2. Per year, remove all papers that are below the 99 percentile of citation count in that year\n",
    "3. Embed each paper by using abstract + title in SPECTER model\n",
    "4. Project based on embedding using UMAP\n",
    "5. Visualize using Altair"
   ]
  },
  {
   "cell_type": "markdown",
   "metadata": {
    "execution": {}
   },
   "source": [
    "### Find Authors"
   ]
  },
  {
   "cell_type": "markdown",
   "metadata": {},
   "source": [
    "####  Edit the `AUTHOR_FILTER` variable to full text search for authors.\n"
   ]
  },
  {
   "cell_type": "code",
   "execution_count": null,
   "metadata": {
    "cellView": "form",
    "execution": {},
    "tags": [
     "hide-input"
    ]
   },
   "outputs": [],
   "source": [
    "# @title Edit the `AUTHOR_FILTER` variable to full text search for authors.\n",
    "\n",
    "AUTHOR_FILTER = \"Rush \"  # @param space at the end means \"word border\"\n",
    "\n",
    "### Don't ignore case when searching...\n",
    "FLAGS = 0\n",
    "### uncomment do ignore case\n",
    "# FLAGS = re.IGNORECASE\n",
    "\n",
    "## --- FILTER CODE.. make it your own ---\n",
    "data['issel'] = data['authors'].str.contains(AUTHOR_FILTER, na=False, flags=FLAGS, )\n",
    "if data['issel'].mean()<0.0000000001:\n",
    "  print('No match found')\n",
    "\n",
    "## --- FROM HERE ON VIS CODE ---\n",
    "alt.Chart(data[[\"x\", \"y\", \"authors\", \"title\", YEAR_PERIOD, \"citation_count\", \"issel\"]], width=800,\n",
    "                  height=800) \\\n",
    "    .mark_circle(stroke=\"black\", strokeOpacity=1).encode(\n",
    "    alt.Color(YEAR_PERIOD+':O',\n",
    "              scale=alt.Scale(scheme='viridis', reverse=False),\n",
    "              # legend=alt.Legend(title='Total Records')\n",
    "              ),\n",
    "    alt.Size('citation_count',\n",
    "              scale=alt.Scale(type=\"pow\", exponent=1, range=[15, 300])\n",
    "              ),\n",
    "    alt.StrokeWidth('issel:Q', scale=alt.Scale(type=\"linear\", domain=[0,1], range=[0, 2]), legend=None),\n",
    "\n",
    "    alt.Opacity('issel:Q', scale=alt.Scale(type=\"linear\", domain=[0,1], range=[.2, 1]), legend=None),\n",
    "    alt.X('x:Q',\n",
    "        scale=alt.Scale(zero=False), axis=alt.Axis(labels=False)\n",
    "    ),\n",
    "    alt.Y('y:Q',\n",
    "        scale=alt.Scale(zero=False), axis=alt.Axis(labels=False)\n",
    "    ),\n",
    "    tooltip=['title', 'authors'],\n",
    ").interactive()"
   ]
  },
  {
   "cell_type": "markdown",
   "metadata": {
    "execution": {}
   },
   "source": [
    "---\n",
    "# Appendix\n",
    "\n",
    "## Official PyTorch resources:\n",
    "\n",
    "### Tutorials\n",
    "- [https://pytorch.org/tutorials/](https://pytorch.org/tutorials/)\n",
    "\n",
    "### Documentation\n",
    "- [https://pytorch.org/docs/stable/tensors.html](https://pytorch.org/docs/stable/tensors.html) (tensor methods)\n",
    "\n",
    "- [https://pytorch.org/docs/stable/generated/torch.Tensor.view.html#torch.Tensor.view](https://pytorch.org/docs/stable/generated/torch.Tensor.view.html#torch.Tensor.view) (The view method in particular)\n",
    "\n",
    "- [https://pytorch.org/vision/stable/datasets.html](https://pytorch.org/vision/stable/datasets.html) (pre-loaded image datasets)\n",
    "\n",
    "## Google Colab Resources:\n",
    "- [https://research.google.com/colaboratory/faq.html](https://research.google.com/colaboratory/faq.html) (FAQ including guidance on GPU usage)\n",
    "\n",
    "## Books for reference:\n",
    "- [https://www.deeplearningbook.org/](https://www.deeplearningbook.org/) (Deep Learning by Ian Goodfellow, Yoshua Bengio and Aaron Courville)"
   ]
  }
 ],
 "metadata": {
  "accelerator": "GPU",
  "colab": {
   "collapsed_sections": [],
   "include_colab_link": true,
   "name": "W1D1_Tutorial1",
   "provenance": [],
   "toc_visible": true
  },
  "kernel": {
   "display_name": "Python 3",
   "language": "python",
   "name": "python3"
  },
  "kernelspec": {
   "display_name": "Python 3",
   "name": "python3"
  },
  "language_info": {
   "codemirror_mode": {
    "name": "ipython",
    "version": 3
   },
   "file_extension": ".py",
   "mimetype": "text/x-python",
   "name": "python",
   "nbconvert_exporter": "python",
   "pygments_lexer": "ipython3",
   "version": "3.6.15"
  }
 },
 "nbformat": 4,
 "nbformat_minor": 0
}
