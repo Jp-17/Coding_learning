{
 "cells": [
  {
   "cell_type": "markdown",
   "metadata": {},
   "source": [
    "Try to convert the model from matlab code to python code"
   ]
  },
  {
   "cell_type": "code",
   "execution_count": 8,
   "metadata": {},
   "outputs": [],
   "source": [
    "import os\n",
    "import sys\n",
    "import numpy as np\n",
    "import pandas as pd\n",
    "import scipy.io as sio\n",
    "import matplotlib.pyplot as plt"
   ]
  },
  {
   "cell_type": "markdown",
   "metadata": {},
   "source": [
    "Set consts"
   ]
  },
  {
   "cell_type": "code",
   "execution_count": 2,
   "metadata": {},
   "outputs": [],
   "source": [
    "V1 = 1\n",
    "v2 = 2"
   ]
  },
  {
   "cell_type": "markdown",
   "metadata": {},
   "source": [
    "Load sample data"
   ]
  },
  {
   "cell_type": "code",
   "execution_count": 32,
   "metadata": {},
   "outputs": [
    {
     "name": "stdout",
     "output_type": "stream",
     "text": [
      "c:\\Users\\jiang\\Shared_lab_home\\Coding_learning\\Byonyu_2019_communication-subspace\n",
      "c:\\Users\\jiang\\Shared_lab_home\\Coding_learning\\Byonyu_2019_communication-subspace\\mat_sample\\sample_data.mat\n"
     ]
    }
   ],
   "source": [
    "data_dir = sys.path[0]\n",
    "data_file = os.path.join(data_dir, 'mat_sample\\sample_data.mat')\n",
    "print(data_dir)\n",
    "print(data_file)\n",
    "data = sio.loadmat(data_file)"
   ]
  },
  {
   "cell_type": "code",
   "execution_count": 33,
   "metadata": {},
   "outputs": [
    {
     "name": "stdout",
     "output_type": "stream",
     "text": [
      "mat_sample\\\n"
     ]
    }
   ],
   "source": [
    "data_dir = 'mat_sample\\\\'\n",
    "print(data_dir)\n",
    "data = sio.loadmat(f'{data_dir}sample_data.mat')"
   ]
  },
  {
   "cell_type": "code",
   "execution_count": 35,
   "metadata": {},
   "outputs": [],
   "source": [
    "data = sio.loadmat('mat_sample\\sample_data.mat')"
   ]
  },
  {
   "cell_type": "code",
   "execution_count": 38,
   "metadata": {},
   "outputs": [
    {
     "name": "stdout",
     "output_type": "stream",
     "text": [
      "Y_V1: (4000, 31)\n",
      "Y_V2: (4000, 31)\n",
      "X: f(4000, 79)\n"
     ]
    }
   ],
   "source": [
    "Y_V1 = data['Y_V1']\n",
    "Y_V2 = data['Y_V2']\n",
    "X = data['X']\n",
    "\n",
    "print(f'Y_V1: {Y_V1.shape}')\n",
    "print(f'Y_V2: {Y_V2.shape}')\n",
    "print(f'X: f{X.shape}')"
   ]
  },
  {
   "cell_type": "markdown",
   "metadata": {},
   "source": [
    "Reduced Rank Regression"
   ]
  },
  {
   "cell_type": "code",
   "execution_count": null,
   "metadata": {},
   "outputs": [],
   "source": []
  }
 ],
 "metadata": {
  "interpreter": {
   "hash": "eb7a7561a42aacb7e4f22a212934ca3d091c7f802b6224013994a34cc1b90268"
  },
  "kernelspec": {
   "display_name": "Python 3.6.2 ('env_py_362')",
   "language": "python",
   "name": "python3"
  },
  "language_info": {
   "codemirror_mode": {
    "name": "ipython",
    "version": 3
   },
   "file_extension": ".py",
   "mimetype": "text/x-python",
   "name": "python",
   "nbconvert_exporter": "python",
   "pygments_lexer": "ipython3",
   "version": "3.6.2"
  },
  "orig_nbformat": 4
 },
 "nbformat": 4,
 "nbformat_minor": 2
}
