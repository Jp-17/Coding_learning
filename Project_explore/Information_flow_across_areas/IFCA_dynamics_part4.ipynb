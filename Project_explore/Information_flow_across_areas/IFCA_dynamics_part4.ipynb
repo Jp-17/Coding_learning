{
 "cells": [
  {
   "cell_type": "markdown",
   "metadata": {},
   "source": [
    "**To do list**\n",
    "* find tSNE/PCA/FA/CCA vector using all areas neural data\n",
    "  * project neural dynamics into tSNE compenonts\n",
    "  * project neural dynamics into PCA/FA compenonts\n",
    "  * project neural dynamics into CCA compenonts\n",
    "  * cluster across areas by PCA/FA/tSNE\n",
    "* find useful weight_vector by training a decoder\n",
    "  * various decoder, input:neural data & output:stimuli\n",
    "    * get accuracy across time\n",
    "    * d prime for information\n",
    "  * linear regression decoder, input:stimuli & output:neural data\n",
    "* study information across information flow\n",
    "* train a RNN and compare it with real neural data (subspace, dynamics & information)\n",
    "  * train a RNN for fitting neural data\n",
    "    * input: neural data, output: neural data, eg. LFADS\n",
    "    * input: stimuli pattern, output: stimuli feature\n",
    "  * train a GNN for neural data across areas\n",
    "* find a good visualization method to show change of dynamics pattern across time & areas"
   ]
  },
  {
   "cell_type": "code",
   "execution_count": null,
   "metadata": {},
   "outputs": [],
   "source": []
  }
 ],
 "metadata": {
  "language_info": {
   "name": "python"
  },
  "orig_nbformat": 4
 },
 "nbformat": 4,
 "nbformat_minor": 2
}
