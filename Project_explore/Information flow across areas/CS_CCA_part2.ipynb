{
 "cells": [
  {
   "cell_type": "markdown",
   "metadata": {},
   "source": [
    "### **Part 1**\n",
    "**Tasks**\n",
    "* explore proper visual stimuli\n",
    "  * spontaneous state\n",
    "  * (done) evoked state: drifting\n",
    "* Communication subspaces across different areas\n",
    "  * (done) correlation\n",
    "  * *dimensionality*\n",
    "    * intra_areas\n",
    "    * inter_areas\n",
    "* Information flow across subspaces\n",
    "  * (done) direction: population correlation as the function of the time delay between areas ($t_2$-$t_1$)\n",
    "  * intensity (correlation intensity)\n",
    "* Hierarchy of information flow  across these subspaces\n",
    "  * direction\n",
    "    * (done) inter_areas cca_delay\n",
    "    * *intra_areas cca_delay (layer_dependent)*\n",
    "    * *feedfward and feedback*\n",
    "  * function validation\n",
    "* Relation between different information flow channels\n",
    "  * *subspace & layer_dependent*\n",
    "  * *shared dimensionility*\n",
    "  * *input/output dimensions*\n",
    "  * *generalize canonical dimension across subspaces*\n",
    "  * subspaces angle\n",
    "  * CCA across subspaces\n",
    "  * predictive coding\n",
    "* (to do) State dependent geometrical properties of these channels\n",
    "* (to do) Dynamical system across areas modeled by multi-region RNN networks"
   ]
  }
 ],
 "metadata": {
  "language_info": {
   "name": "python"
  },
  "orig_nbformat": 4
 },
 "nbformat": 4,
 "nbformat_minor": 2
}
