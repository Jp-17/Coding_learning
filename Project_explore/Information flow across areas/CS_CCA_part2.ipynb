{
 "cells": [
  {
   "cell_type": "markdown",
   "metadata": {},
   "source": [
    "### **Part 2**\n",
    "**Tasks**\n",
    "* explore proper visual stimuli\n",
    "  * spontaneous state\n",
    "  * (done) evoked state: drifting\n",
    "* Communication subspaces across different areas\n",
    "  * (done) correlation\n",
    "  * *dimensionality*\n",
    "    * intra_areas\n",
    "    * inter_areas\n",
    "* Information flow across subspaces\n",
    "  * (done) direction: population correlation as the function of the time delay between areas ($t_2$-$t_1$)\n",
    "  * intensity (correlation intensity)\n",
    "* Hierarchy of information flow  across these subspaces\n",
    "  * direction\n",
    "    * (done) inter_areas cca_delay\n",
    "    * *intra_areas cca_delay (layer_dependent)*\n",
    "    * *feedfward and feedback*\n",
    "  * function validation\n",
    "* Relation between different information flow channels\n",
    "  * *subspace & layer_dependent*\n",
    "  * *shared dimensionility*\n",
    "  * *input/output dimensions*\n",
    "  * *generalize canonical dimension across subspaces*\n",
    "  * subspaces angle\n",
    "  * CCA across subspaces\n",
    "  * predictive coding\n",
    "* (to do) State dependent geometrical properties of these channels\n",
    "* (to do) Dynamical system across areas modeled by multi-region RNN network"
   ]
  },
  {
   "cell_type": "code",
   "execution_count": 1,
   "metadata": {},
   "outputs": [
    {
     "data": {
      "text/html": [
       "<div>\n",
       "<style scoped>\n",
       "    .dataframe tbody tr th:only-of-type {\n",
       "        vertical-align: middle;\n",
       "    }\n",
       "\n",
       "    .dataframe tbody tr th {\n",
       "        vertical-align: top;\n",
       "    }\n",
       "\n",
       "    .dataframe thead th {\n",
       "        text-align: right;\n",
       "    }\n",
       "</style>\n",
       "<table border=\"1\" class=\"dataframe\">\n",
       "  <thead>\n",
       "    <tr style=\"text-align: right;\">\n",
       "      <th></th>\n",
       "      <th>contrast</th>\n",
       "      <th>orientation</th>\n",
       "      <th>phase</th>\n",
       "      <th>size</th>\n",
       "      <th>spatial_frequency</th>\n",
       "      <th>start_time</th>\n",
       "      <th>stimulus_block</th>\n",
       "      <th>stimulus_name</th>\n",
       "      <th>stop_time</th>\n",
       "      <th>temporal_frequency</th>\n",
       "      <th>duration</th>\n",
       "      <th>stimulus_condition_id</th>\n",
       "    </tr>\n",
       "    <tr>\n",
       "      <th>stimulus_presentation_id</th>\n",
       "      <th></th>\n",
       "      <th></th>\n",
       "      <th></th>\n",
       "      <th></th>\n",
       "      <th></th>\n",
       "      <th></th>\n",
       "      <th></th>\n",
       "      <th></th>\n",
       "      <th></th>\n",
       "      <th></th>\n",
       "      <th></th>\n",
       "      <th></th>\n",
       "    </tr>\n",
       "  </thead>\n",
       "  <tbody>\n",
       "    <tr>\n",
       "      <th>3798</th>\n",
       "      <td>0.8</td>\n",
       "      <td>135</td>\n",
       "      <td>[42471.86666667, 42471.86666667]</td>\n",
       "      <td>[250.0, 250.0]</td>\n",
       "      <td>0.04</td>\n",
       "      <td>1590.310709</td>\n",
       "      <td>2</td>\n",
       "      <td>drifting_gratings</td>\n",
       "      <td>1592.312419</td>\n",
       "      <td>4</td>\n",
       "      <td>2.00171</td>\n",
       "      <td>246</td>\n",
       "    </tr>\n",
       "    <tr>\n",
       "      <th>3799</th>\n",
       "      <td>0.8</td>\n",
       "      <td>135</td>\n",
       "      <td>[42471.86666667, 42471.86666667]</td>\n",
       "      <td>[250.0, 250.0]</td>\n",
       "      <td>0.04</td>\n",
       "      <td>1593.313231</td>\n",
       "      <td>2</td>\n",
       "      <td>drifting_gratings</td>\n",
       "      <td>1595.314911</td>\n",
       "      <td>15</td>\n",
       "      <td>2.00168</td>\n",
       "      <td>247</td>\n",
       "    </tr>\n",
       "    <tr>\n",
       "      <th>3800</th>\n",
       "      <td>0.8</td>\n",
       "      <td>45</td>\n",
       "      <td>[42471.86666667, 42471.86666667]</td>\n",
       "      <td>[250.0, 250.0]</td>\n",
       "      <td>0.04</td>\n",
       "      <td>1596.315739</td>\n",
       "      <td>2</td>\n",
       "      <td>drifting_gratings</td>\n",
       "      <td>1598.317439</td>\n",
       "      <td>15</td>\n",
       "      <td>2.00170</td>\n",
       "      <td>248</td>\n",
       "    </tr>\n",
       "    <tr>\n",
       "      <th>3801</th>\n",
       "      <td>0.8</td>\n",
       "      <td>0</td>\n",
       "      <td>[42471.86666667, 42471.86666667]</td>\n",
       "      <td>[250.0, 250.0]</td>\n",
       "      <td>0.04</td>\n",
       "      <td>1599.318261</td>\n",
       "      <td>2</td>\n",
       "      <td>drifting_gratings</td>\n",
       "      <td>1601.319921</td>\n",
       "      <td>1</td>\n",
       "      <td>2.00166</td>\n",
       "      <td>249</td>\n",
       "    </tr>\n",
       "    <tr>\n",
       "      <th>3802</th>\n",
       "      <td>null</td>\n",
       "      <td>null</td>\n",
       "      <td>[42471.86666667, 42471.86666667]</td>\n",
       "      <td>[250.0, 250.0]</td>\n",
       "      <td>null</td>\n",
       "      <td>1602.320789</td>\n",
       "      <td>2</td>\n",
       "      <td>drifting_gratings</td>\n",
       "      <td>1604.322439</td>\n",
       "      <td>null</td>\n",
       "      <td>2.00165</td>\n",
       "      <td>250</td>\n",
       "    </tr>\n",
       "  </tbody>\n",
       "</table>\n",
       "</div>"
      ],
      "text/plain": [
       "                         contrast orientation  \\\n",
       "stimulus_presentation_id                        \n",
       "3798                          0.8         135   \n",
       "3799                          0.8         135   \n",
       "3800                          0.8          45   \n",
       "3801                          0.8           0   \n",
       "3802                         null        null   \n",
       "\n",
       "                                                     phase            size  \\\n",
       "stimulus_presentation_id                                                     \n",
       "3798                      [42471.86666667, 42471.86666667]  [250.0, 250.0]   \n",
       "3799                      [42471.86666667, 42471.86666667]  [250.0, 250.0]   \n",
       "3800                      [42471.86666667, 42471.86666667]  [250.0, 250.0]   \n",
       "3801                      [42471.86666667, 42471.86666667]  [250.0, 250.0]   \n",
       "3802                      [42471.86666667, 42471.86666667]  [250.0, 250.0]   \n",
       "\n",
       "                         spatial_frequency   start_time stimulus_block  \\\n",
       "stimulus_presentation_id                                                 \n",
       "3798                                  0.04  1590.310709              2   \n",
       "3799                                  0.04  1593.313231              2   \n",
       "3800                                  0.04  1596.315739              2   \n",
       "3801                                  0.04  1599.318261              2   \n",
       "3802                                  null  1602.320789              2   \n",
       "\n",
       "                              stimulus_name    stop_time temporal_frequency  \\\n",
       "stimulus_presentation_id                                                      \n",
       "3798                      drifting_gratings  1592.312419                  4   \n",
       "3799                      drifting_gratings  1595.314911                 15   \n",
       "3800                      drifting_gratings  1598.317439                 15   \n",
       "3801                      drifting_gratings  1601.319921                  1   \n",
       "3802                      drifting_gratings  1604.322439               null   \n",
       "\n",
       "                          duration  stimulus_condition_id  \n",
       "stimulus_presentation_id                                   \n",
       "3798                       2.00171                    246  \n",
       "3799                       2.00168                    247  \n",
       "3800                       2.00170                    248  \n",
       "3801                       2.00166                    249  \n",
       "3802                       2.00165                    250  "
      ]
     },
     "execution_count": 1,
     "metadata": {},
     "output_type": "execute_result"
    }
   ],
   "source": [
    "import os\n",
    "import numpy as np\n",
    "import pandas as pd\n",
    "import matplotlib.pyplot as plt\n",
    "from sklearn.model_selection import KFold\n",
    "from sklearn.decomposition import FactorAnalysis\n",
    "from sklearn.cross_decomposition import CCA\n",
    "from allensdk.brain_observatory.ecephys.ecephys_project_cache import EcephysProjectCache\n",
    "\n",
    "# basepath = \"E:\\Allensdk_data\\local\\ecephys_cache_dir\"\n",
    "basepath = \"/home/jialab/Allensdk_data/local/ecephys_cache_dir/\"\n",
    "manifest_path = os.path.join(basepath, \"manifest.json\")\n",
    "cache = EcephysProjectCache.from_warehouse(manifest=manifest_path)\n",
    "\n",
    "sessions = cache.get_session_table()\n",
    "session_id = 799864342\n",
    "session = cache.get_session_data(session_id)\n",
    "\n",
    "drift_stim_table = session.get_stimulus_table('drifting_gratings')\n",
    "drift_stim_table.head()"
   ]
  },
  {
   "cell_type": "code",
   "execution_count": 2,
   "metadata": {},
   "outputs": [],
   "source": [
    "def spike_matrix(area, stim_table, bin=0.1, period=2):\n",
    "    \"\"\"spike_matrix _summary_\n",
    "\n",
    "    _extended_summary_\n",
    "\n",
    "    Arguments:\n",
    "        area -- _description_\n",
    "        stim_table -- _description_\n",
    "\n",
    "    Keyword Arguments:\n",
    "        bin -- _description_ (default: {0.1})\n",
    "        period -- _description_ (default: {2})\n",
    "\n",
    "    Returns:\n",
    "        _description_\n",
    "    \"\"\"\n",
    "\n",
    "    area_units = session.units[session.units[\"ecephys_structure_acronym\"] == area]\n",
    "\n",
    "    time_bins = np.arange(0, period + bin, bin)  \n",
    "\n",
    "    spike_counts = session.presentationwise_spike_counts(\n",
    "        stimulus_presentation_ids=stim_table.index.values,  \n",
    "        bin_edges=time_bins,\n",
    "        unit_ids=area_units.index.values\n",
    "    )\n",
    "    \n",
    "    response_matrix = spike_counts.values\n",
    "\n",
    "    return response_matrix"
   ]
  },
  {
   "cell_type": "markdown",
   "metadata": {},
   "source": [
    "### Task4 Dimensionity of subspaces intra-areas and inter-areas"
   ]
  },
  {
   "cell_type": "code",
   "execution_count": 4,
   "metadata": {},
   "outputs": [
    {
     "name": "stdout",
     "output_type": "stream",
     "text": [
      "['VISam', nan, 'COAa', 'CA1', 'LP', 'DG', 'VISmma', 'VISp', 'ProS', 'SUB', 'CA3', 'CA2', 'VISl', 'VISal', 'LGd', 'VISrl', 'APN', 'POL']\n",
      "(12600, 75)\n"
     ]
    }
   ],
   "source": [
    "response_matrix = spike_matrix(area='VISp', stim_table=drift_stim_table)\n",
    "res_mat = response_matrix.reshape(response_matrix.shape[0]*response_matrix.shape[1],\n",
    "                                response_matrix.shape[2])\n",
    "print(res_mat.shape)"
   ]
  },
  {
   "cell_type": "markdown",
   "metadata": {},
   "source": [
    "intra Dimensionity got by FA"
   ]
  },
  {
   "cell_type": "code",
   "execution_count": 30,
   "metadata": {},
   "outputs": [],
   "source": [
    "def cross_val_FA(res_mat, latent_dim):\n",
    "\n",
    "    k_fold = 10\n",
    "    kf = KFold(n_splits=k_fold)\n",
    "    log_like = np.zeros(k_fold)\n",
    "\n",
    "    fold = 0\n",
    "    for train_index, test_index in kf.split(res_mat):\n",
    "        train, test = res_mat[train_index], res_mat[test_index]\n",
    "        # print(\"TRAIN:\", train.shape, \"TEST:\", test.shape)\n",
    "\n",
    "        fa = FactorAnalysis(n_components=latent_dim)\n",
    "        fa.fit(train)\n",
    "\n",
    "\n",
    "        log_like[fold] = fa.score(test)   # get Average log-likelihood of test\n",
    "        fold = fold + 1\n",
    "\n",
    "    return log_like.mean()\n"
   ]
  },
  {
   "cell_type": "code",
   "execution_count": 46,
   "metadata": {},
   "outputs": [
    {
     "name": "stdout",
     "output_type": "stream",
     "text": [
      "64\n"
     ]
    },
    {
     "data": {
      "image/png": "[encoded data removed]",
      "text/plain": [
       "<Figure size 432x288 with 1 Axes>"
      ]
     },
     "metadata": {
      "needs_background": "light"
     },
     "output_type": "display_data"
    }
   ],
   "source": [
    "N, n_features = res_mat.shape\n",
    "\n",
    "# select proper latent dimensions from [1, p-1]\n",
    "cv_log_like = np.zeros(n_features-1)\n",
    "for i in range(n_features-1):\n",
    "    latent_dim = i + 1\n",
    "    cv_log_like[i] = cross_val_FA(res_mat, latent_dim)\n",
    "\n",
    "latent_dim_log_like = np.argmax(cv_log_like) + 1\n",
    "print(latent_dim_log_like)\n",
    "\n",
    "plt.figure()\n",
    "plt.plot(cv_log_like)\n",
    "plt.title(f'cv_log_like of latent_dim in VISp')\n",
    "plt.xlabel('num of latent dimensions')\n",
    "# plt.xticks(ticks=tick_bins, labels=label_bins)\n",
    "plt.ylabel('cv_log_like')\n",
    "plt.show()"
   ]
  },
  {
   "cell_type": "code",
   "execution_count": 47,
   "metadata": {},
   "outputs": [
    {
     "name": "stdout",
     "output_type": "stream",
     "text": [
      "14\n"
     ]
    },
    {
     "name": "stderr",
     "output_type": "stream",
     "text": [
      "/home/jialab/downloads/Jia_server/anaconda3/envs/env_py_36/lib/python3.6/site-packages/numpy/core/_asarray.py:83: ComplexWarning: Casting complex values to real discards the imaginary part\n",
      "  return array(a, dtype, copy=False, order=order)\n"
     ]
    },
    {
     "data": {
      "image/png": "[encoded data removed]",
      "text/plain": [
       "<Figure size 432x288 with 1 Axes>"
      ]
     },
     "metadata": {
      "needs_background": "light"
     },
     "output_type": "display_data"
    }
   ],
   "source": [
    "\n",
    "# select proper latent dimensions with best dim got by log_like\n",
    "\n",
    "fa = FactorAnalysis(n_components=latent_dim_log_like)\n",
    "fa.fit(res_mat)\n",
    "load_mat = fa.components_   # (n_components, n_features)\n",
    "\n",
    "eigvals, eigvecs = np.linalg.eig(load_mat.T @ load_mat)\n",
    "ind = np.argsort(-eigvals)\n",
    "eigvals = eigvals[ind]\n",
    "shared_var = np.cumsum(eigvals)/np.sum(eigvals)\n",
    "\n",
    "threshold = 0.9\n",
    "latent_dim = np.where(shared_var>threshold)[0][0]\n",
    "print(latent_dim)\n",
    "\n",
    "plt.figure()\n",
    "plt.plot(shared_var)\n",
    "plt.axvline(x=latent_dim, ls='--', c='red') \n",
    "plt.axhline(y=threshold, ls='--', c='red') \n",
    "plt.title(f'shared_variance of latent_dim in VISp')\n",
    "plt.xlabel('num of latent dimensions')\n",
    "# plt.xticks(ticks=tick_bins, labels=label_bins)\n",
    "plt.ylabel('cv_log_like')\n",
    "plt.show()\n",
    "\n",
    "# # Create factor analysis object and perform factor analysis\n",
    "# fa = FactorAnalysis(n_components=latent_dim)\n",
    "# fa.fit(res_mat)\n",
    "# load_mat = fa.components_   # (n_components, n_features)\n",
    "# psi = fa.noise_variance_    # (n_features)\n",
    "# z = fa.transform(res_mat)"
   ]
  },
  {
   "cell_type": "code",
   "execution_count": 48,
   "metadata": {},
   "outputs": [],
   "source": [
    "def intra_dim_FA(area):\n",
    "\n",
    "    response_matrix = spike_matrix(area=area, stim_table=drift_stim_table)\n",
    "    res_mat = response_matrix.reshape(response_matrix.shape[0]*response_matrix.shape[1],\n",
    "                                    response_matrix.shape[2])\n",
    "    \n",
    "    N, n_features = res_mat.shape\n",
    "\n",
    "    # select proper latent dimensions from [1, p-1]\n",
    "    cv_log_like = np.zeros(n_features-1)\n",
    "    for i in range(n_features-1):\n",
    "        latent_dim = i + 1\n",
    "        cv_log_like[i] = cross_val_FA(res_mat, latent_dim)\n",
    "\n",
    "    latent_dim_log_like = np.argmax(cv_log_like) + 1\n",
    "\n",
    "    # select proper latent dimensions with best dim got by log_like\n",
    "    fa = FactorAnalysis(n_components=latent_dim_log_like)\n",
    "    fa.fit(res_mat)\n",
    "    load_mat = fa.components_   # (n_components, n_features)\n",
    "\n",
    "    eigvals, eigvecs = np.linalg.eig(load_mat.T @ load_mat)\n",
    "    ind = np.argsort(-eigvals)\n",
    "    eigvals = eigvals[ind]\n",
    "    shared_var = np.cumsum(eigvals)/np.sum(eigvals)\n",
    "\n",
    "    threshold = 0.9\n",
    "    latent_dim = np.where(shared_var>threshold)[0][0]\n",
    "\n",
    "    return latent_dim"
   ]
  },
  {
   "cell_type": "code",
   "execution_count": 51,
   "metadata": {},
   "outputs": [
    {
     "name": "stdout",
     "output_type": "stream",
     "text": [
      "18\n",
      "['VISam', nan, 'COAa', 'CA1', 'LP', 'DG', 'VISmma', 'VISp', 'ProS', 'SUB', 'CA3', 'CA2', 'VISl', 'VISal', 'LGd', 'VISrl', 'APN', 'POL']\n",
      "16\n",
      "['VISam', 'CA1', 'LP', 'DG', 'VISmma', 'VISp', 'ProS', 'SUB', 'CA3', 'CA2', 'VISl', 'VISal', 'LGd', 'VISrl', 'APN', 'POL']\n"
     ]
    },
    {
     "name": "stderr",
     "output_type": "stream",
     "text": [
      "/home/jialab/downloads/Jia_server/anaconda3/envs/env_py_36/lib/python3.6/site-packages/sklearn/decomposition/_factor_analysis.py:256: ConvergenceWarning: FactorAnalysis did not converge. You might want to increase the number of iterations.\n",
      "  ConvergenceWarning)\n"
     ]
    }
   ],
   "source": [
    "areas = session.structure_acronyms\n",
    "print(len(areas))\n",
    "print(areas)\n",
    "\n",
    "# delete nan in areas\n",
    "while np.nan in areas:\n",
    "    areas.remove(np.nan)\n",
    "\n",
    "# delete area with no units\n",
    "for area in areas:\n",
    "    units = session.units[session.units[\"ecephys_structure_acronym\"] == area]\n",
    "    if units.shape[0] == 0:\n",
    "        areas.remove(area)\n",
    "print(len(areas))\n",
    "print(areas)\n",
    "\n",
    "# areas_sorted = ['VISmma', 'VISam', 'VISl', 'VISal', 'VISrl', 'VISp', 'LP', 'LGd', 'DG', 'ProS', 'CA1', 'CA2', 'CA3', 'SUB', 'APN', 'POL']\n",
    "# print(len(areas_sorted))\n",
    "# print(areas_sorted)\n",
    "\n",
    "# intra_dimension for all areas\n",
    "units_area = np.zeros(len(areas))\n",
    "intra_dim_area = np.zeros(len(areas))\n",
    "for i, area in enumerate(areas):\n",
    "    units_area[i] = session.units[session.units[\"ecephys_structure_acronym\"] == area].shape[0]\n",
    "    intra_dim_area[i] = intra_dim_FA(area)\n",
    "\n",
    "x = np.array(range(len(areas)))\n",
    "width=0.4\n",
    "plt.figure()\n",
    "plt.bar(x, units_area, width=width, label='units',fc='y')\n",
    "plt.bar(x+np.array([width]), intra_dim_area, width=width, label='intra_dimensions', tick_label=areas, fc='r')\n",
    "plt.legend()\n",
    "plt.show()\n"
   ]
  },
  {
   "cell_type": "markdown",
   "metadata": {},
   "source": [
    "inter Dimensionity got by pCCA"
   ]
  },
  {
   "cell_type": "code",
   "execution_count": null,
   "metadata": {},
   "outputs": [],
   "source": [
    "def cross_val_pCCA(res_mat, latent_dim):\n",
    "\n",
    "    k_fold = 10\n",
    "    kf = KFold(n_splits=k_fold)\n",
    "    log_like = np.zeros(k_fold)\n",
    "\n",
    "    fold = 0\n",
    "    for train_index, test_index in kf.split(res_mat):\n",
    "        train, test = res_mat[train_index], res_mat[test_index]\n",
    "        # print(\"TRAIN:\", train.shape, \"TEST:\", test.shape)\n",
    "\n",
    "        fa = FactorAnalysis(n_components=latent_dim)\n",
    "        fa.fit(train)\n",
    "\n",
    "        log_like[fold] = fa.score(test)   # get Average log-likelihood of test\n",
    "        fold = fold + 1\n",
    "\n",
    "    return log_like.mean()\n",
    "\n",
    "def inter_dim_pCCA(area_1, area_2):\n",
    "\n",
    "    response_matrix = spike_matrix(area=area_1, stim_table=drift_stim_table)\n",
    "    res_mat_1 = response_matrix.reshape(response_matrix.shape[0]*response_matrix.shape[1],\n",
    "                                    response_matrix.shape[2])\n",
    "    response_matrix = spike_matrix(area=area_2, stim_table=drift_stim_table)\n",
    "    res_mat_2 = response_matrix.reshape(response_matrix.shape[0]*response_matrix.shape[1],\n",
    "                                    response_matrix.shape[2])\n",
    "    \n",
    "    res_mat = np.concatenate((res_mat_1, res_mat_2), axis = 1)\n",
    "\n",
    "    N, n_features = res_mat.shape\n",
    "    _, n_features_1 = res_mat_1.shape\n",
    "    _, n_features_2 = res_mat_2.shape\n",
    "\n",
    "    # select proper latent dimensions from [1, n_features-1]\n",
    "    cv_log_like = np.zeros(n_features-1)\n",
    "    for i in range(n_features-1):\n",
    "        latent_dim = i + 1\n",
    "        cv_log_like[i] = cross_val_pCCA(res_mat, latent_dim)\n",
    "\n",
    "    latent_dim_log_like = np.argmax(cv_log_like) + 1\n",
    "\n",
    "    # select proper latent dimensions with best dim got by log_like\n",
    "    fa = FactorAnalysis(n_components=latent_dim_log_like)\n",
    "    fa.fit(res_mat)\n",
    "    load_mat = fa.components_   # (n_components, n_features)\n",
    "    load_mat_1 = load_mat[:, :n_features_1]\n",
    "    load_mat_2 = load_mat[:, n_features_1:]\n",
    "\n",
    "    _, sing_vals, _ = np.linalg.svd(load_mat_1.T @ load_mat_2)\n",
    "\n",
    "    shared_var = np.cumsum(sing_vals)/np.sum(sing_vals)\n",
    "\n",
    "    threshold = 0.9\n",
    "    latent_dim = np.where(shared_var>threshold)[0][0]\n",
    "\n",
    "    return latent_dim"
   ]
  },
  {
   "cell_type": "code",
   "execution_count": null,
   "metadata": {},
   "outputs": [],
   "source": [
    "# inter_dimension across every two areas\n",
    "\n",
    "f, axes = plt.subplots(nrows=len(areas), ncols=1, figsize=(24, 25))\n",
    "width=0.16\n",
    "x = np.array(range(len(areas)))\n",
    "inter_dim_areas = np.zeros([len(areas), len(areas)])\n",
    "\n",
    "for i, area_1 in enumerate(areas):\n",
    "    units_area_1 = np.ones_like(x) * units_area[i]\n",
    "    intra_dim_area_1 = np.ones_like(x) * intra_dim_area[i]\n",
    "    axes[i, 0].bar(x, units_area_1, width=width, label='units_area_1', fc='r')\n",
    "    axes[i, 0].bar(x+np.array([width]), intra_dim_area_1, width=width, label='intra_dim_1', fc='y')\n",
    "\n",
    "    for j, area_2 in enumerate(areas):\n",
    "        inter_dim_areas[i, j] = inter_dim_pCCA(area_1, area_2)\n",
    "        units_area_2 = np.ones_like(x) * units_area[j]\n",
    "        intra_dim_area_2 = np.ones_like(x) * intra_dim_area[j]\n",
    "\n",
    "        if j == 0:\n",
    "            axes[i, j].set_ylabel(f'{area_1}')\n",
    "    \n",
    "    axes[i, 0].bar(x+np.array([2*width]), inter_dim_areas[i, :], width=width, label='inter_dim_areas', fc='g')\n",
    "    axes[i, 0].bar(x+np.array([3*width]), intra_dim_area_2, width=width, label='intra_dim_2', fc='b')\n",
    "    axes[i, 0].bar(x+np.array([4*width]), units_area_2, width=width, label='units_area_2', tick_label=areas, fc='c')\n",
    "    axes[i, 0].legend()\n",
    "\n",
    "f.suptitle('inter_dimension & intra_dimension across every two areas')\n",
    "plt.tight_layout()\n",
    "plt.show()\n"
   ]
  },
  {
   "cell_type": "markdown",
   "metadata": {},
   "source": [
    "- using different session to get error bar"
   ]
  },
  {
   "cell_type": "markdown",
   "metadata": {},
   "source": [
    "### Task5 Relation between subspaces\n",
    "* shared dimensionility\n",
    "* input/output dimensions\n",
    "* generalize canonical dimension across subspaces"
   ]
  },
  {
   "cell_type": "markdown",
   "metadata": {},
   "source": [
    "### Task6 Layer dependent information flow"
   ]
  },
  {
   "cell_type": "markdown",
   "metadata": {},
   "source": [
    "### Task7 Relation between area_subspace & layer_channel"
   ]
  }
 ],
 "metadata": {
  "interpreter": {
   "hash": "fc8027a76b0c1e9d42305f86455087737146f8b343f4069e2e8efdf0d68fdd44"
  },
  "kernelspec": {
   "display_name": "Python 3.6.13 ('env_py_36')",
   "language": "python",
   "name": "python3"
  },
  "language_info": {
   "codemirror_mode": {
    "name": "ipython",
    "version": 3
   },
   "file_extension": ".py",
   "mimetype": "text/x-python",
   "name": "python",
   "nbconvert_exporter": "python",
   "pygments_lexer": "ipython3",
   "version": "3.6.13"
  },
  "orig_nbformat": 4
 },
 "nbformat": 4,
 "nbformat_minor": 2
}
