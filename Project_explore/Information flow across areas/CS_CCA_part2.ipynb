{
 "cells": [
  {
   "cell_type": "markdown",
   "metadata": {},
   "source": [
    "### **Part 1**\n",
    "**Tasks**\n",
    "* explore proper visual stimuli\n",
    "  * spontaneous state\n",
    "  * (done) evoked state: drifting\n",
    "* Communication subspaces across different areas\n",
    "  * (done) correlation\n",
    "  * *dimensionality*\n",
    "    * intra_areas\n",
    "    * inter_areas\n",
    "* Information flow across subspaces\n",
    "  * (done) direction: population correlation as the function of the time delay between areas ($t_2$-$t_1$)\n",
    "  * intensity (correlation intensity)\n",
    "* Hierarchy of information flow  across these subspaces\n",
    "  * direction\n",
    "    * (done) inter_areas cca_delay\n",
    "    * *intra_areas cca_delay (layer_dependent)*\n",
    "    * *feedfward and feedback*\n",
    "  * function validation\n",
    "* Relation between different information flow channels\n",
    "  * *subspace & layer_dependent*\n",
    "  * *shared dimensionility*\n",
    "  * *input/output dimensions*\n",
    "  * *generalize canonical dimension across subspaces*\n",
    "  * subspaces angle\n",
    "  * CCA across subspaces\n",
    "  * predictive coding\n",
    "* (to do) State dependent geometrical properties of these channels\n",
    "* (to do) Dynamical system across areas modeled by multi-region RNN network"
   ]
  },
  {
   "cell_type": "markdown",
   "metadata": {},
   "source": [
    "### Task4 Dimensionity of subspaces intra-areas and inter-areas"
   ]
  },
  {
   "cell_type": "markdown",
   "metadata": {},
   "source": [
    "### Task5 Relation between subspaces\n",
    "* shared dimensionility\n",
    "* input/output dimensions\n",
    "* generalize canonical dimension across subspaces"
   ]
  },
  {
   "cell_type": "markdown",
   "metadata": {},
   "source": [
    "### Task6 Layer dependent information flow"
   ]
  },
  {
   "cell_type": "markdown",
   "metadata": {},
   "source": [
    "### Task7 Relation between area_subspace & layer_channel"
   ]
  }
 ],
 "metadata": {
  "language_info": {
   "name": "python"
  },
  "orig_nbformat": 4
 },
 "nbformat": 4,
 "nbformat_minor": 2
}
