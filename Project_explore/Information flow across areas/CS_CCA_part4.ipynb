{
 "cells": [
  {
   "cell_type": "markdown",
   "metadata": {},
   "source": [
    "### **Part 4**\n",
    "**Tasks**\n",
    "* explore proper visual stimuli\n",
    "  * spontaneous state\n",
    "  * (done) evoked state: drifting\n",
    "* Communication subspaces across different areas\n",
    "  * (done) correlation\n",
    "  * (done) dimensionality\n",
    "    * intra_areas\n",
    "    * inter_areas\n",
    "* Information flow across subspaces\n",
    "  * (done) direction: population correlation as the function of the time delay between areas ($t_2$-$t_1$)\n",
    "  * intensity (correlation intensity)\n",
    "* Hierarchy of information flow  across these subspaces\n",
    "  * direction\n",
    "    * (done) inter_areas cca_delay\n",
    "    * *intra_areas cca_delay (layer_dependent)*\n",
    "    * (done) feedfward and feedback\n",
    "    * (done) input/output dimensions\n",
    "  * function validation\n",
    "* Relation between different information flow channels\n",
    "  * *subspace & layer_dependent*\n",
    "  * shared dimensionility\n",
    "  * (done) generalize canonical dimension across subspaces\n",
    "  * (done) subspaces angle\n",
    "  * CCA across subspaces\n",
    "  * predictive coding\n",
    "* (to do) State dependent geometrical properties of these channels\n",
    "* (to do) Dynamical system across areas modeled by multi-region RNN network"
   ]
  },
  {
   "cell_type": "markdown",
   "metadata": {},
   "source": [
    "*****************\n",
    "(doing) \n",
    "* clear up code, make them beauty\n",
    "* speed up code, make them faster\n",
    "* generize code across areas and sessions/mice\n",
    "****************"
   ]
  },
  {
   "cell_type": "code",
   "execution_count": 1,
   "metadata": {},
   "outputs": [],
   "source": [
    "import os\n",
    "import torch\n",
    "import cupy as cp\n",
    "import numpy as np\n",
    "import pandas as pd\n",
    "import matplotlib.pyplot as plt\n",
    "from scipy.linalg import subspace_angles\n",
    "from sklearn.model_selection import KFold\n",
    "from sklearn.decomposition import FactorAnalysis\n",
    "from sklearn.cross_decomposition import CCA\n",
    "from allensdk.brain_observatory.ecephys.ecephys_project_cache import EcephysProjectCache"
   ]
  },
  {
   "cell_type": "code",
   "execution_count": 23,
   "metadata": {},
   "outputs": [
    {
     "name": "stdout",
     "output_type": "stream",
     "text": [
      "GPU is enabled in this notebook.\n",
      "Num of gpu: 4\n",
      "example: tensor([3, 4, 5])\n",
      "example: tensor([3, 4, 5], device='cuda:0')\n",
      "example: tensor([0, 1, 2], device='cuda:1')\n"
     ]
    }
   ],
   "source": [
    "def set_device(i):\n",
    "  \"\"\"\n",
    "  Set the device. CUDA if available, CPU otherwise\n",
    "  \"\"\"\n",
    "  device = \"cuda\" if torch.cuda.is_available() else \"cpu\"\n",
    "  if device != \"cuda\":\n",
    "    print(\"GPU is not enabled in this notebook.\")\n",
    "  else:\n",
    "    print(\"GPU is enabled in this notebook.\")\n",
    "    if torch.cuda.device_count() >= i + 1:\n",
    "      device = f'cuda:{i}'\n",
    "  return device\n",
    "\n",
    "DEVICE = set_device(0)\n",
    "print('Num of gpu:', torch.cuda.device_count())\n",
    "\n",
    "x = torch.tensor([0, 1, 2], device=DEVICE)\n",
    "y = torch.tensor([3, 4, 5], device=\"cpu\")\n",
    "print('example:', y)\n",
    "y = y.to(DEVICE)  # alternatively, you can use y = y.cuda()\n",
    "print('example:', y)\n",
    "x = x.to('cuda:1')\n",
    "print('example:', x)"
   ]
  },
  {
   "cell_type": "code",
   "execution_count": 2,
   "metadata": {},
   "outputs": [],
   "source": [
    "# basepath = \"E:\\Allensdk_data\\local\\ecephys_cache_dir\"\n",
    "basepath = \"/home/jialab/Allensdk_data/local/ecephys_cache_dir/\"\n",
    "manifest_path = os.path.join(basepath, \"manifest.json\")\n",
    "cache = EcephysProjectCache.from_warehouse(manifest=manifest_path)\n",
    "\n",
    "sessions = cache.get_session_table()\n",
    "session_id = 799864342\n",
    "session = cache.get_session_data(session_id)\n",
    "\n",
    "drift_stim_table = session.get_stimulus_table('drifting_gratings')\n",
    "drift_stim_table.head()"
   ]
  },
  {
   "cell_type": "markdown",
   "metadata": {},
   "source": [
    "### Task7 Layer dependent information flow"
   ]
  },
  {
   "cell_type": "markdown",
   "metadata": {},
   "source": [
    "### Task8 Relation between area_subspace & layer_channel"
   ]
  },
  {
   "cell_type": "code",
   "execution_count": null,
   "metadata": {},
   "outputs": [],
   "source": []
  }
 ],
 "metadata": {
  "interpreter": {
   "hash": "fc8027a76b0c1e9d42305f86455087737146f8b343f4069e2e8efdf0d68fdd44"
  },
  "kernelspec": {
   "display_name": "Python 3.6.13 ('env_py_36')",
   "language": "python",
   "name": "python3"
  },
  "language_info": {
   "codemirror_mode": {
    "name": "ipython",
    "version": 3
   },
   "file_extension": ".py",
   "mimetype": "text/x-python",
   "name": "python",
   "nbconvert_exporter": "python",
   "pygments_lexer": "ipython3",
   "version": "3.6.13"
  },
  "orig_nbformat": 4
 },
 "nbformat": 4,
 "nbformat_minor": 2
}
