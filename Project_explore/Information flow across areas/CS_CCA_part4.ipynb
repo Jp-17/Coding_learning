{
 "cells": [
  {
   "cell_type": "markdown",
   "metadata": {},
   "source": [
    "### **Part 4**\n",
    "**Tasks**\n",
    "* explore proper visual stimuli\n",
    "  * spontaneous state\n",
    "  * (done) evoked state: drifting\n",
    "* Communication subspaces across different areas\n",
    "  * (done) correlation\n",
    "  * (done) dimensionality\n",
    "    * intra_areas\n",
    "    * inter_areas\n",
    "* Information flow across subspaces\n",
    "  * (done) direction: population correlation as the function of the time delay between areas ($t_2$-$t_1$)\n",
    "  * intensity (correlation intensity)\n",
    "* Hierarchy of information flow  across these subspaces\n",
    "  * direction\n",
    "    * (done) inter_areas cca_delay\n",
    "    * *intra_areas cca_delay (layer_dependent)*\n",
    "    * (done) feedfward and feedback\n",
    "    * (done) input/output dimensions\n",
    "  * function validation\n",
    "* Relation between different information flow channels\n",
    "  * *subspace & layer_dependent*\n",
    "  * shared dimensionility\n",
    "  * (done) generalize canonical dimension across subspaces\n",
    "  * (done) subspaces angle\n",
    "  * CCA across subspaces\n",
    "  * predictive coding\n",
    "* (to do) State dependent geometrical properties of these channels\n",
    "* (to do) Dynamical system across areas modeled by multi-region RNN network"
   ]
  },
  {
   "cell_type": "markdown",
   "metadata": {},
   "source": [
    "*****************\n",
    "(doing) \n",
    "* clear up code, make them beauty\n",
    "* speed up code, make them faster\n",
    "* generize code across areas\n",
    "****************"
   ]
  },
  {
   "cell_type": "code",
   "execution_count": null,
   "metadata": {},
   "outputs": [],
   "source": []
  },
  {
   "cell_type": "markdown",
   "metadata": {},
   "source": [
    "### Task7 Layer dependent information flow"
   ]
  },
  {
   "cell_type": "markdown",
   "metadata": {},
   "source": [
    "### Task8 Relation between area_subspace & layer_channel"
   ]
  },
  {
   "cell_type": "code",
   "execution_count": null,
   "metadata": {},
   "outputs": [],
   "source": []
  }
 ],
 "metadata": {
  "language_info": {
   "name": "python"
  },
  "orig_nbformat": 4
 },
 "nbformat": 4,
 "nbformat_minor": 2
}
