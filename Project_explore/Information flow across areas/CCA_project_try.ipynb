{
 "cells": [
  {
   "cell_type": "code",
   "execution_count": 1,
   "metadata": {},
   "outputs": [],
   "source": [
    "import os\n",
    "\n",
    "import numpy as np\n",
    "import pandas as pd\n",
    "import matplotlib.pyplot as plt\n",
    "\n",
    "from allensdk.brain_observatory.ecephys.ecephys_project_cache import EcephysProjectCache\n",
    "\n",
    "# tell pandas to show all columns when we display a DataFrame\n",
    "pd.set_option(\"display.max_columns\", None)"
   ]
  },
  {
   "cell_type": "markdown",
   "metadata": {},
   "source": [
    "## Allen data preprocessing\n",
    "Get AllenData sessions"
   ]
  },
  {
   "cell_type": "code",
   "execution_count": 2,
   "metadata": {},
   "outputs": [],
   "source": [
    "basepath = \"E:\\Allensdk_data\\local\\ecephys_cache_dir\"\n",
    "manifest_path = os.path.join(basepath, \"manifest.json\")\n",
    "cache = EcephysProjectCache.from_warehouse(manifest=manifest_path)\n",
    "\n",
    "sessions = cache.get_session_table()"
   ]
  },
  {
   "cell_type": "markdown",
   "metadata": {},
   "source": [
    "Select a session randomly"
   ]
  },
  {
   "cell_type": "code",
   "execution_count": 3,
   "metadata": {},
   "outputs": [
    {
     "name": "stdout",
     "output_type": "stream",
     "text": [
      "['VISam', nan, 'COAa', 'CA1', 'LP', 'DG', 'VISmma', 'VISp', 'ProS', 'SUB', 'CA3', 'CA2', 'VISl', 'VISal', 'LGd', 'VISrl', 'APN', 'POL']\n"
     ]
    }
   ],
   "source": [
    "session_id = 799864342\n",
    "session = cache.get_session_data(session_id)\n",
    "\n",
    "print(session.structure_acronyms)\n",
    "print(session.stimulus_names)"
   ]
  },
  {
   "cell_type": "markdown",
   "metadata": {},
   "source": [
    "Select 'drifting_gratings' stimuli with contrast 0.8 and temporal_frequency 15.0, but 8 different orientations. \n",
    "Each stimuli was presented 15 times for 2 seconds"
   ]
  },
  {
   "cell_type": "code",
   "execution_count": null,
   "metadata": {},
   "outputs": [
    {
     "name": "stdout",
     "output_type": "stream",
     "text": [
      "15.0    120\n",
      "8.0     120\n",
      "4.0     120\n",
      "2.0     120\n",
      "1.0     120\n",
      "null     30\n",
      "Name: temporal_frequency, dtype: int64\n",
      "270.0    15\n",
      "45.0     15\n",
      "315.0    15\n",
      "90.0     15\n",
      "135.0    15\n",
      "180.0    15\n",
      "225.0    15\n",
      "0.0      15\n",
      "Name: orientation, dtype: int64\n",
      "254    15\n",
      "252    15\n",
      "248    15\n",
      "247    15\n",
      "277    15\n",
      "272    15\n",
      "267    15\n",
      "256    15\n",
      "Name: stimulus_condition_id, dtype: int64\n"
     ]
    },
    {
     "data": {
      "text/html": [
       "<div>\n",
       "<style scoped>\n",
       "    .dataframe tbody tr th:only-of-type {\n",
       "        vertical-align: middle;\n",
       "    }\n",
       "\n",
       "    .dataframe tbody tr th {\n",
       "        vertical-align: top;\n",
       "    }\n",
       "\n",
       "    .dataframe thead th {\n",
       "        text-align: right;\n",
       "    }\n",
       "</style>\n",
       "<table border=\"1\" class=\"dataframe\">\n",
       "  <thead>\n",
       "    <tr style=\"text-align: right;\">\n",
       "      <th></th>\n",
       "      <th>contrast</th>\n",
       "      <th>orientation</th>\n",
       "      <th>phase</th>\n",
       "      <th>size</th>\n",
       "      <th>spatial_frequency</th>\n",
       "      <th>start_time</th>\n",
       "      <th>stimulus_block</th>\n",
       "      <th>stimulus_name</th>\n",
       "      <th>stop_time</th>\n",
       "      <th>temporal_frequency</th>\n",
       "      <th>duration</th>\n",
       "      <th>stimulus_condition_id</th>\n",
       "    </tr>\n",
       "    <tr>\n",
       "      <th>stimulus_presentation_id</th>\n",
       "      <th></th>\n",
       "      <th></th>\n",
       "      <th></th>\n",
       "      <th></th>\n",
       "      <th></th>\n",
       "      <th></th>\n",
       "      <th></th>\n",
       "      <th></th>\n",
       "      <th></th>\n",
       "      <th></th>\n",
       "      <th></th>\n",
       "      <th></th>\n",
       "    </tr>\n",
       "  </thead>\n",
       "  <tbody>\n",
       "    <tr>\n",
       "      <th>3799</th>\n",
       "      <td>0.8</td>\n",
       "      <td>135</td>\n",
       "      <td>[42471.86666667, 42471.86666667]</td>\n",
       "      <td>[250.0, 250.0]</td>\n",
       "      <td>0.04</td>\n",
       "      <td>1593.313231</td>\n",
       "      <td>2</td>\n",
       "      <td>drifting_gratings</td>\n",
       "      <td>1595.314911</td>\n",
       "      <td>15</td>\n",
       "      <td>2.00168</td>\n",
       "      <td>247</td>\n",
       "    </tr>\n",
       "    <tr>\n",
       "      <th>3800</th>\n",
       "      <td>0.8</td>\n",
       "      <td>45</td>\n",
       "      <td>[42471.86666667, 42471.86666667]</td>\n",
       "      <td>[250.0, 250.0]</td>\n",
       "      <td>0.04</td>\n",
       "      <td>1596.315739</td>\n",
       "      <td>2</td>\n",
       "      <td>drifting_gratings</td>\n",
       "      <td>1598.317439</td>\n",
       "      <td>15</td>\n",
       "      <td>2.00170</td>\n",
       "      <td>248</td>\n",
       "    </tr>\n",
       "    <tr>\n",
       "      <th>3805</th>\n",
       "      <td>0.8</td>\n",
       "      <td>0</td>\n",
       "      <td>[42471.86666667, 42471.86666667]</td>\n",
       "      <td>[250.0, 250.0]</td>\n",
       "      <td>0.04</td>\n",
       "      <td>1611.328291</td>\n",
       "      <td>2</td>\n",
       "      <td>drifting_gratings</td>\n",
       "      <td>1613.329971</td>\n",
       "      <td>15</td>\n",
       "      <td>2.00168</td>\n",
       "      <td>252</td>\n",
       "    </tr>\n",
       "    <tr>\n",
       "      <th>3807</th>\n",
       "      <td>0.8</td>\n",
       "      <td>90</td>\n",
       "      <td>[42471.86666667, 42471.86666667]</td>\n",
       "      <td>[250.0, 250.0]</td>\n",
       "      <td>0.04</td>\n",
       "      <td>1617.333321</td>\n",
       "      <td>2</td>\n",
       "      <td>drifting_gratings</td>\n",
       "      <td>1619.334971</td>\n",
       "      <td>15</td>\n",
       "      <td>2.00165</td>\n",
       "      <td>254</td>\n",
       "    </tr>\n",
       "    <tr>\n",
       "      <th>3809</th>\n",
       "      <td>0.8</td>\n",
       "      <td>315</td>\n",
       "      <td>[42471.86666667, 42471.86666667]</td>\n",
       "      <td>[250.0, 250.0]</td>\n",
       "      <td>0.04</td>\n",
       "      <td>1623.338331</td>\n",
       "      <td>2</td>\n",
       "      <td>drifting_gratings</td>\n",
       "      <td>1625.340001</td>\n",
       "      <td>15</td>\n",
       "      <td>2.00167</td>\n",
       "      <td>256</td>\n",
       "    </tr>\n",
       "  </tbody>\n",
       "</table>\n",
       "</div>"
      ],
      "text/plain": [
       "                         contrast orientation  \\\n",
       "stimulus_presentation_id                        \n",
       "3799                          0.8         135   \n",
       "3800                          0.8          45   \n",
       "3805                          0.8           0   \n",
       "3807                          0.8          90   \n",
       "3809                          0.8         315   \n",
       "\n",
       "                                                     phase            size  \\\n",
       "stimulus_presentation_id                                                     \n",
       "3799                      [42471.86666667, 42471.86666667]  [250.0, 250.0]   \n",
       "3800                      [42471.86666667, 42471.86666667]  [250.0, 250.0]   \n",
       "3805                      [42471.86666667, 42471.86666667]  [250.0, 250.0]   \n",
       "3807                      [42471.86666667, 42471.86666667]  [250.0, 250.0]   \n",
       "3809                      [42471.86666667, 42471.86666667]  [250.0, 250.0]   \n",
       "\n",
       "                         spatial_frequency   start_time stimulus_block  \\\n",
       "stimulus_presentation_id                                                 \n",
       "3799                                  0.04  1593.313231              2   \n",
       "3800                                  0.04  1596.315739              2   \n",
       "3805                                  0.04  1611.328291              2   \n",
       "3807                                  0.04  1617.333321              2   \n",
       "3809                                  0.04  1623.338331              2   \n",
       "\n",
       "                              stimulus_name    stop_time temporal_frequency  \\\n",
       "stimulus_presentation_id                                                      \n",
       "3799                      drifting_gratings  1595.314911                 15   \n",
       "3800                      drifting_gratings  1598.317439                 15   \n",
       "3805                      drifting_gratings  1613.329971                 15   \n",
       "3807                      drifting_gratings  1619.334971                 15   \n",
       "3809                      drifting_gratings  1625.340001                 15   \n",
       "\n",
       "                          duration  stimulus_condition_id  \n",
       "stimulus_presentation_id                                   \n",
       "3799                       2.00168                    247  \n",
       "3800                       2.00170                    248  \n",
       "3805                       2.00168                    252  \n",
       "3807                       2.00165                    254  \n",
       "3809                       2.00167                    256  "
      ]
     },
     "execution_count": 4,
     "metadata": {},
     "output_type": "execute_result"
    }
   ],
   "source": [
    "stim_table = session.get_stimulus_table('drifting_gratings')\n",
    "print(stim_table['temporal_frequency'].value_counts())\n",
    "\n",
    "stim_orientation_table = stim_table[stim_table['temporal_frequency'] == 15.0 ]\n",
    "print(stim_orientation_table['orientation'].value_counts())\n",
    "print(stim_orientation_table['stimulus_condition_id'].value_counts())\n",
    "stim_orientation_table.head()"
   ]
  },
  {
   "cell_type": "markdown",
   "metadata": {},
   "source": [
    "Select units from VISam area as X_a and VISmma area as X_b"
   ]
  },
  {
   "cell_type": "code",
   "execution_count": 5,
   "metadata": {},
   "outputs": [],
   "source": [
    "VISam_units = session.units[session.units[\"ecephys_structure_acronym\"] == 'VISam']\n",
    "VISmma_units = session.units[session.units[\"ecephys_structure_acronym\"] == 'VISmma']"
   ]
  },
  {
   "cell_type": "code",
   "execution_count": null,
   "metadata": {},
   "outputs": [],
   "source": [
    "VISam_units"
   ]
  },
  {
   "cell_type": "markdown",
   "metadata": {},
   "source": [
    "Count spikes in 100ms bins after stimuli onset and spaning a total of 2 seconds"
   ]
  },
  {
   "cell_type": "code",
   "execution_count": 6,
   "metadata": {},
   "outputs": [
    {
     "name": "stdout",
     "output_type": "stream",
     "text": [
      "stimulus_presentation_id\n",
      "3799     2.00168\n",
      "3800     2.00170\n",
      "3805     2.00168\n",
      "3807     2.00165\n",
      "3809     2.00167\n",
      "          ...   \n",
      "49396    2.00167\n",
      "49409    2.00167\n",
      "49416    2.00166\n",
      "49421    2.00169\n",
      "49426    2.00167\n",
      "Name: duration, Length: 120, dtype: float64\n"
     ]
    },
    {
     "data": {
      "text/plain": [
       "array([0. , 0.1, 0.2, 0.3, 0.4, 0.5, 0.6, 0.7, 0.8, 0.9, 1. , 1.1, 1.2,\n",
       "       1.3, 1.4, 1.5, 1.6, 1.7, 1.8, 1.9, 2. ])"
      ]
     },
     "execution_count": 6,
     "metadata": {},
     "output_type": "execute_result"
    }
   ],
   "source": [
    "print(stim_orientation_table.duration)\n",
    "time_step = 0.1\n",
    "time_bins = np.arange(0, 2 + time_step, time_step)\n",
    "time_bins"
   ]
  },
  {
   "cell_type": "markdown",
   "metadata": {},
   "source": [
    "Spike_counts in VISam"
   ]
  },
  {
   "cell_type": "code",
   "execution_count": 7,
   "metadata": {},
   "outputs": [
    {
     "name": "stdout",
     "output_type": "stream",
     "text": [
      "(120, 20, 29)\n",
      "Coordinates:\n",
      "  * stimulus_presentation_id         (stimulus_presentation_id) int64 3799 ... 49426\n",
      "  * time_relative_to_stimulus_onset  (time_relative_to_stimulus_onset) float64 0.05 ... 1.95\n",
      "  * unit_id                          (unit_id) int64 951087804 ... 951088476\n"
     ]
    },
    {
     "data": {
      "text/plain": [
       "(120,)"
      ]
     },
     "execution_count": 7,
     "metadata": {},
     "output_type": "execute_result"
    }
   ],
   "source": [
    "VISam_spike_counts = session.presentationwise_spike_counts(\n",
    "    stimulus_presentation_ids=stim_orientation_table.index.values,  \n",
    "    bin_edges=time_bins,\n",
    "    unit_ids=VISam_units.index.values\n",
    ")\n",
    "print(VISam_spike_counts.shape)\n",
    "print(VISam_spike_counts.coords)\n",
    "VISam_spike_counts['stimulus_presentation_id'].values.shape"
   ]
  },
  {
   "cell_type": "code",
   "execution_count": 8,
   "metadata": {},
   "outputs": [
    {
     "name": "stdout",
     "output_type": "stream",
     "text": [
      "(120, 20, 29)\n",
      "(2400, 29)\n"
     ]
    },
    {
     "data": {
      "text/plain": [
       "Text(0, 0.5, 'spike counts')"
      ]
     },
     "execution_count": 8,
     "metadata": {},
     "output_type": "execute_result"
    },
    {
     "data": {
      "image/png": "[encoded data removed]",
      "text/plain": [
       "<Figure size 432x288 with 1 Axes>"
      ]
     },
     "metadata": {
      "needs_background": "light"
     },
     "output_type": "display_data"
    }
   ],
   "source": [
    "# convert spike_counts structure from stimulus_presentation_id*time_bins* unit_id \n",
    "# to stimulus_bins_counts * units, (120, 20, 109) -> (2400, 109)\n",
    "\n",
    "counts_matrix = VISam_spike_counts.values\n",
    "print(counts_matrix.shape)\n",
    "VISam_counts = counts_matrix.reshape(counts_matrix.shape[0]*counts_matrix.shape[1], counts_matrix.shape[2])\n",
    "print(VISam_counts.shape)\n",
    "\n",
    "plt.figure()\n",
    "plt.plot(VISam_counts[:300, 0])\n",
    "plt.title('spike_counts of neuron 0 in VISam')\n",
    "plt.xlabel('stimulus bins')\n",
    "plt.ylabel('spike counts')\n"
   ]
  },
  {
   "cell_type": "markdown",
   "metadata": {},
   "source": [
    "Spike_counts in VISmma"
   ]
  },
  {
   "cell_type": "code",
   "execution_count": 9,
   "metadata": {},
   "outputs": [
    {
     "name": "stdout",
     "output_type": "stream",
     "text": [
      "(120, 20, 44)\n",
      "Coordinates:\n",
      "  * stimulus_presentation_id         (stimulus_presentation_id) int64 3799 ... 49426\n",
      "  * time_relative_to_stimulus_onset  (time_relative_to_stimulus_onset) float64 0.05 ... 1.95\n",
      "  * unit_id                          (unit_id) int64 951091096 ... 951092146\n"
     ]
    },
    {
     "data": {
      "text/plain": [
       "(120,)"
      ]
     },
     "execution_count": 9,
     "metadata": {},
     "output_type": "execute_result"
    }
   ],
   "source": [
    "VISmma_spike_counts = session.presentationwise_spike_counts(\n",
    "    stimulus_presentation_ids=stim_orientation_table.index.values,  \n",
    "    bin_edges=time_bins,\n",
    "    unit_ids=VISmma_units.index.values\n",
    ")\n",
    "print(VISmma_spike_counts.shape)\n",
    "print(VISmma_spike_counts.coords)\n",
    "VISmma_spike_counts['stimulus_presentation_id'].values.shape"
   ]
  },
  {
   "cell_type": "code",
   "execution_count": 10,
   "metadata": {},
   "outputs": [
    {
     "name": "stdout",
     "output_type": "stream",
     "text": [
      "(120, 20, 44)\n",
      "(2400, 44)\n"
     ]
    },
    {
     "data": {
      "text/plain": [
       "Text(0, 0.5, 'spike counts')"
      ]
     },
     "execution_count": 10,
     "metadata": {},
     "output_type": "execute_result"
    },
    {
     "data": {
      "image/png": "[encoded data removed]",
      "text/plain": [
       "<Figure size 432x288 with 1 Axes>"
      ]
     },
     "metadata": {
      "needs_background": "light"
     },
     "output_type": "display_data"
    }
   ],
   "source": [
    "# convert spike_counts structure from stimulus_presentation_id*time_bins* unit_id \n",
    "# to stimulus_bins_counts * units, (120, 20, 109) -> (2400, 109)\n",
    "\n",
    "counts_matrix = VISmma_spike_counts.values\n",
    "print(counts_matrix.shape)\n",
    "VISmma_counts = counts_matrix.reshape(counts_matrix.shape[0]*counts_matrix.shape[1], counts_matrix.shape[2])\n",
    "print(VISmma_counts.shape)\n",
    "\n",
    "plt.figure()\n",
    "plt.plot(VISmma_counts[:300, 0])\n",
    "plt.title('spike_counts of neuron 0 in VISmma')\n",
    "plt.xlabel('stimulus bins')\n",
    "plt.ylabel('spike counts')"
   ]
  },
  {
   "cell_type": "markdown",
   "metadata": {},
   "source": [
    "## CCA between VISam (X_a) and VISmma (X_b)"
   ]
  },
  {
   "cell_type": "code",
   "execution_count": 11,
   "metadata": {},
   "outputs": [
    {
     "name": "stdout",
     "output_type": "stream",
     "text": [
      "(2400, 29)\n",
      "(2400, 44)\n"
     ]
    }
   ],
   "source": [
    "X_a = VISam_counts\n",
    "X_b = VISmma_counts\n",
    "\n",
    "# Standardize data to zero mean and unit variance\n",
    "X_a = X_a - X_a.mean(axis=0)\n",
    "X_a = X_a / X_a.std(axis=0)\n",
    "\n",
    "X_b = X_b - X_b.mean(axis=0)\n",
    "X_b = X_b / X_b.std(axis=0)\n",
    "\n",
    "print(X_a.shape)\n",
    "print(X_b.shape)"
   ]
  },
  {
   "cell_type": "code",
   "execution_count": 12,
   "metadata": {},
   "outputs": [
    {
     "name": "stdout",
     "output_type": "stream",
     "text": [
      "(2400, 10)\n",
      "(2400, 10)\n"
     ]
    }
   ],
   "source": [
    "from sklearn.cross_decomposition import CCA\n",
    "\n",
    "n_components = 10\n",
    "cca = CCA(n_components)\n",
    "cca.fit(X_a, X_b)\n",
    "\n",
    "z_a_sklearn, z_b_sklearn = cca.transform(X_a, X_b) \n",
    "print(z_a_sklearn.shape)\n",
    "print(z_b_sklearn.shape)"
   ]
  },
  {
   "cell_type": "markdown",
   "metadata": {},
   "source": [
    "weight get by sklearn.cca"
   ]
  },
  {
   "cell_type": "code",
   "execution_count": 13,
   "metadata": {},
   "outputs": [
    {
     "name": "stdout",
     "output_type": "stream",
     "text": [
      "weight got by sklearn\n",
      "(29, 10)\n",
      "[[ 0.15446314 -0.40686013 -0.33638914 -0.04492249  0.08872337]\n",
      " [ 0.08585327 -0.08305584  0.06207071  0.0693492   0.1546403 ]\n",
      " [-0.00604659 -0.04849019  0.00528093  0.00926423 -0.08927519]\n",
      " [ 0.15493895  0.24499367 -0.14842847 -0.01772624 -0.23251553]\n",
      " [ 0.01696952 -0.01556701  0.05195294  0.04707134 -0.03225741]]\n",
      "(44, 10)\n",
      "[[-0.42056043  0.74769671 -0.32945403 -0.21047384 -0.19190184]\n",
      " [-0.00434449  0.09307483 -0.08183258  0.06649682  0.09404859]\n",
      " [ 0.02522731  0.01983522  0.07956942 -0.02389632 -0.07703842]\n",
      " [ 0.24344496  0.32277064 -0.09605817 -0.07861089 -0.17214943]\n",
      " [ 0.15836319 -0.28632085  0.06559548 -0.16528219 -0.24952958]]\n"
     ]
    }
   ],
   "source": [
    "w_a_sklearn = cca.x_rotations_\n",
    "w_b_sklearn = cca.y_rotations_\n",
    "\n",
    "print(\"weight got by sklearn\")\n",
    "print(w_a_sklearn.shape)\n",
    "print(w_a_sklearn[:5, :5])\n",
    "print(w_b_sklearn.shape)\n",
    "print(w_b_sklearn[:5, :5])"
   ]
  },
  {
   "cell_type": "markdown",
   "metadata": {},
   "source": [
    "correlation get by sklearn.cca"
   ]
  },
  {
   "cell_type": "code",
   "execution_count": 14,
   "metadata": {},
   "outputs": [
    {
     "name": "stdout",
     "output_type": "stream",
     "text": [
      "correlation got by sklearn\n",
      "[0.70580206 0.68787211 0.47318666 0.45819839 0.41271758 0.37554635\n",
      " 0.32184232 0.31325953 0.27267573 0.26793366]\n"
     ]
    }
   ],
   "source": [
    "corr_z_sklearn = np.empty(n_components)\n",
    "\n",
    "for i in range(n_components):\n",
    "    corr_z_sklearn[i] = np.corrcoef(z_a_sklearn[:, i], z_b_sklearn[:, i])[0, 1]\n",
    "\n",
    "print(\"correlation got by sklearn\")\n",
    "print(corr_z_sklearn)"
   ]
  },
  {
   "cell_type": "markdown",
   "metadata": {},
   "source": [
    "plot canonical dimension between different areas"
   ]
  },
  {
   "cell_type": "code",
   "execution_count": 15,
   "metadata": {},
   "outputs": [
    {
     "data": {
      "image/png": "[encoded data removed]",
      "text/plain": [
       "<Figure size 432x288 with 1 Axes>"
      ]
     },
     "metadata": {
      "needs_background": "light"
     },
     "output_type": "display_data"
    }
   ],
   "source": [
    "component = 0 # principle components\n",
    "n_samples = 1000\n",
    "\n",
    "z_a = z_a_sklearn[:, component]\n",
    "z_b = z_b_sklearn[:, component]\n",
    "\n",
    "fig, ax = plt.subplots()\n",
    "ax1 = ax.scatter(z_a[:n_samples], z_b[:n_samples], c='blue')\n",
    "\n",
    "ax.set_xlabel(f'Priciple dimension {component} in X_a')\n",
    "ax.set_ylabel(f'Priciple dimension {component} in X_b')\n",
    "ax.set_title(f'Priciple dimension {component}: Corr {corr_z_sklearn[component]:.2f}')\n",
    "plt.show()"
   ]
  },
  {
   "cell_type": "code",
   "execution_count": 16,
   "metadata": {},
   "outputs": [
    {
     "data": {
      "image/png": "[encoded data removed]",
      "text/plain": [
       "<Figure size 432x288 with 1 Axes>"
      ]
     },
     "metadata": {
      "needs_background": "light"
     },
     "output_type": "display_data"
    }
   ],
   "source": [
    "component = 1 # principle components\n",
    "n_samples = 1000\n",
    "\n",
    "z_a = z_a_sklearn[:, component]\n",
    "z_b = z_b_sklearn[:, component]\n",
    "\n",
    "fig, ax = plt.subplots()\n",
    "ax1 = ax.scatter(z_a[:n_samples], z_b[:n_samples], c='blue')\n",
    "\n",
    "ax.set_xlabel(f'Priciple dimension {component} in X_a')\n",
    "ax.set_ylabel(f'Priciple dimension {component} in X_b')\n",
    "ax.set_title(f'Priciple dimension {component}: Corr {corr_z_sklearn[component]:.2f}')\n",
    "plt.show()"
   ]
  }
 ],
 "metadata": {
  "interpreter": {
   "hash": "eb7a7561a42aacb7e4f22a212934ca3d091c7f802b6224013994a34cc1b90268"
  },
  "kernelspec": {
   "display_name": "Python 3.6.2 ('env_py_362')",
   "language": "python",
   "name": "python3"
  },
  "language_info": {
   "codemirror_mode": {
    "name": "ipython",
    "version": 3
   },
   "file_extension": ".py",
   "mimetype": "text/x-python",
   "name": "python",
   "nbconvert_exporter": "python",
   "pygments_lexer": "ipython3",
   "version": "3.6.2"
  },
  "orig_nbformat": 4
 },
 "nbformat": 4,
 "nbformat_minor": 2
}
