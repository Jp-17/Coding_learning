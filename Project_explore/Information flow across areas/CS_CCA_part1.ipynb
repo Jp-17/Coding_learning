{
 "cells": [
  {
   "cell_type": "markdown",
   "metadata": {},
   "source": [
    "### **Part 1**\n",
    "**Tasks**\n",
    "* explore proper visual stimuli\n",
    "  * spontaneous state\n",
    "  * evoked state\n",
    "* Communication subspaces across different areas\n",
    "  * correlation\n",
    "  * dimensionality\n",
    "* Information flow across subspaces\n",
    "  * direction: population correlation as the function of the time delay between areas ($t_2$-$t_1$)\n",
    "  * intensity (correlation intensity)\n",
    "* (to do) Hierarchy of information flow  across these subspaces\n",
    "* (to do) Relation between different information flow channels\n",
    "* (to do) State dependent geometrical properties of these channels\n",
    "* (to do) Dynamical system across areas modeled by multi-region RNN networks\n",
    "\n",
    "**Problems**\n",
    "* Correlation_delay data is spiky\n",
    "  * If 1ms slide, data can not changed a lot\n",
    "  * Try window step smaller\n",
    "* Correlation_delay data is too large\n",
    "* No obvious pattern in Correlation_delay data\n",
    "  * Delay period longer\n",
    "  * Shuffle data as refer\n",
    "  * revert roles of area1 and area2 in Correlation_delay data, delta MI\n",
    "  * MI_delay, delta_MI_delay, across areas\n",
    "* Develop intuition for data visualization\n",
    "  * small try, such PSTH, receptive-field of single unit or across units\n",
    "  * See more raw data and neuro paper\n",
    "* Across time & across conditions considering differently"
   ]
  },
  {
   "cell_type": "code",
   "execution_count": null,
   "metadata": {},
   "outputs": [],
   "source": []
  }
 ],
 "metadata": {
  "interpreter": {
   "hash": "fc8027a76b0c1e9d42305f86455087737146f8b343f4069e2e8efdf0d68fdd44"
  },
  "kernelspec": {
   "display_name": "Python 3.6.13 ('env_py_36')",
   "language": "python",
   "name": "python3"
  },
  "language_info": {
   "name": "python",
   "version": "3.6.13"
  },
  "orig_nbformat": 4
 },
 "nbformat": 4,
 "nbformat_minor": 2
}
