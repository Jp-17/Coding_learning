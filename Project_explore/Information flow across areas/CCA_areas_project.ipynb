{
 "cells": [
  {
   "cell_type": "markdown",
   "metadata": {},
   "source": [
    "\n",
    "**Tasks**\n",
    "\n",
    "* Plot heatmap of population correlation matrix across **different area pairs using Allendata**. (remember to see the structure relation across areas)\n",
    "* Plot the population correlation as the function of the **time delay between areas ($t_2$-$t_1$)**\n",
    "  \n",
    "   * remember to delete the head and tail of stimulus time when time delay\n",
    "* Consider population correlation of **different stimulus periods**, such as \"Early Evoked, 160ms after stimulus onset\" and \"Late Evoked, 1120ms after stimulus onset\"\n",
    "* Generalize feedforward (FF) canonical dimensions to feedback-dominated period\n",
    "\n",
    "*population correlation*: Correlation value for the first canonical pair as a measure of inter-areal intercation strength"
   ]
  },
  {
   "cell_type": "code",
   "execution_count": 2,
   "metadata": {},
   "outputs": [],
   "source": [
    "import os\n",
    "\n",
    "import numpy as np\n",
    "import pandas as pd\n",
    "import matplotlib.pyplot as plt\n",
    "\n",
    "from sklearn.cross_decomposition import CCA\n",
    "\n",
    "from allensdk.brain_observatory.ecephys.ecephys_project_cache import EcephysProjectCache\n",
    "\n",
    "# tell pandas to show all columns when we display a DataFrame\n",
    "pd.set_option(\"display.max_columns\", None)"
   ]
  },
  {
   "cell_type": "markdown",
   "metadata": {},
   "source": [
    "## Allen data preprocessing\n",
    "Get AllenData sessions"
   ]
  },
  {
   "cell_type": "code",
   "execution_count": 3,
   "metadata": {},
   "outputs": [],
   "source": [
    "basepath = \"E:\\Allensdk_data\\local\\ecephys_cache_dir\"\n",
    "manifest_path = os.path.join(basepath, \"manifest.json\")\n",
    "cache = EcephysProjectCache.from_warehouse(manifest=manifest_path)\n",
    "\n",
    "sessions = cache.get_session_table()"
   ]
  },
  {
   "cell_type": "markdown",
   "metadata": {},
   "source": [
    "Select a session randomly"
   ]
  },
  {
   "cell_type": "code",
   "execution_count": 4,
   "metadata": {},
   "outputs": [
    {
     "name": "stdout",
     "output_type": "stream",
     "text": [
      "['VISam', nan, 'COAa', 'CA1', 'LP', 'DG', 'VISmma', 'VISp', 'ProS', 'SUB', 'CA3', 'CA2', 'VISl', 'VISal', 'LGd', 'VISrl', 'APN', 'POL']\n",
      "['spontaneous', 'gabors', 'flashes', 'drifting_gratings', 'natural_movie_three', 'natural_movie_one', 'static_gratings', 'natural_scenes', 'drifting_gratings_contrast']\n"
     ]
    }
   ],
   "source": [
    "session_id = 799864342\n",
    "session = cache.get_session_data(session_id)\n",
    "\n",
    "print(session.structure_acronyms)\n",
    "print(session.stimulus_names)"
   ]
  },
  {
   "cell_type": "markdown",
   "metadata": {},
   "source": [
    "Select 'drifting_gratings' stimuli with contrast 0.8 and temporal_frequency 15.0, but 8 different orientations. \n",
    "Each stimuli was presented 15 times for 2 seconds"
   ]
  },
  {
   "cell_type": "code",
   "execution_count": 5,
   "metadata": {},
   "outputs": [
    {
     "name": "stdout",
     "output_type": "stream",
     "text": [
      "15.0    120\n",
      "8.0     120\n",
      "4.0     120\n",
      "2.0     120\n",
      "1.0     120\n",
      "null     30\n",
      "Name: temporal_frequency, dtype: int64\n",
      "270.0    15\n",
      "45.0     15\n",
      "315.0    15\n",
      "90.0     15\n",
      "135.0    15\n",
      "180.0    15\n",
      "225.0    15\n",
      "0.0      15\n",
      "Name: orientation, dtype: int64\n",
      "254    15\n",
      "252    15\n",
      "248    15\n",
      "247    15\n",
      "277    15\n",
      "272    15\n",
      "267    15\n",
      "256    15\n",
      "Name: stimulus_condition_id, dtype: int64\n"
     ]
    },
    {
     "data": {
      "text/html": [
       "<div>\n",
       "<style scoped>\n",
       "    .dataframe tbody tr th:only-of-type {\n",
       "        vertical-align: middle;\n",
       "    }\n",
       "\n",
       "    .dataframe tbody tr th {\n",
       "        vertical-align: top;\n",
       "    }\n",
       "\n",
       "    .dataframe thead th {\n",
       "        text-align: right;\n",
       "    }\n",
       "</style>\n",
       "<table border=\"1\" class=\"dataframe\">\n",
       "  <thead>\n",
       "    <tr style=\"text-align: right;\">\n",
       "      <th></th>\n",
       "      <th>contrast</th>\n",
       "      <th>orientation</th>\n",
       "      <th>phase</th>\n",
       "      <th>size</th>\n",
       "      <th>spatial_frequency</th>\n",
       "      <th>start_time</th>\n",
       "      <th>stimulus_block</th>\n",
       "      <th>stimulus_name</th>\n",
       "      <th>stop_time</th>\n",
       "      <th>temporal_frequency</th>\n",
       "      <th>duration</th>\n",
       "      <th>stimulus_condition_id</th>\n",
       "    </tr>\n",
       "    <tr>\n",
       "      <th>stimulus_presentation_id</th>\n",
       "      <th></th>\n",
       "      <th></th>\n",
       "      <th></th>\n",
       "      <th></th>\n",
       "      <th></th>\n",
       "      <th></th>\n",
       "      <th></th>\n",
       "      <th></th>\n",
       "      <th></th>\n",
       "      <th></th>\n",
       "      <th></th>\n",
       "      <th></th>\n",
       "    </tr>\n",
       "  </thead>\n",
       "  <tbody>\n",
       "    <tr>\n",
       "      <th>3799</th>\n",
       "      <td>0.8</td>\n",
       "      <td>135</td>\n",
       "      <td>[42471.86666667, 42471.86666667]</td>\n",
       "      <td>[250.0, 250.0]</td>\n",
       "      <td>0.04</td>\n",
       "      <td>1593.313231</td>\n",
       "      <td>2</td>\n",
       "      <td>drifting_gratings</td>\n",
       "      <td>1595.314911</td>\n",
       "      <td>15</td>\n",
       "      <td>2.00168</td>\n",
       "      <td>247</td>\n",
       "    </tr>\n",
       "    <tr>\n",
       "      <th>3800</th>\n",
       "      <td>0.8</td>\n",
       "      <td>45</td>\n",
       "      <td>[42471.86666667, 42471.86666667]</td>\n",
       "      <td>[250.0, 250.0]</td>\n",
       "      <td>0.04</td>\n",
       "      <td>1596.315739</td>\n",
       "      <td>2</td>\n",
       "      <td>drifting_gratings</td>\n",
       "      <td>1598.317439</td>\n",
       "      <td>15</td>\n",
       "      <td>2.00170</td>\n",
       "      <td>248</td>\n",
       "    </tr>\n",
       "    <tr>\n",
       "      <th>3805</th>\n",
       "      <td>0.8</td>\n",
       "      <td>0</td>\n",
       "      <td>[42471.86666667, 42471.86666667]</td>\n",
       "      <td>[250.0, 250.0]</td>\n",
       "      <td>0.04</td>\n",
       "      <td>1611.328291</td>\n",
       "      <td>2</td>\n",
       "      <td>drifting_gratings</td>\n",
       "      <td>1613.329971</td>\n",
       "      <td>15</td>\n",
       "      <td>2.00168</td>\n",
       "      <td>252</td>\n",
       "    </tr>\n",
       "    <tr>\n",
       "      <th>3807</th>\n",
       "      <td>0.8</td>\n",
       "      <td>90</td>\n",
       "      <td>[42471.86666667, 42471.86666667]</td>\n",
       "      <td>[250.0, 250.0]</td>\n",
       "      <td>0.04</td>\n",
       "      <td>1617.333321</td>\n",
       "      <td>2</td>\n",
       "      <td>drifting_gratings</td>\n",
       "      <td>1619.334971</td>\n",
       "      <td>15</td>\n",
       "      <td>2.00165</td>\n",
       "      <td>254</td>\n",
       "    </tr>\n",
       "    <tr>\n",
       "      <th>3809</th>\n",
       "      <td>0.8</td>\n",
       "      <td>315</td>\n",
       "      <td>[42471.86666667, 42471.86666667]</td>\n",
       "      <td>[250.0, 250.0]</td>\n",
       "      <td>0.04</td>\n",
       "      <td>1623.338331</td>\n",
       "      <td>2</td>\n",
       "      <td>drifting_gratings</td>\n",
       "      <td>1625.340001</td>\n",
       "      <td>15</td>\n",
       "      <td>2.00167</td>\n",
       "      <td>256</td>\n",
       "    </tr>\n",
       "  </tbody>\n",
       "</table>\n",
       "</div>"
      ],
      "text/plain": [
       "                         contrast orientation  \\\n",
       "stimulus_presentation_id                        \n",
       "3799                          0.8         135   \n",
       "3800                          0.8          45   \n",
       "3805                          0.8           0   \n",
       "3807                          0.8          90   \n",
       "3809                          0.8         315   \n",
       "\n",
       "                                                     phase            size  \\\n",
       "stimulus_presentation_id                                                     \n",
       "3799                      [42471.86666667, 42471.86666667]  [250.0, 250.0]   \n",
       "3800                      [42471.86666667, 42471.86666667]  [250.0, 250.0]   \n",
       "3805                      [42471.86666667, 42471.86666667]  [250.0, 250.0]   \n",
       "3807                      [42471.86666667, 42471.86666667]  [250.0, 250.0]   \n",
       "3809                      [42471.86666667, 42471.86666667]  [250.0, 250.0]   \n",
       "\n",
       "                         spatial_frequency   start_time stimulus_block  \\\n",
       "stimulus_presentation_id                                                 \n",
       "3799                                  0.04  1593.313231              2   \n",
       "3800                                  0.04  1596.315739              2   \n",
       "3805                                  0.04  1611.328291              2   \n",
       "3807                                  0.04  1617.333321              2   \n",
       "3809                                  0.04  1623.338331              2   \n",
       "\n",
       "                              stimulus_name    stop_time temporal_frequency  \\\n",
       "stimulus_presentation_id                                                      \n",
       "3799                      drifting_gratings  1595.314911                 15   \n",
       "3800                      drifting_gratings  1598.317439                 15   \n",
       "3805                      drifting_gratings  1613.329971                 15   \n",
       "3807                      drifting_gratings  1619.334971                 15   \n",
       "3809                      drifting_gratings  1625.340001                 15   \n",
       "\n",
       "                          duration  stimulus_condition_id  \n",
       "stimulus_presentation_id                                   \n",
       "3799                       2.00168                    247  \n",
       "3800                       2.00170                    248  \n",
       "3805                       2.00168                    252  \n",
       "3807                       2.00165                    254  \n",
       "3809                       2.00167                    256  "
      ]
     },
     "execution_count": 5,
     "metadata": {},
     "output_type": "execute_result"
    }
   ],
   "source": [
    "stim_table = session.get_stimulus_table('drifting_gratings')\n",
    "print(stim_table['temporal_frequency'].value_counts())\n",
    "\n",
    "stim_orientation_table = stim_table[stim_table['temporal_frequency'] == 15.0 ]\n",
    "print(stim_orientation_table['orientation'].value_counts())\n",
    "print(stim_orientation_table['stimulus_condition_id'].value_counts())\n",
    "stim_orientation_table.head()"
   ]
  },
  {
   "cell_type": "code",
   "execution_count": 6,
   "metadata": {},
   "outputs": [],
   "source": [
    "def spike_matrix(area, stim_table, bin=0.1):\n",
    "    \"\"\"spike_matrix _summary_\n",
    "\n",
    "    _extended_summary_\n",
    "\n",
    "    Arguments:\n",
    "        area -- _description_\n",
    "        bin -- _description_\n",
    "    \"\"\"\n",
    "\n",
    "    area_units = session.units[session.units[\"ecephys_structure_acronym\"] == area]\n",
    "\n",
    "    time_bins = np.arange(0, 2 + bin, bin)  \n",
    "\n",
    "    spike_counts = session.presentationwise_spike_counts(\n",
    "        stimulus_presentation_ids=stim_table.index.values,  \n",
    "        bin_edges=time_bins,\n",
    "        unit_ids=area_units.index.values\n",
    "    )\n",
    "    \n",
    "    response_matrix = spike_counts.values\n",
    "\n",
    "    # convert spike_counts structure from stimulus_presentation_id*time_bins* unit_id \n",
    "    # to stimulus_bins_counts * units,\n",
    "\n",
    "    response_matrix = response_matrix.reshape(response_matrix.shape[0]*response_matrix.shape[1], response_matrix.shape[2])\n",
    "\n",
    "    return response_matrix"
   ]
  },
  {
   "cell_type": "code",
   "execution_count": 7,
   "metadata": {},
   "outputs": [
    {
     "name": "stdout",
     "output_type": "stream",
     "text": [
      "(2400, 29)\n"
     ]
    },
    {
     "data": {
      "text/plain": [
       "Text(0, 0.5, 'spike counts')"
      ]
     },
     "execution_count": 7,
     "metadata": {},
     "output_type": "execute_result"
    },
    {
     "data": {
      "image/png": "[encoded data removed]",
      "text/plain": [
       "<Figure size 432x288 with 1 Axes>"
      ]
     },
     "metadata": {
      "needs_background": "light"
     },
     "output_type": "display_data"
    }
   ],
   "source": [
    "response_matrix_VISam = spike_matrix(area='VISam', stim_table=stim_orientation_table)\n",
    "\n",
    "print(response_matrix_VISam.shape)\n",
    "\n",
    "plt.figure()\n",
    "plt.plot(response_matrix_VISam[:300, 0])\n",
    "plt.title('spike_counts of neuron 0 in VISam')\n",
    "plt.xlabel('stimulus bins')\n",
    "plt.ylabel('spike counts')"
   ]
  },
  {
   "cell_type": "code",
   "execution_count": 8,
   "metadata": {},
   "outputs": [
    {
     "name": "stdout",
     "output_type": "stream",
     "text": [
      "(2400, 44)\n"
     ]
    },
    {
     "data": {
      "text/plain": [
       "Text(0, 0.5, 'spike counts')"
      ]
     },
     "execution_count": 8,
     "metadata": {},
     "output_type": "execute_result"
    },
    {
     "data": {
      "image/png": "[encoded data removed]",
      "text/plain": [
       "<Figure size 432x288 with 1 Axes>"
      ]
     },
     "metadata": {
      "needs_background": "light"
     },
     "output_type": "display_data"
    }
   ],
   "source": [
    "response_matrix_VISmma = spike_matrix(area = 'VISmma', stim_table=stim_orientation_table)\n",
    "\n",
    "print(response_matrix_VISmma.shape)\n",
    "\n",
    "plt.figure()\n",
    "plt.plot(response_matrix_VISmma[:300, 0])\n",
    "plt.title('spike_counts of neuron 0 in VISam')\n",
    "plt.xlabel('stimulus bins')\n",
    "plt.ylabel('spike counts')"
   ]
  },
  {
   "cell_type": "code",
   "execution_count": 9,
   "metadata": {},
   "outputs": [],
   "source": [
    "def corr_area_pairs(X_a, X_b, n_components = 3):\n",
    "    \"\"\"corr_area_pairs _summary_\n",
    "\n",
    "    _extended_summary_\n",
    "\n",
    "    Arguments:\n",
    "        X_a -- _description_\n",
    "        X_b -- _description_\n",
    "    \"\"\"\n",
    "\n",
    "    # Standardize data to zero mean and unit variance\n",
    "    X_a = (X_a - X_a.mean(axis=0)) / X_a.std(axis=0)\n",
    "    X_b = (X_b - X_b.mean(axis=0)) / X_b.std(axis=0)\n",
    "\n",
    "    cca = CCA(n_components)\n",
    "    cca.fit(X_a, X_b)\n",
    "    z_a, z_b = cca.transform(X_a, X_b) \n",
    "\n",
    "    # get weight after cca\n",
    "    w_a = cca.x_rotations_\n",
    "    w_b = cca.y_rotations_\n",
    "    \n",
    "    # get correlation of hidden z\n",
    "    corr_z = np.empty(n_components)\n",
    "    for i in range(n_components):\n",
    "        corr_z[i] = np.corrcoef(z_a[:, i], z_b[:, i])[0, 1]\n",
    "\n",
    "    return corr_z, (w_a, w_b), (z_a, z_b)"
   ]
  },
  {
   "cell_type": "code",
   "execution_count": 10,
   "metadata": {},
   "outputs": [
    {
     "name": "stdout",
     "output_type": "stream",
     "text": [
      "[0.70580206 0.68787211 0.47318666]\n"
     ]
    }
   ],
   "source": [
    "corr_VISam_VISmma, w_ab, z_ab = corr_area_pairs(response_matrix_VISam, response_matrix_VISmma)\n",
    "\n",
    "print(corr_VISam_VISmma)"
   ]
  },
  {
   "cell_type": "code",
   "execution_count": 11,
   "metadata": {},
   "outputs": [
    {
     "data": {
      "image/png": "[encoded data removed]",
      "text/plain": [
       "<Figure size 432x288 with 1 Axes>"
      ]
     },
     "metadata": {
      "needs_background": "light"
     },
     "output_type": "display_data"
    }
   ],
   "source": [
    "component = 0 # principle components\n",
    "n_samples = 1000\n",
    "\n",
    "z_a = z_ab[0]\n",
    "z_b = z_ab[1]\n",
    "\n",
    "z_a = z_a[:, component]\n",
    "z_b = z_b[:, component]\n",
    "\n",
    "fig, ax = plt.subplots()\n",
    "ax1 = ax.scatter(z_a[:n_samples], z_b[:n_samples], c='blue')\n",
    "\n",
    "ax.set_xlabel(f'Priciple dimension {component} in X_a')\n",
    "ax.set_ylabel(f'Priciple dimension {component} in X_b')\n",
    "ax.set_title(f'Priciple dimension {component}: Corr {corr_VISam_VISmma[component]:.2f}')\n",
    "plt.show()"
   ]
  },
  {
   "cell_type": "markdown",
   "metadata": {},
   "source": [
    "\n",
    "**Task1**\n",
    "\n",
    "* Plot heatmap of population correlation matrix across **different area pairs using Allendata**. (remember to see the structure relation across areas)"
   ]
  },
  {
   "cell_type": "code",
   "execution_count": 12,
   "metadata": {},
   "outputs": [
    {
     "name": "stdout",
     "output_type": "stream",
     "text": [
      "18\n",
      "['VISam', nan, 'COAa', 'CA1', 'LP', 'DG', 'VISmma', 'VISp', 'ProS', 'SUB', 'CA3', 'CA2', 'VISl', 'VISal', 'LGd', 'VISrl', 'APN', 'POL']\n",
      "17\n",
      "['VISam', 'COAa', 'CA1', 'LP', 'DG', 'VISmma', 'VISp', 'ProS', 'SUB', 'CA3', 'CA2', 'VISl', 'VISal', 'LGd', 'VISrl', 'APN', 'POL']\n",
      "16\n",
      "['VISam', 'CA1', 'LP', 'DG', 'VISmma', 'VISp', 'ProS', 'SUB', 'CA3', 'CA2', 'VISl', 'VISal', 'LGd', 'VISrl', 'APN', 'POL']\n"
     ]
    }
   ],
   "source": [
    "areas = session.structure_acronyms\n",
    "print(len(areas))\n",
    "print(areas)\n",
    "\n",
    "# delete nan in areas\n",
    "while np.nan in areas:\n",
    "    areas.remove(np.nan)\n",
    "print(len(areas))\n",
    "print(areas)\n",
    "\n",
    "# delete area with no units\n",
    "for area in areas:\n",
    "    units = session.units[session.units[\"ecephys_structure_acronym\"] == area]\n",
    "    if units.shape[0] == 0:\n",
    "        areas.remove(area)\n",
    "print(len(areas))\n",
    "print(areas)"
   ]
  },
  {
   "cell_type": "code",
   "execution_count": 13,
   "metadata": {},
   "outputs": [
    {
     "name": "stdout",
     "output_type": "stream",
     "text": [
      "(16, 16)\n"
     ]
    }
   ],
   "source": [
    "areas_corr_matrix = np.empty([len(areas), len(areas)])\n",
    "\n",
    "for i in range(len(areas)):\n",
    "    for j in range(len(areas)):\n",
    "        res_mat_i = spike_matrix(area = areas[i], stim_table=stim_orientation_table)\n",
    "        res_mat_j = spike_matrix(area = areas[j], stim_table=stim_orientation_table)\n",
    "\n",
    "        corr_ij, w, z = corr_area_pairs(res_mat_i, res_mat_j)\n",
    "        areas_corr_matrix[i, j] = corr_ij[0]\n",
    "\n",
    "print(areas_corr_matrix.shape)\n",
    "# print(areas_corr_matrix)\n"
   ]
  },
  {
   "cell_type": "code",
   "execution_count": 14,
   "metadata": {},
   "outputs": [
    {
     "data": {
      "image/png": "[encoded data removed]",
      "text/plain": [
       "<Figure size 864x720 with 2 Axes>"
      ]
     },
     "metadata": {
      "needs_background": "light"
     },
     "output_type": "display_data"
    }
   ],
   "source": [
    "f, ax = plt.subplots(figsize=(12, 10))\n",
    "im = ax.pcolormesh(areas_corr_matrix)\n",
    "\n",
    "ax.set_xticks(range(len(areas))+np.array([0.5]))\n",
    "ax.set_xticklabels(areas)\n",
    "ax.set_yticks(range(len(areas))+np.array([0.5]))\n",
    "ax.set_yticklabels(areas)\n",
    "ax.set_title('CCA max correlation between different area_pairs')\n",
    "\n",
    "f.colorbar(im)\n",
    "\n",
    "plt.show()"
   ]
  },
  {
   "cell_type": "markdown",
   "metadata": {},
   "source": [
    "**Results**\n",
    "\n",
    "* After observe the correlation map, we can see that Visual cortex has more correlation with other areas\n",
    "* SUB, APN, POL perform bad with other areas\n",
    "* CA1, CA2 CA3 are correlated with each other more than others."
   ]
  },
  {
   "cell_type": "code",
   "execution_count": 15,
   "metadata": {},
   "outputs": [
    {
     "name": "stdout",
     "output_type": "stream",
     "text": [
      "[ 29.  40.  52.  29.  75.  51.  70.  20.  36. 109.   9.  16.   7.  11.\n",
      "   6.]\n",
      "(15, 15)\n"
     ]
    },
    {
     "data": {
      "image/png": "[encoded data removed]",
      "text/plain": [
       "<Figure size 864x720 with 2 Axes>"
      ]
     },
     "metadata": {
      "needs_background": "light"
     },
     "output_type": "display_data"
    }
   ],
   "source": [
    "# Sort the areas after observation\n",
    "\n",
    "areas_sorted = ['VISam', 'VISl', 'VISal', 'VISrl', 'VISp', 'LP', 'LGd', 'DG', 'ProS', 'CA1', 'CA2', 'CA3', 'SUB', 'APN', 'POL']\n",
    "areas_units_num = np.empty(len(areas_sorted))\n",
    "\n",
    "areas_corr_matrix = np.empty([len(areas_sorted), len(areas_sorted)])\n",
    "\n",
    "for i in range(len(areas_sorted)):\n",
    "    res_mat_i = spike_matrix(area = areas_sorted[i], stim_table=stim_orientation_table)\n",
    "    areas_units_num[i] = res_mat_i.shape[1]\n",
    "\n",
    "    for j in range(len(areas_sorted)):\n",
    "        \n",
    "        res_mat_j = spike_matrix(area = areas_sorted[j], stim_table=stim_orientation_table)\n",
    "\n",
    "        corr_ij, w, z = corr_area_pairs(res_mat_i, res_mat_j)\n",
    "        areas_corr_matrix[i, j] = corr_ij[0]\n",
    "    \n",
    "print(areas_units_num)\n",
    "print(areas_corr_matrix.shape)\n",
    "\n",
    "f, ax = plt.subplots(figsize=(12, 10))\n",
    "im = ax.pcolormesh(areas_corr_matrix)\n",
    "\n",
    "ax.set_xticks(range(len(areas_sorted))+np.array([0.5]))\n",
    "ax.set_xticklabels(areas_sorted)\n",
    "ax.set_yticks(range(len(areas_sorted))+np.array([0.5]))\n",
    "ax.set_yticklabels(areas_sorted)\n",
    "ax.set_title('CCA max correlation between different area_pairs after sorted')\n",
    "\n",
    "f.colorbar(im)\n",
    "\n",
    "plt.show()\n"
   ]
  },
  {
   "cell_type": "markdown",
   "metadata": {},
   "source": [
    "**Questions:** whether we can find a complete information flow chain across areas via CCA?"
   ]
  },
  {
   "cell_type": "markdown",
   "metadata": {},
   "source": [
    "**Task2**\n",
    "* Plot the population correlation as the function of the **time delay between areas ($t_2$-$t_1$)**\n",
    "  \n",
    "   * remember to delete the head and tail of stimulus time when time delay"
   ]
  },
  {
   "cell_type": "code",
   "execution_count": 16,
   "metadata": {},
   "outputs": [
    {
     "name": "stdout",
     "output_type": "stream",
     "text": [
      "135.0    15\n",
      "Name: orientation, dtype: int64\n",
      "247    15\n",
      "Name: stimulus_condition_id, dtype: int64\n"
     ]
    },
    {
     "data": {
      "text/html": [
       "<div>\n",
       "<style scoped>\n",
       "    .dataframe tbody tr th:only-of-type {\n",
       "        vertical-align: middle;\n",
       "    }\n",
       "\n",
       "    .dataframe tbody tr th {\n",
       "        vertical-align: top;\n",
       "    }\n",
       "\n",
       "    .dataframe thead th {\n",
       "        text-align: right;\n",
       "    }\n",
       "</style>\n",
       "<table border=\"1\" class=\"dataframe\">\n",
       "  <thead>\n",
       "    <tr style=\"text-align: right;\">\n",
       "      <th></th>\n",
       "      <th>contrast</th>\n",
       "      <th>orientation</th>\n",
       "      <th>phase</th>\n",
       "      <th>size</th>\n",
       "      <th>spatial_frequency</th>\n",
       "      <th>start_time</th>\n",
       "      <th>stimulus_block</th>\n",
       "      <th>stimulus_name</th>\n",
       "      <th>stop_time</th>\n",
       "      <th>temporal_frequency</th>\n",
       "      <th>duration</th>\n",
       "      <th>stimulus_condition_id</th>\n",
       "    </tr>\n",
       "    <tr>\n",
       "      <th>stimulus_presentation_id</th>\n",
       "      <th></th>\n",
       "      <th></th>\n",
       "      <th></th>\n",
       "      <th></th>\n",
       "      <th></th>\n",
       "      <th></th>\n",
       "      <th></th>\n",
       "      <th></th>\n",
       "      <th></th>\n",
       "      <th></th>\n",
       "      <th></th>\n",
       "      <th></th>\n",
       "    </tr>\n",
       "  </thead>\n",
       "  <tbody>\n",
       "    <tr>\n",
       "      <th>3799</th>\n",
       "      <td>0.8</td>\n",
       "      <td>135</td>\n",
       "      <td>[42471.86666667, 42471.86666667]</td>\n",
       "      <td>[250.0, 250.0]</td>\n",
       "      <td>0.04</td>\n",
       "      <td>1593.313231</td>\n",
       "      <td>2</td>\n",
       "      <td>drifting_gratings</td>\n",
       "      <td>1595.314911</td>\n",
       "      <td>15</td>\n",
       "      <td>2.00168</td>\n",
       "      <td>247</td>\n",
       "    </tr>\n",
       "    <tr>\n",
       "      <th>3847</th>\n",
       "      <td>0.8</td>\n",
       "      <td>135</td>\n",
       "      <td>[42471.86666667, 42471.86666667]</td>\n",
       "      <td>[250.0, 250.0]</td>\n",
       "      <td>0.04</td>\n",
       "      <td>1737.433701</td>\n",
       "      <td>2</td>\n",
       "      <td>drifting_gratings</td>\n",
       "      <td>1739.435391</td>\n",
       "      <td>15</td>\n",
       "      <td>2.00169</td>\n",
       "      <td>247</td>\n",
       "    </tr>\n",
       "    <tr>\n",
       "      <th>3861</th>\n",
       "      <td>0.8</td>\n",
       "      <td>135</td>\n",
       "      <td>[42471.86666667, 42471.86666667]</td>\n",
       "      <td>[250.0, 250.0]</td>\n",
       "      <td>0.04</td>\n",
       "      <td>1779.468851</td>\n",
       "      <td>2</td>\n",
       "      <td>drifting_gratings</td>\n",
       "      <td>1781.470531</td>\n",
       "      <td>15</td>\n",
       "      <td>2.00168</td>\n",
       "      <td>247</td>\n",
       "    </tr>\n",
       "    <tr>\n",
       "      <th>31015</th>\n",
       "      <td>0.8</td>\n",
       "      <td>135</td>\n",
       "      <td>[42471.86666667, 42471.86666667]</td>\n",
       "      <td>[250.0, 250.0]</td>\n",
       "      <td>0.04</td>\n",
       "      <td>3223.676099</td>\n",
       "      <td>5</td>\n",
       "      <td>drifting_gratings</td>\n",
       "      <td>3225.677789</td>\n",
       "      <td>15</td>\n",
       "      <td>2.00169</td>\n",
       "      <td>247</td>\n",
       "    </tr>\n",
       "    <tr>\n",
       "      <th>31042</th>\n",
       "      <td>0.8</td>\n",
       "      <td>135</td>\n",
       "      <td>[42471.86666667, 42471.86666667]</td>\n",
       "      <td>[250.0, 250.0]</td>\n",
       "      <td>0.04</td>\n",
       "      <td>3304.743891</td>\n",
       "      <td>5</td>\n",
       "      <td>drifting_gratings</td>\n",
       "      <td>3306.745561</td>\n",
       "      <td>15</td>\n",
       "      <td>2.00167</td>\n",
       "      <td>247</td>\n",
       "    </tr>\n",
       "  </tbody>\n",
       "</table>\n",
       "</div>"
      ],
      "text/plain": [
       "                         contrast orientation  \\\n",
       "stimulus_presentation_id                        \n",
       "3799                          0.8         135   \n",
       "3847                          0.8         135   \n",
       "3861                          0.8         135   \n",
       "31015                         0.8         135   \n",
       "31042                         0.8         135   \n",
       "\n",
       "                                                     phase            size  \\\n",
       "stimulus_presentation_id                                                     \n",
       "3799                      [42471.86666667, 42471.86666667]  [250.0, 250.0]   \n",
       "3847                      [42471.86666667, 42471.86666667]  [250.0, 250.0]   \n",
       "3861                      [42471.86666667, 42471.86666667]  [250.0, 250.0]   \n",
       "31015                     [42471.86666667, 42471.86666667]  [250.0, 250.0]   \n",
       "31042                     [42471.86666667, 42471.86666667]  [250.0, 250.0]   \n",
       "\n",
       "                         spatial_frequency   start_time stimulus_block  \\\n",
       "stimulus_presentation_id                                                 \n",
       "3799                                  0.04  1593.313231              2   \n",
       "3847                                  0.04  1737.433701              2   \n",
       "3861                                  0.04  1779.468851              2   \n",
       "31015                                 0.04  3223.676099              5   \n",
       "31042                                 0.04  3304.743891              5   \n",
       "\n",
       "                              stimulus_name    stop_time temporal_frequency  \\\n",
       "stimulus_presentation_id                                                      \n",
       "3799                      drifting_gratings  1595.314911                 15   \n",
       "3847                      drifting_gratings  1739.435391                 15   \n",
       "3861                      drifting_gratings  1781.470531                 15   \n",
       "31015                     drifting_gratings  3225.677789                 15   \n",
       "31042                     drifting_gratings  3306.745561                 15   \n",
       "\n",
       "                          duration  stimulus_condition_id  \n",
       "stimulus_presentation_id                                   \n",
       "3799                       2.00168                    247  \n",
       "3847                       2.00169                    247  \n",
       "3861                       2.00168                    247  \n",
       "31015                      2.00169                    247  \n",
       "31042                      2.00167                    247  "
      ]
     },
     "execution_count": 16,
     "metadata": {},
     "output_type": "execute_result"
    }
   ],
   "source": [
    "# control stimulus, freq = 15, ori = 135\n",
    "stim_delay = stim_table[(stim_table['temporal_frequency'] == 15.0) & (stim_table['orientation'] == 135.0) ]\n",
    "print(stim_delay['orientation'].value_counts())\n",
    "print(stim_delay['stimulus_condition_id'].value_counts())\n",
    "stim_delay.head()"
   ]
  },
  {
   "cell_type": "code",
   "execution_count": 17,
   "metadata": {},
   "outputs": [],
   "source": [
    "def trials_averaged_spike_matrix(area, stim_table, bin=0.1):\n",
    "    \"\"\"spike_matrix _summary_\n",
    "\n",
    "    _extended_summary_\n",
    "\n",
    "    Arguments:\n",
    "        area -- _description_\n",
    "        bin -- _description_\n",
    "    \"\"\"\n",
    "\n",
    "    area_units = session.units[session.units[\"ecephys_structure_acronym\"] == area]\n",
    "\n",
    "    time_bins = np.arange(0, 2 + bin, bin)  \n",
    "\n",
    "    spike_counts = session.presentationwise_spike_counts(\n",
    "        stimulus_presentation_ids=stim_table.index.values,  \n",
    "        bin_edges=time_bins,\n",
    "        unit_ids=area_units.index.values\n",
    "    )\n",
    "    \n",
    "    response_matrix = spike_counts.values\n",
    "\n",
    "    # convert spike_counts structure from stimulus_presentation_id*time_bins* unit_id \n",
    "    # to stimulus_bins_counts * units,\n",
    "    \n",
    "    response_matrix = response_matrix.sum(axis=0)\n",
    "\n",
    "    return response_matrix"
   ]
  },
  {
   "cell_type": "code",
   "execution_count": 18,
   "metadata": {},
   "outputs": [
    {
     "name": "stdout",
     "output_type": "stream",
     "text": [
      "(200, 44)\n"
     ]
    },
    {
     "data": {
      "text/plain": [
       "Text(0, 0.5, 'spike counts')"
      ]
     },
     "execution_count": 18,
     "metadata": {},
     "output_type": "execute_result"
    },
    {
     "data": {
      "image/png": "[encoded data removed]",
      "text/plain": [
       "<Figure size 432x288 with 1 Axes>"
      ]
     },
     "metadata": {
      "needs_background": "light"
     },
     "output_type": "display_data"
    }
   ],
   "source": [
    "trial_res_mat_VISmma = trials_averaged_spike_matrix(area='VISmma', stim_table=stim_delay, bin=0.01)\n",
    "print(trial_res_mat_VISmma.shape)\n",
    "\n",
    "plt.figure()\n",
    "plt.plot(trial_res_mat_VISmma[:, 0])\n",
    "plt.title('spike_counts of neuron 0 in VISmma')\n",
    "plt.xlabel('stimulus bins')\n",
    "plt.ylabel('spike counts')"
   ]
  },
  {
   "cell_type": "code",
   "execution_count": 19,
   "metadata": {},
   "outputs": [
    {
     "name": "stdout",
     "output_type": "stream",
     "text": [
      "(200, 29)\n"
     ]
    },
    {
     "data": {
      "text/plain": [
       "Text(0, 0.5, 'spike counts')"
      ]
     },
     "execution_count": 19,
     "metadata": {},
     "output_type": "execute_result"
    },
    {
     "data": {
      "image/png": "[encoded data removed]",
      "text/plain": [
       "<Figure size 432x288 with 1 Axes>"
      ]
     },
     "metadata": {
      "needs_background": "light"
     },
     "output_type": "display_data"
    }
   ],
   "source": [
    "trial_res_mat_VISam = trials_averaged_spike_matrix(area='VISam', stim_table=stim_delay, bin=0.01)\n",
    "print(trial_res_mat_VISam.shape)\n",
    "\n",
    "plt.figure()\n",
    "plt.plot(trial_res_mat_VISam[:, 3])\n",
    "plt.title('spike_counts of neuron 3 in VISam')\n",
    "plt.xlabel('stimulus bins')\n",
    "plt.ylabel('spike counts')"
   ]
  },
  {
   "cell_type": "code",
   "execution_count": null,
   "metadata": {},
   "outputs": [],
   "source": [
    "corr_VISmma_am, w, z = corr_area_pairs(trial_res_mat_VISam, trial_res_mat_VISmma)\n",
    "print(corr_VISmma_am)"
   ]
  },
  {
   "cell_type": "markdown",
   "metadata": {},
   "source": [
    "**Bug:** So strange, I can only get corr with certain num points or certain neurons. such as, 158 is ok, but 200 can't!"
   ]
  },
  {
   "cell_type": "code",
   "execution_count": 21,
   "metadata": {},
   "outputs": [
    {
     "name": "stdout",
     "output_type": "stream",
     "text": [
      "(200, 29)\n",
      "(200, 44)\n",
      "[0.73877614 0.71139686 0.68257013]\n"
     ]
    }
   ],
   "source": [
    "# just try different para can influence whether corr can be calculated\n",
    "\n",
    "print(trial_res_mat_VISam.shape)\n",
    "print(trial_res_mat_VISmma.shape)\n",
    "\n",
    "num = 200\n",
    "corr_VISmma_am, w, z = corr_area_pairs(trial_res_mat_VISam[:num, :29], trial_res_mat_VISmma[:num, :30])\n",
    "print(corr_VISmma_am)"
   ]
  },
  {
   "cell_type": "code",
   "execution_count": null,
   "metadata": {},
   "outputs": [],
   "source": [
    "window = 100\n",
    "\n",
    "t_VISam = 50\n",
    "t_VISmma = np.arange(window)\n",
    "\n",
    "corr_matix_delay = np.empty(window)\n",
    "\n",
    "for t in t_VISmma:\n",
    "    corr, w, z = corr_area_pairs(trial_res_mat_VISam[t_VISam:t_VISam+window, :], trial_res_mat_VISmma[t:t+window, :])\n",
    "    corr_matix_delay[t] = corr\n",
    "\n",
    "plt.figure()\n",
    "plt.plot(corr_matix_delay)\n",
    "plt.title('correlation by delay')\n",
    "plt.xlabel('delay')\n",
    "plt.ylabel('corrlelation')"
   ]
  },
  {
   "cell_type": "markdown",
   "metadata": {},
   "source": [
    "**Task3**\n",
    "* Consider population correlation of **different stimulus periods**, such as \"Early Evoked, 160ms after stimulus onset\" and \"Late Evoked, 1120ms after stimulus onset\""
   ]
  },
  {
   "cell_type": "code",
   "execution_count": null,
   "metadata": {},
   "outputs": [],
   "source": []
  },
  {
   "cell_type": "markdown",
   "metadata": {},
   "source": [
    "\n",
    "**Task4**\n",
    "* Generalize feedforward (FF) canonical dimensions to feedback-dominated period"
   ]
  },
  {
   "cell_type": "code",
   "execution_count": null,
   "metadata": {},
   "outputs": [],
   "source": []
  }
 ],
 "metadata": {
  "interpreter": {
   "hash": "eb7a7561a42aacb7e4f22a212934ca3d091c7f802b6224013994a34cc1b90268"
  },
  "kernelspec": {
   "display_name": "Python 3.6.2 ('env_py_362')",
   "language": "python",
   "name": "python3"
  },
  "language_info": {
   "codemirror_mode": {
    "name": "ipython",
    "version": 3
   },
   "file_extension": ".py",
   "mimetype": "text/x-python",
   "name": "python",
   "nbconvert_exporter": "python",
   "pygments_lexer": "ipython3",
   "version": "3.6.2"
  },
  "orig_nbformat": 4
 },
 "nbformat": 4,
 "nbformat_minor": 2
}
