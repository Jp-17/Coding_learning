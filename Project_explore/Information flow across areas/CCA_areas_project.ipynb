{
 "cells": [
  {
   "cell_type": "markdown",
   "metadata": {},
   "source": [
    "\n",
    "**Tasks**\n",
    "\n",
    "* Plot heatmap of population correlation matrix across **different area pairs using Allendata**. (remember to see the structure relation across areas)\n",
    "* Plot the population correlation as the function of the **time delay between areas ($t_2$-$t_1$)**\n",
    "  \n",
    "   * remember to delete the head and tail of stimulus time when time delay\n",
    "* Consider population correlation of **different stimulus periods**, such as \"Early Evoked, 160ms after stimulus onset\" and \"Late Evoked, 1120ms after stimulus onset\"\n",
    "* Generalize feedforward (FF) canonical dimensions to feedback-dominated period\n",
    "\n",
    "*population correlation*: Correlation value for the first canonical pair as a measure of inter-areal intercation strength"
   ]
  },
  {
   "cell_type": "code",
   "execution_count": 29,
   "metadata": {},
   "outputs": [],
   "source": [
    "import os\n",
    "\n",
    "import numpy as np\n",
    "import pandas as pd\n",
    "import matplotlib.pyplot as plt\n",
    "\n",
    "from sklearn.cross_decomposition import CCA\n",
    "\n",
    "from allensdk.brain_observatory.ecephys.ecephys_project_cache import EcephysProjectCache\n",
    "\n",
    "# tell pandas to show all columns when we display a DataFrame\n",
    "pd.set_option(\"display.max_columns\", None)"
   ]
  },
  {
   "cell_type": "markdown",
   "metadata": {},
   "source": [
    "## Allen data preprocessing\n",
    "Get AllenData sessions"
   ]
  },
  {
   "cell_type": "code",
   "execution_count": 30,
   "metadata": {},
   "outputs": [],
   "source": [
    "basepath = \"E:\\Allensdk_data\\local\\ecephys_cache_dir\"\n",
    "manifest_path = os.path.join(basepath, \"manifest.json\")\n",
    "cache = EcephysProjectCache.from_warehouse(manifest=manifest_path)\n",
    "\n",
    "sessions = cache.get_session_table()"
   ]
  },
  {
   "cell_type": "markdown",
   "metadata": {},
   "source": [
    "Select a session randomly"
   ]
  },
  {
   "cell_type": "code",
   "execution_count": 31,
   "metadata": {},
   "outputs": [
    {
     "name": "stdout",
     "output_type": "stream",
     "text": [
      "['VISam', nan, 'COAa', 'CA1', 'LP', 'DG', 'VISmma', 'VISp', 'ProS', 'SUB', 'CA3', 'CA2', 'VISl', 'VISal', 'LGd', 'VISrl', 'APN', 'POL']\n",
      "['spontaneous', 'gabors', 'flashes', 'drifting_gratings', 'natural_movie_three', 'natural_movie_one', 'static_gratings', 'natural_scenes', 'drifting_gratings_contrast']\n"
     ]
    }
   ],
   "source": [
    "session_id = 799864342\n",
    "session = cache.get_session_data(session_id)\n",
    "\n",
    "print(session.structure_acronyms)\n",
    "print(session.stimulus_names)"
   ]
  },
  {
   "cell_type": "markdown",
   "metadata": {},
   "source": [
    "Select 'drifting_gratings' stimuli with contrast 0.8 and temporal_frequency 15.0, but 8 different orientations. \n",
    "Each stimuli was presented 15 times for 2 seconds"
   ]
  },
  {
   "cell_type": "code",
   "execution_count": 32,
   "metadata": {},
   "outputs": [
    {
     "name": "stdout",
     "output_type": "stream",
     "text": [
      "15.0    120\n",
      "8.0     120\n",
      "4.0     120\n",
      "2.0     120\n",
      "1.0     120\n",
      "null     30\n",
      "Name: temporal_frequency, dtype: int64\n",
      "270.0    15\n",
      "45.0     15\n",
      "315.0    15\n",
      "90.0     15\n",
      "135.0    15\n",
      "180.0    15\n",
      "225.0    15\n",
      "0.0      15\n",
      "Name: orientation, dtype: int64\n",
      "254    15\n",
      "252    15\n",
      "248    15\n",
      "247    15\n",
      "277    15\n",
      "272    15\n",
      "267    15\n",
      "256    15\n",
      "Name: stimulus_condition_id, dtype: int64\n"
     ]
    },
    {
     "data": {
      "text/html": [
       "<div>\n",
       "<style scoped>\n",
       "    .dataframe tbody tr th:only-of-type {\n",
       "        vertical-align: middle;\n",
       "    }\n",
       "\n",
       "    .dataframe tbody tr th {\n",
       "        vertical-align: top;\n",
       "    }\n",
       "\n",
       "    .dataframe thead th {\n",
       "        text-align: right;\n",
       "    }\n",
       "</style>\n",
       "<table border=\"1\" class=\"dataframe\">\n",
       "  <thead>\n",
       "    <tr style=\"text-align: right;\">\n",
       "      <th></th>\n",
       "      <th>contrast</th>\n",
       "      <th>orientation</th>\n",
       "      <th>phase</th>\n",
       "      <th>size</th>\n",
       "      <th>spatial_frequency</th>\n",
       "      <th>start_time</th>\n",
       "      <th>stimulus_block</th>\n",
       "      <th>stimulus_name</th>\n",
       "      <th>stop_time</th>\n",
       "      <th>temporal_frequency</th>\n",
       "      <th>duration</th>\n",
       "      <th>stimulus_condition_id</th>\n",
       "    </tr>\n",
       "    <tr>\n",
       "      <th>stimulus_presentation_id</th>\n",
       "      <th></th>\n",
       "      <th></th>\n",
       "      <th></th>\n",
       "      <th></th>\n",
       "      <th></th>\n",
       "      <th></th>\n",
       "      <th></th>\n",
       "      <th></th>\n",
       "      <th></th>\n",
       "      <th></th>\n",
       "      <th></th>\n",
       "      <th></th>\n",
       "    </tr>\n",
       "  </thead>\n",
       "  <tbody>\n",
       "    <tr>\n",
       "      <th>3799</th>\n",
       "      <td>0.8</td>\n",
       "      <td>135</td>\n",
       "      <td>[42471.86666667, 42471.86666667]</td>\n",
       "      <td>[250.0, 250.0]</td>\n",
       "      <td>0.04</td>\n",
       "      <td>1593.313231</td>\n",
       "      <td>2</td>\n",
       "      <td>drifting_gratings</td>\n",
       "      <td>1595.314911</td>\n",
       "      <td>15</td>\n",
       "      <td>2.00168</td>\n",
       "      <td>247</td>\n",
       "    </tr>\n",
       "    <tr>\n",
       "      <th>3800</th>\n",
       "      <td>0.8</td>\n",
       "      <td>45</td>\n",
       "      <td>[42471.86666667, 42471.86666667]</td>\n",
       "      <td>[250.0, 250.0]</td>\n",
       "      <td>0.04</td>\n",
       "      <td>1596.315739</td>\n",
       "      <td>2</td>\n",
       "      <td>drifting_gratings</td>\n",
       "      <td>1598.317439</td>\n",
       "      <td>15</td>\n",
       "      <td>2.00170</td>\n",
       "      <td>248</td>\n",
       "    </tr>\n",
       "    <tr>\n",
       "      <th>3805</th>\n",
       "      <td>0.8</td>\n",
       "      <td>0</td>\n",
       "      <td>[42471.86666667, 42471.86666667]</td>\n",
       "      <td>[250.0, 250.0]</td>\n",
       "      <td>0.04</td>\n",
       "      <td>1611.328291</td>\n",
       "      <td>2</td>\n",
       "      <td>drifting_gratings</td>\n",
       "      <td>1613.329971</td>\n",
       "      <td>15</td>\n",
       "      <td>2.00168</td>\n",
       "      <td>252</td>\n",
       "    </tr>\n",
       "    <tr>\n",
       "      <th>3807</th>\n",
       "      <td>0.8</td>\n",
       "      <td>90</td>\n",
       "      <td>[42471.86666667, 42471.86666667]</td>\n",
       "      <td>[250.0, 250.0]</td>\n",
       "      <td>0.04</td>\n",
       "      <td>1617.333321</td>\n",
       "      <td>2</td>\n",
       "      <td>drifting_gratings</td>\n",
       "      <td>1619.334971</td>\n",
       "      <td>15</td>\n",
       "      <td>2.00165</td>\n",
       "      <td>254</td>\n",
       "    </tr>\n",
       "    <tr>\n",
       "      <th>3809</th>\n",
       "      <td>0.8</td>\n",
       "      <td>315</td>\n",
       "      <td>[42471.86666667, 42471.86666667]</td>\n",
       "      <td>[250.0, 250.0]</td>\n",
       "      <td>0.04</td>\n",
       "      <td>1623.338331</td>\n",
       "      <td>2</td>\n",
       "      <td>drifting_gratings</td>\n",
       "      <td>1625.340001</td>\n",
       "      <td>15</td>\n",
       "      <td>2.00167</td>\n",
       "      <td>256</td>\n",
       "    </tr>\n",
       "  </tbody>\n",
       "</table>\n",
       "</div>"
      ],
      "text/plain": [
       "                         contrast orientation  \\\n",
       "stimulus_presentation_id                        \n",
       "3799                          0.8         135   \n",
       "3800                          0.8          45   \n",
       "3805                          0.8           0   \n",
       "3807                          0.8          90   \n",
       "3809                          0.8         315   \n",
       "\n",
       "                                                     phase            size  \\\n",
       "stimulus_presentation_id                                                     \n",
       "3799                      [42471.86666667, 42471.86666667]  [250.0, 250.0]   \n",
       "3800                      [42471.86666667, 42471.86666667]  [250.0, 250.0]   \n",
       "3805                      [42471.86666667, 42471.86666667]  [250.0, 250.0]   \n",
       "3807                      [42471.86666667, 42471.86666667]  [250.0, 250.0]   \n",
       "3809                      [42471.86666667, 42471.86666667]  [250.0, 250.0]   \n",
       "\n",
       "                         spatial_frequency   start_time stimulus_block  \\\n",
       "stimulus_presentation_id                                                 \n",
       "3799                                  0.04  1593.313231              2   \n",
       "3800                                  0.04  1596.315739              2   \n",
       "3805                                  0.04  1611.328291              2   \n",
       "3807                                  0.04  1617.333321              2   \n",
       "3809                                  0.04  1623.338331              2   \n",
       "\n",
       "                              stimulus_name    stop_time temporal_frequency  \\\n",
       "stimulus_presentation_id                                                      \n",
       "3799                      drifting_gratings  1595.314911                 15   \n",
       "3800                      drifting_gratings  1598.317439                 15   \n",
       "3805                      drifting_gratings  1613.329971                 15   \n",
       "3807                      drifting_gratings  1619.334971                 15   \n",
       "3809                      drifting_gratings  1625.340001                 15   \n",
       "\n",
       "                          duration  stimulus_condition_id  \n",
       "stimulus_presentation_id                                   \n",
       "3799                       2.00168                    247  \n",
       "3800                       2.00170                    248  \n",
       "3805                       2.00168                    252  \n",
       "3807                       2.00165                    254  \n",
       "3809                       2.00167                    256  "
      ]
     },
     "execution_count": 32,
     "metadata": {},
     "output_type": "execute_result"
    }
   ],
   "source": [
    "stim_table = session.get_stimulus_table('drifting_gratings')\n",
    "print(stim_table['temporal_frequency'].value_counts())\n",
    "\n",
    "stim_orientation_table = stim_table[stim_table['temporal_frequency'] == 15.0 ]\n",
    "print(stim_orientation_table['orientation'].value_counts())\n",
    "print(stim_orientation_table['stimulus_condition_id'].value_counts())\n",
    "stim_orientation_table.head()"
   ]
  },
  {
   "cell_type": "code",
   "execution_count": 33,
   "metadata": {},
   "outputs": [],
   "source": [
    "def spike_matrix(area, bin=0.1):\n",
    "    \"\"\"spike_matrix _summary_\n",
    "\n",
    "    _extended_summary_\n",
    "\n",
    "    Arguments:\n",
    "        area -- _description_\n",
    "        bin -- _description_\n",
    "    \"\"\"\n",
    "\n",
    "    area_units = session.units[session.units[\"ecephys_structure_acronym\"] == area]\n",
    "\n",
    "    time_bins = np.arange(0, 2 + bin, bin)  \n",
    "\n",
    "    spike_counts = session.presentationwise_spike_counts(\n",
    "        stimulus_presentation_ids=stim_orientation_table.index.values,  \n",
    "        bin_edges=time_bins,\n",
    "        unit_ids=area_units.index.values\n",
    "    )\n",
    "    \n",
    "    response_matrix = spike_counts.values\n",
    "\n",
    "    # convert spike_counts structure from stimulus_presentation_id*time_bins* unit_id \n",
    "    # to stimulus_bins_counts * units,\n",
    "\n",
    "    response_matrix = response_matrix.reshape(response_matrix.shape[0]*response_matrix.shape[1], response_matrix.shape[2])\n",
    "\n",
    "    return response_matrix"
   ]
  },
  {
   "cell_type": "code",
   "execution_count": 34,
   "metadata": {},
   "outputs": [
    {
     "name": "stdout",
     "output_type": "stream",
     "text": [
      "(2400, 29)\n"
     ]
    },
    {
     "data": {
      "text/plain": [
       "Text(0, 0.5, 'spike counts')"
      ]
     },
     "execution_count": 34,
     "metadata": {},
     "output_type": "execute_result"
    },
    {
     "data": {
      "image/png": "[encoded data removed]",
      "text/plain": [
       "<Figure size 432x288 with 1 Axes>"
      ]
     },
     "metadata": {
      "needs_background": "light"
     },
     "output_type": "display_data"
    }
   ],
   "source": [
    "response_matrix_VISam = spike_matrix(area = 'VISam')\n",
    "\n",
    "print(response_matrix_VISam.shape)\n",
    "\n",
    "plt.figure()\n",
    "plt.plot(response_matrix_VISam[:300, 0])\n",
    "plt.title('spike_counts of neuron 0 in VISam')\n",
    "plt.xlabel('stimulus bins')\n",
    "plt.ylabel('spike counts')"
   ]
  },
  {
   "cell_type": "code",
   "execution_count": 35,
   "metadata": {},
   "outputs": [
    {
     "name": "stdout",
     "output_type": "stream",
     "text": [
      "(2400, 44)\n"
     ]
    },
    {
     "data": {
      "text/plain": [
       "Text(0, 0.5, 'spike counts')"
      ]
     },
     "execution_count": 35,
     "metadata": {},
     "output_type": "execute_result"
    },
    {
     "data": {
      "image/png": "[encoded data removed]",
      "text/plain": [
       "<Figure size 432x288 with 1 Axes>"
      ]
     },
     "metadata": {
      "needs_background": "light"
     },
     "output_type": "display_data"
    }
   ],
   "source": [
    "response_matrix_VISmma = spike_matrix(area = 'VISmma')\n",
    "\n",
    "print(response_matrix_VISmma.shape)\n",
    "\n",
    "plt.figure()\n",
    "plt.plot(response_matrix_VISmma[:300, 0])\n",
    "plt.title('spike_counts of neuron 0 in VISam')\n",
    "plt.xlabel('stimulus bins')\n",
    "plt.ylabel('spike counts')"
   ]
  },
  {
   "cell_type": "code",
   "execution_count": 36,
   "metadata": {},
   "outputs": [],
   "source": [
    "def corr_area_pairs(X_a, X_b, n_components = 3):\n",
    "    \"\"\"corr_area_pairs _summary_\n",
    "\n",
    "    _extended_summary_\n",
    "\n",
    "    Arguments:\n",
    "        X_a -- _description_\n",
    "        X_b -- _description_\n",
    "    \"\"\"\n",
    "\n",
    "    # Standardize data to zero mean and unit variance\n",
    "    X_a = (X_a - X_a.mean(axis=0)) / X_a.std(axis=0)\n",
    "    X_b = (X_b - X_b.mean(axis=0)) / X_b.std(axis=0)\n",
    "\n",
    "    cca = CCA(n_components)\n",
    "    cca.fit(X_a, X_b)\n",
    "    z_a, z_b = cca.transform(X_a, X_b) \n",
    "\n",
    "    # get weight after cca\n",
    "    w_a = cca.x_rotations_\n",
    "    w_b = cca.y_rotations_\n",
    "    \n",
    "    # get correlation of hidden z\n",
    "    corr_z = np.empty(n_components)\n",
    "    for i in range(n_components):\n",
    "        corr_z[i] = np.corrcoef(z_a[:, i], z_b[:, i])[0, 1]\n",
    "\n",
    "    return corr_z, (w_a, w_b)"
   ]
  },
  {
   "cell_type": "code",
   "execution_count": 37,
   "metadata": {},
   "outputs": [
    {
     "name": "stdout",
     "output_type": "stream",
     "text": [
      "[0.70580206 0.68787211 0.47318666]\n"
     ]
    }
   ],
   "source": [
    "corr_VISam_VISmma, w_ab = corr_area_pairs(response_matrix_VISam, response_matrix_VISmma)\n",
    "\n",
    "print(corr_VISam_VISmma)"
   ]
  },
  {
   "cell_type": "markdown",
   "metadata": {},
   "source": [
    "\n",
    "**Task1**\n",
    "\n",
    "* Plot heatmap of population correlation matrix across **different area pairs using Allendata**. (remember to see the structure relation across areas)"
   ]
  },
  {
   "cell_type": "code",
   "execution_count": 47,
   "metadata": {},
   "outputs": [
    {
     "name": "stdout",
     "output_type": "stream",
     "text": [
      "18\n",
      "['VISam', nan, 'COAa', 'CA1', 'LP', 'DG', 'VISmma', 'VISp', 'ProS', 'SUB', 'CA3', 'CA2', 'VISl', 'VISal', 'LGd', 'VISrl', 'APN', 'POL']\n",
      "17\n",
      "['VISam', 'COAa', 'CA1', 'LP', 'DG', 'VISmma', 'VISp', 'ProS', 'SUB', 'CA3', 'CA2', 'VISl', 'VISal', 'LGd', 'VISrl', 'APN', 'POL']\n",
      "16\n",
      "['VISam', 'CA1', 'LP', 'DG', 'VISmma', 'VISp', 'ProS', 'SUB', 'CA3', 'CA2', 'VISl', 'VISal', 'LGd', 'VISrl', 'APN', 'POL']\n"
     ]
    }
   ],
   "source": [
    "areas = session.structure_acronyms\n",
    "print(len(areas))\n",
    "print(areas)\n",
    "\n",
    "# delete nan in areas\n",
    "while np.nan in areas:\n",
    "    areas.remove(np.nan)\n",
    "print(len(areas))\n",
    "print(areas)\n",
    "\n",
    "# delete area with no units\n",
    "for area in areas:\n",
    "    units = session.units[session.units[\"ecephys_structure_acronym\"] == area]\n",
    "    if units.shape[0] == 0:\n",
    "        areas.remove(area)\n",
    "print(len(areas))\n",
    "print(areas)"
   ]
  },
  {
   "cell_type": "code",
   "execution_count": 64,
   "metadata": {},
   "outputs": [
    {
     "name": "stdout",
     "output_type": "stream",
     "text": [
      "(16, 16)\n"
     ]
    }
   ],
   "source": [
    "areas_corr_matrix = np.empty([len(areas), len(areas)])\n",
    "\n",
    "for i in range(len(areas)):\n",
    "    for j in range(len(areas)):\n",
    "        res_mat_i = spike_matrix(area = areas[i])\n",
    "        res_mat_j = spike_matrix(area = areas[j])\n",
    "\n",
    "        corr_ij, w = corr_area_pairs(res_mat_i, res_mat_j)\n",
    "        areas_corr_matrix[i, j] = corr_ij[0]\n",
    "\n",
    "print(areas_corr_matrix.shape)\n",
    "# print(areas_corr_matrix)\n"
   ]
  },
  {
   "cell_type": "code",
   "execution_count": 68,
   "metadata": {},
   "outputs": [
    {
     "data": {
      "image/png": "[encoded data removed]",
      "text/plain": [
       "<Figure size 864x720 with 2 Axes>"
      ]
     },
     "metadata": {
      "needs_background": "light"
     },
     "output_type": "display_data"
    }
   ],
   "source": [
    "f, ax = plt.subplots(figsize=(12, 10))\n",
    "im = ax.pcolormesh(areas_corr_matrix)\n",
    "\n",
    "ax.set_xticks(range(len(areas))+np.array([0.5]))\n",
    "ax.set_xticklabels(areas)\n",
    "ax.set_yticks(range(len(areas))+np.array([0.5]))\n",
    "ax.set_yticklabels(areas)\n",
    "ax.set_title('CCA max correlation between different area_pairs')\n",
    "\n",
    "f.colorbar(im)\n",
    "\n",
    "plt.show()"
   ]
  },
  {
   "cell_type": "markdown",
   "metadata": {},
   "source": [
    "**Results**\n",
    "\n",
    "* After observe the correlation map, we can see that Visual cortex has more correlation with other areas\n",
    "* SUB, APN, POL perform bad with other areas\n",
    "* CA1, CA2 CA3 are correlated with each other more than others."
   ]
  },
  {
   "cell_type": "code",
   "execution_count": 69,
   "metadata": {},
   "outputs": [
    {
     "name": "stdout",
     "output_type": "stream",
     "text": [
      "(16, 16)\n"
     ]
    },
    {
     "data": {
      "image/png": "[encoded data removed]",
      "text/plain": [
       "<Figure size 864x720 with 2 Axes>"
      ]
     },
     "metadata": {
      "needs_background": "light"
     },
     "output_type": "display_data"
    }
   ],
   "source": [
    "# Sort the areas after observation\n",
    "\n",
    "areas_sorted = ['VISam', 'VISl', 'VISal', 'VISrl', 'VISp', 'LP', 'LGd', 'DG', 'ProS', 'CA1', 'CA2', 'CA3', 'SUB', 'APN', 'POL']\n",
    "\n",
    "areas_corr_matrix = np.empty([len(areas), len(areas)])\n",
    "\n",
    "for i in range(len(areas)):\n",
    "    for j in range(len(areas)):\n",
    "        res_mat_i = spike_matrix(area = areas[i])\n",
    "        res_mat_j = spike_matrix(area = areas[j])\n",
    "\n",
    "        corr_ij, w = corr_area_pairs(res_mat_i, res_mat_j)\n",
    "        areas_corr_matrix[i, j] = corr_ij[0]\n",
    "\n",
    "print(areas_corr_matrix.shape)\n",
    "\n",
    "f, ax = plt.subplots(figsize=(12, 10))\n",
    "im = ax.pcolormesh(areas_corr_matrix)\n",
    "\n",
    "ax.set_xticks(range(len(areas))+np.array([0.5]))\n",
    "ax.set_xticklabels(areas)\n",
    "ax.set_yticks(range(len(areas))+np.array([0.5]))\n",
    "ax.set_yticklabels(areas)\n",
    "ax.set_title('CCA max correlation between different area_pairs after sorted')\n",
    "\n",
    "f.colorbar(im)\n",
    "\n",
    "plt.show()\n"
   ]
  },
  {
   "cell_type": "markdown",
   "metadata": {},
   "source": [
    "**Task2**\n",
    "* Plot the population correlation as the function of the **time delay between areas ($t_2$-$t_1$)**\n",
    "  \n",
    "   * remember to delete the head and tail of stimulus time when time delay"
   ]
  },
  {
   "cell_type": "code",
   "execution_count": null,
   "metadata": {},
   "outputs": [],
   "source": []
  },
  {
   "cell_type": "markdown",
   "metadata": {},
   "source": [
    "**Task3**\n",
    "* Consider population correlation of **different stimulus periods**, such as \"Early Evoked, 160ms after stimulus onset\" and \"Late Evoked, 1120ms after stimulus onset\""
   ]
  },
  {
   "cell_type": "code",
   "execution_count": null,
   "metadata": {},
   "outputs": [],
   "source": []
  },
  {
   "cell_type": "markdown",
   "metadata": {},
   "source": [
    "\n",
    "**Task4**\n",
    "* Generalize feedforward (FF) canonical dimensions to feedback-dominated period"
   ]
  },
  {
   "cell_type": "code",
   "execution_count": null,
   "metadata": {},
   "outputs": [],
   "source": []
  }
 ],
 "metadata": {
  "interpreter": {
   "hash": "eb7a7561a42aacb7e4f22a212934ca3d091c7f802b6224013994a34cc1b90268"
  },
  "kernelspec": {
   "display_name": "Python 3.6.2 ('env_py_362')",
   "language": "python",
   "name": "python3"
  },
  "language_info": {
   "codemirror_mode": {
    "name": "ipython",
    "version": 3
   },
   "file_extension": ".py",
   "mimetype": "text/x-python",
   "name": "python",
   "nbconvert_exporter": "python",
   "pygments_lexer": "ipython3",
   "version": "3.6.2"
  },
  "orig_nbformat": 4
 },
 "nbformat": 4,
 "nbformat_minor": 2
}
